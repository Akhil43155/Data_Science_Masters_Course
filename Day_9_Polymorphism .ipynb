{
 "cells": [
  {
   "cell_type": "markdown",
   "id": "6c7d1ed2-fd18-4c98-9cf6-10106a51cb1d",
   "metadata": {},
   "source": [
    "### Polymorphism\n",
    "Polymorphism is a concept in object-oriented programming where objects of different classes can be treated as if they are objects of the same class. This means that a single function or method can be used with different types of objects, and the appropriate version of the function or method is called based on the type of object it is operating on. In simpler terms, polymorphism allows different objects to be used in the same way, even if they have different underlying structures. It's a powerful tool for writing more flexible and reusable code."
   ]
  },
  {
   "cell_type": "code",
   "execution_count": 7,
   "id": "8ab79159-8af1-4478-a867-13e908004fb1",
   "metadata": {},
   "outputs": [],
   "source": [
    "def test(a,b) :\n",
    "    return a+b"
   ]
  },
  {
   "cell_type": "code",
   "execution_count": 8,
   "id": "f2116d18-7ace-450b-af8a-ce6b3827dff6",
   "metadata": {},
   "outputs": [
    {
     "data": {
      "text/plain": [
       "9"
      ]
     },
     "execution_count": 8,
     "metadata": {},
     "output_type": "execute_result"
    }
   ],
   "source": [
    "test(4,5)"
   ]
  },
  {
   "cell_type": "code",
   "execution_count": 9,
   "id": "240ced4b-7b1e-492c-a95f-adee1f1b2661",
   "metadata": {},
   "outputs": [
    {
     "data": {
      "text/plain": [
       "'Akhil Lankapalli'"
      ]
     },
     "execution_count": 9,
     "metadata": {},
     "output_type": "execute_result"
    }
   ],
   "source": [
    "test(\"Akhil \" , \"Lankapalli\")"
   ]
  },
  {
   "cell_type": "code",
   "execution_count": 10,
   "id": "24d11ddd-f000-48a4-b203-e21f091e3e33",
   "metadata": {},
   "outputs": [
    {
     "data": {
      "text/plain": [
       "[2, 3, 4, 5, 5, 4, 5, 6, 7]"
      ]
     },
     "execution_count": 10,
     "metadata": {},
     "output_type": "execute_result"
    }
   ],
   "source": [
    "test([2,3,4,5,5] , [4,5,6,7])"
   ]
  },
  {
   "cell_type": "code",
   "execution_count": 11,
   "id": "6d164d89-f591-4af7-9192-a8d33e783ffa",
   "metadata": {},
   "outputs": [],
   "source": [
    "# Creatinng of data science class\n",
    "class data_science:\n",
    "    def syllabus(self) : \n",
    "        print(\"this is my method for data science syllbaus \" )"
   ]
  },
  {
   "cell_type": "code",
   "execution_count": 12,
   "id": "299f0818-3a64-4f83-b6e9-e337f3afb8b6",
   "metadata": {},
   "outputs": [],
   "source": [
    "#Creating of web dev class\n",
    "class web_dev :\n",
    "    def syllabus(self) : \n",
    "        print(\"this is my method for web dev \" )"
   ]
  },
  {
   "cell_type": "code",
   "execution_count": 13,
   "id": "45dd5348-cde8-4f95-9fa6-e274b65030a4",
   "metadata": {},
   "outputs": [],
   "source": [
    "#creeating function for both the data science,web dev classes\n",
    "# this is the outer function\n",
    "def class_parcer(class_obj) : \n",
    "    for i in class_obj : \n",
    "        i.syllabus()"
   ]
  },
  {
   "cell_type": "code",
   "execution_count": 14,
   "id": "778679dd-f697-46b9-afe6-4970ba4a3c2b",
   "metadata": {},
   "outputs": [],
   "source": [
    "#object creation for data science class\n",
    "obj_data_science= data_science()"
   ]
  },
  {
   "cell_type": "code",
   "execution_count": 15,
   "id": "3d486158-770a-49c9-a733-ed9327f054d6",
   "metadata": {},
   "outputs": [],
   "source": [
    "#object creation for web dev class\n",
    "obj_web_dev = web_dev()"
   ]
  },
  {
   "cell_type": "code",
   "execution_count": 18,
   "id": "c803ea82-0def-4071-a8b1-556198dde473",
   "metadata": {},
   "outputs": [],
   "source": [
    "# inside this class_obj variable we will store the both data science obj and web dev object\n",
    "class_ojb = [obj_data_science , obj_web_dev]"
   ]
  },
  {
   "cell_type": "code",
   "execution_count": 19,
   "id": "478dc022-ab61-4c2b-bada-36ce81e98bd9",
   "metadata": {},
   "outputs": [
    {
     "name": "stdout",
     "output_type": "stream",
     "text": [
      "this is my method for data science syllbaus \n",
      "this is my method for web dev \n"
     ]
    }
   ],
   "source": [
    "# i am giving list of this class_obj as argument to class_parser function\n",
    "class_parcer(class_ojb)"
   ]
  }
 ],
 "metadata": {
  "kernelspec": {
   "display_name": "Python 3 (ipykernel)",
   "language": "python",
   "name": "python3"
  },
  "language_info": {
   "codemirror_mode": {
    "name": "ipython",
    "version": 3
   },
   "file_extension": ".py",
   "mimetype": "text/x-python",
   "name": "python",
   "nbconvert_exporter": "python",
   "pygments_lexer": "ipython3",
   "version": "3.10.8"
  }
 },
 "nbformat": 4,
 "nbformat_minor": 5
}
