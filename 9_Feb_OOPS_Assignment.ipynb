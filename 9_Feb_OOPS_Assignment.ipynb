{
 "cells": [
  {
   "cell_type": "markdown",
   "id": "cda8d9f0-6b29-4cd3-a78b-df5132f8c124",
   "metadata": {},
   "source": [
    "#### Q1. Create a vehicle class with an init method having instance variables as name_of_vehicle, max_speed\n",
    "and average_of_vehicle."
   ]
  },
  {
   "cell_type": "code",
   "execution_count": 6,
   "id": "b30345a6-903e-4fa3-b4c1-9e7041a01df0",
   "metadata": {},
   "outputs": [],
   "source": [
    "class Vehicle:\n",
    "    def __init__(self, name_of_vehicle, max_speed, average_of_vehicle):\n",
    "        self.name_of_vehicle = name_of_vehicle\n",
    "        self.max_speed = max_speed\n",
    "        self.average_of_vehicle = average_of_vehicle"
   ]
  },
  {
   "cell_type": "code",
   "execution_count": 11,
   "id": "0262e458-9150-47c1-aa5f-c3dbf612e318",
   "metadata": {},
   "outputs": [],
   "source": [
    "my_vehicle = Vehicle(\"Car\", 200, 30)"
   ]
  },
  {
   "cell_type": "markdown",
   "id": "6354b221-5575-4408-a926-dd08b74166fd",
   "metadata": {},
   "source": [
    "#### Q2. Create a child class car from the vehicle class created in Que 1, which will inherit the vehicle class.\n",
    "Create a method named seating_capacity which takes capacity as an argument and returns the name of\n",
    "the vehicle and its seating capacity."
   ]
  },
  {
   "cell_type": "code",
   "execution_count": 12,
   "id": "e367bfe7-536d-42e9-a02c-e34ef031248f",
   "metadata": {},
   "outputs": [],
   "source": [
    "class Vehicle:\n",
    "    def __init__(self, name_of_vehicle, max_speed, average_of_vehicle):\n",
    "        self.name_of_vehicle = name_of_vehicle\n",
    "        self.max_speed = max_speed\n",
    "        self.average_of_vehicle = average_of_vehicle\n",
    "class Car(Vehicle):\n",
    "    def seating_capacity(self, capacity):\n",
    "        return f\"{self.name_of_vehicle} has a seating capacity of {capacity}.\"\n",
    "\n"
   ]
  },
  {
   "cell_type": "code",
   "execution_count": 13,
   "id": "e98c13fb-9797-40b0-bfbe-966c23c55a97",
   "metadata": {},
   "outputs": [
    {
     "name": "stdout",
     "output_type": "stream",
     "text": [
      "Sedan has a seating capacity of 5.\n"
     ]
    }
   ],
   "source": [
    "my_car = Car(\"Sedan\", 200, 30)\n",
    "print(my_car.seating_capacity(5))\n"
   ]
  },
  {
   "cell_type": "markdown",
   "id": "5644fcef-5b75-4759-8f62-e9cce3d85ab0",
   "metadata": {},
   "source": [
    "#### Q3. What is multiple inheritance? Write a python code to demonstrate multiple inheritance."
   ]
  },
  {
   "cell_type": "raw",
   "id": "2ece1dce-990b-4fb2-9864-a3d22c966c03",
   "metadata": {},
   "source": [
    "Ans. Multiple inheritance is a feature of object-oriented programming where a subclass can inherit  \n",
    "\tfrom  multiple parent classes. This allows the subclass to inherit attributes and methods from \n",
    "    all of its parent classes.\n",
    "\n",
    "Here's an example of how you can create a Child class that inherits from both a Parent1 and Parent2 class using multiple inheritance:"
   ]
  },
  {
   "cell_type": "code",
   "execution_count": 14,
   "id": "6d8d0a7a-b811-4bb9-865c-fe1638dd782e",
   "metadata": {},
   "outputs": [
    {
     "name": "stdout",
     "output_type": "stream",
     "text": [
      "This is from Parent1\n",
      "This is from Parent2\n",
      "This is from Child\n"
     ]
    }
   ],
   "source": [
    "class Parent1:\n",
    "    def method1(self):\n",
    "        print(\"This is from Parent1\")\n",
    "\n",
    "class Parent2:\n",
    "    def method2(self):\n",
    "        print(\"This is from Parent2\")\n",
    "\n",
    "class Child(Parent1, Parent2):\n",
    "    def method3(self):\n",
    "        print(\"This is from Child\")\n",
    "\n",
    "my_child = Child()\n",
    "my_child.method1() # Output: \"This is from Parent1\"\n",
    "my_child.method2() # Output: \"This is from Parent2\"\n",
    "my_child.method3() # Output: \"This is from Child\"\n"
   ]
  },
  {
   "cell_type": "markdown",
   "id": "35b2dce3-0bb0-4a28-990b-3a3f58f1770b",
   "metadata": {},
   "source": [
    "#### Q4. What are getter and setter in python? Create a class and create a getter and a setter \n",
    "method in this\n",
    "class."
   ]
  },
  {
   "cell_type": "raw",
   "id": "1e46a284-8b9d-4a31-ab5f-c8ffb2b69d98",
   "metadata": {},
   "source": [
    "Getter and setter methods are used to access and modify the values of class attributes in Python. They are also known as accessor and mutator methods, respectively.\n",
    "\n",
    "Getter methods are used to access the value of an attribute, while setter methods are used to modify the value of an attribute. They are useful for ensuring that the value of an attribute is valid and for controlling access to the attribute.\n",
    "\n",
    "Here's an example of a class with a getter and a setter method in Python:"
   ]
  },
  {
   "cell_type": "code",
   "execution_count": 15,
   "id": "90b7f6fe-b704-4a2f-a928-1667dd6aca1a",
   "metadata": {},
   "outputs": [],
   "source": [
    "class Person:\n",
    "    def __init__(self, name, age):\n",
    "        self._name = name\n",
    "        self._age = age\n",
    "\n",
    "    def get_name(self):\n",
    "        return self._name\n",
    "\n",
    "    def set_name(self, name):\n",
    "        self._name = name\n",
    "\n",
    "    def get_age(self):\n",
    "        return self._age\n",
    "\n",
    "    def set_age(self, age):\n",
    "        if age < 0:\n",
    "            print(\"Age cannot be negative.\")\n",
    "        else:\n",
    "            self._age = age\n"
   ]
  },
  {
   "cell_type": "code",
   "execution_count": 16,
   "id": "fde5679e-2250-4ae4-911f-cf1de163a770",
   "metadata": {},
   "outputs": [
    {
     "name": "stdout",
     "output_type": "stream",
     "text": [
      "John\n",
      "Bob\n",
      "30\n",
      "Age cannot be negative.\n",
      "35\n"
     ]
    }
   ],
   "source": [
    "person = Person(\"John\", 30)\n",
    "print(person.get_name()) # Output: \"John\"\n",
    "person.set_name(\"Bob\")\n",
    "print(person.get_name()) # Output: \"Bob\"\n",
    "print(person.get_age()) # Output: 30\n",
    "person.set_age(-5) # Output: \"Age cannot be negative.\"\n",
    "person.set_age(35)\n",
    "print(person.get_age()) # Output: 35\n"
   ]
  },
  {
   "cell_type": "markdown",
   "id": "33dd87d6-5bf2-497e-b991-b786c7a0772b",
   "metadata": {},
   "source": [
    "#### Q5.What is method overriding in python? Write a python code to demonstrate method overriding."
   ]
  },
  {
   "cell_type": "code",
   "execution_count": null,
   "id": "143c792f-c648-480b-92d5-67d51e11f464",
   "metadata": {},
   "outputs": [],
   "source": []
  }
 ],
 "metadata": {
  "kernelspec": {
   "display_name": "Python 3 (ipykernel)",
   "language": "python",
   "name": "python3"
  },
  "language_info": {
   "codemirror_mode": {
    "name": "ipython",
    "version": 3
   },
   "file_extension": ".py",
   "mimetype": "text/x-python",
   "name": "python",
   "nbconvert_exporter": "python",
   "pygments_lexer": "ipython3",
   "version": "3.10.8"
  }
 },
 "nbformat": 4,
 "nbformat_minor": 5
}
