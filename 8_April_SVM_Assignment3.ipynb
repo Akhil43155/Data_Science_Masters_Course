{
 "cells": [
  {
   "cell_type": "markdown",
   "id": "4dbebb10-a66f-450a-8654-19fd0125eb7e",
   "metadata": {},
   "source": [
    "### Q1. In order to predict house price based on several characteristics, such as location, square footage,\n",
    "number of bedrooms, etc., you are developing an SVM regression model. Which regression metric in this\n",
    "situation would be the best to employ?"
   ]
  },
  {
   "cell_type": "markdown",
   "id": "528a04c7-a143-4eb8-bff5-048034ae672b",
   "metadata": {},
   "source": [
    "In this situation, the best regression metric to employ would be the mean squared error (MSE). The MSE measures the average squared difference between the predicted values and the actual values, which is a suitable metric for evaluating the performance of an SVM regression model in predicting house prices based on multiple characteristics. By minimizing the MSE, we can ensure that the SVM regression model is accurately predicting house prices with as little error as possible."
   ]
  },
  {
   "cell_type": "markdown",
   "id": "48e46b9d-5cf7-457e-a3cb-77a39a809477",
   "metadata": {},
   "source": [
    "### Q2. You have built an SVM regression model and are trying to decide between using MSE or R-squared as\n",
    "your evaluation metric. Which metric would be more appropriate if your goal is to predict the actual price\n",
    "of a house as accurately as possible?"
   ]
  },
  {
   "cell_type": "markdown",
   "id": "198ca0ba-70dd-4686-9fa8-843671b48392",
   "metadata": {},
   "source": [
    "If the goal is to predict the actual price of a house as accurately as possible, then Mean Squared Error (MSE) would be a more appropriate evaluation metric to use.\n",
    "\n",
    "MSE measures the average squared difference between the predicted and actual values, thus giving a measure of how well the model is fitting the data in terms of magnitude. In the case of predicting house prices, this metric would be useful in measuring how much the predicted values deviate from the actual values in terms of dollars.\n",
    "\n",
    "R-squared, on the other hand, measures the proportion of variance in the dependent variable that is explained by the independent variables. While it can be useful in understanding the amount of variability in the dependent variable that is being captured by the model, it is not necessarily a good measure of how accurately the model predicts individual values.\n",
    "\n",
    "\n",
    "\n"
   ]
  },
  {
   "cell_type": "markdown",
   "id": "504c105e-3d4a-4914-81b4-1136cc6dda6c",
   "metadata": {},
   "source": [
    "### Q3. You have a dataset with a significant number of outliers and are trying to select an appropriate\n",
    "regression metric to use with your SVM model. Which metric would be the most appropriate in this\n",
    "scenario?"
   ]
  },
  {
   "cell_type": "markdown",
   "id": "da00eba0-1486-4bc4-b012-5c032ed219f6",
   "metadata": {},
   "source": [
    "When dealing with a dataset that has a significant number of outliers, Mean Absolute Error (MAE) would be a more appropriate regression metric to use with the SVM model as it is more robust to outliers than Mean Squared Error (MSE). MAE computes the absolute differences between the predicted and actual values, making it less sensitive to extreme values. Therefore, it is a better measure of accuracy in the presence of outliers."
   ]
  },
  {
   "cell_type": "markdown",
   "id": "e5a143f8-4343-47fe-9a16-42b8c7208d72",
   "metadata": {},
   "source": [
    "### Q4. You have built an SVM regression model using a polynomial kernel and are trying to select the best\n",
    "metric to evaluate its performance. You have calculated both MSE and RMSE and found that both values\n",
    "are very close. Which metric should you choose to use in this case?"
   ]
  },
  {
   "cell_type": "markdown",
   "id": "9f5f5b54-d4a2-420e-9ffb-cd9c5397f94d",
   "metadata": {},
   "source": [
    "In this case, it is recommended to choose RMSE (Root Mean Squared Error) as the evaluation metric instead of MSE (Mean Squared Error).\n",
    "\n",
    "RMSE is a more interpretable metric as it measures the error in the same units as the target variable. It is also less sensitive to outliers compared to MSE as it involves taking the square root of the mean of squared errors. Therefore, in this scenario, RMSE would be a more appropriate metric to use for evaluating the performance of the SVM regression model using a polynomial kernel."
   ]
  },
  {
   "cell_type": "markdown",
   "id": "bcb7f85b-f3e8-46bb-8f56-ea0a89113882",
   "metadata": {},
   "source": [
    "### Q5. You are comparing the performance of different SVM regression models using different kernels (linear,\n",
    "polynomial, and RBF) and are trying to select the best evaluation metric. Which metric would be most\n",
    "appropriate if your goal is to measure how well the model explains the variance in the target variable?"
   ]
  },
  {
   "cell_type": "code",
   "execution_count": null,
   "id": "31fc0c6a-efce-4b17-b909-43a1c3f619e5",
   "metadata": {},
   "outputs": [],
   "source": [
    "The most appropriate metric in this case would be the coefficient of determination (R-squared). R-squared measures the proportion of the variance in the target variable that can be explained by the model. Therefore, it is a good metric to use when evaluating the ability of the model to explain the variance in the target variable."
   ]
  },
  {
   "cell_type": "code",
   "execution_count": null,
   "id": "abf15b7b-47de-4fc2-9446-e34ec49bddb6",
   "metadata": {},
   "outputs": [],
   "source": []
  },
  {
   "cell_type": "code",
   "execution_count": null,
   "id": "39559e11-2542-4115-aec3-f5c3cbd94a86",
   "metadata": {},
   "outputs": [],
   "source": []
  }
 ],
 "metadata": {
  "kernelspec": {
   "display_name": "Python 3 (ipykernel)",
   "language": "python",
   "name": "python3"
  },
  "language_info": {
   "codemirror_mode": {
    "name": "ipython",
    "version": 3
   },
   "file_extension": ".py",
   "mimetype": "text/x-python",
   "name": "python",
   "nbconvert_exporter": "python",
   "pygments_lexer": "ipython3",
   "version": "3.10.8"
  }
 },
 "nbformat": 4,
 "nbformat_minor": 5
}
