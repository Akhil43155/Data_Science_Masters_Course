{
 "cells": [
  {
   "cell_type": "markdown",
   "id": "656f9bcc-bd77-4396-a765-ff585e0ab501",
   "metadata": {},
   "source": [
    "1. What is Exception in Python? Write the exception between Exceptions and Syntax Errors."
   ]
  },
  {
   "cell_type": "markdown",
   "id": "6af1a2a7-73e8-4a73-8083-3c2f5fd371c7",
   "metadata": {},
   "source": [
    "In Python, an exception is an event that occurs during the execution of a program that disrupts the normal flow of instructions. When an exception occurs, the program stops running and displays an error message that provides information about the cause of the exception.\n",
    "\n",
    "Exceptions are different from syntax errors in Python. Syntax errors occur when the program violates the rules of the Python language, such as when a statement is written incorrectly. Syntax errors are caught by the Python interpreter when the code is parsed and compiled, and they prevent the program from running.\n",
    "\n",
    "On the other hand, exceptions are runtime errors that occur when the program is executing. Exceptions can occur for a variety of reasons, such as when the program tries to access a file that doesn't exist, or when it attempts to divide by zero. Some common types of exceptions in Python include:\n",
    "\n",
    "ZeroDivisionError\n",
    "FileNotFoundError\n",
    "TypeError\n",
    "ValueError\n",
    "IndexError\n",
    "KeyError\n",
    "AttributeError\n",
    "When an exception occurs, Python raises an instance of the appropriate exception class. The program can then handle the exception by catching it and taking appropriate action, such as displaying an error message or trying to recover from the error."
   ]
  },
  {
   "cell_type": "markdown",
   "id": "c6bc8aec-cc07-471a-937c-d82de0ee8a33",
   "metadata": {},
   "source": [
    "2. What happens when an exception is not handled? with an example."
   ]
  },
  {
   "cell_type": "markdown",
   "id": "15dd661f-e4e8-4a92-aa73-1482bcc98989",
   "metadata": {},
   "source": [
    "When an exception is not handled in Python, the program will terminate and an error message will be displayed to the user. The error message will typically include information about the type of exception that occurred, the line number where the exception occurred, and a traceback that shows the call stack leading up to the exception.\n",
    "\n",
    "Here's an example of what happens when an exception is not handled:"
   ]
  },
  {
   "cell_type": "code",
   "execution_count": 14,
   "id": "9c52e399-3a23-4e27-86ed-a5caa8aa4d56",
   "metadata": {},
   "outputs": [
    {
     "ename": "ZeroDivisionError",
     "evalue": "division by zero",
     "output_type": "error",
     "traceback": [
      "\u001b[0;31m---------------------------------------------------------------------------\u001b[0m",
      "\u001b[0;31mZeroDivisionError\u001b[0m                         Traceback (most recent call last)",
      "Cell \u001b[0;32mIn[14], line 4\u001b[0m\n\u001b[1;32m      1\u001b[0m \u001b[38;5;28;01mdef\u001b[39;00m \u001b[38;5;21mdivide_by_zero\u001b[39m():\n\u001b[1;32m      2\u001b[0m     \u001b[38;5;28;01mreturn\u001b[39;00m \u001b[38;5;241m1\u001b[39m \u001b[38;5;241m/\u001b[39m \u001b[38;5;241m0\u001b[39m\n\u001b[0;32m----> 4\u001b[0m \u001b[43mdivide_by_zero\u001b[49m\u001b[43m(\u001b[49m\u001b[43m)\u001b[49m\n",
      "Cell \u001b[0;32mIn[14], line 2\u001b[0m, in \u001b[0;36mdivide_by_zero\u001b[0;34m()\u001b[0m\n\u001b[1;32m      1\u001b[0m \u001b[38;5;28;01mdef\u001b[39;00m \u001b[38;5;21mdivide_by_zero\u001b[39m():\n\u001b[0;32m----> 2\u001b[0m     \u001b[38;5;28;01mreturn\u001b[39;00m \u001b[38;5;241;43m1\u001b[39;49m\u001b[43m \u001b[49m\u001b[38;5;241;43m/\u001b[39;49m\u001b[43m \u001b[49m\u001b[38;5;241;43m0\u001b[39;49m\n",
      "\u001b[0;31mZeroDivisionError\u001b[0m: division by zero"
     ]
    }
   ],
   "source": [
    "def divide_by_zero():\n",
    "    return 1 / 0\n",
    "\n",
    "divide_by_zero()\n"
   ]
  },
  {
   "cell_type": "markdown",
   "id": "79adb771-f8de-4351-be89-23063bc3a9f6",
   "metadata": {},
   "source": [
    "In this example, the divide_by_zero() function attempts to divide the number 1 by 0, which is not allowed in Python and will raise a ZeroDivisionError exception. If we run this code without handling the exception, we get the following error message:"
   ]
  },
  {
   "cell_type": "code",
   "execution_count": 15,
   "id": "5de4890e-db65-451a-8a85-137b391c5995",
   "metadata": {},
   "outputs": [
    {
     "ename": "SyntaxError",
     "evalue": "invalid syntax. Perhaps you forgot a comma? (231398003.py, line 1)",
     "output_type": "error",
     "traceback": [
      "\u001b[0;36m  Cell \u001b[0;32mIn[15], line 1\u001b[0;36m\u001b[0m\n\u001b[0;31m    Traceback (most recent call last):\u001b[0m\n\u001b[0m               ^\u001b[0m\n\u001b[0;31mSyntaxError\u001b[0m\u001b[0;31m:\u001b[0m invalid syntax. Perhaps you forgot a comma?\n"
     ]
    }
   ],
   "source": [
    "Traceback (most recent call last):\n",
    "  File \"example.py\", line 4, in <module>\n",
    "    divide_by_zero()\n",
    "  File \"example.py\", line 2, in divide_by_zero\n",
    "    return 1 / 0\n",
    "ZeroDivisionError: division by zero\n"
   ]
  },
  {
   "cell_type": "markdown",
   "id": "a836f623-f8b6-4cc9-ad8b-188cd0b36d35",
   "metadata": {},
   "source": [
    "This error message tells us that a ZeroDivisionError occurred on line 2 of the divide_by_zero() function, and that the exception was not handled. The program terminates immediately after this error is raised, so any code that was scheduled to run after this point will not execute.\n",
    "\n",
    "To avoid this situation, we can handle the exception using a try-except block, like this:"
   ]
  },
  {
   "cell_type": "code",
   "execution_count": 16,
   "id": "92044702-983d-4196-acf7-6158caaaeba7",
   "metadata": {},
   "outputs": [
    {
     "name": "stdout",
     "output_type": "stream",
     "text": [
      "Cannot divide by zero\n"
     ]
    }
   ],
   "source": [
    "def divide_by_zero():\n",
    "    try:\n",
    "        return 1 / 0\n",
    "    except ZeroDivisionError:\n",
    "        print(\"Cannot divide by zero\")\n",
    "\n",
    "divide_by_zero()\n"
   ]
  },
  {
   "cell_type": "markdown",
   "id": "fde50030-e49e-4774-810b-a36f5902b061",
   "metadata": {},
   "source": [
    "In this updated version of the code, we catch the ZeroDivisionError exception using a try-except block, and print a custom error message instead of allowing the program to terminate. This allows the program to continue running, even if an exception occurs."
   ]
  },
  {
   "cell_type": "markdown",
   "id": "f8cbd16a-e9e0-449e-adb5-fe8450f6cfb2",
   "metadata": {},
   "source": [
    "3. Which python statements are used to catch and handle exceptions? Explain with an example."
   ]
  },
  {
   "cell_type": "markdown",
   "id": "1e136b34-540d-437e-8c11-2297d765450e",
   "metadata": {},
   "source": [
    "In Python, the try-except statement is used to catch and handle exceptions. The basic syntax of the try-except statement is as follows:"
   ]
  },
  {
   "cell_type": "code",
   "execution_count": 17,
   "id": "43056f65-c299-49ac-b1cc-5005eab256c1",
   "metadata": {},
   "outputs": [
    {
     "ename": "IndentationError",
     "evalue": "expected an indented block after 'try' statement on line 1 (370803373.py, line 3)",
     "output_type": "error",
     "traceback": [
      "\u001b[0;36m  Cell \u001b[0;32mIn[17], line 3\u001b[0;36m\u001b[0m\n\u001b[0;31m    except ExceptionType:\u001b[0m\n\u001b[0m    ^\u001b[0m\n\u001b[0;31mIndentationError\u001b[0m\u001b[0;31m:\u001b[0m expected an indented block after 'try' statement on line 1\n"
     ]
    }
   ],
   "source": [
    "try:\n",
    "    # Code that might raise an exception\n",
    "except ExceptionType:\n",
    "    # Code to handle the exception\n"
   ]
  },
  {
   "cell_type": "markdown",
   "id": "b928dd36-765d-4504-a3ac-b2a9c6dd644a",
   "metadata": {},
   "source": [
    "In this code, the try block contains the code that might raise an exception, and the except block contains code to handle the exception if it occurs. If an exception of type ExceptionType is raised in the try block, control will be transferred to the except block to handle the exception.\n",
    "\n",
    "Here's an example of using a try-except block to handle a ZeroDivisionError exception:"
   ]
  },
  {
   "cell_type": "code",
   "execution_count": 19,
   "id": "3b174ea2-9f69-4e69-af79-4ef81f77ada8",
   "metadata": {},
   "outputs": [
    {
     "name": "stdin",
     "output_type": "stream",
     "text": [
      "Enter the numerator:  5\n",
      "Enter the denominator:  13\n"
     ]
    },
    {
     "name": "stdout",
     "output_type": "stream",
     "text": [
      "Result:  0.38461538461538464\n"
     ]
    }
   ],
   "source": [
    "try:\n",
    "    numerator = int(input(\"Enter the numerator: \"))\n",
    "    denominator = int(input(\"Enter the denominator: \"))\n",
    "    result = numerator / denominator\n",
    "    print(\"Result: \", result)\n",
    "except ZeroDivisionError:\n",
    "    print(\"Error: Cannot divide by zero\")\n"
   ]
  },
  {
   "cell_type": "markdown",
   "id": "a94c0fe7-0d32-41f3-a05b-d45110296320",
   "metadata": {},
   "source": [
    "In Python, the try-except statement is used to catch and handle exceptions. The basic syntax of the try-except statement is as follows:\n",
    "\n",
    "python\n",
    "Copy code\n",
    "try:\n",
    "    # Code that might raise an exception\n",
    "except ExceptionType:\n",
    "    # Code to handle the exception\n",
    "In this code, the try block contains the code that might raise an exception, and the except block contains code to handle the exception if it occurs. If an exception of type ExceptionType is raised in the try block, control will be transferred to the except block to handle the exception.\n",
    "\n",
    "Here's an example of using a try-except block to handle a ZeroDivisionError exception:\n",
    "\n",
    "python\n",
    "Copy code\n",
    "try:\n",
    "    numerator = int(input(\"Enter the numerator: \"))\n",
    "    denominator = int(input(\"Enter the denominator: \"))\n",
    "    result = numerator / denominator\n",
    "    print(\"Result: \", result)\n",
    "except ZeroDivisionError:\n",
    "    print(\"Error: Cannot divide by zero\")\n",
    "In this code, we first ask the user to enter a numerator and denominator, and then we try to divide them to calculate a result. If the user enters 0 as the denominator, a ZeroDivisionError exception will be raised.\n",
    "\n",
    "To handle this exception, we wrap the division operation in a try block and add an except block to catch the ZeroDivisionError. In the except block, we print a custom error message instead of allowing the program to terminate.\n",
    "\n",
    "If the user enters a non-zero denominator, the code in the try block will execute successfully and the result will be printed to the console. But if the user enters 0 as the denominator, the code in the except block will execute instead, printing the error message \"Error: Cannot divide by zero\". This allows the program to handle the exception gracefully and continue running, instead of crashing with an error."
   ]
  },
  {
   "cell_type": "markdown",
   "id": "8e6535dd-d5a4-4ed6-817b-4cb334c5a181",
   "metadata": {},
   "source": [
    "4. Explain with an example.\n",
    "\ta. try and else\n",
    "    b. finally\n",
    "    c. raise"
   ]
  },
  {
   "cell_type": "markdown",
   "id": "f6d81bef-9dda-408d-a64a-e0b9ddf5ba28",
   "metadata": {},
   "source": [
    "a. try and else statement:\n",
    "In Python, the try-else statement is used to define a block of code that should be executed if no exceptions were raised in the try block. The basic syntax of the try-else statement is as follows:"
   ]
  },
  {
   "cell_type": "code",
   "execution_count": 20,
   "id": "d6a7e273-8104-416f-9787-497590214646",
   "metadata": {},
   "outputs": [
    {
     "ename": "IndentationError",
     "evalue": "expected an indented block after 'try' statement on line 1 (2417427965.py, line 3)",
     "output_type": "error",
     "traceback": [
      "\u001b[0;36m  Cell \u001b[0;32mIn[20], line 3\u001b[0;36m\u001b[0m\n\u001b[0;31m    except ExceptionType:\u001b[0m\n\u001b[0m    ^\u001b[0m\n\u001b[0;31mIndentationError\u001b[0m\u001b[0;31m:\u001b[0m expected an indented block after 'try' statement on line 1\n"
     ]
    }
   ],
   "source": [
    "try:\n",
    "    # Code that might raise an exception\n",
    "except ExceptionType:\n",
    "    # Code to handle the exception\n",
    "else:\n",
    "    # Code to run if no exception was raised\n"
   ]
  },
  {
   "cell_type": "markdown",
   "id": "9eab077f-c30a-425f-baa4-666598041714",
   "metadata": {},
   "source": [
    "In this code, the try block contains the code that might raise an exception, and the except block contains code to handle the exception if it occurs. If an exception is not raised in the try block, control will be transferred to the else block to execute additional code.\n",
    "\n",
    "Here's an example of using a try-else block to handle a ValueError exception and execute code if no exception was raised:"
   ]
  },
  {
   "cell_type": "code",
   "execution_count": null,
   "id": "12728f8f-1494-4371-9779-df1c3bf5a582",
   "metadata": {},
   "outputs": [],
   "source": [
    "try:\n",
    "    num = int(input(\"Enter a number: \"))\n",
    "except ValueError:\n",
    "    print(\"Invalid input\")\n",
    "else:\n",
    "    print(\"The input number is: \", num)\n"
   ]
  },
  {
   "cell_type": "markdown",
   "id": "0fdfc351-1b4e-4df5-b18c-de670ea9a46d",
   "metadata": {},
   "source": [
    "In this code, we first ask the user to enter a number. If the user enters a value that can't be converted to an integer, a ValueError exception will be raised and the code in the except block will execute, printing the message \"Invalid input\".\n",
    "\n",
    "But if the user enters a valid integer value, the code in the try block will execute successfully and the control will be transferred to the else block to print the message \"The input number is: \" along with the input number. This allows the program to execute additional code when no exceptions are raised.\n",
    "\n",
    "b. finally statement:\n",
    "In Python, the finally statement is used to define a block of code that should be executed whether an exception was raised or not. The basic syntax of the try-finally statement is as follows:"
   ]
  },
  {
   "cell_type": "code",
   "execution_count": 8,
   "id": "f4ece20e-23f2-49c6-996a-5373bd16c10c",
   "metadata": {},
   "outputs": [
    {
     "ename": "IndentationError",
     "evalue": "expected an indented block after 'try' statement on line 1 (2333545996.py, line 3)",
     "output_type": "error",
     "traceback": [
      "\u001b[0;36m  Cell \u001b[0;32mIn[8], line 3\u001b[0;36m\u001b[0m\n\u001b[0;31m    finally:\u001b[0m\n\u001b[0m    ^\u001b[0m\n\u001b[0;31mIndentationError\u001b[0m\u001b[0;31m:\u001b[0m expected an indented block after 'try' statement on line 1\n"
     ]
    }
   ],
   "source": [
    "try:\n",
    "    # Code that might raise an exception\n",
    "finally:\n",
    "    # Code to always execute, regardless of whether an exception was raised\n"
   ]
  },
  {
   "cell_type": "markdown",
   "id": "9a4b4563-c024-41ac-8345-1da0c2077f24",
   "metadata": {},
   "source": [
    "In this code, the try block contains the code that might raise an exception, and the finally block contains code to always execute, regardless of whether an exception was raised.\n",
    "\n",
    "Here's an example of using a try-finally block to close a file whether an exception is raised or not:"
   ]
  },
  {
   "cell_type": "code",
   "execution_count": 9,
   "id": "4ab6e158-af08-4e52-b459-bb74c9f41809",
   "metadata": {},
   "outputs": [
    {
     "ename": "NameError",
     "evalue": "name 'f' is not defined",
     "output_type": "error",
     "traceback": [
      "\u001b[0;31m---------------------------------------------------------------------------\u001b[0m",
      "\u001b[0;31mFileNotFoundError\u001b[0m                         Traceback (most recent call last)",
      "Cell \u001b[0;32mIn[9], line 2\u001b[0m\n\u001b[1;32m      1\u001b[0m \u001b[38;5;28;01mtry\u001b[39;00m:\n\u001b[0;32m----> 2\u001b[0m     f \u001b[38;5;241m=\u001b[39m \u001b[38;5;28;43mopen\u001b[39;49m\u001b[43m(\u001b[49m\u001b[38;5;124;43m\"\u001b[39;49m\u001b[38;5;124;43mmyfile.txt\u001b[39;49m\u001b[38;5;124;43m\"\u001b[39;49m\u001b[43m)\u001b[49m\n\u001b[1;32m      3\u001b[0m     \u001b[38;5;66;03m# Code to read from the file\u001b[39;00m\n\u001b[1;32m      4\u001b[0m \u001b[38;5;28;01mfinally\u001b[39;00m:\n",
      "File \u001b[0;32m/opt/conda/lib/python3.10/site-packages/IPython/core/interactiveshell.py:282\u001b[0m, in \u001b[0;36m_modified_open\u001b[0;34m(file, *args, **kwargs)\u001b[0m\n\u001b[1;32m    276\u001b[0m     \u001b[38;5;28;01mraise\u001b[39;00m \u001b[38;5;167;01mValueError\u001b[39;00m(\n\u001b[1;32m    277\u001b[0m         \u001b[38;5;124mf\u001b[39m\u001b[38;5;124m\"\u001b[39m\u001b[38;5;124mIPython won\u001b[39m\u001b[38;5;124m'\u001b[39m\u001b[38;5;124mt let you open fd=\u001b[39m\u001b[38;5;132;01m{\u001b[39;00mfile\u001b[38;5;132;01m}\u001b[39;00m\u001b[38;5;124m by default \u001b[39m\u001b[38;5;124m\"\u001b[39m\n\u001b[1;32m    278\u001b[0m         \u001b[38;5;124m\"\u001b[39m\u001b[38;5;124mas it is likely to crash IPython. If you know what you are doing, \u001b[39m\u001b[38;5;124m\"\u001b[39m\n\u001b[1;32m    279\u001b[0m         \u001b[38;5;124m\"\u001b[39m\u001b[38;5;124myou can use builtins\u001b[39m\u001b[38;5;124m'\u001b[39m\u001b[38;5;124m open.\u001b[39m\u001b[38;5;124m\"\u001b[39m\n\u001b[1;32m    280\u001b[0m     )\n\u001b[0;32m--> 282\u001b[0m \u001b[38;5;28;01mreturn\u001b[39;00m \u001b[43mio_open\u001b[49m\u001b[43m(\u001b[49m\u001b[43mfile\u001b[49m\u001b[43m,\u001b[49m\u001b[43m \u001b[49m\u001b[38;5;241;43m*\u001b[39;49m\u001b[43margs\u001b[49m\u001b[43m,\u001b[49m\u001b[43m \u001b[49m\u001b[38;5;241;43m*\u001b[39;49m\u001b[38;5;241;43m*\u001b[39;49m\u001b[43mkwargs\u001b[49m\u001b[43m)\u001b[49m\n",
      "\u001b[0;31mFileNotFoundError\u001b[0m: [Errno 2] No such file or directory: 'myfile.txt'",
      "\nDuring handling of the above exception, another exception occurred:\n",
      "\u001b[0;31mNameError\u001b[0m                                 Traceback (most recent call last)",
      "Cell \u001b[0;32mIn[9], line 5\u001b[0m\n\u001b[1;32m      2\u001b[0m     f \u001b[38;5;241m=\u001b[39m \u001b[38;5;28mopen\u001b[39m(\u001b[38;5;124m\"\u001b[39m\u001b[38;5;124mmyfile.txt\u001b[39m\u001b[38;5;124m\"\u001b[39m)\n\u001b[1;32m      3\u001b[0m     \u001b[38;5;66;03m# Code to read from the file\u001b[39;00m\n\u001b[1;32m      4\u001b[0m \u001b[38;5;28;01mfinally\u001b[39;00m:\n\u001b[0;32m----> 5\u001b[0m     \u001b[43mf\u001b[49m\u001b[38;5;241m.\u001b[39mclose()\n",
      "\u001b[0;31mNameError\u001b[0m: name 'f' is not defined"
     ]
    }
   ],
   "source": [
    "try:\n",
    "    f = open(\"myfile.txt\")\n",
    "    # Code to read from the file\n",
    "finally:\n",
    "    f.close()\n"
   ]
  },
  {
   "cell_type": "markdown",
   "id": "be3d05bc-820a-4bf7-8eb5-52e6ae8d4553",
   "metadata": {},
   "source": [
    "In this code, we first open a file named \"myfile.txt\" and read some data from it. Regardless of whether an exception is raised during this process, the code in the finally block will execute and close the file using the close() method. This ensures that the file is always closed properly, even if an exception is raised during the process of reading from it.\n",
    "\n",
    "c. raise statement:\n",
    "In Python, the raise statement is used to manually raise an exception. The basic syntax of the raise statement is as follows:"
   ]
  },
  {
   "cell_type": "code",
   "execution_count": 10,
   "id": "5b4126a6-619d-40c0-afad-eefe8e303d4b",
   "metadata": {},
   "outputs": [
    {
     "ename": "NameError",
     "evalue": "name 'ExceptionType' is not defined",
     "output_type": "error",
     "traceback": [
      "\u001b[0;31m---------------------------------------------------------------------------\u001b[0m",
      "\u001b[0;31mNameError\u001b[0m                                 Traceback (most recent call last)",
      "Cell \u001b[0;32mIn[10], line 1\u001b[0m\n\u001b[0;32m----> 1\u001b[0m \u001b[38;5;28;01mraise\u001b[39;00m \u001b[43mExceptionType\u001b[49m(\u001b[38;5;124m\"\u001b[39m\u001b[38;5;124mError message\u001b[39m\u001b[38;5;124m\"\u001b[39m)\n",
      "\u001b[0;31mNameError\u001b[0m: name 'ExceptionType' is not defined"
     ]
    }
   ],
   "source": [
    "raise ExceptionType(\"Error message\")\n"
   ]
  },
  {
   "cell_type": "markdown",
   "id": "57cd1da0-dfd3-4a87-b353-43904a5a02a7",
   "metadata": {},
   "source": [
    "In this code, the ExceptionType argument specifies the type of exception to raise, and the \"Error message\" argument specifies a custom error message to include in the exception.\n",
    "\n",
    "Here's an example of using the raise statement to manually raise a ValueError exception:"
   ]
  },
  {
   "cell_type": "code",
   "execution_count": 11,
   "id": "a261c35b-8ebc-4e01-8b24-1e6dc3096f74",
   "metadata": {},
   "outputs": [
    {
     "ename": "ValueError",
     "evalue": "Age cannot be negative",
     "output_type": "error",
     "traceback": [
      "\u001b[0;31m---------------------------------------------------------------------------\u001b[0m",
      "\u001b[0;31mValueError\u001b[0m                                Traceback (most recent call last)",
      "Cell \u001b[0;32mIn[11], line 3\u001b[0m\n\u001b[1;32m      1\u001b[0m age \u001b[38;5;241m=\u001b[39m \u001b[38;5;241m-\u001b[39m\u001b[38;5;241m1\u001b[39m\n\u001b[1;32m      2\u001b[0m \u001b[38;5;28;01mif\u001b[39;00m age \u001b[38;5;241m<\u001b[39m \u001b[38;5;241m0\u001b[39m:\n\u001b[0;32m----> 3\u001b[0m     \u001b[38;5;28;01mraise\u001b[39;00m \u001b[38;5;167;01mValueError\u001b[39;00m(\u001b[38;5;124m\"\u001b[39m\u001b[38;5;124mAge cannot be negative\u001b[39m\u001b[38;5;124m\"\u001b[39m)\n",
      "\u001b[0;31mValueError\u001b[0m: Age cannot be negative"
     ]
    }
   ],
   "source": [
    "age = -1\n",
    "if age < 0:\n",
    "    raise ValueError(\"Age cannot be negative\")\n"
   ]
  },
  {
   "cell_type": "markdown",
   "id": "655fc922-79d0-4e02-9628-11f224e0cf00",
   "metadata": {},
   "source": [
    "In this code, we first initialize the variable age to a negative value. We then check if age is less than 0,"
   ]
  },
  {
   "cell_type": "markdown",
   "id": "04f2c2b0-11d5-4f97-a56a-71b1392b15c9",
   "metadata": {},
   "source": [
    "5. What are custom Exceptions in Python? Why do we need custom Exceptions? Explain with an example."
   ]
  },
  {
   "cell_type": "markdown",
   "id": "9e09e0d3-3bb6-4f06-92a1-a3216520c433",
   "metadata": {},
   "source": [
    "In Python, we can create custom exceptions by defining our own exception class. Custom exceptions are subclasses of the built-in Exception class or its subclasses. We can define our own exception classes to provide more meaningful error messages and handle specific error conditions in our code.\n",
    "\n",
    "We need custom exceptions in Python to make our code more readable, maintainable, and robust. By defining custom exceptions, we can communicate the error conditions more clearly and provide specific error handling code for different scenarios. Custom exceptions can also help us to identify and locate errors in our code more easily, which can save us a lot of time and effort during debugging.\n",
    "\n",
    "Here's an example of creating a custom exception class called InvalidUsernameException that is raised when an invalid username is entered in a user registration form:"
   ]
  },
  {
   "cell_type": "code",
   "execution_count": 12,
   "id": "99c21211-4322-4f0b-b6f3-4024591d8bdd",
   "metadata": {},
   "outputs": [],
   "source": [
    "class InvalidUsernameException(Exception):\n",
    "    def __init__(self, message=\"Invalid username\"):\n",
    "        self.message = message\n",
    "        super().__init__(self.message)\n",
    "\n",
    "def register_user(username):\n",
    "    if not username.isalnum():\n",
    "        raise InvalidUsernameException(\"Username must contain only letters and numbers\")\n",
    "    else:\n",
    "        print(\"User registered successfully\")\n"
   ]
  },
  {
   "cell_type": "markdown",
   "id": "f976ce22-7095-448c-9454-d044de387687",
   "metadata": {},
   "source": [
    "In this code, we define a custom exception class called InvalidUsernameException that inherits from the built-in Exception class. The __init__() method of the InvalidUsernameException class takes an optional error message argument that defaults to \"Invalid username\". The method also calls the superclass constructor to initialize the exception object with the error message.\n",
    "\n",
    "We then define a function called register_user() that takes a username argument. If the username contains any non-alphanumeric characters, we raise an instance of the InvalidUsernameException class with a custom error message. If the username is valid, we print a success message.\n",
    "\n",
    "By defining our own InvalidUsernameException class, we can provide a specific error message for this particular error condition. This makes it easier for developers to understand the error and take appropriate action. We can also use this custom exception class to handle the error condition in a more targeted way, such as logging the error or sending an email notification to the user."
   ]
  },
  {
   "cell_type": "markdown",
   "id": "8affeb0a-8e89-49eb-8e00-a8329028c2da",
   "metadata": {},
   "source": [
    "6. Create a custom exception class. use this class to handle an Exception."
   ]
  },
  {
   "cell_type": "code",
   "execution_count": 13,
   "id": "f07f2702-958b-4cd4-b9a9-fa3efe525600",
   "metadata": {},
   "outputs": [
    {
     "name": "stdout",
     "output_type": "stream",
     "text": [
      "Caught NegativeValueError: Negative value not allowed: -4\n"
     ]
    }
   ],
   "source": [
    "class NegativeValueError(Exception):\n",
    "    def __init__(self, value):\n",
    "        self.value = value\n",
    "        self.message = \"Negative value not allowed: {}\".format(value)\n",
    "        super().__init__(self.message)\n",
    "\n",
    "def square_root(x):\n",
    "    if x < 0:\n",
    "        raise NegativeValueError(x)\n",
    "    else:\n",
    "        return x ** 0.5\n",
    "\n",
    "try:\n",
    "    result = square_root(-4)\n",
    "except NegativeValueError as e:\n",
    "    print(\"Caught NegativeValueError:\", e.message)\n",
    "else:\n",
    "    print(\"Square root of -4 is\", result)\n"
   ]
  },
  {
   "cell_type": "markdown",
   "id": "03f2688f-d2ac-496d-a0d6-6d5ffc2dbf4d",
   "metadata": {},
   "source": [
    "In this code, we define a custom exception class called NegativeValueError that inherits from the built-in Exception class. The __init__() method of the NegativeValueError class takes a value argument and initializes the exception object with a custom error message that includes the negative value.\n",
    "\n",
    "We then define a function called square_root() that takes an argument x. If x is negative, we raise an instance of the NegativeValueError class with the negative value as an argument. If x is non-negative, we compute and return the square root of x.\n",
    "\n",
    "In the try block, we call the square_root() function with a negative value -4. Since this will result in a NegativeValueError, we catch the exception using an except block that catches NegativeValueError and prints the error message. If no exception is raised, we print the square root of x."
   ]
  },
  {
   "cell_type": "code",
   "execution_count": null,
   "id": "2349e9a2-24ad-4094-8551-c6313bcad53e",
   "metadata": {},
   "outputs": [],
   "source": []
  }
 ],
 "metadata": {
  "kernelspec": {
   "display_name": "Python 3 (ipykernel)",
   "language": "python",
   "name": "python3"
  },
  "language_info": {
   "codemirror_mode": {
    "name": "ipython",
    "version": 3
   },
   "file_extension": ".py",
   "mimetype": "text/x-python",
   "name": "python",
   "nbconvert_exporter": "python",
   "pygments_lexer": "ipython3",
   "version": "3.10.8"
  }
 },
 "nbformat": 4,
 "nbformat_minor": 5
}
