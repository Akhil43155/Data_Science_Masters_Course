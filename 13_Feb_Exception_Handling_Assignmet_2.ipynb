{
 "cells": [
  {
   "cell_type": "markdown",
   "id": "03184cdb-ba40-48aa-b85b-1f67f2394da5",
   "metadata": {},
   "source": [
    "1. Explain why we have to use the Exception class while creating a Custom Exception."
   ]
  },
  {
   "cell_type": "markdown",
   "id": "c163b9e8-7b1a-4ef4-943c-754aa0eda837",
   "metadata": {},
   "source": [
    "In Python, the Exception class is the base class for all built-in exceptions. When we create a custom exception, we typically want it to behave like other built-in exceptions and have similar methods and properties. By inheriting from the Exception class, we are able to create our custom exception with all the same features and behaviors as other built-in exceptions.\n",
    "\n",
    "Additionally, when we raise a custom exception, it can be caught by an except block that catches its base class Exception. This allows us to handle our custom exception along with other built-in exceptions in a single except block.\n",
    "\n",
    "Here is an example:"
   ]
  },
  {
   "cell_type": "code",
   "execution_count": 1,
   "id": "a1055ca5-7b71-4004-bd2d-aadf1f31cb9f",
   "metadata": {},
   "outputs": [
    {
     "name": "stdout",
     "output_type": "stream",
     "text": [
      "Exception caught: This is a custom exception.\n"
     ]
    }
   ],
   "source": [
    "class CustomException(Exception):\n",
    "    pass\n",
    "\n",
    "try:\n",
    "    raise CustomException(\"This is a custom exception.\")\n",
    "except Exception as e:\n",
    "    print(\"Exception caught:\", e)\n"
   ]
  },
  {
   "cell_type": "markdown",
   "id": "b876a831-fa01-4f03-894f-cc82a2598131",
   "metadata": {},
   "source": [
    "In this example, we define a custom exception CustomException by inheriting from the base Exception class. We then raise an instance of this custom exception in a try block. Since our custom exception inherits from the Exception class, it can be caught by the except block that catches its base class Exception. When the exception is caught, we print a message to indicate that the exception was caught.\n",
    "\n",
    "Overall, by inheriting from the Exception class, we can create custom exceptions that behave like other built-in exceptions and can be handled along with other exceptions in a single except block."
   ]
  },
  {
   "cell_type": "markdown",
   "id": "4b3fe19a-1045-4a4f-86b7-312a28796cf5",
   "metadata": {},
   "source": [
    "2. Write a python program to print Python Exception Hierarchy."
   ]
  },
  {
   "cell_type": "markdown",
   "id": "3242754c-a81e-4fee-bba2-4825eb0024ae",
   "metadata": {},
   "source": [
    "In Python, all built-in exceptions are organized into a hierarchy, with the BaseException class at the top, followed by the Exception class, and then by more specific exception classes. We can print the entire exception hierarchy using the help() function.\n",
    "\n",
    "Here is the Python program to print the Python Exception Hierarchy:"
   ]
  },
  {
   "cell_type": "code",
   "execution_count": 2,
   "id": "29297d73-05f8-42c2-90a9-5680c492587c",
   "metadata": {},
   "outputs": [
    {
     "name": "stdout",
     "output_type": "stream",
     "text": [
      "Help on class Exception in module builtins:\n",
      "\n",
      "class Exception(BaseException)\n",
      " |  Common base class for all non-exit exceptions.\n",
      " |  \n",
      " |  Method resolution order:\n",
      " |      Exception\n",
      " |      BaseException\n",
      " |      object\n",
      " |  \n",
      " |  Built-in subclasses:\n",
      " |      ArithmeticError\n",
      " |      AssertionError\n",
      " |      AttributeError\n",
      " |      BufferError\n",
      " |      ... and 15 other subclasses\n",
      " |  \n",
      " |  Methods defined here:\n",
      " |  \n",
      " |  __init__(self, /, *args, **kwargs)\n",
      " |      Initialize self.  See help(type(self)) for accurate signature.\n",
      " |  \n",
      " |  ----------------------------------------------------------------------\n",
      " |  Static methods defined here:\n",
      " |  \n",
      " |  __new__(*args, **kwargs) from builtins.type\n",
      " |      Create and return a new object.  See help(type) for accurate signature.\n",
      " |  \n",
      " |  ----------------------------------------------------------------------\n",
      " |  Methods inherited from BaseException:\n",
      " |  \n",
      " |  __delattr__(self, name, /)\n",
      " |      Implement delattr(self, name).\n",
      " |  \n",
      " |  __getattribute__(self, name, /)\n",
      " |      Return getattr(self, name).\n",
      " |  \n",
      " |  __reduce__(...)\n",
      " |      Helper for pickle.\n",
      " |  \n",
      " |  __repr__(self, /)\n",
      " |      Return repr(self).\n",
      " |  \n",
      " |  __setattr__(self, name, value, /)\n",
      " |      Implement setattr(self, name, value).\n",
      " |  \n",
      " |  __setstate__(...)\n",
      " |  \n",
      " |  __str__(self, /)\n",
      " |      Return str(self).\n",
      " |  \n",
      " |  with_traceback(...)\n",
      " |      Exception.with_traceback(tb) --\n",
      " |      set self.__traceback__ to tb and return self.\n",
      " |  \n",
      " |  ----------------------------------------------------------------------\n",
      " |  Data descriptors inherited from BaseException:\n",
      " |  \n",
      " |  __cause__\n",
      " |      exception cause\n",
      " |  \n",
      " |  __context__\n",
      " |      exception context\n",
      " |  \n",
      " |  __dict__\n",
      " |  \n",
      " |  __suppress_context__\n",
      " |  \n",
      " |  __traceback__\n",
      " |  \n",
      " |  args\n",
      "\n"
     ]
    }
   ],
   "source": [
    "help(Exception)\n"
   ]
  },
  {
   "cell_type": "markdown",
   "id": "d96a9eb1-8b40-48bc-93d7-72de6628244b",
   "metadata": {},
   "source": [
    "When we run this program, we get the following output, which shows the entire Python Exception Hierarchy:"
   ]
  },
  {
   "cell_type": "code",
   "execution_count": 4,
   "id": "2e30248e-779b-4075-be56-e4efc56f1b0d",
   "metadata": {},
   "outputs": [
    {
     "ename": "SyntaxError",
     "evalue": "invalid syntax (1504761248.py, line 2)",
     "output_type": "error",
     "traceback": [
      "\u001b[0;36m  Cell \u001b[0;32mIn[4], line 2\u001b[0;36m\u001b[0m\n\u001b[0;31m    |  Common base class for all non-exit exceptions.\u001b[0m\n\u001b[0m    ^\u001b[0m\n\u001b[0;31mSyntaxError\u001b[0m\u001b[0;31m:\u001b[0m invalid syntax\n"
     ]
    }
   ],
   "source": [
    "class Exception(BaseException):\n",
    " |  Common base class for all non-exit exceptions.\n",
    " |  \n",
    " |  Method resolution order:\n",
    " |      Exception\n",
    " |      BaseException\n",
    " |      object\n",
    " |  \n",
    " |  Built-in subclasses:\n",
    " |      ArithmeticError\n",
    " |      AssertionError\n",
    " |      AttributeError\n",
    " |      BufferError\n",
    " |      EOFError\n",
    " |      ...\n"
   ]
  },
  {
   "cell_type": "markdown",
   "id": "d9278293-5f1e-444e-98cf-6a1aa04579c7",
   "metadata": {},
   "source": [
    "This output shows that the Exception class is a subclass of BaseException, which is a subclass of object. It also shows all the built-in subclasses of Exception, such as ArithmeticError, AssertionError, AttributeError, BufferError, EOFError, and many others."
   ]
  },
  {
   "cell_type": "markdown",
   "id": "868c9786-85ac-4acb-90b5-01e0f81741cb",
   "metadata": {},
   "source": [
    "3. What errors are defined in the ArithmeticError class? Explain any two with an example."
   ]
  },
  {
   "cell_type": "markdown",
   "id": "38d45f40-0f8f-4087-9cf8-9bc41ffeaad5",
   "metadata": {},
   "source": [
    "The ArithmeticError class in Python is a base class for all errors that occur during arithmetic operations. It includes errors such as division by zero, overflow, underflow, and invalid operations.\n",
    "\n",
    "Two commonly occurring errors defined in the ArithmeticError class are:\n",
    "\n",
    "ZeroDivisionError: This error occurs when an attempt is made to divide a number by zero. For example:"
   ]
  },
  {
   "cell_type": "code",
   "execution_count": 6,
   "id": "7fe435c4-4cab-46b6-8e2a-00ff68aa9aab",
   "metadata": {},
   "outputs": [
    {
     "ename": "ZeroDivisionError",
     "evalue": "division by zero",
     "output_type": "error",
     "traceback": [
      "\u001b[0;31m---------------------------------------------------------------------------\u001b[0m",
      "\u001b[0;31mZeroDivisionError\u001b[0m                         Traceback (most recent call last)",
      "Cell \u001b[0;32mIn[6], line 3\u001b[0m\n\u001b[1;32m      1\u001b[0m a \u001b[38;5;241m=\u001b[39m \u001b[38;5;241m10\u001b[39m\n\u001b[1;32m      2\u001b[0m b \u001b[38;5;241m=\u001b[39m \u001b[38;5;241m0\u001b[39m\n\u001b[0;32m----> 3\u001b[0m c \u001b[38;5;241m=\u001b[39m \u001b[43ma\u001b[49m\u001b[38;5;241;43m/\u001b[39;49m\u001b[43mb\u001b[49m  \u001b[38;5;66;03m# ZeroDivisionError: division by zero\u001b[39;00m\n",
      "\u001b[0;31mZeroDivisionError\u001b[0m: division by zero"
     ]
    }
   ],
   "source": [
    "a = 10\n",
    "b = 0\n",
    "c = a/b  # ZeroDivisionError: division by zero\n"
   ]
  },
  {
   "cell_type": "markdown",
   "id": "40738a1b-b66e-4a9c-a0f2-d5fb644d9a25",
   "metadata": {},
   "source": [
    "OverflowError: This error occurs when the result of an arithmetic operation exceeds the maximum value that can be stored in a variable. For example:"
   ]
  },
  {
   "cell_type": "code",
   "execution_count": 7,
   "id": "98b8a09d-0874-4ce5-8c82-cfc1b2366159",
   "metadata": {},
   "outputs": [],
   "source": [
    "import sys\n",
    "a = sys.maxsize  # maximum value of an integer variable\n",
    "b = a * a  # OverflowError: integer overflow\n"
   ]
  },
  {
   "cell_type": "markdown",
   "id": "b2c48043-18c8-4434-b019-b047ca85fd3a",
   "metadata": {},
   "source": [
    "4. Why LookupError class is used? Explain with an example KeyError and IndexError."
   ]
  },
  {
   "cell_type": "markdown",
   "id": "6f237104-7c18-4381-a46f-565b81480cf6",
   "metadata": {},
   "source": [
    "The LookupError class is a base class for all errors that occur when a key or index is not found in a mapping or sequence respectively. It is a subclass of the Exception class and is used to handle lookup errors in Python.\n",
    "\n",
    "Two commonly occurring errors that are subclasses of LookupError are:\n",
    "\n",
    "KeyError: This error occurs when a key is not found in a dictionary. For example:"
   ]
  },
  {
   "cell_type": "code",
   "execution_count": 8,
   "id": "6a9b601d-4440-46e5-be3b-42b850d4ac06",
   "metadata": {},
   "outputs": [
    {
     "ename": "KeyError",
     "evalue": "'d'",
     "output_type": "error",
     "traceback": [
      "\u001b[0;31m---------------------------------------------------------------------------\u001b[0m",
      "\u001b[0;31mKeyError\u001b[0m                                  Traceback (most recent call last)",
      "Cell \u001b[0;32mIn[8], line 2\u001b[0m\n\u001b[1;32m      1\u001b[0m my_dict \u001b[38;5;241m=\u001b[39m {\u001b[38;5;124m\"\u001b[39m\u001b[38;5;124ma\u001b[39m\u001b[38;5;124m\"\u001b[39m: \u001b[38;5;241m1\u001b[39m, \u001b[38;5;124m\"\u001b[39m\u001b[38;5;124mb\u001b[39m\u001b[38;5;124m\"\u001b[39m: \u001b[38;5;241m2\u001b[39m, \u001b[38;5;124m\"\u001b[39m\u001b[38;5;124mc\u001b[39m\u001b[38;5;124m\"\u001b[39m: \u001b[38;5;241m3\u001b[39m}\n\u001b[0;32m----> 2\u001b[0m \u001b[38;5;28mprint\u001b[39m(\u001b[43mmy_dict\u001b[49m\u001b[43m[\u001b[49m\u001b[38;5;124;43m\"\u001b[39;49m\u001b[38;5;124;43md\u001b[39;49m\u001b[38;5;124;43m\"\u001b[39;49m\u001b[43m]\u001b[49m)  \u001b[38;5;66;03m# KeyError: 'd'\u001b[39;00m\n",
      "\u001b[0;31mKeyError\u001b[0m: 'd'"
     ]
    }
   ],
   "source": [
    "my_dict = {\"a\": 1, \"b\": 2, \"c\": 3}\n",
    "print(my_dict[\"d\"])  # KeyError: 'd'\n"
   ]
  },
  {
   "cell_type": "markdown",
   "id": "dcf555d2-5abd-4516-9229-2045aa45f561",
   "metadata": {},
   "source": [
    "In the above example, the key 'd' is not present in the my_dict dictionary, so accessing it raises a KeyError.\n",
    "\n",
    "IndexError: This error occurs when an index is out of range of a sequence. For example:"
   ]
  },
  {
   "cell_type": "code",
   "execution_count": 9,
   "id": "3eaa7942-e222-4c9a-b7a8-1b77563e378a",
   "metadata": {},
   "outputs": [
    {
     "ename": "IndexError",
     "evalue": "list index out of range",
     "output_type": "error",
     "traceback": [
      "\u001b[0;31m---------------------------------------------------------------------------\u001b[0m",
      "\u001b[0;31mIndexError\u001b[0m                                Traceback (most recent call last)",
      "Cell \u001b[0;32mIn[9], line 2\u001b[0m\n\u001b[1;32m      1\u001b[0m my_list \u001b[38;5;241m=\u001b[39m [\u001b[38;5;241m1\u001b[39m, \u001b[38;5;241m2\u001b[39m, \u001b[38;5;241m3\u001b[39m]\n\u001b[0;32m----> 2\u001b[0m \u001b[38;5;28mprint\u001b[39m(\u001b[43mmy_list\u001b[49m\u001b[43m[\u001b[49m\u001b[38;5;241;43m3\u001b[39;49m\u001b[43m]\u001b[49m)  \u001b[38;5;66;03m# IndexError: list index out of range\u001b[39;00m\n",
      "\u001b[0;31mIndexError\u001b[0m: list index out of range"
     ]
    }
   ],
   "source": [
    "my_list = [1, 2, 3]\n",
    "print(my_list[3])  # IndexError: list index out of range\n"
   ]
  },
  {
   "cell_type": "markdown",
   "id": "9de610bd-16e7-41f5-a53d-df51aa4d4b24",
   "metadata": {},
   "source": [
    "In the above example, the index 3 is out of range for the my_list list, which only has three elements, so accessing it raises an IndexError.\n",
    "\n",
    "LookupError is useful because it allows you to catch any error that occurs when you try to look up an element in a collection, regardless of whether it's a dictionary, list, or other collection. This makes it easier to write more general-purpose code that can handle multiple types of collections without having to write separate error handling code for each one."
   ]
  },
  {
   "cell_type": "markdown",
   "id": "f6be7ace-eee4-4d07-b67d-260b1c5e6033",
   "metadata": {},
   "source": [
    "5. Explain ImportError. What is ModuleNotFoundError?"
   ]
  },
  {
   "cell_type": "markdown",
   "id": "23e501ba-2ab9-4c95-a59d-347c3987a318",
   "metadata": {},
   "source": [
    "ImportError is an error in Python that occurs when a module or package is unable to be imported due to various reasons such as the module not being installed, a syntax error in the module, or the module being in a different directory than where it is being called from.\n",
    "\n",
    "For example, consider the following code:"
   ]
  },
  {
   "cell_type": "code",
   "execution_count": 10,
   "id": "a25462b5-c0c5-4f63-9136-f14b0d877c6c",
   "metadata": {},
   "outputs": [
    {
     "name": "stdout",
     "output_type": "stream",
     "text": [
      "The module could not be imported\n"
     ]
    }
   ],
   "source": [
    "try:\n",
    "    import non_existent_module\n",
    "except ImportError:\n",
    "    print(\"The module could not be imported\")\n"
   ]
  },
  {
   "cell_type": "markdown",
   "id": "d21d8c24-d51c-42a5-b5f1-4b5adbde188b",
   "metadata": {},
   "source": [
    "In the above code, the import non_existent_module statement will raise an ImportError because the module non_existent_module does not exist.\n",
    "\n",
    "ModuleNotFoundError is a subclass of ImportError that was introduced in Python 3.6. It specifically occurs when a module is not found during import.\n",
    "\n",
    "For example, consider the following code:"
   ]
  },
  {
   "cell_type": "code",
   "execution_count": 12,
   "id": "d3d876b5-de06-4faf-bf88-23cd1cfa89d4",
   "metadata": {},
   "outputs": [
    {
     "name": "stdout",
     "output_type": "stream",
     "text": [
      "The module could not be found\n"
     ]
    }
   ],
   "source": [
    "try:\n",
    "    import non_existent_module\n",
    "except ModuleNotFoundError:\n",
    "    print(\"The module could not be found\")\n"
   ]
  },
  {
   "cell_type": "code",
   "execution_count": null,
   "id": "b47f2ed8-0d96-4cab-9cf9-4464ac9a012b",
   "metadata": {},
   "outputs": [],
   "source": []
  }
 ],
 "metadata": {
  "kernelspec": {
   "display_name": "Python 3 (ipykernel)",
   "language": "python",
   "name": "python3"
  },
  "language_info": {
   "codemirror_mode": {
    "name": "ipython",
    "version": 3
   },
   "file_extension": ".py",
   "mimetype": "text/x-python",
   "name": "python",
   "nbconvert_exporter": "python",
   "pygments_lexer": "ipython3",
   "version": "3.10.8"
  }
 },
 "nbformat": 4,
 "nbformat_minor": 5
}
