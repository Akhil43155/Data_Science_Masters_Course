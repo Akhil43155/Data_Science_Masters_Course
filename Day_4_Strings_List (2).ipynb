{
 "cells": [
  {
   "cell_type": "code",
   "execution_count": 54,
   "id": "caa311d1-f504-4e9e-9947-82156e9d9244",
   "metadata": {
    "id": "caa311d1-f504-4e9e-9947-82156e9d9244"
   },
   "outputs": [],
   "source": [
    "name=\"Data science Masters\""
   ]
  },
  {
   "cell_type": "code",
   "execution_count": 55,
   "id": "83f4d6bb-0e46-4db1-8dcc-e52e7f547b0d",
   "metadata": {
    "id": "83f4d6bb-0e46-4db1-8dcc-e52e7f547b0d",
    "outputId": "6c0051bb-cb49-4c1b-83f5-bc095dec3b39"
   },
   "outputs": [
    {
     "data": {
      "text/plain": [
       "'dATA SCIENCE mASTERS'"
      ]
     },
     "execution_count": 55,
     "metadata": {},
     "output_type": "execute_result"
    }
   ],
   "source": [
    "name.swapcase()"
   ]
  },
  {
   "cell_type": "code",
   "execution_count": 56,
   "id": "24e25ad5-0c75-47c5-a61f-ff066f072b73",
   "metadata": {
    "id": "24e25ad5-0c75-47c5-a61f-ff066f072b73",
    "outputId": "d290cda9-f862-4325-e068-05715cb80d9a"
   },
   "outputs": [
    {
     "data": {
      "text/plain": [
       "'Data Science Masters'"
      ]
     },
     "execution_count": 56,
     "metadata": {},
     "output_type": "execute_result"
    }
   ],
   "source": [
    "name.title()"
   ]
  },
  {
   "cell_type": "code",
   "execution_count": 57,
   "id": "9cbdc3d4-1c8a-4f60-9154-d888ccf659eb",
   "metadata": {
    "id": "9cbdc3d4-1c8a-4f60-9154-d888ccf659eb",
    "outputId": "4b285dc6-528a-4dce-d455-5c5c1803f9a6"
   },
   "outputs": [
    {
     "data": {
      "text/plain": [
       "'Data science masters'"
      ]
     },
     "execution_count": 57,
     "metadata": {},
     "output_type": "execute_result"
    }
   ],
   "source": [
    "name.capitalize()"
   ]
  },
  {
   "cell_type": "markdown",
   "id": "6b2b9705-999f-4abf-b9a7-9c0de5ab6d87",
   "metadata": {
    "id": "6b2b9705-999f-4abf-b9a7-9c0de5ab6d87"
   },
   "source": [
    "## Reversing a String"
   ]
  },
  {
   "cell_type": "code",
   "execution_count": 58,
   "id": "b7cba88f-804e-4fb8-969b-d074af168af6",
   "metadata": {
    "id": "b7cba88f-804e-4fb8-969b-d074af168af6",
    "outputId": "71d1ef0a-cc80-4a19-e18b-dcb70443d04a"
   },
   "outputs": [
    {
     "data": {
      "text/plain": [
       "'sretsaM ecneics ataD'"
      ]
     },
     "execution_count": 58,
     "metadata": {},
     "output_type": "execute_result"
    }
   ],
   "source": [
    "name[::-1]"
   ]
  },
  {
   "cell_type": "code",
   "execution_count": 59,
   "id": "0f2a87ef-4fda-402a-9511-035ee301ded8",
   "metadata": {
    "id": "0f2a87ef-4fda-402a-9511-035ee301ded8",
    "outputId": "0fb1be02-c468-4c22-ad44-0812ce589998"
   },
   "outputs": [
    {
     "data": {
      "text/plain": [
       "'s r e t s a M   e c n e i c s   a t a D'"
      ]
     },
     "execution_count": 59,
     "metadata": {},
     "output_type": "execute_result"
    }
   ],
   "source": [
    "' '.join(reversed(name))"
   ]
  },
  {
   "cell_type": "code",
   "execution_count": 60,
   "id": "0228a3fa-c866-40a2-8a84-96e8c905993d",
   "metadata": {
    "id": "0228a3fa-c866-40a2-8a84-96e8c905993d",
    "outputId": "6230ec38-b375-4f33-9a9a-feb6bcc6fbc2"
   },
   "outputs": [
    {
     "data": {
      "text/plain": [
       "'a b c d'"
      ]
     },
     "execution_count": 60,
     "metadata": {},
     "output_type": "execute_result"
    }
   ],
   "source": [
    "\" \".join(\"abcd\")"
   ]
  },
  {
   "cell_type": "code",
   "execution_count": 61,
   "id": "75ffa268-d723-420b-9dc9-31b01d78fe42",
   "metadata": {
    "id": "75ffa268-d723-420b-9dc9-31b01d78fe42",
    "outputId": "28e5af51-a1bf-474e-c057-075df285855c"
   },
   "outputs": [
    {
     "data": {
      "text/plain": [
       "'t n a'"
      ]
     },
     "execution_count": 61,
     "metadata": {},
     "output_type": "execute_result"
    }
   ],
   "source": [
    "' '.join(reversed(\"ant\"))"
   ]
  },
  {
   "cell_type": "code",
   "execution_count": 62,
   "id": "66a06ae5-4cfd-4255-8ec0-08dd4359a4e0",
   "metadata": {
    "id": "66a06ae5-4cfd-4255-8ec0-08dd4359a4e0",
    "outputId": "1026c4c3-5346-4cdb-c776-c2a4a5adadc9"
   },
   "outputs": [
    {
     "data": {
      "text/plain": [
       "'t Pwskills n Pwskills a'"
      ]
     },
     "execution_count": 62,
     "metadata": {},
     "output_type": "execute_result"
    }
   ],
   "source": [
    "' Pwskills '.join(reversed(\"ant\"))"
   ]
  },
  {
   "cell_type": "code",
   "execution_count": 63,
   "id": "24dd5fee-d069-485d-8fac-26b232fb5a38",
   "metadata": {
    "id": "24dd5fee-d069-485d-8fac-26b232fb5a38",
    "outputId": "7e3f9907-cfe3-4cef-eef5-199917ee48c9"
   },
   "outputs": [
    {
     "data": {
      "text/plain": [
       "['t', 'n', 'a']"
      ]
     },
     "execution_count": 63,
     "metadata": {},
     "output_type": "execute_result"
    }
   ],
   "source": [
    "## typecasting\n",
    "list(reversed(\"ant\"))"
   ]
  },
  {
   "cell_type": "code",
   "execution_count": 64,
   "id": "efc6c9e7-0e12-4c6b-87b5-0bd2e815454c",
   "metadata": {
    "id": "efc6c9e7-0e12-4c6b-87b5-0bd2e815454c"
   },
   "outputs": [],
   "source": [
    "str1=\"PW is a good company\""
   ]
  },
  {
   "cell_type": "code",
   "execution_count": 65,
   "id": "1a6b0343-c0f0-4901-8030-55a421463cd5",
   "metadata": {
    "id": "1a6b0343-c0f0-4901-8030-55a421463cd5"
   },
   "outputs": [
    {
     "data": {
      "text/plain": [
       "<reversed at 0x7f58b0191060>"
      ]
     },
     "execution_count": 65,
     "metadata": {},
     "output_type": "execute_result"
    }
   ],
   "source": [
    "reversed(str1)"
   ]
  },
  {
   "cell_type": "code",
   "execution_count": 66,
   "id": "acf981d5-cf92-4fd6-b9e0-61e5026000ac",
   "metadata": {
    "id": "acf981d5-cf92-4fd6-b9e0-61e5026000ac",
    "outputId": "aabeab65-f662-4eaf-cf55-469ccc1f273c"
   },
   "outputs": [
    {
     "data": {
      "text/plain": [
       "['t', 'n', 'a']"
      ]
     },
     "execution_count": 66,
     "metadata": {},
     "output_type": "execute_result"
    }
   ],
   "source": [
    "## typecasting\n",
    "list(reversed(\"ant\"))"
   ]
  },
  {
   "cell_type": "code",
   "execution_count": 67,
   "id": "bc219a40-680b-4ac8-b566-04f5c2442493",
   "metadata": {
    "id": "bc219a40-680b-4ac8-b566-04f5c2442493",
    "outputId": "73279f5f-f5df-4e1a-88a9-ef21cf63c067"
   },
   "outputs": [
    {
     "name": "stdout",
     "output_type": "stream",
     "text": [
      "sretsaM ecneics ataD"
     ]
    }
   ],
   "source": [
    "for i in list(reversed(name)):\n",
    "    print(i,end='')\n"
   ]
  },
  {
   "cell_type": "code",
   "execution_count": 68,
   "id": "03a29a7f-352e-49f5-a696-24220fd51aee",
   "metadata": {
    "id": "03a29a7f-352e-49f5-a696-24220fd51aee"
   },
   "outputs": [],
   "source": [
    "## Removing character from the end of the string"
   ]
  },
  {
   "cell_type": "code",
   "execution_count": 69,
   "id": "703cb830-8b53-4577-b36d-b22c142dfae8",
   "metadata": {
    "id": "703cb830-8b53-4577-b36d-b22c142dfae8"
   },
   "outputs": [],
   "source": [
    "string_a=\" pwskills \""
   ]
  },
  {
   "cell_type": "code",
   "execution_count": 70,
   "id": "204f42cf-9181-4acf-a406-f536d89adf27",
   "metadata": {
    "id": "204f42cf-9181-4acf-a406-f536d89adf27",
    "outputId": "669b500b-50da-4c40-e89e-41c02280ab45"
   },
   "outputs": [
    {
     "data": {
      "text/plain": [
       "'pwskills'"
      ]
     },
     "execution_count": 70,
     "metadata": {},
     "output_type": "execute_result"
    }
   ],
   "source": [
    "string_a.strip(\" \")"
   ]
  },
  {
   "cell_type": "code",
   "execution_count": 71,
   "id": "1281312d-c012-4459-b118-41841157f762",
   "metadata": {
    "id": "1281312d-c012-4459-b118-41841157f762",
    "outputId": "a9704042-fe5c-4859-f6a2-031a65c51cd0"
   },
   "outputs": [
    {
     "data": {
      "text/plain": [
       "'pwskills '"
      ]
     },
     "execution_count": 71,
     "metadata": {},
     "output_type": "execute_result"
    }
   ],
   "source": [
    "string_a.lstrip(\" \")"
   ]
  },
  {
   "cell_type": "code",
   "execution_count": 72,
   "id": "2b971109-46b5-497c-b5f2-4a1c3cfb599d",
   "metadata": {
    "id": "2b971109-46b5-497c-b5f2-4a1c3cfb599d",
    "outputId": "2bc3e679-5654-4dbf-ac3f-5426c24971e5"
   },
   "outputs": [
    {
     "data": {
      "text/plain": [
       "' pwskills'"
      ]
     },
     "execution_count": 72,
     "metadata": {},
     "output_type": "execute_result"
    }
   ],
   "source": [
    "string_a.rstrip(\" \")"
   ]
  },
  {
   "cell_type": "code",
   "execution_count": 73,
   "id": "5c11eeae-6c5a-422b-8afd-520250e70754",
   "metadata": {
    "id": "5c11eeae-6c5a-422b-8afd-520250e70754",
    "outputId": "5742bbce-6b79-40e7-ada2-673511082e48"
   },
   "outputs": [
    {
     "data": {
      "text/plain": [
       "'Welcome to Pwskills'"
      ]
     },
     "execution_count": 73,
     "metadata": {},
     "output_type": "execute_result"
    }
   ],
   "source": [
    "string_n=\"Greeting to Pwskills\"\n",
    "string_n.replace(\"Greeting\",\"Welcome\")"
   ]
  },
  {
   "cell_type": "code",
   "execution_count": 74,
   "id": "fa7a6df4-886c-4fe1-9df4-4393acc0a3a7",
   "metadata": {
    "id": "fa7a6df4-886c-4fe1-9df4-4393acc0a3a7"
   },
   "outputs": [],
   "source": [
    "name=\"Akhil\""
   ]
  },
  {
   "cell_type": "code",
   "execution_count": 75,
   "id": "d1004bba-d3f3-4554-b406-f54647aa67d1",
   "metadata": {
    "id": "d1004bba-d3f3-4554-b406-f54647aa67d1"
   },
   "outputs": [],
   "source": [
    "name=\"pwskills\""
   ]
  },
  {
   "cell_type": "code",
   "execution_count": 76,
   "id": "fdb96191-9479-43cb-aac4-b0daaa628b60",
   "metadata": {
    "id": "fdb96191-9479-43cb-aac4-b0daaa628b60",
    "outputId": "cfa074b0-0c3f-4524-b9a2-c94177ef2346"
   },
   "outputs": [
    {
     "ename": "TypeError",
     "evalue": "'str' object does not support item assignment",
     "output_type": "error",
     "traceback": [
      "\u001b[0;31m---------------------------------------------------------------------------\u001b[0m",
      "\u001b[0;31mTypeError\u001b[0m                                 Traceback (most recent call last)",
      "Cell \u001b[0;32mIn[76], line 1\u001b[0m\n\u001b[0;32m----> 1\u001b[0m \u001b[43mname\u001b[49m\u001b[43m[\u001b[49m\u001b[38;5;241;43m0\u001b[39;49m\u001b[43m]\u001b[49m\u001b[38;5;241m=\u001b[39m\u001b[38;5;124m\"\u001b[39m\u001b[38;5;124mA\u001b[39m\u001b[38;5;124m\"\u001b[39m\n",
      "\u001b[0;31mTypeError\u001b[0m: 'str' object does not support item assignment"
     ]
    }
   ],
   "source": [
    "name[0]=\"A\""
   ]
  },
  {
   "cell_type": "code",
   "execution_count": 77,
   "id": "06337072-7e86-42a8-afe4-2aae97865ff8",
   "metadata": {
    "id": "06337072-7e86-42a8-afe4-2aae97865ff8"
   },
   "outputs": [],
   "source": [
    "string_n=\"Greeting to Pwskills\"\n",
    "var_a=string_n.replace(\"G\",\"T\")"
   ]
  },
  {
   "cell_type": "code",
   "execution_count": 78,
   "id": "9453e506-abb2-40d4-890f-1c5a30cfead1",
   "metadata": {
    "id": "9453e506-abb2-40d4-890f-1c5a30cfead1",
    "outputId": "1926e8dc-1089-4a3e-8145-21839ffcc3cc"
   },
   "outputs": [
    {
     "name": "stdout",
     "output_type": "stream",
     "text": [
      "140018633512144\n",
      "140018633444048\n"
     ]
    }
   ],
   "source": [
    "print(id(string_n))\n",
    "print(id(var_a))"
   ]
  },
  {
   "cell_type": "code",
   "execution_count": 79,
   "id": "015f352e-67c8-48f3-a28e-c3dafe744286",
   "metadata": {
    "id": "015f352e-67c8-48f3-a28e-c3dafe744286",
    "outputId": "f1fd4231-5d3a-4e40-ed50-d934fa5905b5"
   },
   "outputs": [
    {
     "data": {
      "text/plain": [
       "'hello world'"
      ]
     },
     "execution_count": 79,
     "metadata": {},
     "output_type": "execute_result"
    }
   ],
   "source": [
    "'hello world'"
   ]
  },
  {
   "cell_type": "code",
   "execution_count": 80,
   "id": "8e8d250f-3bb1-401c-ad99-03995235a8ea",
   "metadata": {
    "id": "8e8d250f-3bb1-401c-ad99-03995235a8ea",
    "outputId": "b05941a4-167e-4bf8-b958-ba1340f06ad6"
   },
   "outputs": [
    {
     "data": {
      "text/plain": [
       "'test gmail.com'"
      ]
     },
     "execution_count": 80,
     "metadata": {},
     "output_type": "execute_result"
    }
   ],
   "source": [
    "string_n=\"test@gmail.com\"\n",
    "var_a=string_n.replace(\"@\",\" \")\n",
    "var_a"
   ]
  },
  {
   "cell_type": "code",
   "execution_count": 81,
   "id": "1fc572e4-b63c-47f4-b096-28091af4c69a",
   "metadata": {
    "id": "1fc572e4-b63c-47f4-b096-28091af4c69a",
    "outputId": "f8f1d5b4-3215-415a-80a3-819e65b10eae"
   },
   "outputs": [
    {
     "data": {
      "text/plain": [
       "'hello   world'"
      ]
     },
     "execution_count": 81,
     "metadata": {},
     "output_type": "execute_result"
    }
   ],
   "source": [
    "'hello \\tworld'.expandtabs()"
   ]
  },
  {
   "cell_type": "code",
   "execution_count": 82,
   "id": "7209b6f0-e91b-4027-8836-52767c2cc024",
   "metadata": {
    "id": "7209b6f0-e91b-4027-8836-52767c2cc024"
   },
   "outputs": [],
   "source": [
    "str1=\"Welcome to pwskills.Welcome to Dat cience Masters\""
   ]
  },
  {
   "cell_type": "code",
   "execution_count": 83,
   "id": "e209c201-1db4-43de-a147-cb2eeaff9dc0",
   "metadata": {
    "id": "e209c201-1db4-43de-a147-cb2eeaff9dc0",
    "outputId": "29011def-07d4-47eb-9641-b90ee13b3193"
   },
   "outputs": [
    {
     "data": {
      "text/plain": [
       "'Welcome to pwskills.Welcome to Data Science Masters'"
      ]
     },
     "execution_count": 83,
     "metadata": {},
     "output_type": "execute_result"
    }
   ],
   "source": [
    "str1.replace(\"Dat\",\"Data\").replace(\"cience\",\"Science\")"
   ]
  },
  {
   "cell_type": "code",
   "execution_count": 84,
   "id": "d539fe69-8b87-4289-830c-524fec6c80e2",
   "metadata": {
    "id": "d539fe69-8b87-4289-830c-524fec6c80e2",
    "outputId": "2f7eaa26-0bbc-4237-9a5e-da02ed30fc6c"
   },
   "outputs": [
    {
     "data": {
      "text/plain": [
       "'Welcome to pwskills.Welcome to Dat cience Masters'"
      ]
     },
     "execution_count": 84,
     "metadata": {},
     "output_type": "execute_result"
    }
   ],
   "source": [
    "str1"
   ]
  },
  {
   "cell_type": "code",
   "execution_count": 85,
   "id": "63abe93f-3b7d-4ba0-83e8-4765df712b9e",
   "metadata": {
    "id": "63abe93f-3b7d-4ba0-83e8-4765df712b9e",
    "outputId": "96a02093-e6b5-44ce-c011-2df48e6fe17d"
   },
   "outputs": [
    {
     "data": {
      "text/plain": [
       "False"
      ]
     },
     "execution_count": 85,
     "metadata": {},
     "output_type": "execute_result"
    }
   ],
   "source": [
    "str1.isupper()"
   ]
  },
  {
   "cell_type": "code",
   "execution_count": 86,
   "id": "257bbed0-3489-4d88-b5c1-4fbf33c315c9",
   "metadata": {
    "id": "257bbed0-3489-4d88-b5c1-4fbf33c315c9"
   },
   "outputs": [],
   "source": [
    "str1=\"AKHIL\""
   ]
  },
  {
   "cell_type": "code",
   "execution_count": 87,
   "id": "4b568c89-804b-4960-bdda-ae631e294aaf",
   "metadata": {
    "id": "4b568c89-804b-4960-bdda-ae631e294aaf",
    "outputId": "4e3b793b-839f-42d6-cd78-b8cb85cbf483"
   },
   "outputs": [
    {
     "data": {
      "text/plain": [
       "True"
      ]
     },
     "execution_count": 87,
     "metadata": {},
     "output_type": "execute_result"
    }
   ],
   "source": [
    "str1.isupper()"
   ]
  },
  {
   "cell_type": "code",
   "execution_count": 88,
   "id": "97a64c1c-500c-4616-836f-b3c38f33882f",
   "metadata": {
    "id": "97a64c1c-500c-4616-836f-b3c38f33882f",
    "outputId": "3142979c-acae-4ea9-dedb-da8d141498f6"
   },
   "outputs": [
    {
     "data": {
      "text/plain": [
       "False"
      ]
     },
     "execution_count": 88,
     "metadata": {},
     "output_type": "execute_result"
    }
   ],
   "source": [
    "str1.islower()"
   ]
  },
  {
   "cell_type": "code",
   "execution_count": 89,
   "id": "f4f6f985-6a8a-4400-8964-c8c7a6fc4a46",
   "metadata": {
    "id": "f4f6f985-6a8a-4400-8964-c8c7a6fc4a46",
    "outputId": "9d3b173d-b7b5-4217-d430-fb040731c3a9"
   },
   "outputs": [
    {
     "data": {
      "text/plain": [
       "True"
      ]
     },
     "execution_count": 89,
     "metadata": {},
     "output_type": "execute_result"
    }
   ],
   "source": [
    "' '.isspace()"
   ]
  },
  {
   "cell_type": "code",
   "execution_count": 90,
   "id": "e6275e5a-2486-4a66-9e2c-b1aff8a294bc",
   "metadata": {
    "id": "e6275e5a-2486-4a66-9e2c-b1aff8a294bc",
    "outputId": "fa7b5885-6a43-4770-ec37-29011b69cb49"
   },
   "outputs": [
    {
     "name": "stdout",
     "output_type": "stream",
     "text": [
      "Hello\n"
     ]
    }
   ],
   "source": [
    "if \" \".isspace():\n",
    "    print(\"Hello\")"
   ]
  },
  {
   "cell_type": "code",
   "execution_count": 91,
   "id": "77126e9f-dadb-4072-add6-56a93f50b9af",
   "metadata": {
    "id": "77126e9f-dadb-4072-add6-56a93f50b9af"
   },
   "outputs": [],
   "source": [
    "str2=\"pwskills\""
   ]
  },
  {
   "cell_type": "code",
   "execution_count": 92,
   "id": "b35c91fa-23b3-4760-9ca9-82302ce37635",
   "metadata": {
    "id": "b35c91fa-23b3-4760-9ca9-82302ce37635",
    "outputId": "9f60c51c-ade3-4988-c017-fa00d605ccff"
   },
   "outputs": [
    {
     "data": {
      "text/plain": [
       "True"
      ]
     },
     "execution_count": 92,
     "metadata": {},
     "output_type": "execute_result"
    }
   ],
   "source": [
    "str2.endswith('s')"
   ]
  },
  {
   "cell_type": "code",
   "execution_count": 93,
   "id": "73838707-4eaf-4a2d-8faa-80ec4b86e957",
   "metadata": {
    "id": "73838707-4eaf-4a2d-8faa-80ec4b86e957",
    "outputId": "5707aa27-1040-4fcf-cf61-4b2827a4e584"
   },
   "outputs": [
    {
     "data": {
      "text/plain": [
       "True"
      ]
     },
     "execution_count": 93,
     "metadata": {},
     "output_type": "execute_result"
    }
   ],
   "source": [
    "str2.startswith('p')"
   ]
  },
  {
   "cell_type": "code",
   "execution_count": 94,
   "id": "624435ae-fb7b-4f14-8132-89c9ccaaec4b",
   "metadata": {
    "id": "624435ae-fb7b-4f14-8132-89c9ccaaec4b",
    "outputId": "04b15545-eb34-4897-b731-36d1fd23be80"
   },
   "outputs": [
    {
     "data": {
      "text/plain": [
       "True"
      ]
     },
     "execution_count": 94,
     "metadata": {},
     "output_type": "execute_result"
    }
   ],
   "source": [
    "## check if all the char in string are alphanumeric\n",
    "a=\"abcd1234\"\n",
    "a.isalnum()"
   ]
  },
  {
   "cell_type": "code",
   "execution_count": 95,
   "id": "29f7f16e-25a2-4ddd-9e25-1c964be1e606",
   "metadata": {
    "id": "29f7f16e-25a2-4ddd-9e25-1c964be1e606"
   },
   "outputs": [],
   "source": [
    "## to count the number of character in the strings"
   ]
  },
  {
   "cell_type": "code",
   "execution_count": 96,
   "id": "8e978e67-40ad-496d-bf4f-3802741c3af5",
   "metadata": {
    "id": "8e978e67-40ad-496d-bf4f-3802741c3af5",
    "outputId": "d36a2fa6-53c4-4847-a732-e2569eb24291"
   },
   "outputs": [
    {
     "name": "stdout",
     "output_type": "stream",
     "text": [
      "8\n"
     ]
    }
   ],
   "source": [
    "count=0\n",
    "for i in str2:\n",
    "    count=count+1\n",
    "\n",
    "print(count)"
   ]
  },
  {
   "cell_type": "code",
   "execution_count": 97,
   "id": "3a648f2a-fbbf-4db7-b46b-c2d641b66a34",
   "metadata": {
    "id": "3a648f2a-fbbf-4db7-b46b-c2d641b66a34",
    "outputId": "71f25ece-a848-4aba-a58a-744e5d8faa43"
   },
   "outputs": [
    {
     "data": {
      "text/plain": [
       "8"
      ]
     },
     "execution_count": 97,
     "metadata": {},
     "output_type": "execute_result"
    }
   ],
   "source": [
    "len(str2)"
   ]
  },
  {
   "cell_type": "code",
   "execution_count": 98,
   "id": "2b7bc49d-a4c8-41dd-84b5-0b680267902b",
   "metadata": {
    "id": "2b7bc49d-a4c8-41dd-84b5-0b680267902b",
    "outputId": "c03394c8-f27c-4f5e-d306-f413f770df32"
   },
   "outputs": [
    {
     "data": {
      "text/plain": [
       "'pwskills'"
      ]
     },
     "execution_count": 98,
     "metadata": {},
     "output_type": "execute_result"
    }
   ],
   "source": [
    "str2"
   ]
  },
  {
   "cell_type": "code",
   "execution_count": 99,
   "id": "47ee2c70-9747-4dae-bbcc-8f3ac58c9a4f",
   "metadata": {
    "id": "47ee2c70-9747-4dae-bbcc-8f3ac58c9a4f",
    "outputId": "e1e8b96d-82b2-4b3d-d788-31b183deada7"
   },
   "outputs": [
    {
     "name": "stdout",
     "output_type": "stream",
     "text": [
      "p\n",
      "w\n",
      "s\n",
      "k\n",
      "i\n",
      "l\n",
      "l\n",
      "s\n"
     ]
    }
   ],
   "source": [
    "for i in str2:\n",
    "    print(i)"
   ]
  },
  {
   "cell_type": "code",
   "execution_count": 100,
   "id": "459c3d34-8d7d-4203-a7c8-a8a951844d57",
   "metadata": {
    "id": "459c3d34-8d7d-4203-a7c8-a8a951844d57",
    "outputId": "ad040b81-14a1-49cc-f244-974571eb4611"
   },
   "outputs": [
    {
     "data": {
      "text/plain": [
       "range(0, 8)"
      ]
     },
     "execution_count": 100,
     "metadata": {},
     "output_type": "execute_result"
    }
   ],
   "source": [
    "range(len(str2))"
   ]
  },
  {
   "cell_type": "code",
   "execution_count": 101,
   "id": "3ff9c489-09e9-4e56-b81a-159022d36bca",
   "metadata": {
    "id": "3ff9c489-09e9-4e56-b81a-159022d36bca",
    "outputId": "0192783b-e425-444f-c5a6-7ef13c5ad26b"
   },
   "outputs": [
    {
     "name": "stdout",
     "output_type": "stream",
     "text": [
      "0 = p\n",
      "1 = w\n",
      "2 = s\n",
      "3 = k\n",
      "4 = i\n",
      "5 = l\n",
      "6 = l\n",
      "7 = s\n"
     ]
    }
   ],
   "source": [
    "for i in range(len(str2)):\n",
    "    print(i,\"=\",str2[i])"
   ]
  },
  {
   "cell_type": "code",
   "execution_count": 102,
   "id": "5986e51f-1c78-4f08-8dcf-3043b9da2e08",
   "metadata": {
    "id": "5986e51f-1c78-4f08-8dcf-3043b9da2e08"
   },
   "outputs": [],
   "source": [
    "# We can use index to iterate string reverse direction"
   ]
  },
  {
   "cell_type": "code",
   "execution_count": 103,
   "id": "b2e0b9a1-036b-4138-94d4-82d0042fb64a",
   "metadata": {
    "id": "b2e0b9a1-036b-4138-94d4-82d0042fb64a",
    "outputId": "57bfd1d3-5666-44bc-eafe-e915a984d61e"
   },
   "outputs": [
    {
     "data": {
      "text/plain": [
       "7"
      ]
     },
     "execution_count": 103,
     "metadata": {},
     "output_type": "execute_result"
    }
   ],
   "source": [
    "len(str2)-1"
   ]
  },
  {
   "cell_type": "code",
   "execution_count": 104,
   "id": "47d3e009-4213-4c8c-bd3d-4ba6fc1a209b",
   "metadata": {
    "id": "47d3e009-4213-4c8c-bd3d-4ba6fc1a209b",
    "outputId": "1dafc454-7652-4f8f-ddc9-5e13107f600f"
   },
   "outputs": [
    {
     "name": "stdout",
     "output_type": "stream",
     "text": [
      "s\n",
      "l\n",
      "l\n",
      "i\n",
      "k\n",
      "s\n",
      "w\n",
      "p\n"
     ]
    }
   ],
   "source": [
    "for i in range(len(str2)-1,-1,-1):\n",
    "    print(str2[i])\n"
   ]
  },
  {
   "cell_type": "code",
   "execution_count": 105,
   "id": "37fa5f0c-fae6-4b84-acc3-47c0031e2ea3",
   "metadata": {
    "id": "37fa5f0c-fae6-4b84-acc3-47c0031e2ea3",
    "outputId": "33ecabf1-bf54-4cbb-c6c8-66f4ac6c8bc3"
   },
   "outputs": [
    {
     "data": {
      "text/plain": [
       "7"
      ]
     },
     "execution_count": 105,
     "metadata": {},
     "output_type": "execute_result"
    }
   ],
   "source": [
    "string=\"pwskills\"\n",
    "ch=len(string)-1\n",
    "ch"
   ]
  },
  {
   "cell_type": "code",
   "execution_count": 106,
   "id": "06e319d4-1640-4179-94be-3dc7b72bca6d",
   "metadata": {
    "id": "06e319d4-1640-4179-94be-3dc7b72bca6d",
    "outputId": "657857c2-de35-405f-fcd6-30fc03d96dfd"
   },
   "outputs": [
    {
     "data": {
      "text/plain": [
       "('s', 'l', 'l')"
      ]
     },
     "execution_count": 106,
     "metadata": {},
     "output_type": "execute_result"
    }
   ],
   "source": [
    "string[7],string[6],string[5]"
   ]
  },
  {
   "cell_type": "code",
   "execution_count": 107,
   "id": "23e15c57-3cc7-4a65-a88c-1cf30fe675f7",
   "metadata": {
    "id": "23e15c57-3cc7-4a65-a88c-1cf30fe675f7",
    "outputId": "51c11692-fa3c-4a21-c615-6945a82c129e"
   },
   "outputs": [
    {
     "name": "stdout",
     "output_type": "stream",
     "text": [
      "s\n",
      "l\n",
      "l\n",
      "i\n",
      "k\n",
      "s\n",
      "w\n",
      "p\n"
     ]
    }
   ],
   "source": [
    "while ch>=0:\n",
    "    print(string[ch])\n",
    "    ch=ch-1"
   ]
  },
  {
   "cell_type": "code",
   "execution_count": 108,
   "id": "c1164220-684f-4e54-a761-be49eefbb20c",
   "metadata": {
    "id": "c1164220-684f-4e54-a761-be49eefbb20c",
    "outputId": "8d54bee8-369a-4ea6-b627-9cb61db7fa2f"
   },
   "outputs": [
    {
     "name": "stdout",
     "output_type": "stream",
     "text": [
      "sllikswp"
     ]
    }
   ],
   "source": [
    "#Best solution \n",
    "for i in range(len(string)):\n",
    "     print(string[len(string) - (i+1)],end=\"\")\n"
   ]
  },
  {
   "cell_type": "code",
   "execution_count": 109,
   "id": "395e4c35-fb43-4cf0-a403-b197c9692533",
   "metadata": {
    "id": "395e4c35-fb43-4cf0-a403-b197c9692533"
   },
   "outputs": [],
   "source": [
    "Name = \"pwskills\"\n",
    "vowels = \"AaEeIiOoUu\""
   ]
  },
  {
   "cell_type": "code",
   "execution_count": 110,
   "id": "97261d1b-1bac-444d-889e-476171e76b91",
   "metadata": {
    "id": "97261d1b-1bac-444d-889e-476171e76b91",
    "outputId": "b59a1a18-1d84-41f1-d5bb-00b64015eb99"
   },
   "outputs": [
    {
     "name": "stdout",
     "output_type": "stream",
     "text": [
      "p is not a vowel\n",
      "w is not a vowel\n",
      "s is not a vowel\n",
      "k is not a vowel\n",
      "i is a vowel\n",
      "l is not a vowel\n",
      "l is not a vowel\n",
      "s is not a vowel\n"
     ]
    }
   ],
   "source": [
    "for ch in Name:\n",
    "    if ch in vowels:\n",
    "        print(\"{} is a vowel\".format(ch))\n",
    "    else:\n",
    "        print(\"{} is not a vowel\".format(ch))"
   ]
  },
  {
   "cell_type": "markdown",
   "id": "5d9c75ff-73f2-4e88-95ac-d2724aabee29",
   "metadata": {
    "id": "5d9c75ff-73f2-4e88-95ac-d2724aabee29"
   },
   "source": [
    "## List "
   ]
  },
  {
   "cell_type": "code",
   "execution_count": 111,
   "id": "34ea23f1-ee07-4262-b096-ed4e1a153ce8",
   "metadata": {
    "id": "34ea23f1-ee07-4262-b096-ed4e1a153ce8",
    "outputId": "2d7c91d6-8206-4a54-e6dd-e935d03b3400"
   },
   "outputs": [
    {
     "data": {
      "text/plain": [
       "list"
      ]
     },
     "execution_count": 111,
     "metadata": {},
     "output_type": "execute_result"
    }
   ],
   "source": [
    "type([])"
   ]
  },
  {
   "cell_type": "code",
   "execution_count": 112,
   "id": "1e1f832c-f3f0-40c0-947a-70aa9e76904b",
   "metadata": {
    "id": "1e1f832c-f3f0-40c0-947a-70aa9e76904b",
    "outputId": "3cd66815-d942-4ec7-e14b-a4eac935b6a4"
   },
   "outputs": [
    {
     "data": {
      "text/plain": [
       "['Krish', 'Naik', 'Pwskills', 32]"
      ]
     },
     "execution_count": 112,
     "metadata": {},
     "output_type": "execute_result"
    }
   ],
   "source": [
    "[\"Krish\",\"Naik\",\"Pwskills\",32]"
   ]
  },
  {
   "cell_type": "code",
   "execution_count": 113,
   "id": "9436cb77-e161-4046-9d42-a0a291408e91",
   "metadata": {
    "id": "9436cb77-e161-4046-9d42-a0a291408e91",
    "outputId": "835e5712-f7c1-4b22-d1c1-e3ad0f4e010c"
   },
   "outputs": [
    {
     "data": {
      "text/plain": [
       "[1, 2, 3, 4, 5]"
      ]
     },
     "execution_count": 113,
     "metadata": {},
     "output_type": "execute_result"
    }
   ],
   "source": [
    "list([1,2,3,4,5])"
   ]
  },
  {
   "cell_type": "code",
   "execution_count": 114,
   "id": "396162c6-d896-4e58-84ce-33ff9c750e2d",
   "metadata": {
    "id": "396162c6-d896-4e58-84ce-33ff9c750e2d",
    "outputId": "d13c45ff-2c32-49fc-9981-8c6d2bcaca0d"
   },
   "outputs": [
    {
     "data": {
      "text/plain": [
       "'pwskills'"
      ]
     },
     "execution_count": 114,
     "metadata": {},
     "output_type": "execute_result"
    }
   ],
   "source": [
    "str2"
   ]
  },
  {
   "cell_type": "code",
   "execution_count": 115,
   "id": "c80b070a-4fe5-4676-a962-d8bb57a35021",
   "metadata": {
    "id": "c80b070a-4fe5-4676-a962-d8bb57a35021",
    "outputId": "527615b3-a872-4090-c3ba-caf8e73a9575"
   },
   "outputs": [
    {
     "data": {
      "text/plain": [
       "['p', 'w', 's', 'k', 'i', 'l', 'l', 's']"
      ]
     },
     "execution_count": 115,
     "metadata": {},
     "output_type": "execute_result"
    }
   ],
   "source": [
    "list(str2)"
   ]
  },
  {
   "cell_type": "code",
   "execution_count": 116,
   "id": "782b3916-fb13-4133-93eb-50f43eae0280",
   "metadata": {
    "id": "782b3916-fb13-4133-93eb-50f43eae0280"
   },
   "outputs": [],
   "source": [
    "str1=\"PW skills Data science masters\""
   ]
  },
  {
   "cell_type": "code",
   "execution_count": 117,
   "id": "1bc366f1-ec0b-4f64-a047-ccc8554b645c",
   "metadata": {
    "id": "1bc366f1-ec0b-4f64-a047-ccc8554b645c",
    "outputId": "81473ad0-3be9-4352-f715-fca47ed81484"
   },
   "outputs": [
    {
     "data": {
      "text/plain": [
       "['PW', 'skills', 'Data', 'science', 'masters']"
      ]
     },
     "execution_count": 117,
     "metadata": {},
     "output_type": "execute_result"
    }
   ],
   "source": [
    "list(str1.split(\" \"))"
   ]
  },
  {
   "cell_type": "code",
   "execution_count": 118,
   "id": "558e7dc7-255d-4bb2-b877-b50cdc1ee9f0",
   "metadata": {
    "id": "558e7dc7-255d-4bb2-b877-b50cdc1ee9f0"
   },
   "outputs": [],
   "source": [
    "lst1=str1.split(\" \")"
   ]
  },
  {
   "cell_type": "code",
   "execution_count": 119,
   "id": "2de9a3d7-1905-4ce9-b9ad-1174093f28b9",
   "metadata": {
    "id": "2de9a3d7-1905-4ce9-b9ad-1174093f28b9",
    "outputId": "7d712971-0158-4622-8dba-b36acdffe04c"
   },
   "outputs": [
    {
     "data": {
      "text/plain": [
       "['skills', 'Data', 'science', 'masters']"
      ]
     },
     "execution_count": 119,
     "metadata": {},
     "output_type": "execute_result"
    }
   ],
   "source": [
    "lst1[1:]"
   ]
  },
  {
   "cell_type": "code",
   "execution_count": 120,
   "id": "ab21d66b-cf2e-47bf-8766-235d37d918e8",
   "metadata": {
    "id": "ab21d66b-cf2e-47bf-8766-235d37d918e8"
   },
   "outputs": [],
   "source": [
    "lst1[2]=\"Datas\""
   ]
  },
  {
   "cell_type": "code",
   "execution_count": 121,
   "id": "be2542ed-9820-4928-9d38-af351b27a56b",
   "metadata": {
    "id": "be2542ed-9820-4928-9d38-af351b27a56b",
    "outputId": "dfee9e8b-ed57-4f9d-eba2-b0527b4a8d9b"
   },
   "outputs": [
    {
     "data": {
      "text/plain": [
       "['PW', 'skills', 'Datas', 'science', 'masters']"
      ]
     },
     "execution_count": 121,
     "metadata": {},
     "output_type": "execute_result"
    }
   ],
   "source": [
    "lst1"
   ]
  },
  {
   "cell_type": "code",
   "execution_count": 122,
   "id": "67eebcc9-97c7-4ab1-9644-7e49df22cb2e",
   "metadata": {
    "id": "67eebcc9-97c7-4ab1-9644-7e49df22cb2e",
    "outputId": "1399014f-38e2-44e7-feef-f130430305a9"
   },
   "outputs": [
    {
     "data": {
      "text/plain": [
       "['masters', 'Datas', 'PW']"
      ]
     },
     "execution_count": 122,
     "metadata": {},
     "output_type": "execute_result"
    }
   ],
   "source": [
    "lst1[::-2]"
   ]
  },
  {
   "cell_type": "code",
   "execution_count": 123,
   "id": "81aa852e-fbd4-4c58-9f5b-94658abe409e",
   "metadata": {
    "id": "81aa852e-fbd4-4c58-9f5b-94658abe409e",
    "outputId": "880efa2d-9dc9-45fe-bd13-69f49525776f"
   },
   "outputs": [
    {
     "data": {
      "text/plain": [
       "['PW']"
      ]
     },
     "execution_count": 123,
     "metadata": {},
     "output_type": "execute_result"
    }
   ],
   "source": [
    "lst1[-5::-2]"
   ]
  },
  {
   "cell_type": "code",
   "execution_count": 124,
   "id": "afff9864-9cd6-4382-af08-520707e3e4ef",
   "metadata": {
    "id": "afff9864-9cd6-4382-af08-520707e3e4ef",
    "outputId": "f0b86309-47b0-43f3-8693-d413df03cd7e"
   },
   "outputs": [
    {
     "data": {
      "text/plain": [
       "['PW', 'skills', 'Datas', 'science', 'masters']"
      ]
     },
     "execution_count": 124,
     "metadata": {},
     "output_type": "execute_result"
    }
   ],
   "source": [
    "lst1"
   ]
  },
  {
   "cell_type": "code",
   "execution_count": 125,
   "id": "8c136007-e5c4-4286-ad01-1c298276ab9d",
   "metadata": {
    "id": "8c136007-e5c4-4286-ad01-1c298276ab9d",
    "outputId": "745d8fe8-6721-409d-f4f2-326c8627d6db"
   },
   "outputs": [
    {
     "data": {
      "text/plain": [
       "['PW', 'skills', 'Datas', 'science', 'masters', 'new element', 3]"
      ]
     },
     "execution_count": 125,
     "metadata": {},
     "output_type": "execute_result"
    }
   ],
   "source": [
    "## concatenation operation\n",
    "lst1 + ['new element',3]"
   ]
  },
  {
   "cell_type": "code",
   "execution_count": 126,
   "id": "f6304597-f7c8-43b7-bf77-7566353672bd",
   "metadata": {
    "id": "f6304597-f7c8-43b7-bf77-7566353672bd"
   },
   "outputs": [],
   "source": [
    "## concatenation operation\n",
    "lst2=lst1 + [['new element',3]]"
   ]
  },
  {
   "cell_type": "code",
   "execution_count": 127,
   "id": "fb0db352-da0b-47b6-a4bd-f88bdef65fce",
   "metadata": {
    "id": "fb0db352-da0b-47b6-a4bd-f88bdef65fce",
    "outputId": "840b41b2-e39e-46f2-f0d7-dab7b4a477a8"
   },
   "outputs": [
    {
     "data": {
      "text/plain": [
       "'new element'"
      ]
     },
     "execution_count": 127,
     "metadata": {},
     "output_type": "execute_result"
    }
   ],
   "source": [
    "lst2[-1][0]"
   ]
  },
  {
   "cell_type": "code",
   "execution_count": 128,
   "id": "461c4c8f-23cf-41ac-a68a-8eb06adc9129",
   "metadata": {
    "id": "461c4c8f-23cf-41ac-a68a-8eb06adc9129",
    "outputId": "f14d5604-92d7-4428-d000-fe564093ba8f"
   },
   "outputs": [
    {
     "data": {
      "text/plain": [
       "['PW',\n",
       " 'skills',\n",
       " 'Datas',\n",
       " 'science',\n",
       " 'masters',\n",
       " 'PW',\n",
       " 'skills',\n",
       " 'Datas',\n",
       " 'science',\n",
       " 'masters']"
      ]
     },
     "execution_count": 128,
     "metadata": {},
     "output_type": "execute_result"
    }
   ],
   "source": [
    "lst1 * 2"
   ]
  },
  {
   "cell_type": "code",
   "execution_count": 129,
   "id": "c68366eb-7bdf-4d47-8f61-55f4a7ec0e2d",
   "metadata": {
    "id": "c68366eb-7bdf-4d47-8f61-55f4a7ec0e2d",
    "outputId": "bfe38d1c-3f14-4001-95c6-66c0060426fb"
   },
   "outputs": [
    {
     "data": {
      "text/plain": [
       "['PW', 'skills', 'Datas', 'science', 'masters']"
      ]
     },
     "execution_count": 129,
     "metadata": {},
     "output_type": "execute_result"
    }
   ],
   "source": [
    "lst1"
   ]
  },
  {
   "cell_type": "code",
   "execution_count": 130,
   "id": "105737df-9b9d-42f3-8ae5-3a31243169ee",
   "metadata": {
    "id": "105737df-9b9d-42f3-8ae5-3a31243169ee",
    "outputId": "58fe6cee-b522-4778-bc0a-b8dd2a521e35"
   },
   "outputs": [
    {
     "name": "stdout",
     "output_type": "stream",
     "text": [
      "Present\n"
     ]
    }
   ],
   "source": [
    "if \"science\" in lst1:\n",
    "    print(\"Present\")"
   ]
  },
  {
   "cell_type": "code",
   "execution_count": 131,
   "id": "7ba31690-b43f-42c8-ac7d-48298af174b6",
   "metadata": {
    "id": "7ba31690-b43f-42c8-ac7d-48298af174b6",
    "outputId": "aec98a15-4177-4502-ad6d-b033519dc51f"
   },
   "outputs": [
    {
     "name": "stdout",
     "output_type": "stream",
     "text": [
      "science\n"
     ]
    }
   ],
   "source": [
    "for elements in lst1:\n",
    "    if elements==\"science\":\n",
    "        print(elements)\n",
    "        break"
   ]
  },
  {
   "cell_type": "code",
   "execution_count": 132,
   "id": "835b2e11-71d7-4dd2-9e38-25b0267d6c41",
   "metadata": {
    "id": "835b2e11-71d7-4dd2-9e38-25b0267d6c41",
    "outputId": "b072466f-c26f-43b4-8fda-695b5decca98"
   },
   "outputs": [
    {
     "data": {
      "text/plain": [
       "True"
      ]
     },
     "execution_count": 132,
     "metadata": {},
     "output_type": "execute_result"
    }
   ],
   "source": [
    "## check elements inside a list\n",
    "lst=[1,2,3,4]\n",
    "4 in lst"
   ]
  },
  {
   "cell_type": "code",
   "execution_count": 133,
   "id": "feb232dc-57db-4ef6-9c13-b9c72ac1327e",
   "metadata": {
    "id": "feb232dc-57db-4ef6-9c13-b9c72ac1327e",
    "outputId": "046a1687-ab36-4fce-9543-ab5a5c106d76"
   },
   "outputs": [
    {
     "data": {
      "text/plain": [
       "True"
      ]
     },
     "execution_count": 133,
     "metadata": {},
     "output_type": "execute_result"
    }
   ],
   "source": [
    "2.0 in lst"
   ]
  },
  {
   "cell_type": "code",
   "execution_count": 134,
   "id": "cda9674b-2ad6-4a8f-99d4-5c650f9e1bbd",
   "metadata": {
    "id": "cda9674b-2ad6-4a8f-99d4-5c650f9e1bbd"
   },
   "outputs": [],
   "source": [
    "lst1=[\"Zebra\",\"Monkey\",\"Donkey\",\"Lion\"]\n",
    "lst2=[5,6,2,9,5,8,6]"
   ]
  },
  {
   "cell_type": "code",
   "execution_count": 135,
   "id": "4df177a1-9364-4040-9bf5-3a611220d8d6",
   "metadata": {
    "id": "4df177a1-9364-4040-9bf5-3a611220d8d6",
    "outputId": "071ae395-9f6e-4939-96fe-7180175b2de8"
   },
   "outputs": [
    {
     "name": "stdout",
     "output_type": "stream",
     "text": [
      "Zebra\n"
     ]
    }
   ],
   "source": [
    "print(max(lst1))"
   ]
  },
  {
   "cell_type": "code",
   "execution_count": 136,
   "id": "e3b707c6-4e1f-49a2-b599-3afb54ff5d85",
   "metadata": {
    "id": "e3b707c6-4e1f-49a2-b599-3afb54ff5d85",
    "outputId": "d943e790-7864-4132-d7cb-b68ec260fe10"
   },
   "outputs": [
    {
     "data": {
      "text/plain": [
       "9"
      ]
     },
     "execution_count": 136,
     "metadata": {},
     "output_type": "execute_result"
    }
   ],
   "source": [
    "max(lst2)"
   ]
  },
  {
   "cell_type": "code",
   "execution_count": 137,
   "id": "4b3d7bf3-2a2d-4f71-a060-8532e18ab42b",
   "metadata": {
    "id": "4b3d7bf3-2a2d-4f71-a060-8532e18ab42b",
    "outputId": "d054d557-83a3-48f4-f144-7641ae664ac4"
   },
   "outputs": [
    {
     "data": {
      "text/plain": [
       "'Donkey'"
      ]
     },
     "execution_count": 137,
     "metadata": {},
     "output_type": "execute_result"
    }
   ],
   "source": [
    "min(lst1)"
   ]
  },
  {
   "cell_type": "code",
   "execution_count": 138,
   "id": "57ba0f95-8cef-461d-8ab7-95ff0ff17525",
   "metadata": {
    "id": "57ba0f95-8cef-461d-8ab7-95ff0ff17525",
    "outputId": "0ceb94eb-2bd5-40d7-edc5-24ae60ebbc2c"
   },
   "outputs": [
    {
     "data": {
      "text/plain": [
       "2"
      ]
     },
     "execution_count": 138,
     "metadata": {},
     "output_type": "execute_result"
    }
   ],
   "source": [
    "min(lst2)"
   ]
  },
  {
   "cell_type": "code",
   "execution_count": 139,
   "id": "21a8cd16-23b1-43cb-9f67-3952d16de52d",
   "metadata": {
    "id": "21a8cd16-23b1-43cb-9f67-3952d16de52d",
    "outputId": "978d8bd1-54bf-46a3-b328-53c4d4867640"
   },
   "outputs": [
    {
     "data": {
      "text/plain": [
       "True"
      ]
     },
     "execution_count": 139,
     "metadata": {},
     "output_type": "execute_result"
    }
   ],
   "source": [
    "1.9999999999999999 in [2, 4, 5]\n"
   ]
  },
  {
   "cell_type": "code",
   "execution_count": 140,
   "id": "13e83260-7145-4dd0-8688-bb66efb198b5",
   "metadata": {
    "id": "13e83260-7145-4dd0-8688-bb66efb198b5",
    "outputId": "d7412a52-1488-4727-8e9d-0d399ad11f07"
   },
   "outputs": [
    {
     "data": {
      "text/plain": [
       "True"
      ]
     },
     "execution_count": 140,
     "metadata": {},
     "output_type": "execute_result"
    }
   ],
   "source": [
    "5==5.0"
   ]
  },
  {
   "cell_type": "code",
   "execution_count": 141,
   "id": "bbc8d5c0-fa87-4949-9412-8fe9251d3453",
   "metadata": {
    "id": "bbc8d5c0-fa87-4949-9412-8fe9251d3453"
   },
   "outputs": [
    {
     "data": {
      "text/plain": [
       "True"
      ]
     },
     "execution_count": 141,
     "metadata": {},
     "output_type": "execute_result"
    }
   ],
   "source": [
    "lst3=[5,6,2,9,5,8,6]\n",
    "type(lst3[0])  ## output is integer\n",
    "type(5.0)  ### output is float\n",
    "5.0 in lst3 ## output is TRUE\n"
   ]
  },
  {
   "cell_type": "code",
   "execution_count": 142,
   "id": "a974f5de-61d0-4d63-acd5-4be46eba2e13",
   "metadata": {
    "id": "a974f5de-61d0-4d63-acd5-4be46eba2e13"
   },
   "outputs": [],
   "source": [
    "## Append"
   ]
  },
  {
   "cell_type": "code",
   "execution_count": 143,
   "id": "342379a6-dfa1-4737-ab25-64877fe131d9",
   "metadata": {
    "id": "342379a6-dfa1-4737-ab25-64877fe131d9"
   },
   "outputs": [],
   "source": [
    "lst=[1,2,3,4,5,6]"
   ]
  },
  {
   "cell_type": "code",
   "execution_count": 144,
   "id": "7775d7c7-3b2c-4baf-ae12-4bec259cf987",
   "metadata": {
    "id": "7775d7c7-3b2c-4baf-ae12-4bec259cf987",
    "outputId": "d6f81c20-630d-4a1a-c2a2-c5ddc3dc7a71"
   },
   "outputs": [
    {
     "data": {
      "text/plain": [
       "[1, 2, 3, 4, 5, 6]"
      ]
     },
     "execution_count": 144,
     "metadata": {},
     "output_type": "execute_result"
    }
   ],
   "source": [
    "lst"
   ]
  },
  {
   "cell_type": "code",
   "execution_count": 145,
   "id": "e43924c6-1a51-46b0-9130-2f8830e45e07",
   "metadata": {
    "id": "e43924c6-1a51-46b0-9130-2f8830e45e07"
   },
   "outputs": [],
   "source": [
    "lst.append(\"Pwskills\")"
   ]
  },
  {
   "cell_type": "code",
   "execution_count": 146,
   "id": "cbe06e31-9079-4c79-a5aa-34d4c248a5d1",
   "metadata": {
    "id": "cbe06e31-9079-4c79-a5aa-34d4c248a5d1",
    "outputId": "579f085f-12ca-4764-be2c-40778fb822db"
   },
   "outputs": [
    {
     "data": {
      "text/plain": [
       "[1, 2, 3, 4, 5, 6, 'Pwskills']"
      ]
     },
     "execution_count": 146,
     "metadata": {},
     "output_type": "execute_result"
    }
   ],
   "source": [
    "lst"
   ]
  },
  {
   "cell_type": "code",
   "execution_count": 147,
   "id": "59ee96ba-aaf3-498d-a0ab-f52b2ff3daea",
   "metadata": {
    "id": "59ee96ba-aaf3-498d-a0ab-f52b2ff3daea"
   },
   "outputs": [],
   "source": [
    "lst.append(['Data','Science','Masters'])"
   ]
  },
  {
   "cell_type": "code",
   "execution_count": 148,
   "id": "ac805a18-8c1b-4609-8cab-4ed22027e552",
   "metadata": {
    "id": "ac805a18-8c1b-4609-8cab-4ed22027e552",
    "outputId": "171f8f89-d42f-4e05-c964-986f5a9630cc"
   },
   "outputs": [
    {
     "data": {
      "text/plain": [
       "[1, 2, 3, 4, 5, 6, 'Pwskills', ['Data', 'Science', 'Masters']]"
      ]
     },
     "execution_count": 148,
     "metadata": {},
     "output_type": "execute_result"
    }
   ],
   "source": [
    "lst"
   ]
  },
  {
   "cell_type": "code",
   "execution_count": 149,
   "id": "d79fff96-a3fd-4833-b01c-b82687566fc5",
   "metadata": {
    "id": "d79fff96-a3fd-4833-b01c-b82687566fc5"
   },
   "outputs": [],
   "source": [
    "lst1=[\"Zebra\",\"Monkey\",\"Donkey\",\"Lion\"]"
   ]
  },
  {
   "cell_type": "code",
   "execution_count": 150,
   "id": "f32841d3-8268-421a-8e6a-d6fe2f89e597",
   "metadata": {
    "id": "f32841d3-8268-421a-8e6a-d6fe2f89e597",
    "outputId": "eec7e58b-5ba5-417c-b559-f74ec67a2fe6"
   },
   "outputs": [
    {
     "data": {
      "text/plain": [
       "'Lion'"
      ]
     },
     "execution_count": 150,
     "metadata": {},
     "output_type": "execute_result"
    }
   ],
   "source": [
    "lst1.pop()"
   ]
  },
  {
   "cell_type": "code",
   "execution_count": 151,
   "id": "639b1fda-3948-4bda-9b0c-f8dcd1b65f93",
   "metadata": {
    "id": "639b1fda-3948-4bda-9b0c-f8dcd1b65f93",
    "outputId": "53c91c36-425c-4b9f-cca8-6a4a0f59fdde"
   },
   "outputs": [
    {
     "data": {
      "text/plain": [
       "'Donkey'"
      ]
     },
     "execution_count": 151,
     "metadata": {},
     "output_type": "execute_result"
    }
   ],
   "source": [
    "lst1.pop(2)"
   ]
  },
  {
   "cell_type": "code",
   "execution_count": 152,
   "id": "5f448ae8-f06a-4901-87d4-5a589606c69d",
   "metadata": {
    "id": "5f448ae8-f06a-4901-87d4-5a589606c69d",
    "outputId": "432f786a-8c74-4394-d8ac-a89d304176d4"
   },
   "outputs": [
    {
     "data": {
      "text/plain": [
       "['Zebra', 'Monkey']"
      ]
     },
     "execution_count": 152,
     "metadata": {},
     "output_type": "execute_result"
    }
   ],
   "source": [
    "lst1"
   ]
  },
  {
   "cell_type": "code",
   "execution_count": 153,
   "id": "d22153fd-9e54-4c4d-aa63-2efa8961322b",
   "metadata": {
    "id": "d22153fd-9e54-4c4d-aa63-2efa8961322b"
   },
   "outputs": [],
   "source": [
    "lst1=[\"Zebra\",\"Monkey\",\"Donkey\",\"Lion\"]"
   ]
  },
  {
   "cell_type": "code",
   "execution_count": 154,
   "id": "320291bf-adbf-4687-a147-94c81ac3589f",
   "metadata": {
    "id": "320291bf-adbf-4687-a147-94c81ac3589f",
    "outputId": "807c889a-d30c-4022-be43-24889569e1bc"
   },
   "outputs": [
    {
     "data": {
      "text/plain": [
       "'Zebra'"
      ]
     },
     "execution_count": 154,
     "metadata": {},
     "output_type": "execute_result"
    }
   ],
   "source": [
    "removed_element=lst1.pop(0)\n",
    "removed_element\n"
   ]
  },
  {
   "cell_type": "code",
   "execution_count": 156,
   "id": "72260adc-9779-414a-8595-8a15e2520d0f",
   "metadata": {
    "id": "72260adc-9779-414a-8595-8a15e2520d0f",
    "outputId": "8bc053ce-b4ff-43aa-a6fb-05c9dc87e48f"
   },
   "outputs": [
    {
     "data": {
      "text/plain": [
       "'Donkey'"
      ]
     },
     "execution_count": 156,
     "metadata": {},
     "output_type": "execute_result"
    }
   ],
   "source": [
    "lst1[1]"
   ]
  },
  {
   "cell_type": "code",
   "execution_count": 157,
   "id": "923b4e4d-9c33-4622-9407-e86ef507f7a3",
   "metadata": {
    "id": "923b4e4d-9c33-4622-9407-e86ef507f7a3"
   },
   "outputs": [],
   "source": [
    "## Sorting and Reverse method in list"
   ]
  },
  {
   "cell_type": "code",
   "execution_count": 158,
   "id": "8dea02ce-e317-4415-a406-80db2133f00e",
   "metadata": {
    "id": "8dea02ce-e317-4415-a406-80db2133f00e",
    "outputId": "8df33b62-478a-4485-bf47-387050d08f55"
   },
   "outputs": [
    {
     "data": {
      "text/plain": [
       "['q', 'e', 'f', 's', 't', 'u']"
      ]
     },
     "execution_count": 158,
     "metadata": {},
     "output_type": "execute_result"
    }
   ],
   "source": [
    "new_list=['q','e','f','s','t','u']\n",
    "new_list"
   ]
  },
  {
   "cell_type": "code",
   "execution_count": 159,
   "id": "727be269-ee57-4409-8c20-c1abe48d209d",
   "metadata": {
    "id": "727be269-ee57-4409-8c20-c1abe48d209d",
    "outputId": "e55639f9-5ec8-47f0-e99e-251bfbb2b002"
   },
   "outputs": [
    {
     "data": {
      "text/plain": [
       "['u', 't', 's', 'f', 'e', 'q']"
      ]
     },
     "execution_count": 159,
     "metadata": {},
     "output_type": "execute_result"
    }
   ],
   "source": [
    "new_list[::-1]"
   ]
  },
  {
   "cell_type": "code",
   "execution_count": 160,
   "id": "a56bee5c-a9e4-4655-8755-66325e069116",
   "metadata": {
    "id": "a56bee5c-a9e4-4655-8755-66325e069116"
   },
   "outputs": [],
   "source": [
    "## inplace\n",
    "new_list.reverse()"
   ]
  },
  {
   "cell_type": "code",
   "execution_count": 161,
   "id": "1297c213-d7fe-4688-ab3a-8f071821a26b",
   "metadata": {
    "id": "1297c213-d7fe-4688-ab3a-8f071821a26b",
    "outputId": "721fce3d-481c-4bf5-ecd7-d4c987c540d7"
   },
   "outputs": [
    {
     "data": {
      "text/plain": [
       "['u', 't', 's', 'f', 'e', 'q']"
      ]
     },
     "execution_count": 161,
     "metadata": {},
     "output_type": "execute_result"
    }
   ],
   "source": [
    "new_list"
   ]
  },
  {
   "cell_type": "code",
   "execution_count": 162,
   "id": "a2281e92-24d4-4591-bd03-2e4c5aac21c7",
   "metadata": {
    "id": "a2281e92-24d4-4591-bd03-2e4c5aac21c7"
   },
   "outputs": [],
   "source": [
    "new_list.sort()"
   ]
  },
  {
   "cell_type": "code",
   "execution_count": 163,
   "id": "7a71c1ab-cf30-4fce-b6a8-c3e188aa711f",
   "metadata": {
    "id": "7a71c1ab-cf30-4fce-b6a8-c3e188aa711f",
    "outputId": "770ec105-2d40-4a92-9644-984707997d64"
   },
   "outputs": [
    {
     "data": {
      "text/plain": [
       "['e', 'f', 'q', 's', 't', 'u']"
      ]
     },
     "execution_count": 163,
     "metadata": {},
     "output_type": "execute_result"
    }
   ],
   "source": [
    "new_list"
   ]
  },
  {
   "cell_type": "code",
   "execution_count": 164,
   "id": "f0c1ed7d-c39d-4734-8bdc-ce4780988df6",
   "metadata": {
    "id": "f0c1ed7d-c39d-4734-8bdc-ce4780988df6"
   },
   "outputs": [],
   "source": [
    "new_list.sort(reverse=True)"
   ]
  },
  {
   "cell_type": "code",
   "execution_count": 165,
   "id": "d014df4b-2161-43c8-ae50-674dd3bb102a",
   "metadata": {
    "id": "d014df4b-2161-43c8-ae50-674dd3bb102a",
    "outputId": "cda36ee8-5556-4f90-9cb9-c1766fa3a796"
   },
   "outputs": [
    {
     "data": {
      "text/plain": [
       "['u', 't', 's', 'q', 'f', 'e']"
      ]
     },
     "execution_count": 165,
     "metadata": {},
     "output_type": "execute_result"
    }
   ],
   "source": [
    "new_list"
   ]
  },
  {
   "cell_type": "code",
   "execution_count": 166,
   "id": "98b794c8-cb9b-4add-bbde-10a20c427aad",
   "metadata": {
    "id": "98b794c8-cb9b-4add-bbde-10a20c427aad"
   },
   "outputs": [],
   "source": [
    "lst=[1,2,3,4,5,6]\n",
    "lst.append(10)"
   ]
  },
  {
   "cell_type": "code",
   "execution_count": 167,
   "id": "ad4c6dbe-eec0-48b0-b416-60e29da852ba",
   "metadata": {
    "id": "ad4c6dbe-eec0-48b0-b416-60e29da852ba"
   },
   "outputs": [],
   "source": [
    "lst.append(['PW','Skills'])\n"
   ]
  },
  {
   "cell_type": "code",
   "execution_count": 168,
   "id": "50aa1068-d051-46ee-809b-eb21f3b4e599",
   "metadata": {
    "id": "50aa1068-d051-46ee-809b-eb21f3b4e599"
   },
   "outputs": [],
   "source": [
    "lst.extend(['PW','Skills'])"
   ]
  },
  {
   "cell_type": "code",
   "execution_count": 169,
   "id": "e9c387d1-6469-4ccd-b3dd-b0a6f3f8605d",
   "metadata": {
    "id": "e9c387d1-6469-4ccd-b3dd-b0a6f3f8605d",
    "outputId": "eaef25a8-aeda-4490-ffd4-7ee849f9900f"
   },
   "outputs": [
    {
     "data": {
      "text/plain": [
       "[1, 2, 3, 4, 5, 6, 10, ['PW', 'Skills'], 'PW', 'Skills']"
      ]
     },
     "execution_count": 169,
     "metadata": {},
     "output_type": "execute_result"
    }
   ],
   "source": [
    "lst"
   ]
  },
  {
   "cell_type": "markdown",
   "id": "130cbd71-5c1d-4622-a4c5-2d21a252b088",
   "metadata": {
    "id": "130cbd71-5c1d-4622-a4c5-2d21a252b088"
   },
   "source": [
    "## Nested List"
   ]
  },
  {
   "cell_type": "code",
   "execution_count": 170,
   "id": "c8c4097a-9e1d-4fc9-83c7-61f2a94372f3",
   "metadata": {
    "id": "c8c4097a-9e1d-4fc9-83c7-61f2a94372f3"
   },
   "outputs": [],
   "source": [
    "# Let's make three lists\n",
    "lst_1=[1,2,3]\n",
    "lst_2=[4,5,6]\n",
    "lst_3=[7,8,9]\n",
    "\n",
    "# Make a list of lists to form a matrix\n",
    "matrix = [lst_1,lst_2,lst_3]"
   ]
  },
  {
   "cell_type": "code",
   "execution_count": 171,
   "id": "0b3dc20a-83a3-4e3f-8fbb-ded0afa07703",
   "metadata": {
    "id": "0b3dc20a-83a3-4e3f-8fbb-ded0afa07703",
    "outputId": "30f64ccc-a465-4d48-f999-6071f728e81c"
   },
   "outputs": [
    {
     "data": {
      "text/plain": [
       "[[1, 2, 3], [4, 5, 6], [7, 8, 9]]"
      ]
     },
     "execution_count": 171,
     "metadata": {},
     "output_type": "execute_result"
    }
   ],
   "source": [
    "matrix"
   ]
  },
  {
   "cell_type": "code",
   "execution_count": 172,
   "id": "98ebfcc4-83f8-436c-a631-2a7d0a73011f",
   "metadata": {
    "id": "98ebfcc4-83f8-436c-a631-2a7d0a73011f",
    "outputId": "2f4d9386-a4b2-4bea-b4e4-5354b5f2eb6f"
   },
   "outputs": [
    {
     "data": {
      "text/plain": [
       "6"
      ]
     },
     "execution_count": 172,
     "metadata": {},
     "output_type": "execute_result"
    }
   ],
   "source": [
    "matrix[1][2]"
   ]
  },
  {
   "cell_type": "code",
   "execution_count": 173,
   "id": "28e411da-e6c5-4ece-8003-efbcecade45d",
   "metadata": {
    "id": "28e411da-e6c5-4ece-8003-efbcecade45d",
    "outputId": "a0c980ca-9b5c-4c31-d5b4-2073968d3ed3"
   },
   "outputs": [
    {
     "data": {
      "text/plain": [
       "[8, 9]"
      ]
     },
     "execution_count": 173,
     "metadata": {},
     "output_type": "execute_result"
    }
   ],
   "source": [
    "matrix[2][1:]"
   ]
  },
  {
   "cell_type": "code",
   "execution_count": 174,
   "id": "e6564aef-fa0a-4881-ba93-e09825f0ae96",
   "metadata": {
    "id": "e6564aef-fa0a-4881-ba93-e09825f0ae96",
    "outputId": "21c37892-2eb1-4d25-fc8c-cebf5df7331f"
   },
   "outputs": [
    {
     "data": {
      "text/plain": [
       "[0, 1, 2, 3, 4, 5, 6, 7, 8, 9, 10, 11, 12, 13, 14, 15, 16, 17, 18, 19]"
      ]
     },
     "execution_count": 174,
     "metadata": {},
     "output_type": "execute_result"
    }
   ],
   "source": [
    "## List Comprehension\n",
    "[i for i in range(20)]"
   ]
  },
  {
   "cell_type": "code",
   "execution_count": 175,
   "id": "3447b287-75a7-4aa8-bcd3-5d82339e9c53",
   "metadata": {
    "id": "3447b287-75a7-4aa8-bcd3-5d82339e9c53",
    "outputId": "b7e946a0-976f-4b2e-906d-bbdf337f643d"
   },
   "outputs": [
    {
     "data": {
      "text/plain": [
       "[0,\n",
       " 'ODD',\n",
       " 2,\n",
       " 'ODD',\n",
       " 4,\n",
       " 'ODD',\n",
       " 6,\n",
       " 'ODD',\n",
       " 8,\n",
       " 'ODD',\n",
       " 10,\n",
       " 'ODD',\n",
       " 12,\n",
       " 'ODD',\n",
       " 14,\n",
       " 'ODD',\n",
       " 16,\n",
       " 'ODD',\n",
       " 18,\n",
       " 'ODD']"
      ]
     },
     "execution_count": 175,
     "metadata": {},
     "output_type": "execute_result"
    }
   ],
   "source": [
    "## List Comprehension\n",
    "## Even numbers\n",
    "[i if i%2==0 else \"ODD\" for i in range(0,20)]"
   ]
  },
  {
   "cell_type": "code",
   "execution_count": 176,
   "id": "4282592a-9154-423a-80c5-5b3078816eca",
   "metadata": {
    "id": "4282592a-9154-423a-80c5-5b3078816eca"
   },
   "outputs": [],
   "source": [
    "## Assignment \n",
    "## Sum of even numbers and odd numbers\n",
    "lst=[1,2,3,4,5,6,7,8]\n"
   ]
  },
  {
   "cell_type": "code",
   "execution_count": 177,
   "id": "e86ab3bf-46c0-4c97-b49f-4e2e2cade2cd",
   "metadata": {
    "id": "e86ab3bf-46c0-4c97-b49f-4e2e2cade2cd",
    "outputId": "06e1e6a5-1962-414f-c0be-67e5509935b0"
   },
   "outputs": [
    {
     "name": "stdout",
     "output_type": "stream",
     "text": [
      "20\n",
      "16\n"
     ]
    }
   ],
   "source": [
    "lst = [1,2,3,4,5,6,7,8]\n",
    "\n",
    "even_sum = 0\n",
    "odd_sum = 0\n",
    "for i in lst:\n",
    "    if i % 2 ==0:\n",
    "        even_sum += i\n",
    "    else:\n",
    "        odd_sum += i        \n",
    "        \n",
    "print(even_sum)\n",
    "print(odd_sum)\n"
   ]
  },
  {
   "cell_type": "code",
   "execution_count": 178,
   "id": "88e4c644-8e40-42d6-8140-870806947749",
   "metadata": {
    "id": "88e4c644-8e40-42d6-8140-870806947749"
   },
   "outputs": [],
   "source": [
    "even_sum=sum([num for num in lst if num%2==0])"
   ]
  },
  {
   "cell_type": "code",
   "execution_count": 179,
   "id": "b69a4753-3fad-4085-b1c3-fae94c4849bb",
   "metadata": {
    "id": "b69a4753-3fad-4085-b1c3-fae94c4849bb",
    "outputId": "4146f349-86a5-408e-d432-bc758be87ad4"
   },
   "outputs": [
    {
     "data": {
      "text/plain": [
       "20"
      ]
     },
     "execution_count": 179,
     "metadata": {},
     "output_type": "execute_result"
    }
   ],
   "source": [
    "even_sum"
   ]
  },
  {
   "cell_type": "code",
   "execution_count": 180,
   "id": "656a51c4-cf55-4650-bdd8-6f6418a9c445",
   "metadata": {
    "id": "656a51c4-cf55-4650-bdd8-6f6418a9c445",
    "outputId": "7d4e990a-d107-4bff-a321-4a978aaadfec"
   },
   "outputs": [
    {
     "data": {
      "text/plain": [
       "16"
      ]
     },
     "execution_count": 180,
     "metadata": {},
     "output_type": "execute_result"
    }
   ],
   "source": [
    "odd_sum=sum([num for num in lst if num%2!=0])\n",
    "odd_sum"
   ]
  },
  {
   "cell_type": "code",
   "execution_count": 181,
   "id": "9ca6fae4-d0b6-434d-a53b-7b1aa899d263",
   "metadata": {
    "id": "9ca6fae4-d0b6-434d-a53b-7b1aa899d263",
    "outputId": "cc82f5b7-3b0a-4d59-8536-7d0536f76d9e"
   },
   "outputs": [
    {
     "data": {
      "text/plain": [
       "[1, 4, 9, 16, 25, 36, 49, 64, 81, 100]"
      ]
     },
     "execution_count": 181,
     "metadata": {},
     "output_type": "execute_result"
    }
   ],
   "source": [
    "lst=[1,2,3,4,5,6,7,8,9,10]\n",
    "[num**2 for num in lst]"
   ]
  },
  {
   "cell_type": "code",
   "execution_count": 182,
   "id": "f02850df-57bd-4be5-b65f-e60452c4f35d",
   "metadata": {
    "id": "f02850df-57bd-4be5-b65f-e60452c4f35d",
    "outputId": "d6dfea87-09e4-42a7-dacd-e857fc008cc1"
   },
   "outputs": [
    {
     "data": {
      "text/plain": [
       "[1, 2, 3, 4]"
      ]
     },
     "execution_count": 182,
     "metadata": {},
     "output_type": "execute_result"
    }
   ],
   "source": [
    "# Example 2: Create a list of only the positive numbers from a given list\n",
    "numbers = [-2, -1, 0, 1, 2, 3, 4]\n",
    "[num for num in numbers if num > 0]"
   ]
  },
  {
   "cell_type": "code",
   "execution_count": 183,
   "id": "bc3e40e6-58dd-4f3d-b35c-139f963848a5",
   "metadata": {
    "id": "bc3e40e6-58dd-4f3d-b35c-139f963848a5",
    "outputId": "e10e2307-b9b9-4d8b-bb31-bd3d307962ad"
   },
   "outputs": [
    {
     "data": {
      "text/plain": [
       "['a', 'b', 'c', 'd']"
      ]
     },
     "execution_count": 183,
     "metadata": {},
     "output_type": "execute_result"
    }
   ],
   "source": [
    "# Example 3: Create a list of only the first letters of words in a list\n",
    "words = ['apple', 'banana', 'cherry', 'date']\n",
    "[word[0] for word in words]"
   ]
  },
  {
   "cell_type": "code",
   "execution_count": 186,
   "id": "3f16f1b6-3338-471a-9b3c-0447ae9f6d17",
   "metadata": {
    "id": "3f16f1b6-3338-471a-9b3c-0447ae9f6d17"
   },
   "outputs": [
    {
     "data": {
      "text/plain": [
       "32.0"
      ]
     },
     "execution_count": 186,
     "metadata": {},
     "output_type": "execute_result"
    }
   ],
   "source": [
    "temp=0\n",
    "(9/5)*temp+32"
   ]
  },
  {
   "cell_type": "code",
   "execution_count": 187,
   "id": "b930955e-f776-4b50-b1e3-a53181ab048e",
   "metadata": {
    "id": "b930955e-f776-4b50-b1e3-a53181ab048e"
   },
   "outputs": [],
   "source": [
    "# Example 4: Convert a list of temperatures from Celsius to Fahrenheit uing list comprehesnion\n",
    "celsius_temperatures = [0, 10, 20, 30, 40, 50]"
   ]
  },
  {
   "cell_type": "code",
   "execution_count": 188,
   "id": "a31cca96-8f4c-49cc-86cf-1f103729d2f9",
   "metadata": {
    "id": "a31cca96-8f4c-49cc-86cf-1f103729d2f9",
    "outputId": "8a727165-0a4b-4c8c-cf53-eac727a039db"
   },
   "outputs": [
    {
     "data": {
      "text/plain": [
       "[32.0, 50.0, 68.0, 86.0, 104.0, 122.0]"
      ]
     },
     "execution_count": 188,
     "metadata": {},
     "output_type": "execute_result"
    }
   ],
   "source": [
    "[(9/5)*temp + 32 for temp in celsius_temperatures]"
   ]
  },
  {
   "cell_type": "code",
   "execution_count": 189,
   "id": "28fd6b8b-0680-4586-a4bc-9e2c706413c5",
   "metadata": {
    "id": "28fd6b8b-0680-4586-a4bc-9e2c706413c5"
   },
   "outputs": [],
   "source": [
    "# Example 5: Flatten a list of lists into a single list\n",
    "lists = [[1, 2, 3], [4, 5, 6], [7, 8, 9]]"
   ]
  },
  {
   "cell_type": "code",
   "execution_count": 190,
   "id": "00f26d35-9cc5-4165-b6e4-5e27e795e951",
   "metadata": {
    "id": "00f26d35-9cc5-4165-b6e4-5e27e795e951",
    "outputId": "353700b5-7579-4aff-d965-68eea56a2d19"
   },
   "outputs": [
    {
     "data": {
      "text/plain": [
       "[1, 2, 3, 4, 5, 6, 7, 8, 9]"
      ]
     },
     "execution_count": 190,
     "metadata": {},
     "output_type": "execute_result"
    }
   ],
   "source": [
    "[j for i in lists for j in i]"
   ]
  },
  {
   "cell_type": "code",
   "execution_count": 191,
   "id": "6cf53d9d-ba8e-44b3-8e9b-4d994d40d6e9",
   "metadata": {
    "id": "6cf53d9d-ba8e-44b3-8e9b-4d994d40d6e9"
   },
   "outputs": [],
   "source": [
    "## Assignment \n",
    "## Using both code and list comprehesnion\n",
    "# Example 2: Create a list of only the prime numbers from a given list\n",
    "numbers = [1, 2, 3, 4, 5, 6, 7, 8, 9, 10]"
   ]
  },
  {
   "cell_type": "code",
   "execution_count": 192,
   "id": "f675dd98-6908-4f39-91e8-6b4fd9f8c6cb",
   "metadata": {
    "id": "f675dd98-6908-4f39-91e8-6b4fd9f8c6cb"
   },
   "outputs": [],
   "source": [
    "# Example 3: Create a list of all the possible combinations of 2 elements from a list\n",
    "numbers = [1, 2, 3, 4, 5]"
   ]
  },
  {
   "cell_type": "code",
   "execution_count": 193,
   "id": "a0ac2faa-453b-4fda-95eb-f88b0707e089",
   "metadata": {
    "id": "a0ac2faa-453b-4fda-95eb-f88b0707e089",
    "outputId": "2ce13072-ecf1-466d-ba73-e312b3e63b8d"
   },
   "outputs": [
    {
     "data": {
      "text/plain": [
       "((1, 2), (1, 3))"
      ]
     },
     "execution_count": 193,
     "metadata": {},
     "output_type": "execute_result"
    }
   ],
   "source": [
    "(1,2),(1,3)"
   ]
  },
  {
   "cell_type": "code",
   "execution_count": 194,
   "id": "9a7a9a8d-17bb-491b-a8e3-9e5a79b17634",
   "metadata": {
    "id": "9a7a9a8d-17bb-491b-a8e3-9e5a79b17634",
    "outputId": "300e2fa9-0308-4179-b0e3-6766888fde1e"
   },
   "outputs": [
    {
     "data": {
      "text/plain": [
       "[1, 2, 3, 4, 5, 6, 7, 8, 9, 10]"
      ]
     },
     "execution_count": 194,
     "metadata": {},
     "output_type": "execute_result"
    }
   ],
   "source": [
    "lst"
   ]
  },
  {
   "cell_type": "code",
   "execution_count": 195,
   "id": "15cff215-718e-423e-9129-5dfc0c4ad40b",
   "metadata": {
    "id": "15cff215-718e-423e-9129-5dfc0c4ad40b"
   },
   "outputs": [
    {
     "ename": "TypeError",
     "evalue": "insert expected 2 arguments, got 0",
     "output_type": "error",
     "traceback": [
      "\u001b[0;31m---------------------------------------------------------------------------\u001b[0m",
      "\u001b[0;31mTypeError\u001b[0m                                 Traceback (most recent call last)",
      "Cell \u001b[0;32mIn[195], line 1\u001b[0m\n\u001b[0;32m----> 1\u001b[0m \u001b[43mlst\u001b[49m\u001b[38;5;241;43m.\u001b[39;49m\u001b[43minsert\u001b[49m\u001b[43m(\u001b[49m\u001b[43m)\u001b[49m\n",
      "\u001b[0;31mTypeError\u001b[0m: insert expected 2 arguments, got 0"
     ]
    }
   ],
   "source": [
    "lst.insert()"
   ]
  },
  {
   "cell_type": "code",
   "execution_count": null,
   "id": "a2e4d793-767b-4c68-b366-13d4fe7660a3",
   "metadata": {
    "id": "a2e4d793-767b-4c68-b366-13d4fe7660a3"
   },
   "outputs": [],
   "source": [
    "c=1+2j"
   ]
  },
  {
   "cell_type": "code",
   "execution_count": null,
   "id": "b1436805-a8aa-403c-b239-e1308a73cb4d",
   "metadata": {
    "id": "b1436805-a8aa-403c-b239-e1308a73cb4d",
    "outputId": "79e143e3-946b-4be1-ee88-dec4864e7719"
   },
   "outputs": [
    {
     "data": {
      "text/plain": [
       "1.0"
      ]
     },
     "execution_count": 234,
     "metadata": {},
     "output_type": "execute_result"
    }
   ],
   "source": [
    "c.real"
   ]
  },
  {
   "cell_type": "code",
   "execution_count": null,
   "id": "2645f96c-fbc8-44d6-ae57-cd35e2c9a4d9",
   "metadata": {
    "id": "2645f96c-fbc8-44d6-ae57-cd35e2c9a4d9"
   },
   "outputs": [],
   "source": []
  }
 ],
 "metadata": {
  "colab": {
   "provenance": []
  },
  "kernelspec": {
   "display_name": "Python 3 (ipykernel)",
   "language": "python",
   "name": "python3"
  },
  "language_info": {
   "codemirror_mode": {
    "name": "ipython",
    "version": 3
   },
   "file_extension": ".py",
   "mimetype": "text/x-python",
   "name": "python",
   "nbconvert_exporter": "python",
   "pygments_lexer": "ipython3",
   "version": "3.10.8"
  }
 },
 "nbformat": 4,
 "nbformat_minor": 5
}
