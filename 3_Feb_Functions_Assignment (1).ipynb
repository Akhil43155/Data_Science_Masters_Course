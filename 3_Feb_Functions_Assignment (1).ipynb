{
 "cells": [
  {
   "cell_type": "markdown",
   "id": "12b82e17-7122-4067-be08-63daa838f305",
   "metadata": {},
   "source": [
    "# Q1.\n",
    "\tWhich keyword is used to create a function? Create a function to return a list of odd numbers in the \n",
    "\trange of 1 to 25."
   ]
  },
  {
   "cell_type": "markdown",
   "id": "8ed73b8d-a006-458b-9968-be8e8665d457",
   "metadata": {},
   "source": [
    "Ans. With the help of def keyword we will create a function\n",
    "\t\t\n",
    "        def fun_name():\n",
    "        \t//Block of code"
   ]
  },
  {
   "cell_type": "code",
   "execution_count": 13,
   "id": "2671d2be-0b81-4edf-9b98-ff80f361955e",
   "metadata": {},
   "outputs": [],
   "source": [
    "def odd_nums():\n",
    "    list1=[]\n",
    "    for i in range(1,26):\n",
    "        if i%2 != 0:\n",
    "            list1.append(i)\n",
    "    return list1\n",
    "            "
   ]
  },
  {
   "cell_type": "code",
   "execution_count": 14,
   "id": "f83ab33a-ccf3-4bb8-b588-102dd062f63a",
   "metadata": {},
   "outputs": [
    {
     "data": {
      "text/plain": [
       "[1, 3, 5, 7, 9, 11, 13, 15, 17, 19, 21, 23, 25]"
      ]
     },
     "execution_count": 14,
     "metadata": {},
     "output_type": "execute_result"
    }
   ],
   "source": [
    "odd_nums()"
   ]
  },
  {
   "cell_type": "markdown",
   "id": "7f8de914-eaee-481b-ab4c-0041b20b6b28",
   "metadata": {},
   "source": [
    "# Q2. \n",
    "\tWhy *args and **kwargs is used in some functions? Create a function each for *args and **kwargs to \n",
    "\tdemonstrate their use"
   ]
  },
  {
   "cell_type": "markdown",
   "id": "2fd30973-b1f4-4520-b581-c4d9816f7ebe",
   "metadata": {},
   "source": [
    "Ans. Sometimes user don't Know to take how many values he wants \n",
    "\t Example:- he wants 5 values one time, after sometime he wants 3 values like this user wants different different values at different different times at time we use *args in method,like this user wants [key:value] pairs as his inputs for this we use **kwargs "
   ]
  },
  {
   "cell_type": "code",
   "execution_count": 15,
   "id": "f566f4cc-11a7-4ec1-a504-32fa18fc8791",
   "metadata": {},
   "outputs": [],
   "source": [
    "# *args\n",
    "\n",
    "def fruits_names(*fruits):\n",
    "    return fruits"
   ]
  },
  {
   "cell_type": "code",
   "execution_count": 16,
   "id": "b003417b-209f-43dd-be4a-6e86e80a7df1",
   "metadata": {},
   "outputs": [
    {
     "data": {
      "text/plain": [
       "('apple', 'banana', 'grapes')"
      ]
     },
     "execution_count": 16,
     "metadata": {},
     "output_type": "execute_result"
    }
   ],
   "source": [
    "fruits_names(\"apple\",\"banana\",\"grapes\")"
   ]
  },
  {
   "cell_type": "code",
   "execution_count": 17,
   "id": "694a3ced-a199-4be4-80ba-a912930b4843",
   "metadata": {},
   "outputs": [
    {
     "data": {
      "text/plain": [
       "('orange', 'papaya')"
      ]
     },
     "execution_count": 17,
     "metadata": {},
     "output_type": "execute_result"
    }
   ],
   "source": [
    "fruits_names(\"orange\",\"papaya\")"
   ]
  },
  {
   "cell_type": "markdown",
   "id": "37bd010c-968b-4b06-a1b1-9ef38a2f6cfd",
   "metadata": {},
   "source": [
    "Here we see the user will give any number of inputs like above"
   ]
  },
  {
   "cell_type": "code",
   "execution_count": 18,
   "id": "dfb022a3-5705-4d1e-8d5a-459dca8c5d98",
   "metadata": {},
   "outputs": [],
   "source": [
    "# **kwargs\n",
    "\n",
    "def Employee(**Emp_details):\n",
    "    return Emp_details"
   ]
  },
  {
   "cell_type": "code",
   "execution_count": 19,
   "id": "43f4bfa2-c764-4691-a7fe-c30724b588f1",
   "metadata": {},
   "outputs": [
    {
     "data": {
      "text/plain": [
       "{'emp1': 'Akhil', 'emp2': 'Jaswanth'}"
      ]
     },
     "execution_count": 19,
     "metadata": {},
     "output_type": "execute_result"
    }
   ],
   "source": [
    "Employee(emp1='Akhil',emp2='Jaswanth')"
   ]
  },
  {
   "cell_type": "markdown",
   "id": "815f09b7-9b1e-4536-8030-4c8013b2f897",
   "metadata": {},
   "source": [
    "# Q3\n",
    "\tWhat is an iterator in python? Name the method used to initialise the iterator object and the method \n",
    "\tused for iteration. Use these methods to print the first five elements of the given list [2, 4, 6, 8, \n",
    "    10, 12, 14, 16, 18, 20]."
   ]
  },
  {
   "cell_type": "markdown",
   "id": "a2cec9e1-29dd-4c8e-a322-503b1ddbbf4e",
   "metadata": {},
   "source": [
    "Ans. An iterator in Python is an object that allows you to traverse through all the elements of a collection, \n",
    "\tsuch as a list. In Python, an iterator is an object that implements the iterator protocol, which consists \n",
    "    of two methods: __iter__ and __next__.\n",
    "\n",
    "\tThe __iter__ method is used to initialize the iterator object, and the __next__ method is used for iteration."
   ]
  },
  {
   "cell_type": "code",
   "execution_count": 20,
   "id": "e29186d2-3589-4909-9ac9-cf197caf910d",
   "metadata": {},
   "outputs": [
    {
     "name": "stdout",
     "output_type": "stream",
     "text": [
      "2\n",
      "4\n",
      "6\n",
      "8\n",
      "10\n"
     ]
    }
   ],
   "source": [
    "numbers = [2, 4, 6, 8, 10, 12, 14, 16, 18, 20]\n",
    "numbers_iter = iter(numbers)\n",
    "\n",
    "for i in range(5):\n",
    "    print(next(numbers_iter))\n"
   ]
  },
  {
   "cell_type": "markdown",
   "id": "c216f748-88f7-46ff-ae0f-aee79e66161b",
   "metadata": {},
   "source": [
    "# Q4.  \n",
    "\tWhat is a generator function in python? Why yield keyword is used? Give an example of a generator \n",
    "\tfunction."
   ]
  },
  {
   "cell_type": "markdown",
   "id": "1cb0ea81-a73e-4694-afca-cbaf0dbcc00d",
   "metadata": {},
   "source": [
    "Ans. A generator function in Python is a special type of function that allows you to generate a series of \n",
    "\tvalues over time, instead of generating all the values at once and returning them in a data structure like \n",
    "    a list. The yield keyword is used in a generator function to return a value and then \"pause\" the \n",
    "    function's execution, preserving its state. The next time the generator function is called, it resumes \n",
    "    its execution from where it left off, and continues until it encounters another yield statement or reaches \n",
    "    the end of the function."
   ]
  },
  {
   "cell_type": "code",
   "execution_count": 9,
   "id": "18a99757-78f5-4b13-8f1d-b6d78bd74aae",
   "metadata": {},
   "outputs": [
    {
     "name": "stdout",
     "output_type": "stream",
     "text": [
      "0\n",
      "1\n",
      "1\n",
      "2\n",
      "3\n",
      "5\n",
      "8\n",
      "13\n",
      "21\n",
      "34\n"
     ]
    }
   ],
   "source": [
    "#example of a generator function that generates the Fibonacci sequence:\n",
    "def fibonacci(n):\n",
    "    a, b = 0, 1\n",
    "    for i in range(n):\n",
    "        yield a\n",
    "        a, b = b, a + b\n",
    "\n",
    "for number in fibonacci(10):\n",
    "    print(number)\n"
   ]
  },
  {
   "cell_type": "markdown",
   "id": "8ac8cfc1-7340-4136-a675-163da30b8956",
   "metadata": {},
   "source": [
    "# Q5. \n",
    "\tCreate a generator function for prime numbers less than 1000. Use the next() method to print \n",
    "    the first 20 prime numbers."
   ]
  },
  {
   "cell_type": "code",
   "execution_count": 10,
   "id": "d0ed43af-a602-47fb-a789-557837c7f55a",
   "metadata": {},
   "outputs": [
    {
     "name": "stdout",
     "output_type": "stream",
     "text": [
      "2\n",
      "3\n",
      "5\n",
      "7\n",
      "11\n",
      "13\n",
      "17\n",
      "19\n",
      "23\n",
      "29\n",
      "31\n",
      "37\n",
      "41\n",
      "43\n",
      "47\n",
      "53\n",
      "59\n",
      "61\n",
      "67\n",
      "71\n"
     ]
    }
   ],
   "source": [
    "def prime_numbers_generator():\n",
    "    primes = []\n",
    "    for candidate in range(2, 1000):\n",
    "        for prime in primes:\n",
    "            if candidate % prime == 0:\n",
    "                break\n",
    "        else:\n",
    "            primes.append(candidate)\n",
    "            yield candidate\n",
    "\n",
    "prime_numbers = prime_numbers_generator()\n",
    "\n",
    "for i in range(20):\n",
    "    print(next(prime_numbers))\n"
   ]
  },
  {
   "cell_type": "code",
   "execution_count": null,
   "id": "1c45a1b3-2a10-45d5-bbed-119808dc7dd9",
   "metadata": {},
   "outputs": [],
   "source": []
  }
 ],
 "metadata": {
  "kernelspec": {
   "display_name": "Python 3 (ipykernel)",
   "language": "python",
   "name": "python3"
  },
  "language_info": {
   "codemirror_mode": {
    "name": "ipython",
    "version": 3
   },
   "file_extension": ".py",
   "mimetype": "text/x-python",
   "name": "python",
   "nbconvert_exporter": "python",
   "pygments_lexer": "ipython3",
   "version": "3.10.8"
  }
 },
 "nbformat": 4,
 "nbformat_minor": 5
}
