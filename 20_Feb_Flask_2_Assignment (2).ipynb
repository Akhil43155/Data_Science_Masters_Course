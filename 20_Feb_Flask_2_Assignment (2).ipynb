{
 "cells": [
  {
   "cell_type": "markdown",
   "id": "be336faa-e4f2-4939-8045-d4ecfcf5f8e7",
   "metadata": {},
   "source": [
    "### Q1. Explain GET and POST methods."
   ]
  },
  {
   "cell_type": "markdown",
   "id": "7cd33550-49de-40b6-a159-4569eb5ea307",
   "metadata": {},
   "source": [
    "The GET and POST methods are HTTP request methods used to interact with web servers.\n",
    "\n",
    "The GET method is used to retrieve data from a server. When a client sends a GET request to a server, it asks the server to send back a specific resource, such as a web page or a file. The request parameters, if any, are sent as part of the URL. GET requests are generally considered safe and idempotent, which means that multiple identical requests will produce the same result and do not have any side effects.\n",
    "\n",
    "Example GET request:"
   ]
  },
  {
   "cell_type": "code",
   "execution_count": null,
   "id": "89bf671d-2c4c-4852-bfc3-f70fb868432b",
   "metadata": {},
   "outputs": [],
   "source": [
    "GET /example.html?name=John&age=30 HTTP/1.1\n",
    "Host: www.example.com\n"
   ]
  },
  {
   "cell_type": "markdown",
   "id": "41e1ce2e-4cf8-4a45-8850-b5e84aa5c243",
   "metadata": {},
   "source": [
    "In this example, the client is requesting the example.html file from the server with the parameters \"name=John\" and \"age=30\".\n",
    "\n",
    "The POST method is used to submit data to a server to be processed. When a client sends a POST request to a server, it sends data in the body of the request, which can be used to create, update, or delete resources on the server. POST requests are not idempotent, which means that sending the same request multiple times can have different results.\n",
    "\n",
    "Example POST request:"
   ]
  },
  {
   "cell_type": "code",
   "execution_count": null,
   "id": "1c9de2d2-d598-47f1-8ede-fa7b9410ea4b",
   "metadata": {},
   "outputs": [],
   "source": [
    "POST /submit-form HTTP/1.1\n",
    "Host: www.example.com\n",
    "Content-Type: application/x-www-form-urlencoded\n",
    "Content-Length: 25\n",
    "\n",
    "name=John&age=30&email=john@example.com\n"
   ]
  },
  {
   "cell_type": "markdown",
   "id": "a41471c8-7704-4ef2-a787-f02e1bc6c8b6",
   "metadata": {},
   "source": [
    "In this example, the client is submitting form data to the server with the fields \"name\", \"age\", and \"email\". The data is sent in the body of the request with the Content-Type header set to \"application/x-www-form-urlencoded\"."
   ]
  },
  {
   "cell_type": "markdown",
   "id": "93c29109-0ed2-4006-8688-a20c6595ec29",
   "metadata": {},
   "source": [
    "### Q2. Why is request used in Flask?"
   ]
  },
  {
   "cell_type": "markdown",
   "id": "a4d0a5cb-fbd8-4e70-938a-41c63b0eb074",
   "metadata": {},
   "source": [
    "In Flask, the request object is used to access incoming request data, such as form data, URL parameters, and headers, from the client. It is a global object that is available in every Flask route function.\n",
    "\n",
    "The request object contains information about the current request being processed, such as the HTTP method (GET, POST, etc.), the URL of the request, and the data sent with the request.\n",
    "\n",
    "Here are some common use cases of the request object in Flask:\n",
    "\n",
    "Accessing form data: When a client submits a form to a Flask application, the form data can be accessed using the request.form attribute. For example, request.form['username'] would give the value of the \"username\" field in the form.\n",
    "\n",
    "Accessing URL parameters: Flask allows you to define dynamic URL routes that can contain parameters. These parameters can be accessed using the request.args attribute. For example, if the URL route is /users/<username>, you can access the value of <username> using request.args.get('username').\n",
    "\n",
    "Accessing headers: The request.headers attribute can be used to access the HTTP headers sent with the request. For example, request.headers.get('User-Agent') would give the value of the \"User-Agent\" header sent with the request.\n",
    "\n",
    "File uploads: When a client uploads a file to a Flask application, the file data can be accessed using the request.files attribute.\n",
    "\n",
    "In summary, the request object is a crucial part of Flask because it allows you to access the data sent with incoming HTTP requests and build dynamic web applications that respond to user input."
   ]
  },
  {
   "cell_type": "markdown",
   "id": "85001061-a579-4a47-a75d-3134cfb5b579",
   "metadata": {},
   "source": [
    "### Q3. Why is redirect() used in Flask?"
   ]
  },
  {
   "cell_type": "markdown",
   "id": "0bd60459-1c57-42f0-9ea9-6057ca3c8e0f",
   "metadata": {},
   "source": [
    "In Flask, the redirect() function is used to redirect the client to a different URL. It is a convenient way to send a response back to the client that tells it to navigate to a different page or resource.\n",
    "\n",
    "Here are some common use cases of the redirect() function in Flask:\n",
    "\n",
    "Redirect after form submission: After a user submits a form, you may want to redirect them to a different page that displays a success message or some other content. You can use the redirect() function to redirect the user to the new page. For example, return redirect('/success') would redirect the user to the \"/success\" URL.\n",
    "\n",
    "Redirect after authentication: When a user logs in to your application, you may want to redirect them to a different page depending on their role or permissions. You can use the redirect() function to redirect the user to the appropriate page. For example, if an admin user logs in, you could redirect them to the admin dashboard with return redirect('/admin').\n",
    "\n",
    "Redirecting from a view function: In some cases, you may want to redirect the user to a different page from within a view function based on some condition. For example, if a user tries to access a protected page without being authenticated, you could redirect them to the login page with return redirect('/login').\n",
    "\n",
    "In summary, the redirect() function is used in Flask to send a response back to the client that tells it to navigate to a different page or resource. It is a useful tool for building dynamic web applications that respond to user input and behavior."
   ]
  },
  {
   "cell_type": "markdown",
   "id": "34a88da9-a66a-4200-842c-8d1b8fa7405d",
   "metadata": {},
   "source": [
    "### Q4. What are templates in Flask? Why is the render_template() function used?"
   ]
  },
  {
   "cell_type": "markdown",
   "id": "a9170eaa-799f-4be3-82dd-7d543549b1e9",
   "metadata": {},
   "source": [
    "In Flask, templates are used to dynamically generate HTML pages that can display dynamic data and respond to user input. Templates allow you to separate the presentation logic from the application logic and provide a way to reuse HTML code across multiple pages.\n",
    "\n",
    "The render_template() function is used to render a template and return the resulting HTML to the client. This function takes a template name and a set of variables as arguments, and uses the Jinja2 template engine to render the template.\n",
    "\n",
    "Here's an example of how to use the render_template() function in Flask:"
   ]
  },
  {
   "cell_type": "code",
   "execution_count": null,
   "id": "54d35fea-a9ef-4b07-8da4-51f9d6d4c682",
   "metadata": {},
   "outputs": [],
   "source": [
    "from flask import Flask, render_template\n",
    "\n",
    "app = Flask(__name__)\n",
    "\n",
    "@app.route('/')\n",
    "def index():\n",
    "    name = 'John'\n",
    "    return render_template('index.html', name=name)\n"
   ]
  },
  {
   "cell_type": "markdown",
   "id": "3a6fb802-ea0e-4ffb-9e51-0cffa84e0dcd",
   "metadata": {},
   "source": [
    "In this example, the index() function returns the result of rendering the \"index.html\" template with the name variable set to \"John\". The render_template() function takes care of loading the template file and rendering it with the provided variables.\n",
    "\n",
    "Templates in Flask are typically stored in a directory called \"templates\" in your Flask application directory, and can use the Jinja2 templating language to include dynamic data and control the flow of the page.\n",
    "\n",
    "In summary, templates in Flask are used to dynamically generate HTML pages, and the render_template() function is used to render a template with dynamic data and return the resulting HTML to the client."
   ]
  },
  {
   "cell_type": "markdown",
   "id": "4fd0e259-aa4b-4f13-ae29-cd785ed1f86d",
   "metadata": {},
   "source": [
    "### Q5. Create a simple API. Use Postman to test it. Attach the screenshot of the output in the Jupyter Notebook."
   ]
  },
  {
   "cell_type": "code",
   "execution_count": null,
   "id": "7f386473-015b-4bed-a261-7e545010fcc5",
   "metadata": {},
   "outputs": [],
   "source": [
    "pip install flask"
   ]
  },
  {
   "cell_type": "code",
   "execution_count": null,
   "id": "cde56db7-f4a6-4b02-83b0-789e4f1318ed",
   "metadata": {},
   "outputs": [],
   "source": [
    "from flask import Flask, request, jsonify\n",
    "\n",
    "app = Flask(__name__)\n",
    "\n",
    "@app.route('/add', methods=['POST'])\n",
    "def add():\n",
    "    data = request.get_json()\n",
    "    num1 = data['num1']\n",
    "    num2 = data['num2']\n",
    "    result = num1 + num2\n",
    "    return jsonify({'result': result})\n",
    "\n",
    "if __name__ == '__main__':\n",
    "    app.run(debug=True)\n"
   ]
  },
  {
   "cell_type": "code",
   "execution_count": null,
   "id": "70a6e59f-cf7b-4738-aec3-3d8c5c194dbf",
   "metadata": {},
   "outputs": [],
   "source": []
  }
 ],
 "metadata": {
  "kernelspec": {
   "display_name": "Python 3 (ipykernel)",
   "language": "python",
   "name": "python3"
  },
  "language_info": {
   "codemirror_mode": {
    "name": "ipython",
    "version": 3
   },
   "file_extension": ".py",
   "mimetype": "text/x-python",
   "name": "python",
   "nbconvert_exporter": "python",
   "pygments_lexer": "ipython3",
   "version": "3.10.8"
  }
 },
 "nbformat": 4,
 "nbformat_minor": 5
}
