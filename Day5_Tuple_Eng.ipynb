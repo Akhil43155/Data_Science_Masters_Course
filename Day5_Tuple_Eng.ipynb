{
 "cells": [
  {
   "cell_type": "code",
   "execution_count": null,
   "id": "fca6dc3e-02b5-4caf-82cc-b1263152ad5e",
   "metadata": {
    "id": "fca6dc3e-02b5-4caf-82cc-b1263152ad5e"
   },
   "outputs": [],
   "source": [
    "##we use rounded brackets\n",
    "t = ()"
   ]
  },
  {
   "cell_type": "code",
   "execution_count": null,
   "id": "3b76edca-e7ec-4d61-b195-0425f9897b9a",
   "metadata": {
    "id": "3b76edca-e7ec-4d61-b195-0425f9897b9a",
    "outputId": "9487f9cb-5e86-4792-c58e-168699eb666f"
   },
   "outputs": [],
   "source": [
    "type(t)"
   ]
  },
  {
   "cell_type": "code",
   "execution_count": 7,
   "id": "2e67b2af-4236-4190-815e-b262dbdf968b",
   "metadata": {
    "id": "2e67b2af-4236-4190-815e-b262dbdf968b"
   },
   "outputs": [],
   "source": [
    "#we can pass any type of data items\n",
    "t1 = (1,2,3,4,45,45.45 , 45+7j , \"sudh\" , True)"
   ]
  },
  {
   "cell_type": "code",
   "execution_count": 8,
   "id": "ac1acea5-ebea-4849-9855-a9b245a142d4",
   "metadata": {
    "id": "ac1acea5-ebea-4849-9855-a9b245a142d4",
    "outputId": "ed2799b5-9d86-4a14-935f-b13d4e1273a4"
   },
   "outputs": [
    {
     "data": {
      "text/plain": [
       "tuple"
      ]
     },
     "execution_count": 8,
     "metadata": {},
     "output_type": "execute_result"
    }
   ],
   "source": [
    "type(t1)"
   ]
  },
  {
   "cell_type": "code",
   "execution_count": 9,
   "id": "56559382-9d65-4378-bac2-b7e1a5d95a31",
   "metadata": {
    "id": "56559382-9d65-4378-bac2-b7e1a5d95a31"
   },
   "outputs": [],
   "source": [
    "l = [1,2,3,4]"
   ]
  },
  {
   "cell_type": "code",
   "execution_count": 10,
   "id": "b4e79942-6fbb-49fa-92d8-30cfe4aaeeb3",
   "metadata": {
    "id": "b4e79942-6fbb-49fa-92d8-30cfe4aaeeb3",
    "outputId": "72491439-11ab-41a1-bda6-071828b4a470"
   },
   "outputs": [
    {
     "data": {
      "text/plain": [
       "list"
      ]
     },
     "execution_count": 10,
     "metadata": {},
     "output_type": "execute_result"
    }
   ],
   "source": [
    "type(l)"
   ]
  },
  {
   "cell_type": "code",
   "execution_count": 11,
   "id": "d3f7c784-4dc0-40cc-a012-0f37706011e8",
   "metadata": {
    "id": "d3f7c784-4dc0-40cc-a012-0f37706011e8",
    "outputId": "c3af90a2-5ad7-4430-eece-87f90c4238d8"
   },
   "outputs": [
    {
     "data": {
      "text/plain": [
       "(1, 2, 3, 4, 45, 45.45, (45+7j), 'sudh', True)"
      ]
     },
     "execution_count": 11,
     "metadata": {},
     "output_type": "execute_result"
    }
   ],
   "source": [
    "t1"
   ]
  },
  {
   "cell_type": "code",
   "execution_count": 12,
   "id": "16304dc2-71ec-47e9-b509-b44ce1f27c04",
   "metadata": {
    "id": "16304dc2-71ec-47e9-b509-b44ce1f27c04",
    "outputId": "ebe9dd1d-085a-4dde-a369-5417e254b144"
   },
   "outputs": [
    {
     "data": {
      "text/plain": [
       "1"
      ]
     },
     "execution_count": 12,
     "metadata": {},
     "output_type": "execute_result"
    }
   ],
   "source": [
    "l[0]"
   ]
  },
  {
   "cell_type": "code",
   "execution_count": 13,
   "id": "b248ea6d-e653-438c-98ab-d4c238606c5a",
   "metadata": {
    "id": "b248ea6d-e653-438c-98ab-d4c238606c5a",
    "outputId": "dca256f6-92ea-40f2-92ba-b386afda0af7"
   },
   "outputs": [
    {
     "data": {
      "text/plain": [
       "'sudh'"
      ]
     },
     "execution_count": 13,
     "metadata": {},
     "output_type": "execute_result"
    }
   ],
   "source": [
    "t1[7]"
   ]
  },
  {
   "cell_type": "code",
   "execution_count": 14,
   "id": "a3103fe1-2521-4673-a3db-604c1b0ab549",
   "metadata": {
    "id": "a3103fe1-2521-4673-a3db-604c1b0ab549",
    "outputId": "2d3367c9-4e01-4596-cb80-74c8aeecc6a2"
   },
   "outputs": [
    {
     "data": {
      "text/plain": [
       "(True, 'sudh', (45+7j), 45.45, 45, 4, 3, 2, 1)"
      ]
     },
     "execution_count": 14,
     "metadata": {},
     "output_type": "execute_result"
    }
   ],
   "source": [
    "t1[::-1]"
   ]
  },
  {
   "cell_type": "code",
   "execution_count": 15,
   "id": "77079f69-7475-4050-91a7-4a0ca5146919",
   "metadata": {
    "id": "77079f69-7475-4050-91a7-4a0ca5146919"
   },
   "outputs": [],
   "source": [
    "t1 = t1[::-1]"
   ]
  },
  {
   "cell_type": "code",
   "execution_count": 16,
   "id": "64cb600b-ca8d-4825-941e-1e427d27fe6e",
   "metadata": {
    "id": "64cb600b-ca8d-4825-941e-1e427d27fe6e",
    "outputId": "825fabf2-8c63-484d-b174-aa030cd9a91d"
   },
   "outputs": [
    {
     "data": {
      "text/plain": [
       "(True, 'sudh', (45+7j), 45.45, 45, 4, 3, 2, 1)"
      ]
     },
     "execution_count": 16,
     "metadata": {},
     "output_type": "execute_result"
    }
   ],
   "source": [
    "t1"
   ]
  },
  {
   "cell_type": "code",
   "execution_count": 17,
   "id": "7da6f608-eb57-46d4-ad17-7c4470fe8fb2",
   "metadata": {
    "id": "7da6f608-eb57-46d4-ad17-7c4470fe8fb2",
    "outputId": "fdb9595d-869c-40be-84ef-80dbf1376d93"
   },
   "outputs": [
    {
     "data": {
      "text/plain": [
       "(True, 'sudh', (45+7j))"
      ]
     },
     "execution_count": 17,
     "metadata": {},
     "output_type": "execute_result"
    }
   ],
   "source": [
    "t1[0:3]"
   ]
  },
  {
   "cell_type": "code",
   "execution_count": 18,
   "id": "dac8041a-76cc-4974-9943-daf464269454",
   "metadata": {
    "id": "dac8041a-76cc-4974-9943-daf464269454",
    "outputId": "01f1abdb-4f31-48b6-f23d-885c43670bbc"
   },
   "outputs": [
    {
     "data": {
      "text/plain": [
       "(True, 'sudh', (45+7j), 45.45, 45, 4, 3, 2, 1)"
      ]
     },
     "execution_count": 18,
     "metadata": {},
     "output_type": "execute_result"
    }
   ],
   "source": [
    "t1"
   ]
  },
  {
   "cell_type": "code",
   "execution_count": 19,
   "id": "2619beac-df73-46a5-ad21-80acdd3194f1",
   "metadata": {
    "id": "2619beac-df73-46a5-ad21-80acdd3194f1",
    "outputId": "d9a9928a-5951-4295-927c-47049c33d08d"
   },
   "outputs": [
    {
     "data": {
      "text/plain": [
       "1"
      ]
     },
     "execution_count": 19,
     "metadata": {},
     "output_type": "execute_result"
    }
   ],
   "source": [
    "t1.count(4)"
   ]
  },
  {
   "cell_type": "code",
   "execution_count": 20,
   "id": "907d032f-f74d-407e-b8fa-f45efe231129",
   "metadata": {
    "id": "907d032f-f74d-407e-b8fa-f45efe231129",
    "outputId": "cb4ba520-a519-425b-b152-9c1ef139ecb7"
   },
   "outputs": [
    {
     "data": {
      "text/plain": [
       "0"
      ]
     },
     "execution_count": 20,
     "metadata": {},
     "output_type": "execute_result"
    }
   ],
   "source": [
    "t1.count(\"abc\")"
   ]
  },
  {
   "cell_type": "code",
   "execution_count": 21,
   "id": "0ee0e705-4d7d-40ae-9ebe-ff276f311e97",
   "metadata": {
    "id": "0ee0e705-4d7d-40ae-9ebe-ff276f311e97",
    "outputId": "885e0715-b9c9-43c6-e82f-6109d3b4cae6"
   },
   "outputs": [
    {
     "data": {
      "text/plain": [
       "0"
      ]
     },
     "execution_count": 21,
     "metadata": {},
     "output_type": "execute_result"
    }
   ],
   "source": [
    "t1.index(1)"
   ]
  },
  {
   "cell_type": "code",
   "execution_count": 22,
   "id": "9199eee6-0ad0-434f-9cad-99ee3d4f864f",
   "metadata": {
    "id": "9199eee6-0ad0-434f-9cad-99ee3d4f864f",
    "outputId": "30b9d8d2-a3a2-4b00-d5f3-9f68b0079d3e"
   },
   "outputs": [
    {
     "data": {
      "text/plain": [
       "1"
      ]
     },
     "execution_count": 22,
     "metadata": {},
     "output_type": "execute_result"
    }
   ],
   "source": [
    "t1.index(\"sudh\")"
   ]
  },
  {
   "cell_type": "code",
   "execution_count": 23,
   "id": "4a89768a-67eb-4b95-9a8e-1454e5c95e7a",
   "metadata": {
    "id": "4a89768a-67eb-4b95-9a8e-1454e5c95e7a",
    "outputId": "c86a1909-9379-4dec-cba1-043757b41755"
   },
   "outputs": [
    {
     "data": {
      "text/plain": [
       "(True, 'sudh', (45+7j), 45.45, 45, 4, 3, 2, 1)"
      ]
     },
     "execution_count": 23,
     "metadata": {},
     "output_type": "execute_result"
    }
   ],
   "source": [
    "t1"
   ]
  },
  {
   "cell_type": "code",
   "execution_count": 24,
   "id": "21b81500-824c-44a3-8b9e-174d59c1561e",
   "metadata": {
    "id": "21b81500-824c-44a3-8b9e-174d59c1561e",
    "outputId": "754db33e-de04-45c6-e8c7-61fb82ad421a"
   },
   "outputs": [
    {
     "data": {
      "text/plain": [
       "2"
      ]
     },
     "execution_count": 24,
     "metadata": {},
     "output_type": "execute_result"
    }
   ],
   "source": [
    "t1.count(True)"
   ]
  },
  {
   "cell_type": "code",
   "execution_count": 25,
   "id": "5212b141-483e-4e99-a512-dbcb166692a9",
   "metadata": {
    "id": "5212b141-483e-4e99-a512-dbcb166692a9",
    "outputId": "40f46ebd-28cc-4743-de86-539c18b6e5ad"
   },
   "outputs": [
    {
     "data": {
      "text/plain": [
       "2"
      ]
     },
     "execution_count": 25,
     "metadata": {},
     "output_type": "execute_result"
    }
   ],
   "source": [
    "t1.count(1)"
   ]
  },
  {
   "cell_type": "code",
   "execution_count": 26,
   "id": "230b6319-73d4-4f00-9713-3a3a0c739847",
   "metadata": {
    "id": "230b6319-73d4-4f00-9713-3a3a0c739847",
    "outputId": "e21261c9-d581-4d66-c562-d66e5535e60a"
   },
   "outputs": [
    {
     "data": {
      "text/plain": [
       "(True, 'sudh', (45+7j), 45.45, 45, 4, 3, 2, 1)"
      ]
     },
     "execution_count": 26,
     "metadata": {},
     "output_type": "execute_result"
    }
   ],
   "source": [
    "t1 "
   ]
  },
  {
   "cell_type": "code",
   "execution_count": 27,
   "id": "87830278-7ee8-433a-9883-60f4cdf2ab4c",
   "metadata": {
    "id": "87830278-7ee8-433a-9883-60f4cdf2ab4c",
    "outputId": "7b6113a6-cce4-4303-a73d-6a41396f95c8"
   },
   "outputs": [
    {
     "data": {
      "text/plain": [
       "[1, 2, 3, 4]"
      ]
     },
     "execution_count": 27,
     "metadata": {},
     "output_type": "execute_result"
    }
   ],
   "source": [
    "l"
   ]
  },
  {
   "cell_type": "code",
   "execution_count": 28,
   "id": "5d87da6c-4884-4106-bd25-8c3a7dbe71c3",
   "metadata": {
    "id": "5d87da6c-4884-4106-bd25-8c3a7dbe71c3",
    "outputId": "414088e9-07c5-4c90-cbac-9b18a0ae8d55"
   },
   "outputs": [
    {
     "data": {
      "text/plain": [
       "True"
      ]
     },
     "execution_count": 28,
     "metadata": {},
     "output_type": "execute_result"
    }
   ],
   "source": [
    "t1[0]"
   ]
  },
  {
   "cell_type": "markdown",
   "id": "c72707eb-21b9-4b8c-a7bd-9b43d8227d9e",
   "metadata": {
    "id": "c72707eb-21b9-4b8c-a7bd-9b43d8227d9e"
   },
   "source": [
    "\"\"\"Tuple are basically follows  Immutability concepts where it is not going to allow to change any element at a perticular index\"\"\""
   ]
  },
  {
   "cell_type": "code",
   "execution_count": 29,
   "id": "3096a1fb-bc93-49e7-b620-aae6e8afc0bd",
   "metadata": {
    "id": "3096a1fb-bc93-49e7-b620-aae6e8afc0bd",
    "outputId": "d229ea5c-4a82-410b-ed58-9ce7e7e40eb0"
   },
   "outputs": [
    {
     "ename": "TypeError",
     "evalue": "'tuple' object does not support item assignment",
     "output_type": "error",
     "traceback": [
      "\u001b[0;31m---------------------------------------------------------------------------\u001b[0m",
      "\u001b[0;31mTypeError\u001b[0m                                 Traceback (most recent call last)",
      "Cell \u001b[0;32mIn[29], line 1\u001b[0m\n\u001b[0;32m----> 1\u001b[0m \u001b[43mt1\u001b[49m\u001b[43m[\u001b[49m\u001b[38;5;241;43m0\u001b[39;49m\u001b[43m]\u001b[49m \u001b[38;5;241m=\u001b[39m \u001b[38;5;241m345\u001b[39m\n",
      "\u001b[0;31mTypeError\u001b[0m: 'tuple' object does not support item assignment"
     ]
    }
   ],
   "source": [
    "t1[0] = 345"
   ]
  },
  {
   "cell_type": "code",
   "execution_count": 30,
   "id": "bfd77697-e29f-4915-9c28-53ec99221f48",
   "metadata": {
    "id": "bfd77697-e29f-4915-9c28-53ec99221f48",
    "outputId": "26ad4fe1-ae8a-4c16-c999-8e889bf36419"
   },
   "outputs": [
    {
     "data": {
      "text/plain": [
       "[1, 2, 3, 4]"
      ]
     },
     "execution_count": 30,
     "metadata": {},
     "output_type": "execute_result"
    }
   ],
   "source": [
    "l"
   ]
  },
  {
   "cell_type": "code",
   "execution_count": null,
   "id": "fa90982f-a245-43b8-81ba-14d16952e66c",
   "metadata": {
    "id": "fa90982f-a245-43b8-81ba-14d16952e66c",
    "outputId": "5367d747-1385-4376-a351-81be901bbe4a"
   },
   "outputs": [
    {
     "data": {
      "text/plain": [
       "1"
      ]
     },
     "execution_count": 29,
     "metadata": {},
     "output_type": "execute_result"
    }
   ],
   "source": [
    "l[0]"
   ]
  },
  {
   "cell_type": "code",
   "execution_count": null,
   "id": "db0b31f2-7af2-48d9-ae14-79f20179509b",
   "metadata": {
    "id": "db0b31f2-7af2-48d9-ae14-79f20179509b"
   },
   "outputs": [],
   "source": [
    "l[0] = 100"
   ]
  },
  {
   "cell_type": "code",
   "execution_count": null,
   "id": "e6a54f60-11a7-42f8-b73a-8b208e90dc5e",
   "metadata": {
    "id": "e6a54f60-11a7-42f8-b73a-8b208e90dc5e",
    "outputId": "375bab28-6fb5-4c05-939e-bde85f02b2fe"
   },
   "outputs": [
    {
     "data": {
      "text/plain": [
       "[100, 2, 3, 4]"
      ]
     },
     "execution_count": 31,
     "metadata": {},
     "output_type": "execute_result"
    }
   ],
   "source": [
    "l"
   ]
  },
  {
   "cell_type": "code",
   "execution_count": null,
   "id": "a27087c1-2110-4371-baad-0bc4aed839bc",
   "metadata": {
    "id": "a27087c1-2110-4371-baad-0bc4aed839bc",
    "outputId": "f8cbbefa-a39b-4324-b52c-82f39e2c7904"
   },
   "outputs": [
    {
     "data": {
      "text/plain": [
       "(True, 'sudh', (45+7j), 45.45, 45, 4, 3, 2, 1)"
      ]
     },
     "execution_count": 32,
     "metadata": {},
     "output_type": "execute_result"
    }
   ],
   "source": [
    "t1"
   ]
  },
  {
   "cell_type": "code",
   "execution_count": null,
   "id": "c23068a7-10bf-4e82-b3ac-3613277213a3",
   "metadata": {
    "id": "c23068a7-10bf-4e82-b3ac-3613277213a3",
    "outputId": "46d12145-45c6-4b4c-e9ae-fd7c5b10e209"
   },
   "outputs": [
    {
     "name": "stdout",
     "output_type": "stream",
     "text": [
      "True <class 'bool'>\n",
      "sudh <class 'str'>\n",
      "(45+7j) <class 'complex'>\n",
      "45.45 <class 'float'>\n",
      "45 <class 'int'>\n",
      "4 <class 'int'>\n",
      "3 <class 'int'>\n",
      "2 <class 'int'>\n",
      "1 <class 'int'>\n"
     ]
    }
   ],
   "source": [
    "for i in t1 :\n",
    "    print(i , type(i))"
   ]
  },
  {
   "cell_type": "code",
   "execution_count": null,
   "id": "9fe39ab9-657e-4b0d-8653-a486005c2031",
   "metadata": {
    "id": "9fe39ab9-657e-4b0d-8653-a486005c2031"
   },
   "outputs": [],
   "source": [
    "t2 = (1,2,3,3,4)"
   ]
  },
  {
   "cell_type": "code",
   "execution_count": null,
   "id": "b53c85dc-8189-4a80-992e-d6b068f10dc8",
   "metadata": {
    "id": "b53c85dc-8189-4a80-992e-d6b068f10dc8",
    "outputId": "b35fd98c-178a-4398-8075-64fb1bf90434"
   },
   "outputs": [
    {
     "data": {
      "text/plain": [
       "(1, 2, 3, 3, 4)"
      ]
     },
     "execution_count": 37,
     "metadata": {},
     "output_type": "execute_result"
    }
   ],
   "source": [
    "t2"
   ]
  },
  {
   "cell_type": "code",
   "execution_count": null,
   "id": "6eeb513d-ef9b-4da4-8b1b-7fc0e534501c",
   "metadata": {
    "id": "6eeb513d-ef9b-4da4-8b1b-7fc0e534501c",
    "outputId": "915f25fb-5b3a-4cff-8721-34f84505109b"
   },
   "outputs": [
    {
     "data": {
      "text/plain": [
       "(1, 2, 3, 3, 4, 1, 2, 3, 3, 4, 1, 2, 3, 3, 4)"
      ]
     },
     "execution_count": 38,
     "metadata": {},
     "output_type": "execute_result"
    }
   ],
   "source": [
    "t2 * 3"
   ]
  },
  {
   "cell_type": "code",
   "execution_count": null,
   "id": "0ea49a91-7479-4f22-bc9c-b1f28947595e",
   "metadata": {
    "id": "0ea49a91-7479-4f22-bc9c-b1f28947595e",
    "outputId": "b344dddc-82d1-4f28-d597-a2ac8cab130e"
   },
   "outputs": [
    {
     "data": {
      "text/plain": [
       "4"
      ]
     },
     "execution_count": 39,
     "metadata": {},
     "output_type": "execute_result"
    }
   ],
   "source": [
    "max(t2)"
   ]
  },
  {
   "cell_type": "code",
   "execution_count": null,
   "id": "7ab77858-1491-4c8e-86f1-bc5aab74ec69",
   "metadata": {
    "id": "7ab77858-1491-4c8e-86f1-bc5aab74ec69",
    "outputId": "7d97f714-d494-492f-fae4-8a61bb7165bd"
   },
   "outputs": [
    {
     "data": {
      "text/plain": [
       "1"
      ]
     },
     "execution_count": 40,
     "metadata": {},
     "output_type": "execute_result"
    }
   ],
   "source": [
    "min(t2)"
   ]
  },
  {
   "cell_type": "code",
   "execution_count": null,
   "id": "82d2942a-a60c-4d6e-a549-e79706038d27",
   "metadata": {
    "id": "82d2942a-a60c-4d6e-a549-e79706038d27"
   },
   "outputs": [],
   "source": [
    "t1 = (1,2,32,4)\n",
    "t2 = (4,5,6,7,8)"
   ]
  },
  {
   "cell_type": "code",
   "execution_count": null,
   "id": "f6eb60d1-1464-4207-a00f-98c051111057",
   "metadata": {
    "id": "f6eb60d1-1464-4207-a00f-98c051111057"
   },
   "outputs": [],
   "source": [
    "t3 = (t1,t2)"
   ]
  },
  {
   "cell_type": "code",
   "execution_count": null,
   "id": "d80e48a7-cb7e-4554-883f-5fd6619e0572",
   "metadata": {
    "id": "d80e48a7-cb7e-4554-883f-5fd6619e0572",
    "outputId": "807306cf-2e34-47e8-b139-2484fb3ef5ff"
   },
   "outputs": [
    {
     "data": {
      "text/plain": [
       "((1, 2, 32, 4), (4, 5, 6, 7, 8))"
      ]
     },
     "execution_count": 43,
     "metadata": {},
     "output_type": "execute_result"
    }
   ],
   "source": [
    "t3"
   ]
  },
  {
   "cell_type": "code",
   "execution_count": null,
   "id": "4207116e-8d9d-4b58-9ea8-998bc8046162",
   "metadata": {
    "id": "4207116e-8d9d-4b58-9ea8-998bc8046162"
   },
   "outputs": [],
   "source": [
    "t4 = ((1,2,3,4,5) , [1,3,5,6,7,8])"
   ]
  },
  {
   "cell_type": "code",
   "execution_count": null,
   "id": "15956f01-2118-4317-af61-ee41b49f2237",
   "metadata": {
    "id": "15956f01-2118-4317-af61-ee41b49f2237",
    "outputId": "bf7b5279-0978-467a-a14c-51ce3eb78693"
   },
   "outputs": [
    {
     "data": {
      "text/plain": [
       "((1, 2, 3, 4, 5), [1, 3, 5, 6, 7, 8])"
      ]
     },
     "execution_count": 45,
     "metadata": {},
     "output_type": "execute_result"
    }
   ],
   "source": [
    "t4"
   ]
  },
  {
   "cell_type": "code",
   "execution_count": null,
   "id": "b893865e-4040-47ce-8acc-8ae347ab932d",
   "metadata": {
    "id": "b893865e-4040-47ce-8acc-8ae347ab932d"
   },
   "outputs": [],
   "source": [
    "del t4"
   ]
  },
  {
   "cell_type": "code",
   "execution_count": null,
   "id": "7d19406b-017f-4bd1-ba0e-cef2bea8c47e",
   "metadata": {
    "id": "7d19406b-017f-4bd1-ba0e-cef2bea8c47e",
    "outputId": "25444257-7f0c-4555-fc11-7bcef6b37134"
   },
   "outputs": [
    {
     "ename": "NameError",
     "evalue": "name 't4' is not defined",
     "output_type": "error",
     "traceback": [
      "\u001b[0;31m---------------------------------------------------------------------------\u001b[0m",
      "\u001b[0;31mNameError\u001b[0m                                 Traceback (most recent call last)",
      "Cell \u001b[0;32mIn[47], line 1\u001b[0m\n\u001b[0;32m----> 1\u001b[0m \u001b[43mt4\u001b[49m\n",
      "\u001b[0;31mNameError\u001b[0m: name 't4' is not defined"
     ]
    }
   ],
   "source": [
    "t4"
   ]
  },
  {
   "cell_type": "code",
   "execution_count": null,
   "id": "e9b13d1c-b671-48fe-869b-c68469882542",
   "metadata": {
    "id": "e9b13d1c-b671-48fe-869b-c68469882542",
    "outputId": "5e7f2452-20f6-4a0c-e8f5-24b1a2e317f8"
   },
   "outputs": [
    {
     "data": {
      "text/plain": [
       "(1, 2, 32, 4)"
      ]
     },
     "execution_count": 48,
     "metadata": {},
     "output_type": "execute_result"
    }
   ],
   "source": [
    "t1"
   ]
  },
  {
   "cell_type": "code",
   "execution_count": null,
   "id": "8fd7ca50-cfae-491c-823a-f737c5c44062",
   "metadata": {
    "id": "8fd7ca50-cfae-491c-823a-f737c5c44062",
    "outputId": "5a0fc093-2065-4937-b2ad-1a3e256140ef"
   },
   "outputs": [
    {
     "data": {
      "text/plain": [
       "4"
      ]
     },
     "execution_count": 49,
     "metadata": {},
     "output_type": "execute_result"
    }
   ],
   "source": [
    "len(t1)"
   ]
  },
  {
   "cell_type": "code",
   "execution_count": null,
   "id": "e1e04ddf-bc92-4b6e-ae91-e1aeb9e3e078",
   "metadata": {
    "id": "e1e04ddf-bc92-4b6e-ae91-e1aeb9e3e078",
    "outputId": "5bec33b1-b9e0-4892-b3ae-9cb4455048ea"
   },
   "outputs": [
    {
     "data": {
      "text/plain": [
       "(1, 2, 32, 4)"
      ]
     },
     "execution_count": 50,
     "metadata": {},
     "output_type": "execute_result"
    }
   ],
   "source": [
    "t1"
   ]
  },
  {
   "cell_type": "code",
   "execution_count": null,
   "id": "2c1a6468-ebc9-4cc6-a2c4-185f48266256",
   "metadata": {
    "id": "2c1a6468-ebc9-4cc6-a2c4-185f48266256",
    "outputId": "e9b5db23-ad2a-4819-daaa-2f84b6fa3cac"
   },
   "outputs": [
    {
     "data": {
      "text/plain": [
       "False"
      ]
     },
     "execution_count": 51,
     "metadata": {},
     "output_type": "execute_result"
    }
   ],
   "source": [
    "\"sudh\" in t1"
   ]
  },
  {
   "cell_type": "code",
   "execution_count": null,
   "id": "74086dd0-0e76-409f-b5ad-1886912ff5f4",
   "metadata": {
    "id": "74086dd0-0e76-409f-b5ad-1886912ff5f4",
    "outputId": "81786ef7-138a-4de2-ec97-0006718eb7f6"
   },
   "outputs": [
    {
     "data": {
      "text/plain": [
       "True"
      ]
     },
     "execution_count": 52,
     "metadata": {},
     "output_type": "execute_result"
    }
   ],
   "source": [
    "2 in t1"
   ]
  },
  {
   "cell_type": "code",
   "execution_count": null,
   "id": "79397a3b-162b-45e0-8782-25098136810d",
   "metadata": {
    "id": "79397a3b-162b-45e0-8782-25098136810d"
   },
   "outputs": [],
   "source": []
  }
 ],
 "metadata": {
  "colab": {
   "provenance": []
  },
  "kernelspec": {
   "display_name": "Python 3 (ipykernel)",
   "language": "python",
   "name": "python3"
  },
  "language_info": {
   "codemirror_mode": {
    "name": "ipython",
    "version": 3
   },
   "file_extension": ".py",
   "mimetype": "text/x-python",
   "name": "python",
   "nbconvert_exporter": "python",
   "pygments_lexer": "ipython3",
   "version": "3.10.8"
  }
 },
 "nbformat": 4,
 "nbformat_minor": 5
}
