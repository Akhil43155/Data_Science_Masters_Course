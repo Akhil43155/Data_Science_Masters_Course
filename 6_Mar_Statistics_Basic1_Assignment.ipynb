{
 "cells": [
  {
   "cell_type": "markdown",
   "id": "70e64f73-cc31-477e-85da-63507ad443ce",
   "metadata": {},
   "source": [
    "### Q1. What is Statistics?"
   ]
  },
  {
   "cell_type": "markdown",
   "id": "19407acf-1bcb-42ba-9454-20f6ca2ae156",
   "metadata": {},
   "source": [
    "Statistics is a branch of mathematics that deals with the collection, analysis, interpretation, presentation, and organization of data. It involves the use of quantitative techniques to extract meaningful insights from large datasets and to make informed decisions based on those insights.\n",
    "\n",
    "Statistics can be broadly categorized into two main areas: descriptive statistics and inferential statistics. Descriptive statistics involves the summary and presentation of data in a meaningful way, while inferential statistics involves making predictions or drawing conclusions about a population based on a sample of data.\n",
    "\n",
    "Statistics is used in a variety of fields, including business, economics, medicine, social sciences, and engineering, among others. It is an important tool for decision-making, problem-solving, and research in many different areas."
   ]
  },
  {
   "cell_type": "markdown",
   "id": "6d7f4eab-922e-4c41-b142-cee056495399",
   "metadata": {},
   "source": [
    "### Q2. Define the different types of statistics and give an example of when each type might be used."
   ]
  },
  {
   "cell_type": "markdown",
   "id": "54778ae7-4c8d-4b03-9644-13c89f3ef5dc",
   "metadata": {},
   "source": [
    "There are two main types of statistics: descriptive statistics and inferential statistics.\n",
    "\n",
    "Descriptive Statistics:\n",
    "Descriptive statistics involves the collection, presentation, and analysis of data to describe and summarize the main features of a dataset. This type of statistics is used to provide a summary of the data that is easily understood by others. Descriptive statistics include measures such as mean, median, mode, standard deviation, and range.\n",
    "Example: Descriptive statistics might be used to summarize the results of a survey by calculating the mean age, the percentage of respondents who answered each question in a certain way, and the standard deviation of the results.\n",
    "\n",
    "Inferential Statistics:\n",
    "Inferential statistics involves the use of data analysis techniques to make inferences about a population based on a sample of data. This type of statistics is used to draw conclusions about a population based on a subset of that population. Inferential statistics include techniques such as hypothesis testing, confidence intervals, and regression analysis.\n",
    "Example: Inferential statistics might be used to determine if there is a significant difference in the mean income of two different groups of people, such as men and women. A sample of data from each group would be taken and analyzed to draw conclusions about the larger population of men and women."
   ]
  },
  {
   "cell_type": "markdown",
   "id": "a573a026-9446-45c7-90cf-fb61292195b7",
   "metadata": {},
   "source": [
    "### Q3. What are the different types of data and how do they differ from each other? Provide an example of\n",
    "each type of data."
   ]
  },
  {
   "cell_type": "markdown",
   "id": "a5590046-f5d8-4288-b3ee-6ada8d19eed7",
   "metadata": {},
   "source": [
    "There are four main types of data: nominal, ordinal, interval, and ratio data. They differ from each other in terms of their level of measurement and the amount of information they provide.\n",
    "\n",
    "Nominal Data:\n",
    "Nominal data is the lowest level of measurement and is used to categorize data into discrete groups. The values assigned to each category do not have any inherent order or numerical value. Nominal data is typically represented by labels or names.\n",
    "Example: The gender of students in a class would be considered nominal data. The categories would be male and female, and each student would be assigned to one of these categories based on their gender.\n",
    "\n",
    "Ordinal Data:\n",
    "Ordinal data is used to categorize data into discrete groups, but the values assigned to each category have a specific order or ranking. However, the difference between the values cannot be determined.\n",
    "Example: A survey asking people to rate their level of agreement with a statement on a scale of 1 to 5 would be considered ordinal data. The categories would be strongly agree, agree, neutral, disagree, and strongly disagree. These categories have a specific order or ranking, but the difference between each value cannot be determined.\n",
    "\n",
    "Interval Data:\n",
    "Interval data is used to measure data on a scale where the difference between values is known and equal. However, there is no true zero point.\n",
    "Example: Temperature measurements are considered interval data. The difference between 10°C and 20°C is the same as the difference between 20°C and 30°C, but 0°C is an arbitrary point rather than a true zero point.\n",
    "\n",
    "Ratio Data:\n",
    "Ratio data is used to measure data on a scale where the difference between values is known and equal, and there is a true zero point.\n",
    "Example: The weight of objects is considered ratio data. The difference between 1kg and 2kg is the same as the difference between 2kg and 3kg, and 0kg represents an absence of weight."
   ]
  },
  {
   "cell_type": "markdown",
   "id": "0f351159-cca1-4c58-8018-366ff5ff07fd",
   "metadata": {},
   "source": [
    "### Q4. Categorise the following datasets with respect to quantitative and qualitative data types:\n",
    "(i) Grading in exam: A+, A, B+, B, C+, C, D, E\n",
    "(ii) Colour of mangoes: yellow, green, orange, red\n",
    "(iii) Height data of a class: [178.9, 179, 179.5, 176, 177.2, 178.3, 175.8,...]\n",
    "(iv) Number of mangoes exported by a farm: [500, 600, 478, 672, ...]"
   ]
  },
  {
   "cell_type": "markdown",
   "id": "aeddc571-2243-44ee-8670-7027f521c4cc",
   "metadata": {},
   "source": [
    "(i) Grading in exam: Qualitative data (ordinal)\n",
    "\n",
    "(ii) Colour of mangoes: Qualitative data (nominal)\n",
    "\n",
    "(iii) Height data of a class: Quantitative data (interval)\n",
    "\n",
    "(iv) Number of mangoes exported by a farm: Quantitative data (ratio)"
   ]
  },
  {
   "cell_type": "markdown",
   "id": "79ac0e07-794a-450d-b81e-564a87dd85f3",
   "metadata": {},
   "source": [
    "### Q5. Explain the concept of levels of measurement and give an example of a variable for each level."
   ]
  },
  {
   "cell_type": "markdown",
   "id": "157c8fd2-ea72-4296-ba31-ed66304d3903",
   "metadata": {},
   "source": [
    "The levels of measurement, also known as scales of measurement, refer to the different ways in which data can be measured and classified. There are four main levels of measurement: nominal, ordinal, interval, and ratio.\n",
    "\n",
    "Nominal level of measurement:\n",
    "Nominal data refers to data that is categorized or labeled, and the values assigned to each category are only used for identification purposes. Nominal data is the lowest level of measurement.\n",
    "Example: Eye color (brown, blue, green)\n",
    "\n",
    "Ordinal level of measurement:\n",
    "Ordinal data refers to data that is ranked or ordered, but the difference between values cannot be determined. The values assigned to each category have a specific order or ranking.\n",
    "Example: Grades in a class (A, B, C, D)\n",
    "\n",
    "Interval level of measurement:\n",
    "Interval data refers to data that is measured on a scale where the difference between values is known and equal, but there is no true zero point.\n",
    "Example: Temperature (0°C does not indicate the absence of temperature)\n",
    "\n",
    "Ratio level of measurement:\n",
    "Ratio data refers to data that is measured on a scale where the difference between values is known and equal, and there is a true zero point.\n",
    "Example: Height (0 cm indicates the absence of height)\n",
    "\n",
    "Understanding the level of measurement is important as it determines the type of statistical analysis that can be performed on the data. Different levels of measurement have different properties and limitations, and not all statistical techniques are appropriate for all levels of measurement."
   ]
  },
  {
   "cell_type": "markdown",
   "id": "72844799-4b10-4064-92c3-c704136c0897",
   "metadata": {},
   "source": [
    "### Q6. Why is it important to understand the level of measurement when analyzing data? Provide an\n",
    "example to illustrate your answer."
   ]
  },
  {
   "cell_type": "markdown",
   "id": "6136f841-88ca-419e-b105-c83526124894",
   "metadata": {},
   "source": [
    "It is important to understand the level of measurement when analyzing data because it determines the type of statistical analysis that can be performed on the data. Different levels of measurement have different properties and limitations, and not all statistical techniques are appropriate for all levels of measurement.\n",
    "\n",
    "For example, if a researcher wants to compare the average height of students in a class with the average height of students in another class, they need to use a statistical technique that is appropriate for interval data. However, if they want to compare the proportion of male and female students in each class, they need to use a statistical technique that is appropriate for nominal data.\n",
    "\n",
    "Using an inappropriate statistical technique can lead to inaccurate conclusions and invalid results. For instance, if a researcher used a mean and standard deviation to analyze nominal data, it would result in meaningless values, as nominal data is not quantitative and cannot be meaningfully averaged or measured in terms of standard deviation. Therefore, understanding the level of measurement is crucial for ensuring that the correct statistical analysis is used and accurate conclusions are drawn from the data."
   ]
  },
  {
   "cell_type": "markdown",
   "id": "25fed421-d1be-4507-8fab-be503e85d48d",
   "metadata": {},
   "source": [
    "### Q7. How nominal data type is different from ordinal data type."
   ]
  },
  {
   "cell_type": "markdown",
   "id": "dae56111-328f-4fa8-838e-170b51795787",
   "metadata": {},
   "source": [
    "Nominal data type is a type of categorical data where the values are used for identification purposes and are not ordered in any meaningful way. Nominal data can be represented using words, numbers or symbols.\n",
    "\n",
    "Ordinal data type, on the other hand, is a type of categorical data that has an inherent order or ranking. The values are ordered based on some criteria such as size, importance, or preference, but the difference between values is not necessarily known or meaningful.\n",
    "\n",
    "For example, if we consider the data type of car colors, it can be nominal since the different colors (blue, red, green, etc.) are not ordered in any meaningful way. However, if we consider the data type of academic grades (A, B, C, D, etc.), it can be considered ordinal because there is a specific order or ranking associated with these values (A is better than B, B is better than C, etc.).\n",
    "\n",
    "In summary, nominal data has no inherent order or ranking, whereas ordinal data has an order or ranking associated with its values."
   ]
  },
  {
   "cell_type": "markdown",
   "id": "e1e86839-f45d-435f-815b-e16db12458a4",
   "metadata": {},
   "source": [
    "### Q8. Which type of plot can be used to display data in terms of range?"
   ]
  },
  {
   "cell_type": "markdown",
   "id": "1b3de52f-7314-42a6-b1b9-ed19cb3aa2dc",
   "metadata": {},
   "source": [
    "A box plot, also known as a box-and-whisker plot, can be used to display data in terms of range. Box plots display the distribution of a set of data by showing the median, quartiles, and range of the data. The box represents the interquartile range (IQR), which is the range between the 25th and 75th percentiles of the data. The median is represented by a horizontal line within the box. The whiskers extend from the box to the minimum and maximum values in the data set.\n",
    "\n",
    "By using a box plot, one can quickly see the minimum and maximum values of the data set, as well as the range of the middle 50% of the data. This makes it a useful tool for identifying outliers, as they are represented by points outside of the whiskers.\n",
    "\n",
    "Overall, box plots are useful for comparing multiple data sets and identifying differences in their ranges, as well as for identifying the spread and central tendency of a single data set."
   ]
  },
  {
   "cell_type": "markdown",
   "id": "eea2e3ae-ab42-428c-80dc-ee0425c89e2b",
   "metadata": {},
   "source": [
    "### Q9. Describe the difference between descriptive and inferential statistics. Give an example of each\n",
    "type of statistics and explain how they are used."
   ]
  },
  {
   "cell_type": "markdown",
   "id": "6ce3500d-0d41-439e-9bac-80d1220723d2",
   "metadata": {},
   "source": [
    "Descriptive statistics and inferential statistics are two main branches of statistics that are used to analyze and interpret data.\n",
    "\n",
    "Descriptive statistics involve summarizing and describing the basic features of a data set, such as measures of central tendency (mean, median, mode) and measures of variability (range, standard deviation, variance). Descriptive statistics are used to provide a clear and concise summary of the data, without making any inferences beyond the data itself.\n",
    "\n",
    "For example, if we have a data set of test scores for a class of students, we can use descriptive statistics to calculate the mean, median, and standard deviation of the scores, which provides a clear picture of the performance of the class as a whole.\n",
    "\n",
    "Inferential statistics, on the other hand, involve making inferences or predictions about a population based on a sample of data. Inferential statistics are used to test hypotheses, estimate parameters, and make predictions about the population based on the sample data.\n",
    "\n",
    "For example, if we want to determine whether a new teaching method has a significant impact on student test scores, we can use inferential statistics to analyze the difference in scores between a control group (taught using the traditional method) and an experimental group (taught using the new method). By using inferential statistics, we can determine if the observed difference in scores is statistically significant or if it could be due to chance.\n",
    "\n",
    "In summary, descriptive statistics are used to describe and summarize the basic features of a data set, while inferential statistics are used to make inferences or predictions about a population based on a sample of data."
   ]
  },
  {
   "cell_type": "markdown",
   "id": "29da6083-4a83-4b4b-bc19-ea33000ab9ac",
   "metadata": {},
   "source": [
    "### Q10. What are some common measures of central tendency and variability used in statistics? Explain\n",
    "how each measure can be used to describe a dataset."
   ]
  },
  {
   "cell_type": "markdown",
   "id": "8b216a8e-7cbc-4286-946c-05919b796486",
   "metadata": {},
   "source": [
    "Measures of central tendency and variability are important descriptive statistics used to summarize and describe datasets.\n",
    "\n",
    "Measures of central tendency are used to describe the typical or central value in a dataset. The most common measures of central tendency are:\n",
    "\n",
    "Mean: The arithmetic average of a dataset, calculated by summing all the values in the dataset and dividing by the number of values. The mean is sensitive to outliers and can be skewed by extreme values.\n",
    "\n",
    "Median: The middle value in a dataset, with half the values above and half below it. The median is less sensitive to outliers than the mean.\n",
    "\n",
    "Mode: The most common value or values in a dataset. The mode is used for categorical or nominal data.\n",
    "\n",
    "Measures of variability are used to describe the spread or dispersion of a dataset. The most common measures of variability are:\n",
    "\n",
    "Range: The difference between the maximum and minimum values in a dataset. The range provides a simple measure of the spread of a dataset, but it is sensitive to outliers.\n",
    "\n",
    "Variance: The average of the squared differences between each value and the mean of the dataset. The variance provides a more precise measure of the spread of the data, but it is not in the same units as the original data.\n",
    "\n",
    "Standard deviation: The square root of the variance. The standard deviation provides a measure of the spread of the data in the same units as the original data. It is often used to identify outliers and to measure the precision of the mean.\n",
    "\n",
    "In summary, measures of central tendency are used to describe the typical or central value in a dataset, while measures of variability are used to describe the spread or dispersion of a dataset. By using both measures, we can gain a better understanding of the overall distribution of the data and make informed conclusions about the data."
   ]
  },
  {
   "cell_type": "code",
   "execution_count": null,
   "id": "695a8d4e-a491-4014-9b80-f142d9d37ada",
   "metadata": {},
   "outputs": [],
   "source": []
  },
  {
   "cell_type": "code",
   "execution_count": null,
   "id": "f06a3248-1666-41e2-935b-6c54d1ef571f",
   "metadata": {},
   "outputs": [],
   "source": []
  },
  {
   "cell_type": "code",
   "execution_count": null,
   "id": "508286c2-3b9f-49a1-ab82-b33e7f8d3902",
   "metadata": {},
   "outputs": [],
   "source": []
  },
  {
   "cell_type": "code",
   "execution_count": null,
   "id": "2ae3ad5e-0fcb-42bc-890c-6f49110e5717",
   "metadata": {},
   "outputs": [],
   "source": []
  },
  {
   "cell_type": "code",
   "execution_count": null,
   "id": "9ec0eadc-323c-4470-974f-a247bcf6900f",
   "metadata": {},
   "outputs": [],
   "source": []
  },
  {
   "cell_type": "code",
   "execution_count": null,
   "id": "b96a7102-66db-44d7-9dbd-3f2bcd3d0298",
   "metadata": {},
   "outputs": [],
   "source": []
  },
  {
   "cell_type": "code",
   "execution_count": null,
   "id": "dac2a3e6-8268-4908-a08b-1f14e876316f",
   "metadata": {},
   "outputs": [],
   "source": []
  },
  {
   "cell_type": "code",
   "execution_count": null,
   "id": "ddc8a727-e12d-4605-83b4-bf021828b646",
   "metadata": {},
   "outputs": [],
   "source": []
  },
  {
   "cell_type": "code",
   "execution_count": null,
   "id": "6117979a-a812-4d35-ba7d-94035041d033",
   "metadata": {},
   "outputs": [],
   "source": []
  },
  {
   "cell_type": "code",
   "execution_count": null,
   "id": "043e5519-68c6-4644-bd36-72a24b70d65d",
   "metadata": {},
   "outputs": [],
   "source": []
  },
  {
   "cell_type": "code",
   "execution_count": null,
   "id": "ff2b1801-6965-4de8-9e13-b490c6b6e2bc",
   "metadata": {},
   "outputs": [],
   "source": []
  },
  {
   "cell_type": "code",
   "execution_count": null,
   "id": "0e7b4fa0-e8e1-493e-a851-842b1f4144b1",
   "metadata": {},
   "outputs": [],
   "source": []
  },
  {
   "cell_type": "code",
   "execution_count": null,
   "id": "a551d025-ba79-400f-821f-16d3574a0c3a",
   "metadata": {},
   "outputs": [],
   "source": []
  },
  {
   "cell_type": "code",
   "execution_count": null,
   "id": "484f5a5f-0722-4d28-b0d3-a8adede153d1",
   "metadata": {},
   "outputs": [],
   "source": []
  },
  {
   "cell_type": "code",
   "execution_count": null,
   "id": "443eb4c5-ded0-4ec2-8445-1dc258ffed88",
   "metadata": {},
   "outputs": [],
   "source": []
  },
  {
   "cell_type": "code",
   "execution_count": null,
   "id": "0813573f-36df-4876-b728-656cc5df6afd",
   "metadata": {},
   "outputs": [],
   "source": []
  },
  {
   "cell_type": "code",
   "execution_count": null,
   "id": "417ba291-afe2-4f74-9ea6-a2247f97e2fb",
   "metadata": {},
   "outputs": [],
   "source": []
  },
  {
   "cell_type": "code",
   "execution_count": null,
   "id": "f3b5f273-3529-43f8-b511-fb7edd59b2be",
   "metadata": {},
   "outputs": [],
   "source": []
  },
  {
   "cell_type": "code",
   "execution_count": null,
   "id": "720998fe-92e3-48ac-b424-e7b28aaeb85b",
   "metadata": {},
   "outputs": [],
   "source": []
  },
  {
   "cell_type": "code",
   "execution_count": null,
   "id": "bae48fbd-9869-48a4-926c-c768d231086a",
   "metadata": {},
   "outputs": [],
   "source": []
  },
  {
   "cell_type": "code",
   "execution_count": null,
   "id": "f842765e-df1d-4e55-9cd6-814a311f878c",
   "metadata": {},
   "outputs": [],
   "source": []
  },
  {
   "cell_type": "code",
   "execution_count": null,
   "id": "a8d367a9-4a43-4f34-b4e2-ebc61d8c9e90",
   "metadata": {},
   "outputs": [],
   "source": []
  },
  {
   "cell_type": "code",
   "execution_count": null,
   "id": "37b6d2aa-9ef7-4c12-9b52-aaf61ee49e36",
   "metadata": {},
   "outputs": [],
   "source": []
  },
  {
   "cell_type": "code",
   "execution_count": null,
   "id": "b3eab95c-a225-43c1-b83e-ea4a21a48717",
   "metadata": {},
   "outputs": [],
   "source": []
  },
  {
   "cell_type": "code",
   "execution_count": null,
   "id": "874d18f6-957e-4f43-a46c-2328aa95d82f",
   "metadata": {},
   "outputs": [],
   "source": []
  },
  {
   "cell_type": "code",
   "execution_count": null,
   "id": "c59dac46-6fc4-4c59-913d-ce1fad6424d5",
   "metadata": {},
   "outputs": [],
   "source": []
  },
  {
   "cell_type": "code",
   "execution_count": null,
   "id": "d491eba3-f774-4986-be3d-689dd3f24e3b",
   "metadata": {},
   "outputs": [],
   "source": []
  },
  {
   "cell_type": "code",
   "execution_count": null,
   "id": "73ad6d03-df9a-4190-9210-58f2fa0a40cc",
   "metadata": {},
   "outputs": [],
   "source": []
  },
  {
   "cell_type": "code",
   "execution_count": null,
   "id": "d005831a-7ebb-4066-8c53-e09f0cd4e853",
   "metadata": {},
   "outputs": [],
   "source": []
  }
 ],
 "metadata": {
  "kernelspec": {
   "display_name": "Python 3 (ipykernel)",
   "language": "python",
   "name": "python3"
  },
  "language_info": {
   "codemirror_mode": {
    "name": "ipython",
    "version": 3
   },
   "file_extension": ".py",
   "mimetype": "text/x-python",
   "name": "python",
   "nbconvert_exporter": "python",
   "pygments_lexer": "ipython3",
   "version": "3.10.8"
  }
 },
 "nbformat": 4,
 "nbformat_minor": 5
}
