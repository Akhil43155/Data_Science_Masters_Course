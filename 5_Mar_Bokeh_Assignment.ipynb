{
 "cells": [
  {
   "cell_type": "markdown",
   "id": "8998ac0e-36ec-48a7-a31b-cfd1e1757b8b",
   "metadata": {},
   "source": [
    "### Q1. How can you create a Bokeh plot using Python code?"
   ]
  },
  {
   "cell_type": "markdown",
   "id": "e0470760-40e6-4e8c-bef1-d5f931e6d5fa",
   "metadata": {},
   "source": [
    "To create a Bokeh plot using Python code, you need to follow these general steps:\n",
    "\n",
    "Import the necessary packages, including Bokeh.\n",
    "Prepare the data that you want to plot.\n",
    "Create a figure object using the figure() function from the bokeh.plotting module.\n",
    "Add glyphs (markers, lines, etc.) to the figure using the various plotting functions such as line(), circle(), etc.\n",
    "Set various plot properties like title, axis labels, and plot background using the various attributes of the figure object.\n",
    "Show or save the plot using the show() or save() function.\n",
    "Here is an example code snippet that creates a simple Bokeh plot:"
   ]
  },
  {
   "cell_type": "code",
   "execution_count": 2,
   "id": "9d8ed47c-f205-42b3-9b18-68c91eda7974",
   "metadata": {},
   "outputs": [],
   "source": [
    "from bokeh.plotting import figure, output_file, show\n",
    "\n",
    "# Prepare the data\n",
    "x = [1, 2, 3, 4, 5]\n",
    "y = [6, 7, 2, 4, 5]\n",
    "\n",
    "# Create a figure object\n",
    "p = figure(title='Simple line plot', x_axis_label='X-axis', y_axis_label='Y-axis')\n",
    "\n",
    "# Add a line glyph to the figure\n",
    "p.line(x, y, legend_label='Line 1', line_width=2)\n",
    "\n",
    "# Set plot properties\n",
    "p.background_fill_color = 'beige'\n",
    "p.legend.title = 'Legend Title'\n",
    "\n",
    "# Show the plot\n",
    "show(p)\n"
   ]
  },
  {
   "cell_type": "markdown",
   "id": "b8b49156-b0bb-4f88-9315-3e942bd7a8a2",
   "metadata": {},
   "source": [
    "This will create a simple line plot with a beige background and a legend. The show() function will open the plot in a new browser tab. You can also save the plot to a file by calling the output_file() function before show()."
   ]
  },
  {
   "cell_type": "markdown",
   "id": "b5a5f8f3-60e0-4ee9-b01b-6798e7e4913b",
   "metadata": {},
   "source": [
    "### Q2. What are glyphs in Bokeh, and how can you add them to a Bokeh plot? Explain with an example."
   ]
  },
  {
   "cell_type": "markdown",
   "id": "7b9fa9bd-cd9f-427a-aecf-263e4b664e1c",
   "metadata": {},
   "source": [
    "In Bokeh, glyphs are visual markers that represent data points in a plot. Bokeh provides a variety of glyphs such as circles, squares, triangles, lines, and more.\n",
    "\n",
    "To add glyphs to a Bokeh plot, you can use the figure() function to create a figure object, and then use the glyph functions such as circle(), square(), or line() to add the desired glyph to the plot. You can then customize the glyph appearance by setting various attributes such as size, color, and alpha.\n",
    "\n",
    "Here's an example of adding glyphs to a Bokeh plot:"
   ]
  },
  {
   "cell_type": "code",
   "execution_count": 3,
   "id": "65bbdb69-2d74-47fc-afca-e65c6e8e9f78",
   "metadata": {},
   "outputs": [],
   "source": [
    "from bokeh.plotting import figure, show\n",
    "\n",
    "# Create a figure object with x and y range\n",
    "p = figure(x_range=(0, 10), y_range=(0, 10))\n",
    "\n",
    "# Add circle glyph with x and y coordinates, size, and color\n",
    "p.circle(x=[1, 3, 5, 7, 9], y=[2, 4, 6, 8, 10], size=20, fill_color='red')\n",
    "\n",
    "# Add square glyph with x and y coordinates, size, and color\n",
    "p.square(x=[2, 4, 6, 8], y=[1, 3, 5, 7], size=20, fill_color='blue')\n",
    "\n",
    "# Show the plot\n",
    "show(p)\n"
   ]
  },
  {
   "cell_type": "markdown",
   "id": "bf24fce1-f2fe-4c66-8d7d-cb6b63ac2d98",
   "metadata": {},
   "source": [
    "In this example, we create a figure object with an x-range of 0 to 10 and a y-range of 0 to 10. We then add a circle glyph with x-coordinates [1, 3, 5, 7, 9] and y-coordinates [2, 4, 6, 8, 10], a size of 20, and a fill color of red. We also add a square glyph with x-coordinates [2, 4, 6, 8] and y-coordinates [1, 3, 5, 7], a size of 20, and a fill color of blue. Finally, we show the plot using the show() function."
   ]
  },
  {
   "cell_type": "markdown",
   "id": "dd0196d6-d3dd-4cf1-9745-1a9175301df2",
   "metadata": {},
   "source": [
    "### Q3. How can you customize the appearance of a Bokeh plot, including the axes, title, and legend?"
   ]
  },
  {
   "cell_type": "markdown",
   "id": "d28d4e98-998c-4c72-be9e-97871399b958",
   "metadata": {},
   "source": [
    "You can customize the appearance of a Bokeh plot using various attributes and properties of the plot and its components. Here are some examples:\n",
    "\n",
    "Axes: You can customize the appearance of the axes using the following properties:\n",
    "\n",
    "axis_label: sets the label for the axis.\n",
    "axis_label_text_font_size: sets the font size for the axis label.\n",
    "major_label_text_font_size: sets the font size for the major tick labels.\n",
    "minor_tick_line_color: sets the color for the minor tick lines.\n",
    "For example, to set the x-axis label to \"X-axis\", and increase the font size of the y-axis tick labels, you can use the following code:"
   ]
  },
  {
   "cell_type": "code",
   "execution_count": 4,
   "id": "8cca8e15-269c-4c20-88f6-c02989d5150e",
   "metadata": {},
   "outputs": [],
   "source": [
    "p.xaxis.axis_label = \"X-axis\"\n",
    "p.yaxis.major_label_text_font_size = \"14pt\"\n"
   ]
  },
  {
   "cell_type": "markdown",
   "id": "a55eff3e-44fa-45de-a6e3-2f457b5f9929",
   "metadata": {},
   "source": [
    "Title: You can customize the title of the plot using the following properties:\n",
    "\n",
    "title: sets the title for the plot.\n",
    "title_text_font_size: sets the font size for the title.\n",
    "For example, to set the title of the plot to \"My Plot\", and increase the font size of the title, you can use the following code:"
   ]
  },
  {
   "cell_type": "code",
   "execution_count": 5,
   "id": "9b54100f-76a9-4d8c-9648-dcdde208b50f",
   "metadata": {},
   "outputs": [],
   "source": [
    "p.title.text = \"My Plot\"\n",
    "p.title.text_font_size = \"16pt\"\n"
   ]
  },
  {
   "cell_type": "markdown",
   "id": "2118f228-0b5a-49c1-9790-7cc270b3d88d",
   "metadata": {},
   "source": [
    "Legend: You can customize the legend of the plot using the following properties:\n",
    "\n",
    "title: sets the title for the legend.\n",
    "label_text_font_size: sets the font size for the legend labels.\n",
    "location: sets the location of the legend.\n",
    "For example, to set the title of the legend to \"My Legend\", and move the legend to the top-right corner of the plot, you can use the following code:"
   ]
  },
  {
   "cell_type": "code",
   "execution_count": 6,
   "id": "37eb9460-c8b7-4499-98bf-d7c8722b5cb7",
   "metadata": {},
   "outputs": [
    {
     "name": "stderr",
     "output_type": "stream",
     "text": [
      "/tmp/ipykernel_155/3209006397.py:1: UserWarning: \n",
      "You are attempting to set `plot.legend.title` on a plot that has zero legends added, this will have no effect.\n",
      "\n",
      "Before legend properties can be set, you must add a Legend explicitly, or call a glyph method with a legend parameter set.\n",
      "\n",
      "  p.legend.title = \"My Legend\"\n",
      "/tmp/ipykernel_155/3209006397.py:2: UserWarning: \n",
      "You are attempting to set `plot.legend.location` on a plot that has zero legends added, this will have no effect.\n",
      "\n",
      "Before legend properties can be set, you must add a Legend explicitly, or call a glyph method with a legend parameter set.\n",
      "\n",
      "  p.legend.location = \"top_right\"\n"
     ]
    }
   ],
   "source": [
    "p.legend.title = \"My Legend\"\n",
    "p.legend.location = \"top_right\"\n"
   ]
  },
  {
   "cell_type": "markdown",
   "id": "497cd2cb-480d-4ad1-8e16-760e3dc34cb3",
   "metadata": {},
   "source": [
    "These are just a few examples of how you can customize the appearance of a Bokeh plot. Bokeh provides many more properties and attributes that you can use to customize your plot."
   ]
  },
  {
   "cell_type": "markdown",
   "id": "8ed16af5-eb1f-4cad-b584-015baf247457",
   "metadata": {},
   "source": [
    "### Q4. What is a Bokeh server, and how can you use it to create interactive plots that can be updated in\n",
    "real time?"
   ]
  },
  {
   "cell_type": "markdown",
   "id": "f95dd0f0-5e51-4105-a209-95fca58c90a8",
   "metadata": {},
   "source": [
    "A Bokeh server is a Python process that runs a Bokeh application, which serves one or more interactive Bokeh plots or widgets to one or more web browsers. Bokeh server allows for creating highly customizable and interactive visualizations that can be updated in real time in response to user inputs, data updates, or periodic callbacks.\n",
    "\n",
    "To use the Bokeh server, you need to create a Python script that defines the Bokeh application with the interactive plots or widgets. The application can have multiple routes, each serving a different page or view with its own set of plots and widgets. The application can also define one or more update functions or callbacks that modify the data or properties of the plots or widgets in response to events or user inputs.\n",
    "\n",
    "Once you have defined the Bokeh application, you can run the Bokeh server by calling the bokeh serve command with the Python script as an argument. The server will start a local or remote server that listens to incoming connections on a specified port and serves the application to any web browser that requests it. The server can also handle multiple simultaneous sessions, each with its own set of plots and widgets and its own state.\n",
    "\n",
    "Here's an example of a simple Bokeh application that uses a Bokeh server to display an interactive scatter plot with sliders to control the x and y coordinates and the size of the markers:"
   ]
  },
  {
   "cell_type": "code",
   "execution_count": 7,
   "id": "478e1f11-036a-42cd-8efb-b675a4c1eb83",
   "metadata": {},
   "outputs": [
    {
     "ename": "AttributeError",
     "evalue": "unexpected attribute 'plot_width' to figure, similar attributes are outer_width, width or min_width",
     "output_type": "error",
     "traceback": [
      "\u001b[0;31m---------------------------------------------------------------------------\u001b[0m",
      "\u001b[0;31mAttributeError\u001b[0m                            Traceback (most recent call last)",
      "Cell \u001b[0;32mIn[7], line 10\u001b[0m\n\u001b[1;32m      7\u001b[0m source \u001b[38;5;241m=\u001b[39m ColumnDataSource(data\u001b[38;5;241m=\u001b[39m\u001b[38;5;28mdict\u001b[39m(x\u001b[38;5;241m=\u001b[39m[\u001b[38;5;241m1\u001b[39m, \u001b[38;5;241m2\u001b[39m, \u001b[38;5;241m3\u001b[39m, \u001b[38;5;241m4\u001b[39m, \u001b[38;5;241m5\u001b[39m], y\u001b[38;5;241m=\u001b[39m[\u001b[38;5;241m2\u001b[39m, \u001b[38;5;241m4\u001b[39m, \u001b[38;5;241m6\u001b[39m, \u001b[38;5;241m8\u001b[39m, \u001b[38;5;241m10\u001b[39m], size\u001b[38;5;241m=\u001b[39m[\u001b[38;5;241m10\u001b[39m, \u001b[38;5;241m20\u001b[39m, \u001b[38;5;241m30\u001b[39m, \u001b[38;5;241m40\u001b[39m, \u001b[38;5;241m50\u001b[39m]))\n\u001b[1;32m      9\u001b[0m \u001b[38;5;66;03m# Create a figure with some initial settings\u001b[39;00m\n\u001b[0;32m---> 10\u001b[0m plot \u001b[38;5;241m=\u001b[39m \u001b[43mfigure\u001b[49m\u001b[43m(\u001b[49m\u001b[43mplot_width\u001b[49m\u001b[38;5;241;43m=\u001b[39;49m\u001b[38;5;241;43m400\u001b[39;49m\u001b[43m,\u001b[49m\u001b[43m \u001b[49m\u001b[43mplot_height\u001b[49m\u001b[38;5;241;43m=\u001b[39;49m\u001b[38;5;241;43m400\u001b[39;49m\u001b[43m,\u001b[49m\u001b[43m \u001b[49m\u001b[43mtitle\u001b[49m\u001b[38;5;241;43m=\u001b[39;49m\u001b[38;5;124;43m'\u001b[39;49m\u001b[38;5;124;43mInteractive Scatter Plot\u001b[39;49m\u001b[38;5;124;43m'\u001b[39;49m\u001b[43m)\u001b[49m\n\u001b[1;32m     11\u001b[0m plot\u001b[38;5;241m.\u001b[39mcircle(x\u001b[38;5;241m=\u001b[39m\u001b[38;5;124m'\u001b[39m\u001b[38;5;124mx\u001b[39m\u001b[38;5;124m'\u001b[39m, y\u001b[38;5;241m=\u001b[39m\u001b[38;5;124m'\u001b[39m\u001b[38;5;124my\u001b[39m\u001b[38;5;124m'\u001b[39m, size\u001b[38;5;241m=\u001b[39m\u001b[38;5;124m'\u001b[39m\u001b[38;5;124msize\u001b[39m\u001b[38;5;124m'\u001b[39m, color\u001b[38;5;241m=\u001b[39m\u001b[38;5;124m'\u001b[39m\u001b[38;5;124mblue\u001b[39m\u001b[38;5;124m'\u001b[39m, alpha\u001b[38;5;241m=\u001b[39m\u001b[38;5;241m0.5\u001b[39m, source\u001b[38;5;241m=\u001b[39msource)\n\u001b[1;32m     13\u001b[0m \u001b[38;5;66;03m# Create sliders for x, y, and size\u001b[39;00m\n",
      "File \u001b[0;32m/opt/conda/lib/python3.10/site-packages/bokeh/plotting/_figure.py:190\u001b[0m, in \u001b[0;36mfigure.__init__\u001b[0;34m(self, *arg, **kw)\u001b[0m\n\u001b[1;32m    188\u001b[0m \u001b[38;5;28;01mfor\u001b[39;00m name \u001b[38;5;129;01min\u001b[39;00m kw\u001b[38;5;241m.\u001b[39mkeys():\n\u001b[1;32m    189\u001b[0m     \u001b[38;5;28;01mif\u001b[39;00m name \u001b[38;5;129;01mnot\u001b[39;00m \u001b[38;5;129;01min\u001b[39;00m names:\n\u001b[0;32m--> 190\u001b[0m         \u001b[38;5;28;43mself\u001b[39;49m\u001b[38;5;241;43m.\u001b[39;49m\u001b[43m_raise_attribute_error_with_matches\u001b[49m\u001b[43m(\u001b[49m\u001b[43mname\u001b[49m\u001b[43m,\u001b[49m\u001b[43m \u001b[49m\u001b[43mnames\u001b[49m\u001b[43m \u001b[49m\u001b[38;5;241;43m|\u001b[39;49m\u001b[43m \u001b[49m\u001b[43mopts\u001b[49m\u001b[38;5;241;43m.\u001b[39;49m\u001b[43mproperties\u001b[49m\u001b[43m(\u001b[49m\u001b[43m)\u001b[49m\u001b[43m)\u001b[49m\n\u001b[1;32m    192\u001b[0m \u001b[38;5;28msuper\u001b[39m()\u001b[38;5;241m.\u001b[39m\u001b[38;5;21m__init__\u001b[39m(\u001b[38;5;241m*\u001b[39marg, \u001b[38;5;241m*\u001b[39m\u001b[38;5;241m*\u001b[39mkw)\n\u001b[1;32m    194\u001b[0m \u001b[38;5;28mself\u001b[39m\u001b[38;5;241m.\u001b[39mx_range \u001b[38;5;241m=\u001b[39m get_range(opts\u001b[38;5;241m.\u001b[39mx_range)\n",
      "File \u001b[0;32m/opt/conda/lib/python3.10/site-packages/bokeh/core/has_props.py:368\u001b[0m, in \u001b[0;36mHasProps._raise_attribute_error_with_matches\u001b[0;34m(self, name, properties)\u001b[0m\n\u001b[1;32m    365\u001b[0m \u001b[38;5;28;01mif\u001b[39;00m \u001b[38;5;129;01mnot\u001b[39;00m matches:\n\u001b[1;32m    366\u001b[0m     matches, text \u001b[38;5;241m=\u001b[39m \u001b[38;5;28msorted\u001b[39m(properties), \u001b[38;5;124m\"\u001b[39m\u001b[38;5;124mpossible\u001b[39m\u001b[38;5;124m\"\u001b[39m\n\u001b[0;32m--> 368\u001b[0m \u001b[38;5;28;01mraise\u001b[39;00m \u001b[38;5;167;01mAttributeError\u001b[39;00m(\u001b[38;5;124mf\u001b[39m\u001b[38;5;124m\"\u001b[39m\u001b[38;5;124munexpected attribute \u001b[39m\u001b[38;5;132;01m{\u001b[39;00mname\u001b[38;5;132;01m!r}\u001b[39;00m\u001b[38;5;124m to \u001b[39m\u001b[38;5;132;01m{\u001b[39;00m\u001b[38;5;28mself\u001b[39m\u001b[38;5;241m.\u001b[39m\u001b[38;5;18m__class__\u001b[39m\u001b[38;5;241m.\u001b[39m\u001b[38;5;18m__name__\u001b[39m\u001b[38;5;132;01m}\u001b[39;00m\u001b[38;5;124m, \u001b[39m\u001b[38;5;132;01m{\u001b[39;00mtext\u001b[38;5;132;01m}\u001b[39;00m\u001b[38;5;124m attributes are \u001b[39m\u001b[38;5;132;01m{\u001b[39;00mnice_join(matches)\u001b[38;5;132;01m}\u001b[39;00m\u001b[38;5;124m\"\u001b[39m)\n",
      "\u001b[0;31mAttributeError\u001b[0m: unexpected attribute 'plot_width' to figure, similar attributes are outer_width, width or min_width"
     ]
    }
   ],
   "source": [
    "from bokeh.io import curdoc\n",
    "from bokeh.layouts import column\n",
    "from bokeh.models import ColumnDataSource, Slider\n",
    "from bokeh.plotting import figure\n",
    "\n",
    "# Create a data source with some random data\n",
    "source = ColumnDataSource(data=dict(x=[1, 2, 3, 4, 5], y=[2, 4, 6, 8, 10], size=[10, 20, 30, 40, 50]))\n",
    "\n",
    "# Create a figure with some initial settings\n",
    "plot = figure(plot_width=400, plot_height=400, title='Interactive Scatter Plot')\n",
    "plot.circle(x='x', y='y', size='size', color='blue', alpha=0.5, source=source)\n",
    "\n",
    "# Create sliders for x, y, and size\n",
    "x_slider = Slider(title='X', value=0, start=0, end=10, step=0.1)\n",
    "y_slider = Slider(title='Y', value=0, start=0, end=10, step=0.1)\n",
    "size_slider = Slider(title='Size', value=1, start=1, end=50, step=1)\n",
    "\n",
    "# Define a callback function that updates the data source\n",
    "def update_data(attrname, old, new):\n",
    "    source.data = dict(\n",
    "        x=[x_slider.value, 2*x_slider.value, 3*x_slider.value, 4*x_slider.value, 5*x_slider.value],\n",
    "        y=[y_slider.value, 2*y_slider.value, 3*y_slider.value, 4*y_slider.value, 5*y_slider.value],\n",
    "        size=[size_slider.value, 2*size_slider.value, 3*size_slider.value, 4*size_slider.value, 5*size_slider.value],\n",
    "    )\n",
    "\n",
    "# Attach the callback functions to the sliders\n",
    "for slider in [x_slider, y_slider, size_slider]:\n",
    "    slider.on_change('value', update_data)\n",
    "\n",
    "# Create a layout for the sliders and the plot\n",
    "layout = column(x_slider, y_slider, size_slider, plot)\n",
    "\n",
    "# Add the layout to the current document\n",
    "curdoc().add_root(layout)\n"
   ]
  },
  {
   "cell_type": "markdown",
   "id": "3eba98d9-99de-4a20-bd3f-cfe34a46dec9",
   "metadata": {},
   "source": [
    "To run this application with the Bokeh server, save the script as a file (e.g., myapp.py) and run the following command in a terminal:"
   ]
  },
  {
   "cell_type": "markdown",
   "id": "4c39f059-0208-4282-82c0-9cd239439de0",
   "metadata": {},
   "source": [
    "### Q5. How can you embed a Bokeh plot into a web page or dashboard using Flask or Django?"
   ]
  },
  {
   "cell_type": "markdown",
   "id": "fb7f6244-d62f-4672-985b-a8e8bd3dafa6",
   "metadata": {},
   "source": [
    "To embed a Bokeh plot into a web page or dashboard using Flask or Django, you need to follow these steps:\n",
    "\n",
    "Create a Bokeh plot as usual using Bokeh libraries.\n",
    "Create a Flask or Django application or add the Bokeh plot to an existing application.\n",
    "In the Flask or Django view function, render the Bokeh plot using the components function from the bokeh.embed module.\n",
    "In the HTML template file, add the Bokeh plot's JavaScript and div tags using the script and div functions returned by the components function.\n",
    "Here's an example of embedding a Bokeh plot into a Flask application:"
   ]
  },
  {
   "cell_type": "code",
   "execution_count": 10,
   "id": "a33fb486-9146-4b76-ad42-816181e07113",
   "metadata": {},
   "outputs": [
    {
     "name": "stdout",
     "output_type": "stream",
     "text": [
      "Collecting flask\n",
      "  Downloading Flask-2.2.3-py3-none-any.whl (101 kB)\n",
      "\u001b[2K     \u001b[90m━━━━━━━━━━━━━━━━━━━━━━━━━━━━━━━━━━━━━━━\u001b[0m \u001b[32m101.8/101.8 kB\u001b[0m \u001b[31m1.7 MB/s\u001b[0m eta \u001b[36m0:00:00\u001b[0ma \u001b[36m0:00:01\u001b[0m\n",
      "\u001b[?25hCollecting Werkzeug>=2.2.2\n",
      "  Downloading Werkzeug-2.2.3-py3-none-any.whl (233 kB)\n",
      "\u001b[2K     \u001b[90m━━━━━━━━━━━━━━━━━━━━━━━━━━━━━━━━━━━━━━━\u001b[0m \u001b[32m233.6/233.6 kB\u001b[0m \u001b[31m5.5 MB/s\u001b[0m eta \u001b[36m0:00:00\u001b[0ma \u001b[36m0:00:01\u001b[0m\n",
      "\u001b[?25hRequirement already satisfied: click>=8.0 in /opt/conda/lib/python3.10/site-packages (from flask) (8.1.3)\n",
      "Collecting itsdangerous>=2.0\n",
      "  Downloading itsdangerous-2.1.2-py3-none-any.whl (15 kB)\n",
      "Requirement already satisfied: Jinja2>=3.0 in /opt/conda/lib/python3.10/site-packages (from flask) (3.1.2)\n",
      "Requirement already satisfied: MarkupSafe>=2.0 in /opt/conda/lib/python3.10/site-packages (from Jinja2>=3.0->flask) (2.1.1)\n",
      "Installing collected packages: Werkzeug, itsdangerous, flask\n",
      "Successfully installed Werkzeug-2.2.3 flask-2.2.3 itsdangerous-2.1.2\n",
      "Note: you may need to restart the kernel to use updated packages.\n"
     ]
    }
   ],
   "source": [
    "pip install flask"
   ]
  },
  {
   "cell_type": "code",
   "execution_count": null,
   "id": "a36905ba-5088-4b04-9950-92651d94a02f",
   "metadata": {},
   "outputs": [
    {
     "name": "stdout",
     "output_type": "stream",
     "text": [
      " * Serving Flask app '__main__'\n",
      " * Debug mode: off\n"
     ]
    },
    {
     "name": "stderr",
     "output_type": "stream",
     "text": [
      "WARNING: This is a development server. Do not use it in a production deployment. Use a production WSGI server instead.\n",
      " * Running on http://127.0.0.1:5000\n",
      "Press CTRL+C to quit\n"
     ]
    }
   ],
   "source": [
    "from flask import Flask, render_template\n",
    "from bokeh.embed import components\n",
    "from bokeh.plotting import figure\n",
    "from bokeh.resources import CDN\n",
    "\n",
    "app = Flask(__name__)\n",
    "\n",
    "@app.route('/')\n",
    "def index():\n",
    "    # Create a Bokeh plot\n",
    "    plot = figure()\n",
    "    plot.circle([1,2,3], [4,5,6])\n",
    "\n",
    "    # Get the Bokeh plot's JavaScript and div tags\n",
    "    script, div = components(plot, CDN)\n",
    "\n",
    "    # Render the HTML template with the Bokeh plot\n",
    "    return render_template('index.html', script=script, div=div)\n",
    "\n",
    "if __name__ == '__main__':\n",
    "    app.run()\n"
   ]
  },
  {
   "cell_type": "code",
   "execution_count": null,
   "id": "a36eda68-2fc6-4ce5-b266-bc0e35e89ee3",
   "metadata": {},
   "outputs": [],
   "source": []
  }
 ],
 "metadata": {
  "kernelspec": {
   "display_name": "Python 3 (ipykernel)",
   "language": "python",
   "name": "python3"
  },
  "language_info": {
   "codemirror_mode": {
    "name": "ipython",
    "version": 3
   },
   "file_extension": ".py",
   "mimetype": "text/x-python",
   "name": "python",
   "nbconvert_exporter": "python",
   "pygments_lexer": "ipython3",
   "version": "3.10.8"
  }
 },
 "nbformat": 4,
 "nbformat_minor": 5
}
