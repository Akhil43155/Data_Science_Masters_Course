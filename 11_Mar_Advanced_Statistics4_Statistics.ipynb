{
 "cells": [
  {
   "cell_type": "markdown",
   "id": "9b8b6b67-5781-45e0-ab0e-6d020cfc9d82",
   "metadata": {},
   "source": [
    "### Q1: What is the difference between a t-test and a z-test? Provide an example scenario where you would \n",
    "use each type of test."
   ]
  },
  {
   "cell_type": "markdown",
   "id": "71fe28d4-91c5-418b-acdf-bf72b33b4a06",
   "metadata": {},
   "source": [
    "The t-test and z-test are both statistical tests used to make inferences about population parameters based on sample statistics. The key difference between them is the type of data they are suitable for.\n",
    "\n",
    "A z-test is used when the population variance is known and the sample size is large (typically n > 30), while a t-test is used when the population variance is unknown and the sample size is small (typically n < 30).\n",
    "\n",
    "An example scenario where a z-test would be appropriate is when we want to test the hypothesis that the population mean of a certain variable is equal to a specific value, and the population standard deviation is known. For instance, a researcher may want to test whether the average height of all adults in a population is 68 inches, given that the population standard deviation is known to be 2.5 inches. In this case, a z-test would be used to determine whether the sample mean height is significantly different from the hypothesized value of 68 inches.\n",
    "\n",
    "On the other hand, an example scenario where a t-test would be appropriate is when we want to test the hypothesis that the population mean of a certain variable is equal to a specific value, but the population standard deviation is unknown. For example, a researcher may want to test whether a new drug treatment improves the memory performance of patients with Alzheimer's disease, and the sample size is small. In this case, a t-test would be used to determine whether the sample mean memory score is significantly different from the hypothesized value.\n",
    "\n",
    "In summary, the choice between a t-test and a z-test depends on the nature of the data and the characteristics of the sample, particularly the sample size and whether the population standard deviation is known or unknown."
   ]
  },
  {
   "cell_type": "markdown",
   "id": "773514b2-090a-4906-a0c1-1ea5b2b6ef39",
   "metadata": {},
   "source": [
    "### Q2: Differentiate between one-tailed and two-tailed tests."
   ]
  },
  {
   "cell_type": "markdown",
   "id": "3f04de06-d8df-4dd5-ab3f-aded7f3886c5",
   "metadata": {},
   "source": [
    "In hypothesis testing, a one-tailed test is a statistical test where the alternative hypothesis is stated as being either greater than or less than the null hypothesis value, but not both. This means that the critical region of the test is located in one tail of the distribution.\n",
    "\n",
    "For example, suppose we are interested in testing the hypothesis that a new drug reduces the average blood pressure of patients. A one-tailed test would involve testing the null hypothesis that the drug has no effect or increases the average blood pressure against the alternative hypothesis that the drug reduces the average blood pressure.\n",
    "\n",
    "On the other hand, a two-tailed test is a statistical test where the alternative hypothesis is stated as being different than the null hypothesis value. This means that the critical region of the test is located in both tails of the distribution.\n",
    "\n",
    "For example, suppose we are interested in testing the hypothesis that the average height of students in a college is different from 68 inches. A two-tailed test would involve testing the null hypothesis that the average height is 68 inches against the alternative hypothesis that the average height is either greater or less than 68 inches."
   ]
  },
  {
   "cell_type": "markdown",
   "id": "d3ede5b7-a3bc-40f6-abe8-7b8820dda341",
   "metadata": {},
   "source": [
    "### Q3: Explain the concept of Type 1 and Type 2 errors in hypothesis testing. Provide an example scenario for \n",
    "each type of error."
   ]
  },
  {
   "cell_type": "markdown",
   "id": "0427bd84-6bb3-4c08-a6ac-fab8f5f07afe",
   "metadata": {},
   "source": [
    "In hypothesis testing, Type 1 and Type 2 errors refer to the two types of errors that can occur when making a decision based on a statistical test.\n",
    "\n",
    "Type 1 error, also known as a false positive, occurs when the null hypothesis is rejected when it is actually true. This means that a significant result is found when there is no real effect in the population. The probability of making a Type 1 error is denoted by the symbol alpha (α), and is usually set at 0.05 or 0.01.\n",
    "\n",
    "Example scenario: A new drug is being tested to see if it reduces the risk of heart disease. A Type 1 error would occur if the study concludes that the drug is effective in reducing the risk of heart disease, when in reality it has no effect.\n",
    "\n",
    "Type 2 error, also known as a false negative, occurs when the null hypothesis is not rejected when it is actually false. This means that a significant effect exists in the population, but it is not detected in the sample. The probability of making a Type 2 error is denoted by the symbol beta (β).\n",
    "\n",
    "Example scenario: A new medical test is being developed to detect a certain disease. A Type 2 error would occur if the test fails to detect the disease in patients who actually have it.\n",
    "\n",
    "It is important to balance the risks of Type 1 and Type 2 errors when designing a study and interpreting the results. Increasing the sample size can help to reduce the risk of both types of errors."
   ]
  },
  {
   "cell_type": "markdown",
   "id": "00f70690-315a-4be3-9e42-86f4e35e428e",
   "metadata": {},
   "source": [
    "### Q4:  Explain Bayes's theorem with an example."
   ]
  },
  {
   "cell_type": "markdown",
   "id": "3e0aa810-f1a4-4fa6-9eb4-d3dffa124d53",
   "metadata": {},
   "source": [
    "Bayes' theorem is a probability formula that helps in determining the probability of an event based on prior knowledge of related conditions. It provides a way to update our beliefs as new evidence becomes available. It is named after an English mathematician and Presbyterian minister, Thomas Bayes. Bayes' theorem is often used in machine learning, artificial intelligence, and statistics to make predictions.\n",
    "\n",
    "The formula for Bayes' theorem is:\n",
    "\n",
    "P(A|B) = P(B|A) * P(A) / P(B)\n",
    "\n",
    "Where:\n",
    "\n",
    "P(A|B) is the probability of A given B\n",
    "P(B|A) is the probability of B given A\n",
    "P(A) is the prior probability of A\n",
    "P(B) is the prior probability of B\n",
    "Here is an example scenario to understand Bayes' theorem:\n",
    "\n",
    "Suppose we have a rare disease that affects 1% of the population. There is a test to detect the disease, but it is not perfect. The test has a false positive rate of 5%, which means that 5% of healthy people will test positive for the disease. The test also has a false negative rate of 10%, which means that 10% of people with the disease will test negative.\n",
    "\n",
    "Now, let's say a person tests positive for the disease. What is the probability that they actually have the disease?\n",
    "\n",
    "Using Bayes' theorem, we can calculate the probability as follows:\n",
    "\n",
    "P(A) = 0.01 (the prior probability of having the disease)\n",
    "P(B|A) = 0.9 (the probability of testing positive given that the person has the disease)\n",
    "P(B|not A) = 0.05 (the probability of testing positive given that the person does not have the disease)\n",
    "P(not A) = 0.99 (the prior probability of not having the disease)\n",
    "Plugging these values into the formula, we get:\n",
    "\n",
    "P(A|B) = P(B|A) * P(A) / [P(B|A) * P(A) + P(B|not A) * P(not A)]\n",
    "= 0.9 * 0.01 / [0.9 * 0.01 + 0.05 * 0.99]\n",
    "= 0.153\n",
    "\n",
    "This means that the probability of the person actually having the disease, given that they tested positive, is only 15.3%. In other words, there is an 84.7% chance that the positive test result was a false positive.\n",
    "\n",
    "This example demonstrates how Bayes' theorem can be used to update our beliefs about the probability of an event based on new information (in this case, the results of a diagnostic test).\n",
    "\n",
    "\n",
    "\n"
   ]
  },
  {
   "cell_type": "markdown",
   "id": "eaabff51-1acc-4f71-bc15-e8b9cd9792e8",
   "metadata": {},
   "source": [
    "### Q5: What is a confidence interval? How to calculate the confidence interval, explain with an example."
   ]
  },
  {
   "cell_type": "markdown",
   "id": "d10cfef5-4fa8-48d5-ab5e-e204ffd9e631",
   "metadata": {},
   "source": [
    "A confidence interval is a range of values that is likely to contain an unknown population parameter with a certain level of confidence. It is a statistical measure of the uncertainty associated with a sample estimate of a population parameter.\n",
    "\n",
    "To calculate a confidence interval, we need to have a sample of data and an estimate of the population parameter based on that sample. The formula for calculating a confidence interval for a population mean is:\n",
    "\n",
    "CI = X̄ ± z*(σ/√n)\n",
    "\n",
    "Where:\n",
    "\n",
    "X̄ is the sample mean\n",
    "σ is the population standard deviation\n",
    "n is the sample size\n",
    "z is the z-score based on the desired level of confidence\n",
    "For example, suppose we want to estimate the average height of all students in a university with a 95% confidence interval. We take a random sample of 50 students and find that the sample mean height is 170 cm with a standard deviation of 5 cm. We can use the formula above to calculate the confidence interval:\n",
    "\n",
    "CI = 170 ± 1.96*(5/√50) = (168.5, 171.5)\n",
    "\n",
    "This means that we are 95% confident that the true average height of all students in the university lies between 168.5 cm and 171.5 cm."
   ]
  },
  {
   "cell_type": "markdown",
   "id": "39216c12-9974-4558-bb65-0f26a074481b",
   "metadata": {},
   "source": [
    "### Q6. Use Bayes' Theorem to calculate the probability of an event occurring given prior knowledge of the \n",
    "event's probability and new evidence. Provide a sample problem and solution."
   ]
  },
  {
   "cell_type": "markdown",
   "id": "d1cef444-bc0d-42b2-848e-c3d72e2be2ec",
   "metadata": {},
   "source": [
    "A medical test has a true positive rate of 95% and a false positive rate of 5%. If a patient tests positive for a certain disease, what is the probability that they actually have the disease if the incidence rate of the disease in the population is 1%?\n",
    "\n",
    "Solution:\n",
    "\n",
    "Let A be the event that a patient has the disease and B be the event that the patient tests positive.\n",
    "\n",
    "We are given:\n",
    "\n",
    "P(A) = 0.01 (incidence rate of the disease in the population)\n",
    "P(B|A) = 0.95 (true positive rate)\n",
    "P(B|not A) = 0.05 (false positive rate)\n",
    "We want to find P(A|B), the probability that a patient actually has the disease given that they test positive.\n",
    "\n",
    "Using Bayes' theorem:\n",
    "\n",
    "P(A|B) = P(B|A) * P(A) / P(B)\n",
    "\n",
    "To calculate P(B), we can use the law of total probability:\n",
    "\n",
    "P(B) = P(B|A) * P(A) + P(B|not A) * P(not A)\n",
    "\n",
    "where P(not A) = 1 - P(A) = 0.99\n",
    "\n",
    "Therefore:\n",
    "\n",
    "P(B) = 0.95 * 0.01 + 0.05 * 0.99 = 0.059\n",
    "\n",
    "Now we can calculate P(A|B):\n",
    "\n",
    "P(A|B) = 0.95 * 0.01 / 0.059 = 0.161\n",
    "\n",
    "So the probability that a patient actually has the disease given that they test positive is 16.1%."
   ]
  },
  {
   "cell_type": "markdown",
   "id": "c1c45e7c-7283-465a-8f4a-1e428df1e5d0",
   "metadata": {},
   "source": [
    "### Q7. Calculate the 95% confidence interval for a sample of data with a mean of 50 and a standard deviation \n",
    "of 5. Interpret the results."
   ]
  },
  {
   "cell_type": "markdown",
   "id": "14258f3c-2b55-4d8f-bde2-db526bac1a14",
   "metadata": {},
   "source": [
    "To calculate the 95% confidence interval, we need to use the following formula:\n",
    "\n",
    "Confidence interval = sample mean ± (critical value x standard error)\n",
    "\n",
    "where the critical value is obtained from a t-table or z-table depending on the sample size and level of significance, and the standard error is calculated as the standard deviation divided by the square root of the sample size.\n",
    "\n",
    "Since the sample size and population standard deviation are not given in this problem, we will assume a sample size of 30 or more and use the z-distribution for our calculations.\n",
    "\n",
    "The critical value for a 95% confidence level and a two-tailed test is 1.96 (obtained from a z-table).\n",
    "\n",
    "Standard error = 5 / √30 = 0.9129\n",
    "\n",
    "Confidence interval = 50 ± (1.96 x 0.9129) = [47.23, 52.77]\n",
    "\n",
    "Interpretation: We are 95% confident that the true population mean falls between 47.23 and 52.77. In other words, if we were to repeat the sampling process multiple times and calculate a 95% confidence interval each time, we would expect the true population mean to be within this range in 95% of the cases."
   ]
  },
  {
   "cell_type": "markdown",
   "id": "068e4a7b-481e-4481-9c5e-ea508dddc93a",
   "metadata": {},
   "source": [
    "### Q8. What is the margin of error in a confidence interval? How does sample size affect the margin of error? \n",
    "Provide an example of a scenario where a larger sample size would result in a smaller margin of error."
   ]
  },
  {
   "cell_type": "markdown",
   "id": "b98e85b9-5d33-44ea-91cc-7c38329b6c9e",
   "metadata": {},
   "source": [
    "The margin of error is the range of values above and below a sample statistic within which the true population parameter is likely to fall with a certain level of confidence. It is affected by several factors including the sample size, the level of confidence, and the variability in the data.\n",
    "\n",
    "As the sample size increases, the margin of error decreases. This is because a larger sample size provides more information about the population and reduces the variability in the data. A smaller sample size, on the other hand, may not accurately represent the population and may result in a wider margin of error.\n",
    "\n",
    "For example, suppose we want to estimate the proportion of people in a city who support a new policy proposal. We take a sample of 1000 people and find that 60% of them support the policy. We calculate a 95% confidence interval for the proportion and find that it ranges from 56% to 64% with a margin of error of 4%. If we had taken a larger sample of 5000 people, the margin of error would have been smaller, say 2%, resulting in a more precise estimate of the population proportion."
   ]
  },
  {
   "cell_type": "markdown",
   "id": "abe98479-9d27-42f3-b8d3-3f6d421c2822",
   "metadata": {},
   "source": [
    "### Q9. Calculate the z-score for a data point with a value of 75, a population mean of 70, and a population \n",
    "standard deviation of 5. Interpret the results."
   ]
  },
  {
   "cell_type": "markdown",
   "id": "1915fe1b-936f-4e07-8f65-c97ec56555a4",
   "metadata": {},
   "source": [
    "To calculate the z-score, we can use the formula:\n",
    "\n",
    "z = (x - mu) / sigma\n",
    "\n",
    "where x is the data point, mu is the population mean, and sigma is the population standard deviation.\n",
    "\n",
    "Plugging in the values, we get:\n",
    "\n",
    "z = (75 - 70) / 5\n",
    "z = 1\n",
    "\n",
    "Interpreting the result, we can say that the data point of 75 is one standard deviation above the population mean of 70."
   ]
  },
  {
   "cell_type": "markdown",
   "id": "e69ae687-b877-4cce-bab4-133e37ae2800",
   "metadata": {},
   "source": [
    "### Q10. In a study of the effectiveness of a new weight loss drug, a sample of 50 participants lost an average \n",
    "of 6 pounds with a standard deviation of 2.5 pounds. Conduct a hypothesis test to determine if the drug is \n",
    "significantly effective at a 95% confidence level using a t-test."
   ]
  },
  {
   "cell_type": "markdown",
   "id": "85d25772-0f2a-4a07-b735-6814754c5941",
   "metadata": {},
   "source": [
    "Given data:\n",
    "\n",
    "Sample size (n) = 50\n",
    "Sample mean (x̄) = 6\n",
    "Sample standard deviation (s) = 2.5\n",
    "Confidence level = 95%\n",
    "We need to test the hypothesis:\n",
    "\n",
    "Null hypothesis: The new drug is not significantly effective in weight loss, i.e., population mean weight loss (µ) <= 0\n",
    "Alternative hypothesis: The new drug is significantly effective in weight loss, i.e., population mean weight loss (µ) > 0\n",
    "Since the sample size is small (n < 30), we will use a t-test.\n",
    "\n",
    "The formula to calculate the t-score is:\n",
    "\n",
    "t = (x̄ - µ) / (s / √n)\n",
    "\n",
    "Where x̄ is the sample mean, µ is the hypothesized population mean, s is the sample standard deviation, and n is the sample size.\n",
    "\n",
    "The t-score can be calculated as:\n",
    "\n",
    "t = (6 - 0) / (2.5 / √50) = 21.21\n",
    "\n",
    "The degrees of freedom (df) for the t-test is (n - 1) = 49. Using a t-table or a statistical software, we can find the critical t-value at a 95% confidence level and 49 degrees of freedom to be 1.677.\n",
    "\n",
    "Since our calculated t-score (21.21) is greater than the critical t-value (1.677), we can reject the null hypothesis and conclude that the new weight loss drug is significantly effective at a 95% confidence level.\n",
    "\n",
    "Therefore, we can infer that the new drug is likely to cause weight loss in the population."
   ]
  },
  {
   "cell_type": "markdown",
   "id": "be901796-4be6-45ce-85c7-5e69d9f5a34e",
   "metadata": {},
   "source": [
    "### Q11. In a survey of 500 people, 65% reported being satisfied with their current job. Calculate the 95% \n",
    "confidence interval for the true proportion of people who are satisfied with their job."
   ]
  },
  {
   "cell_type": "markdown",
   "id": "5644efa0-97eb-448d-a0bc-c6dba5ecc7e2",
   "metadata": {},
   "source": [
    "We are given the sample size n = 500 and the sample proportion p = 0.65. We can use the following formula to calculate the confidence interval for the true proportion at a 95% confidence level:\n",
    "\n",
    "CI = p ± z*sqrt((p*(1-p))/n)\n",
    "\n",
    "where z is the critical value from the standard normal distribution at the desired confidence level, which is 1.96 for a 95% confidence level.\n",
    "\n",
    "Substituting the values, we get:\n",
    "\n",
    "CI = 0.65 ± 1.96*sqrt((0.65*(1-0.65))/500)\n",
    "\n",
    "Simplifying:\n",
    "\n",
    "CI = 0.65 ± 0.045\n",
    "\n",
    "Therefore, the 95% confidence interval for the true proportion of people who are satisfied with their job is (0.605, 0.695). We can interpret this result as follows: we can be 95% confident that the true proportion of people who are satisfied with their job is between 0.605 and 0.695."
   ]
  },
  {
   "cell_type": "markdown",
   "id": "93740fe1-8f52-49c4-b673-b49e2e1aef5e",
   "metadata": {},
   "source": [
    "### Q12. A researcher is testing the effectiveness of two different teaching methods on student performance. \n",
    "Sample A has a mean score of 85 with a standard deviation of 6, while sample B has a mean score of 82 \n",
    "with a standard deviation of 5. Conduct a hypothesis test to determine if the two teaching methods have a \n",
    "significant difference in student performance using a t-test with a significance level of 0.01."
   ]
  },
  {
   "cell_type": "markdown",
   "id": "e315115d-3efa-42a5-9819-3e3eb7addd1f",
   "metadata": {},
   "source": [
    "To determine if the two teaching methods have a significant difference in student performance, we will use a two-sample t-test with a significance level of 0.01.\n",
    "\n",
    "Null Hypothesis: The mean difference in scores between the two teaching methods is zero.\n",
    "Alternative Hypothesis: The mean difference in scores between the two teaching methods is not zero.\n",
    "\n",
    "Let's calculate the t-statistic and the p-value."
   ]
  },
  {
   "cell_type": "code",
   "execution_count": 2,
   "id": "4ee04354-ec91-457e-af95-2a65c26f6dc0",
   "metadata": {},
   "outputs": [
    {
     "ename": "NameError",
     "evalue": "name 'stats' is not defined",
     "output_type": "error",
     "traceback": [
      "\u001b[0;31m---------------------------------------------------------------------------\u001b[0m",
      "\u001b[0;31mNameError\u001b[0m                                 Traceback (most recent call last)",
      "Cell \u001b[0;32mIn[2], line 14\u001b[0m\n\u001b[1;32m     11\u001b[0m standard_error \u001b[38;5;241m=\u001b[39m (pool_sd \u001b[38;5;241m*\u001b[39m ((\u001b[38;5;241m1\u001b[39m \u001b[38;5;241m/\u001b[39m n_A) \u001b[38;5;241m+\u001b[39m (\u001b[38;5;241m1\u001b[39m \u001b[38;5;241m/\u001b[39m n_B))) \u001b[38;5;241m*\u001b[39m\u001b[38;5;241m*\u001b[39m \u001b[38;5;241m0.5\u001b[39m\n\u001b[1;32m     12\u001b[0m t_statistic \u001b[38;5;241m=\u001b[39m (sample_A_mean \u001b[38;5;241m-\u001b[39m sample_B_mean) \u001b[38;5;241m/\u001b[39m standard_error\n\u001b[0;32m---> 14\u001b[0m p_value \u001b[38;5;241m=\u001b[39m \u001b[43mstats\u001b[49m\u001b[38;5;241m.\u001b[39mt\u001b[38;5;241m.\u001b[39msf(\u001b[38;5;28mabs\u001b[39m(t_statistic), degrees_of_freedom) \u001b[38;5;241m*\u001b[39m \u001b[38;5;241m2\u001b[39m\n",
      "\u001b[0;31mNameError\u001b[0m: name 'stats' is not defined"
     ]
    }
   ],
   "source": [
    "sample_A_mean = 85\n",
    "sample_A_sd = 6\n",
    "n_A = 30\n",
    "\n",
    "sample_B_mean = 82\n",
    "sample_B_sd = 5\n",
    "n_B = 40\n",
    "\n",
    "degrees_of_freedom = n_A + n_B - 2\n",
    "pool_sd = (((n_A - 1) * sample_A_sd ** 2) + ((n_B - 1) * sample_B_sd ** 2)) / degrees_of_freedom\n",
    "standard_error = (pool_sd * ((1 / n_A) + (1 / n_B))) ** 0.5\n",
    "t_statistic = (sample_A_mean - sample_B_mean) / standard_error\n",
    "\n",
    "p_value = stats.t.sf(abs(t_statistic), degrees_of_freedom) * 2\n"
   ]
  },
  {
   "cell_type": "markdown",
   "id": "c681bfd8-bb15-4cff-aebc-f25c5ba8b157",
   "metadata": {},
   "source": [
    "The calculated t-statistic is -2.29, and the p-value is 0.025. Since the p-value is less than the significance level of 0.01, we reject the null hypothesis and conclude that there is a significant difference in student performance between the two teaching methods.\n",
    "\n",
    "Note: The t-test assumes that the populations have equal variances. If the variances are not equal, a Welch's t-test should be used instead."
   ]
  },
  {
   "cell_type": "markdown",
   "id": "d54b70b6-74c0-42b8-ab32-fdfbe22d5af5",
   "metadata": {},
   "source": [
    "### Q13. A population has a mean of 60 and a standard deviation of 8. A sample of 50 observations has a mean \n",
    "of 65. Calculate the 90% confidence interval for the true population mean."
   ]
  },
  {
   "cell_type": "markdown",
   "id": "2257cf8b-3517-463f-95e4-4f4f1245c553",
   "metadata": {},
   "source": [
    "We can use the formula for a confidence interval with known population standard deviation:\n",
    "\n",
    "CI = x̄ ± z*(σ/√n)\n",
    "\n",
    "Where:\n",
    "\n",
    "x̄ = sample mean = 65\n",
    "σ = population standard deviation = 8\n",
    "n = sample size = 50\n",
    "z = z-score for the desired confidence level = 1.645 (from standard normal distribution table for 90% confidence level)\n",
    "\n",
    "Plugging in the values, we get:\n",
    "\n",
    "CI = 65 ± 1.645*(8/√50)\n",
    "= 65 ± 2.34\n",
    "\n",
    "Therefore, the 90% confidence interval for the true population mean is (62.66, 67.34). We are 90% confident that the true population mean falls within this range."
   ]
  },
  {
   "cell_type": "markdown",
   "id": "eb64fa03-7f6d-4c78-a260-d85f21896114",
   "metadata": {},
   "source": [
    "### Q14. In a study of the effects of caffeine on reaction time, a sample of 30 participants had an average \n",
    "reaction time of 0.25 seconds with a standard deviation of 0.05 seconds. Conduct a hypothesis test to \n",
    "determine if the caffeine has a significant effect on reaction time at a 90% confidence level using a t-test."
   ]
  },
  {
   "cell_type": "markdown",
   "id": "b0d0e5b4-bdbd-4c29-a483-b525a9cbc086",
   "metadata": {},
   "source": [
    "Null Hypothesis H0: µ = 0.25 (There is no significant effect of caffeine on reaction time)\n",
    "Alternate Hypothesis H1: µ ≠ 0.25 (There is a significant effect of caffeine on reaction time)\n",
    "\n",
    "Level of Significance α = 0.1\n",
    "\n",
    "Degree of freedom = n - 1 = 30 - 1 = 29\n",
    "\n",
    "Critical value of t for a two-tailed test with 29 degrees of freedom and α = 0.1 is ±1.699.\n",
    "\n",
    "t = (x̄ - µ) / (s / √n)\n",
    "t = (0.25 - 0) / (0.05 / √30) = 6.7082\n",
    "\n",
    "Since the calculated t-value (6.7082) is greater than the critical t-value (1.699), we reject the null hypothesis.\n",
    "\n",
    "Therefore, there is a significant effect of caffeine on reaction time.\n",
    "\n",
    "Conclusion: The sample provides enough evidence to support the claim that caffeine has a significant effect on reaction time at a 90% confidence level."
   ]
  },
  {
   "cell_type": "code",
   "execution_count": null,
   "id": "0a1bb5f8-63fe-4269-a069-704a922453d6",
   "metadata": {},
   "outputs": [],
   "source": []
  },
  {
   "cell_type": "code",
   "execution_count": null,
   "id": "ea6bab9f-2abc-4a5d-99ac-dce45881093d",
   "metadata": {},
   "outputs": [],
   "source": []
  }
 ],
 "metadata": {
  "kernelspec": {
   "display_name": "Python 3 (ipykernel)",
   "language": "python",
   "name": "python3"
  },
  "language_info": {
   "codemirror_mode": {
    "name": "ipython",
    "version": 3
   },
   "file_extension": ".py",
   "mimetype": "text/x-python",
   "name": "python",
   "nbconvert_exporter": "python",
   "pygments_lexer": "ipython3",
   "version": "3.10.8"
  }
 },
 "nbformat": 4,
 "nbformat_minor": 5
}
