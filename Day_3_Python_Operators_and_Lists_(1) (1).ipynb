{
 "cells": [
  {
   "cell_type": "markdown",
   "id": "f0c6558b-3dcd-4001-a68c-1a626809b437",
   "metadata": {
    "id": "f0c6558b-3dcd-4001-a68c-1a626809b437"
   },
   "source": [
    "## Logical Operators\n",
    "1. And\n",
    "2. or\n",
    "3. not"
   ]
  },
  {
   "cell_type": "code",
   "execution_count": 1,
   "id": "1e30a87a-8605-4a02-8527-1851b57a0766",
   "metadata": {
    "id": "1e30a87a-8605-4a02-8527-1851b57a0766",
    "outputId": "a1e95f47-c746-42d9-b633-f09a4ee588b3"
   },
   "outputs": [
    {
     "data": {
      "text/plain": [
       "True"
      ]
     },
     "execution_count": 1,
     "metadata": {},
     "output_type": "execute_result"
    }
   ],
   "source": [
    "True and True"
   ]
  },
  {
   "cell_type": "code",
   "execution_count": 2,
   "id": "029bb214-9389-4154-908b-2cd7b0f0bca5",
   "metadata": {
    "id": "029bb214-9389-4154-908b-2cd7b0f0bca5",
    "outputId": "bf5bfb1b-7ca3-4055-d019-d16a520d6232"
   },
   "outputs": [
    {
     "data": {
      "text/plain": [
       "True"
      ]
     },
     "execution_count": 2,
     "metadata": {},
     "output_type": "execute_result"
    }
   ],
   "source": [
    "True or False"
   ]
  },
  {
   "cell_type": "code",
   "execution_count": 3,
   "id": "97d08556-b26a-4262-ab53-652ab53b5c22",
   "metadata": {
    "id": "97d08556-b26a-4262-ab53-652ab53b5c22",
    "outputId": "f4f9c381-b3f4-40d1-969c-1f2986107551"
   },
   "outputs": [
    {
     "name": "stdout",
     "output_type": "stream",
     "text": [
      "Defined value of START = True\n",
      "Defined value of STOP = False \n",
      "\n",
      "Defined value of START = True\n",
      "Value of STOP by negating START= False \n",
      "\n",
      "Value of START by negating STOP = True\n",
      "Defined value of STOP = False \n",
      "\n"
     ]
    }
   ],
   "source": [
    "# Lets define two variables having boolean values True and False-\n",
    "START = True\n",
    "STOP = False\n",
    "\n",
    "# Print the values as it is\n",
    "print(f\"Defined value of START = {START}\")\n",
    "print(f\"Defined value of STOP = {STOP} \\n\")\n",
    "\n",
    "# if can also be written as - \n",
    "print(f\"Defined value of START = {START}\")\n",
    "print(f\"Value of STOP by negating START= {not START} \\n\")\n",
    "\n",
    "# alternatively -\n",
    "print(f\"Value of START by negating STOP = {not STOP}\")\n",
    "print(f\"Defined value of STOP = {STOP} \\n\")"
   ]
  },
  {
   "cell_type": "code",
   "execution_count": 4,
   "id": "547a7b4e-6006-463c-b798-4512b59c0f40",
   "metadata": {
    "id": "547a7b4e-6006-463c-b798-4512b59c0f40",
    "outputId": "347f7468-5ce2-4e67-cdb0-36f35c54dfe6"
   },
   "outputs": [
    {
     "data": {
      "text/plain": [
       "False"
      ]
     },
     "execution_count": 4,
     "metadata": {},
     "output_type": "execute_result"
    }
   ],
   "source": [
    "not True"
   ]
  },
  {
   "cell_type": "code",
   "execution_count": 5,
   "id": "434d1b72-f9b7-493e-a2e6-40b917f1e7d5",
   "metadata": {
    "id": "434d1b72-f9b7-493e-a2e6-40b917f1e7d5",
    "outputId": "4f9ff2ad-1282-47e6-a571-e90207b4c606"
   },
   "outputs": [
    {
     "data": {
      "text/plain": [
       "True"
      ]
     },
     "execution_count": 5,
     "metadata": {},
     "output_type": "execute_result"
    }
   ],
   "source": [
    "not int(bool(0))"
   ]
  },
  {
   "cell_type": "code",
   "execution_count": 6,
   "id": "0647c1af-5715-46fd-875c-e699bb55909d",
   "metadata": {
    "id": "0647c1af-5715-46fd-875c-e699bb55909d",
    "outputId": "37e641c4-824b-4747-f1de-5f4942efa47c"
   },
   "outputs": [
    {
     "data": {
      "text/plain": [
       "False"
      ]
     },
     "execution_count": 6,
     "metadata": {},
     "output_type": "execute_result"
    }
   ],
   "source": [
    "not int(bool(1))"
   ]
  },
  {
   "cell_type": "code",
   "execution_count": 7,
   "id": "9bb6bbbc-a8be-4ee4-8d62-025cc5dc156f",
   "metadata": {
    "id": "9bb6bbbc-a8be-4ee4-8d62-025cc5dc156f",
    "outputId": "ec107a76-b107-4039-a936-f598b698cd93"
   },
   "outputs": [
    {
     "data": {
      "text/plain": [
       "False"
      ]
     },
     "execution_count": 7,
     "metadata": {},
     "output_type": "execute_result"
    }
   ],
   "source": [
    "not 1"
   ]
  },
  {
   "cell_type": "code",
   "execution_count": 8,
   "id": "35bc68b1-ff9f-432a-9059-bf2e01abddc9",
   "metadata": {
    "id": "35bc68b1-ff9f-432a-9059-bf2e01abddc9",
    "outputId": "3945de54-c37a-4f5f-8405-d2a5e95d93a4"
   },
   "outputs": [
    {
     "data": {
      "text/plain": [
       "True"
      ]
     },
     "execution_count": 8,
     "metadata": {},
     "output_type": "execute_result"
    }
   ],
   "source": [
    "not 0"
   ]
  },
  {
   "cell_type": "code",
   "execution_count": 9,
   "id": "ab058358-e42d-4578-8368-38bdc1d665a6",
   "metadata": {
    "id": "ab058358-e42d-4578-8368-38bdc1d665a6",
    "outputId": "35b6944c-313d-480d-9ae4-ea0f067d7206"
   },
   "outputs": [
    {
     "data": {
      "text/plain": [
       "False"
      ]
     },
     "execution_count": 9,
     "metadata": {},
     "output_type": "execute_result"
    }
   ],
   "source": [
    "not 1000"
   ]
  },
  {
   "cell_type": "code",
   "execution_count": 10,
   "id": "b573261e-b585-476d-a647-2510fce1bbd8",
   "metadata": {
    "id": "b573261e-b585-476d-a647-2510fce1bbd8",
    "outputId": "86493472-54e8-4b8b-83e7-fb42e4e1c57b"
   },
   "outputs": [
    {
     "data": {
      "text/plain": [
       "False"
      ]
     },
     "execution_count": 10,
     "metadata": {},
     "output_type": "execute_result"
    }
   ],
   "source": [
    "not -1"
   ]
  },
  {
   "cell_type": "code",
   "execution_count": 11,
   "id": "4a5dda46-77de-4b21-93fa-d4149f422a8d",
   "metadata": {
    "id": "4a5dda46-77de-4b21-93fa-d4149f422a8d",
    "outputId": "d38b13b6-a831-4d9c-96ff-ba7450dab3d2"
   },
   "outputs": [
    {
     "name": "stdout",
     "output_type": "stream",
     "text": [
      "Defined value of START = 1\n",
      "Defined value of STOP = 0 \n",
      "\n",
      "Defined value of START = 1\n",
      "Value of STOP by negating START= 0 \n",
      "\n",
      "Value of START by negating STOP = 1\n",
      "Defined value of STOP = 0 \n",
      "\n"
     ]
    }
   ],
   "source": [
    "START = 1\n",
    "STOP = 0\n",
    "\n",
    "# Print the values as it is\n",
    "print(f\"Defined value of START = {START}\")\n",
    "print(f\"Defined value of STOP = {STOP} \\n\")\n",
    "\n",
    "# if can also be written as - \n",
    "print(f\"Defined value of START = {START}\")\n",
    "print(f\"Value of STOP by negating START= {int(not START)} \\n\")\n",
    "\n",
    "# alternatively -\n",
    "print(f\"Value of START by negating STOP = {int(not STOP)}\")\n",
    "print(f\"Defined value of STOP = {STOP} \\n\")"
   ]
  },
  {
   "cell_type": "code",
   "execution_count": 12,
   "id": "279671b9-8e4a-491f-b3b6-1c8ece64b6ba",
   "metadata": {
    "id": "279671b9-8e4a-491f-b3b6-1c8ece64b6ba",
    "outputId": "067409dd-bc88-46ad-9c60-a655516e6f55"
   },
   "outputs": [
    {
     "name": "stdout",
     "output_type": "stream",
     "text": [
      "boolean value of no. 0 is False\n",
      "boolean value of no. 1 is True\n",
      "negation of 0 is True and negation of 1 is False\n",
      "\n",
      "#------------------------#\n",
      "\n"
     ]
    }
   ],
   "source": [
    "zero = 0\n",
    "one = 1\n",
    "\n",
    "print(f\"boolean value of no. {zero} is {bool(zero)}\")\n",
    "print(f\"boolean value of no. {one} is {bool(one)}\")\n",
    "print(f\"negation of {zero} is {not zero} and negation of {one} is {not one}\")\n",
    "print(\"\\n#------------------------#\\n\")"
   ]
  },
  {
   "cell_type": "code",
   "execution_count": 13,
   "id": "38f72ca1-6cfc-4c15-a3a9-b3a9baaa37e0",
   "metadata": {
    "id": "38f72ca1-6cfc-4c15-a3a9-b3a9baaa37e0",
    "outputId": "4e5a4cb4-0153-47de-8d6a-f75e12eaa5c0"
   },
   "outputs": [
    {
     "data": {
      "text/plain": [
       "False"
      ]
     },
     "execution_count": 13,
     "metadata": {},
     "output_type": "execute_result"
    }
   ],
   "source": [
    "not 5"
   ]
  },
  {
   "cell_type": "code",
   "execution_count": 14,
   "id": "0fc6b745-cd56-45ee-8331-0d49394318be",
   "metadata": {
    "id": "0fc6b745-cd56-45ee-8331-0d49394318be",
    "outputId": "05cbda76-b35a-40c3-a5db-120e8581f8b1"
   },
   "outputs": [
    {
     "name": "stdout",
     "output_type": "stream",
     "text": [
      "boolean value of no. -5 is True\n",
      "boolean value of no. 5 is True\n",
      "negation of -5 is False and negation of 5 is False\n",
      "\n",
      "#------------------------#\n",
      "\n"
     ]
    }
   ],
   "source": [
    "Some_negative_integer = -5\n",
    "Some_positive_integer = 5\n",
    "\n",
    "print(f\"boolean value of no. {Some_negative_integer} is {bool(Some_negative_integer)}\")\n",
    "print(f\"boolean value of no. {Some_positive_integer} is {bool(Some_positive_integer)}\")\n",
    "print(f\"negation of {Some_negative_integer} is {not Some_negative_integer} \\\n",
    "and negation of {Some_positive_integer} is {not Some_positive_integer}\")\n",
    "\n",
    "print(\"\\n#------------------------#\\n\")"
   ]
  },
  {
   "cell_type": "code",
   "execution_count": 15,
   "id": "d5070091-a523-4fa6-8b3d-f65fddcb17d9",
   "metadata": {
    "id": "d5070091-a523-4fa6-8b3d-f65fddcb17d9",
    "outputId": "81429c72-124e-4fe5-9a46-121dd4cb261d"
   },
   "outputs": [
    {
     "name": "stdout",
     "output_type": "stream",
     "text": [
      "boolean value of no. -5.99 is True\n",
      "boolean value of no. 5.6 is True\n",
      "negation of -5.99 is False and negation of 5.6 is False\n"
     ]
    }
   ],
   "source": [
    "Some_negative_float = -5.99\n",
    "Some_positive_float = 5.6\n",
    "\n",
    "print(f\"boolean value of no. {Some_negative_float} is {bool(Some_negative_float)}\")\n",
    "print(f\"boolean value of no. {Some_positive_float} is {bool(Some_positive_float)}\")\n",
    "print(f\"negation of {Some_negative_float} is {not Some_negative_float} \\\n",
    "and negation of {Some_positive_float} is {not Some_positive_float}\")"
   ]
  },
  {
   "cell_type": "markdown",
   "id": "90d5f14a-dfcb-46d9-9a20-52a9d01be373",
   "metadata": {
    "id": "90d5f14a-dfcb-46d9-9a20-52a9d01be373"
   },
   "source": [
    "## Logical And\n"
   ]
  },
  {
   "cell_type": "code",
   "execution_count": 16,
   "id": "0b1fbd07-3094-407c-83c7-2adefa999573",
   "metadata": {
    "id": "0b1fbd07-3094-407c-83c7-2adefa999573",
    "outputId": "6885e8dc-c941-43cf-d4c4-cb8c896dafcb"
   },
   "outputs": [
    {
     "name": "stdout",
     "output_type": "stream",
     "text": [
      "Dish contains VEGETABLES: True\n",
      "Dish contains SALT: False\n",
      "Hence dish prepared was good: False\n",
      "\n"
     ]
    }
   ],
   "source": [
    "VEGETABLES = True\n",
    "SALT = False\n",
    "DISH = VEGETABLES and SALT\n",
    "\n",
    "print(f\"Dish contains VEGETABLES: {VEGETABLES}\")\n",
    "print(f\"Dish contains SALT: {SALT}\")\n",
    "print(f\"Hence dish prepared was good: {DISH}\\n\")"
   ]
  },
  {
   "cell_type": "code",
   "execution_count": 17,
   "id": "7411d1ce-9095-4dc7-8b2d-736e46af56db",
   "metadata": {
    "id": "7411d1ce-9095-4dc7-8b2d-736e46af56db",
    "outputId": "dffeb5ab-3dba-491a-deb1-10e40efe2f07"
   },
   "outputs": [
    {
     "data": {
      "text/plain": [
       "True"
      ]
     },
     "execution_count": 17,
     "metadata": {},
     "output_type": "execute_result"
    }
   ],
   "source": [
    "not(False) * True"
   ]
  },
  {
   "cell_type": "code",
   "execution_count": 18,
   "id": "00005a41-3da2-435b-b526-69e82ee478c8",
   "metadata": {
    "id": "00005a41-3da2-435b-b526-69e82ee478c8",
    "outputId": "a854a5b8-bc42-4279-99d4-62ac0a594fc4"
   },
   "outputs": [
    {
     "data": {
      "text/plain": [
       "0"
      ]
     },
     "execution_count": 18,
     "metadata": {},
     "output_type": "execute_result"
    }
   ],
   "source": [
    "False * (not(False))"
   ]
  },
  {
   "cell_type": "code",
   "execution_count": 19,
   "id": "eb77690c-99bd-43f7-b82b-a2ba4c121ab9",
   "metadata": {
    "id": "eb77690c-99bd-43f7-b82b-a2ba4c121ab9",
    "outputId": "267f4a0e-1afb-4f1b-85da-43c595f5bf01"
   },
   "outputs": [
    {
     "data": {
      "text/plain": [
       "True"
      ]
     },
     "execution_count": 19,
     "metadata": {},
     "output_type": "execute_result"
    }
   ],
   "source": [
    "not(True) * False"
   ]
  },
  {
   "cell_type": "code",
   "execution_count": 20,
   "id": "f005a05c-b4cd-4c28-8db2-921639523960",
   "metadata": {
    "id": "f005a05c-b4cd-4c28-8db2-921639523960",
    "outputId": "bc713faf-95a0-42dc-f9fa-93770238d562"
   },
   "outputs": [
    {
     "data": {
      "text/plain": [
       "0"
      ]
     },
     "execution_count": 20,
     "metadata": {},
     "output_type": "execute_result"
    }
   ],
   "source": [
    "False * False"
   ]
  },
  {
   "cell_type": "code",
   "execution_count": 21,
   "id": "1729e8b0-2465-40c4-8e09-ea694fcd47de",
   "metadata": {
    "id": "1729e8b0-2465-40c4-8e09-ea694fcd47de",
    "outputId": "af4c8a2c-4480-47b0-c475-d9fe03bdba63"
   },
   "outputs": [
    {
     "data": {
      "text/plain": [
       "True"
      ]
     },
     "execution_count": 21,
     "metadata": {},
     "output_type": "execute_result"
    }
   ],
   "source": [
    "not False * False"
   ]
  },
  {
   "cell_type": "code",
   "execution_count": 22,
   "id": "29120b48-ef57-41b6-9903-375cac47ba2f",
   "metadata": {
    "id": "29120b48-ef57-41b6-9903-375cac47ba2f",
    "outputId": "e440df27-6963-47da-809e-86eeeab430e7"
   },
   "outputs": [
    {
     "data": {
      "text/plain": [
       "9"
      ]
     },
     "execution_count": 22,
     "metadata": {},
     "output_type": "execute_result"
    }
   ],
   "source": [
    "(1+2)*3"
   ]
  },
  {
   "cell_type": "code",
   "execution_count": 23,
   "id": "a8c1a12e-4f15-40fb-bb3e-a42440e5258d",
   "metadata": {
    "id": "a8c1a12e-4f15-40fb-bb3e-a42440e5258d",
    "outputId": "706dcd56-256f-4e08-e3b5-a46d932276e7"
   },
   "outputs": [
    {
     "data": {
      "text/plain": [
       "True"
      ]
     },
     "execution_count": 23,
     "metadata": {},
     "output_type": "execute_result"
    }
   ],
   "source": [
    "not(False)*False == True\n"
   ]
  },
  {
   "cell_type": "code",
   "execution_count": 24,
   "id": "25e32fa3-717a-48ec-a2ea-e045ddc8b305",
   "metadata": {
    "id": "25e32fa3-717a-48ec-a2ea-e045ddc8b305",
    "outputId": "a53077f3-5bdf-4bf0-fec8-326bcdf2d55b"
   },
   "outputs": [
    {
     "name": "stdout",
     "output_type": "stream",
     "text": [
      "0\n"
     ]
    }
   ],
   "source": [
    "print((not(False)) * False)\n"
   ]
  },
  {
   "cell_type": "code",
   "execution_count": 25,
   "id": "54defb67-5f25-4520-99a3-d9d577f01f0d",
   "metadata": {
    "id": "54defb67-5f25-4520-99a3-d9d577f01f0d",
    "outputId": "78e9c699-4ef8-4764-fb72-a6f5599246cf"
   },
   "outputs": [
    {
     "data": {
      "text/plain": [
       "9.2"
      ]
     },
     "execution_count": 25,
     "metadata": {},
     "output_type": "execute_result"
    }
   ],
   "source": [
    "(2*3+40)/5"
   ]
  },
  {
   "cell_type": "code",
   "execution_count": 26,
   "id": "c61bb1f8-d320-49ff-bf7a-b395ac57dcf0",
   "metadata": {
    "id": "c61bb1f8-d320-49ff-bf7a-b395ac57dcf0",
    "outputId": "80b4eddd-ccdc-423e-bf21-90271f885537"
   },
   "outputs": [
    {
     "data": {
      "text/plain": [
       "True"
      ]
     },
     "execution_count": 26,
     "metadata": {},
     "output_type": "execute_result"
    }
   ],
   "source": [
    "not(False * True)"
   ]
  },
  {
   "cell_type": "code",
   "execution_count": 27,
   "id": "b47cde99-2c2e-4cd1-907a-cc5fe45566b2",
   "metadata": {
    "id": "b47cde99-2c2e-4cd1-907a-cc5fe45566b2",
    "outputId": "9d527f68-4fea-4c29-f661-89b58518f4c6"
   },
   "outputs": [
    {
     "data": {
      "text/plain": [
       "False"
      ]
     },
     "execution_count": 27,
     "metadata": {},
     "output_type": "execute_result"
    }
   ],
   "source": [
    "not(1)"
   ]
  },
  {
   "cell_type": "code",
   "execution_count": 61,
   "id": "625b9829-32d9-4334-94d6-1f25b4bc2e18",
   "metadata": {
    "id": "625b9829-32d9-4334-94d6-1f25b4bc2e18",
    "outputId": "90b577c0-02fb-4937-c6f4-b9d16eacce33"
   },
   "outputs": [
    {
     "data": {
      "text/plain": [
       "True"
      ]
     },
     "execution_count": 61,
     "metadata": {},
     "output_type": "execute_result"
    }
   ],
   "source": [
    "#precedence\n",
    "not False * True == True"
   ]
  },
  {
   "cell_type": "markdown",
   "id": "bc4944b4-2a89-4011-957c-e5c45e2d95ce",
   "metadata": {
    "id": "bc4944b4-2a89-4011-957c-e5c45e2d95ce"
   },
   "source": [
    "### 4.1.2 Equality Operators\n",
    "\n",
    "Following operations are present in python for equlity check operation-\n",
    "\n",
    "|Operators|Meaning|\n",
    "|-|-|\n",
    "|**is**|***a is b*** returns true if variable/identifiers a and b *points* to the *same object*|\n",
    "|**is not**|***a is not b*** returns true if variable/identifiers a and b *points* to the *different object*|\n",
    "|**==**|***a == b*** returns true if variable/identifiers a and b has same value|\n",
    "|**!=**|***a != b*** returns true if variable/identifiers a and b has different value|"
   ]
  },
  {
   "cell_type": "code",
   "execution_count": 29,
   "id": "707ab96b-bf88-46fe-b943-411614852bfa",
   "metadata": {
    "id": "707ab96b-bf88-46fe-b943-411614852bfa"
   },
   "outputs": [],
   "source": [
    "lst_a=[1,2,3,4]\n",
    "lst_b=[1,2,3,4]\n",
    "\n"
   ]
  },
  {
   "cell_type": "code",
   "execution_count": 30,
   "id": "6010182f-3b87-42e2-8290-ecaa33a01c61",
   "metadata": {
    "id": "6010182f-3b87-42e2-8290-ecaa33a01c61",
    "outputId": "4f28d677-b53c-4cf0-e329-ce059791fe3e"
   },
   "outputs": [
    {
     "name": "stdout",
     "output_type": "stream",
     "text": [
      "140681922522560\n",
      "140681922624128\n"
     ]
    }
   ],
   "source": [
    "print(id(lst_a))\n",
    "print(id(lst_b))\n"
   ]
  },
  {
   "cell_type": "code",
   "execution_count": 31,
   "id": "70d155e3-89c4-446e-9a5a-3be206e4a02a",
   "metadata": {
    "id": "70d155e3-89c4-446e-9a5a-3be206e4a02a",
    "outputId": "7cafab92-562a-48a9-86b3-4d3d46faaa3a"
   },
   "outputs": [
    {
     "data": {
      "text/plain": [
       "False"
      ]
     },
     "execution_count": 31,
     "metadata": {},
     "output_type": "execute_result"
    }
   ],
   "source": [
    "lst_a is lst_b"
   ]
  },
  {
   "cell_type": "code",
   "execution_count": 32,
   "id": "feae066a-f81e-46d6-abc3-cc70b06688a1",
   "metadata": {
    "id": "feae066a-f81e-46d6-abc3-cc70b06688a1"
   },
   "outputs": [],
   "source": [
    "lst_a=[1,2,3,4]\n",
    "lst_b=lst_a"
   ]
  },
  {
   "cell_type": "code",
   "execution_count": 33,
   "id": "fb0b041d-548a-4ffa-9cc1-54029c440b2f",
   "metadata": {
    "id": "fb0b041d-548a-4ffa-9cc1-54029c440b2f",
    "outputId": "865fbcce-f621-46c9-dade-7f010a4b49bf"
   },
   "outputs": [
    {
     "name": "stdout",
     "output_type": "stream",
     "text": [
      "140681947062656\n",
      "140681947062656\n"
     ]
    }
   ],
   "source": [
    "print(id(lst_a))\n",
    "print(id(lst_b))"
   ]
  },
  {
   "cell_type": "code",
   "execution_count": 34,
   "id": "81803c44-3bd2-4e60-80da-b3a933b843de",
   "metadata": {
    "id": "81803c44-3bd2-4e60-80da-b3a933b843de",
    "outputId": "deb4cfba-788d-4ce8-c244-2a2291ed1ae8"
   },
   "outputs": [
    {
     "data": {
      "text/plain": [
       "True"
      ]
     },
     "execution_count": 34,
     "metadata": {},
     "output_type": "execute_result"
    }
   ],
   "source": [
    "lst_a is lst_b"
   ]
  },
  {
   "cell_type": "code",
   "execution_count": 35,
   "id": "725fcac1-417c-4d3d-b7a7-eb9a18e4b93c",
   "metadata": {
    "id": "725fcac1-417c-4d3d-b7a7-eb9a18e4b93c",
    "outputId": "40247c61-6329-46e6-9f27-3f2961092816"
   },
   "outputs": [
    {
     "data": {
      "text/plain": [
       "True"
      ]
     },
     "execution_count": 35,
     "metadata": {},
     "output_type": "execute_result"
    }
   ],
   "source": [
    "lst_a=[1,2,3,4]\n",
    "lst_b=[1,2,3,4]\n",
    "\n",
    "lst_a is not lst_b"
   ]
  },
  {
   "cell_type": "code",
   "execution_count": 36,
   "id": "bac61815-a684-44d9-8df8-3ae1d93f8133",
   "metadata": {
    "id": "bac61815-a684-44d9-8df8-3ae1d93f8133",
    "outputId": "3dcec1d4-7f0a-4f73-fa0a-eaf405563dc2"
   },
   "outputs": [
    {
     "data": {
      "text/plain": [
       "True"
      ]
     },
     "execution_count": 36,
     "metadata": {},
     "output_type": "execute_result"
    }
   ],
   "source": [
    "lst_a == lst_b"
   ]
  },
  {
   "cell_type": "code",
   "execution_count": 37,
   "id": "7c34ecf8-4fcb-4fe1-ad9c-41f969c98f7a",
   "metadata": {
    "id": "7c34ecf8-4fcb-4fe1-ad9c-41f969c98f7a"
   },
   "outputs": [],
   "source": [
    "a=2\n",
    "b=2"
   ]
  },
  {
   "cell_type": "code",
   "execution_count": 38,
   "id": "749daa12-507c-4e97-aa24-1dd8dbc096bb",
   "metadata": {
    "id": "749daa12-507c-4e97-aa24-1dd8dbc096bb",
    "outputId": "ac659f79-89ba-428a-96d1-e08def61df80"
   },
   "outputs": [
    {
     "name": "stdout",
     "output_type": "stream",
     "text": [
      "140681989751056\n",
      "140681989751056\n"
     ]
    }
   ],
   "source": [
    "print(id(a))\n",
    "print(id(b))"
   ]
  },
  {
   "cell_type": "code",
   "execution_count": 40,
   "id": "b1c0e861-44e0-4b87-91cd-065825474d3f",
   "metadata": {
    "id": "b1c0e861-44e0-4b87-91cd-065825474d3f",
    "outputId": "9552d264-5b23-4c8d-c13f-d4638ad1264f"
   },
   "outputs": [
    {
     "name": "stdout",
     "output_type": "stream",
     "text": [
      "140681922679600\n",
      "140681922679600\n"
     ]
    }
   ],
   "source": [
    "str1=\"akhil\"\n",
    "str2=\"akhil\"\n",
    "print(id(str1))\n",
    "print(id(str2))"
   ]
  },
  {
   "cell_type": "code",
   "execution_count": 41,
   "id": "d9967fa9-6c13-4b99-bb39-e0c0481447d4",
   "metadata": {
    "id": "d9967fa9-6c13-4b99-bb39-e0c0481447d4"
   },
   "outputs": [],
   "source": [
    "## immutable\n",
    "str1=\"akhil\"\n",
    "str2=\"Akhil\""
   ]
  },
  {
   "cell_type": "code",
   "execution_count": 42,
   "id": "4310253e-a58e-44ca-81db-ccb428225e4c",
   "metadata": {
    "id": "4310253e-a58e-44ca-81db-ccb428225e4c",
    "outputId": "6ac964e6-5110-4c03-87e7-1ca8488a8eb1"
   },
   "outputs": [
    {
     "name": "stdout",
     "output_type": "stream",
     "text": [
      "140681922679600\n",
      "140681922682032\n"
     ]
    }
   ],
   "source": [
    "print(id(str1))\n",
    "print(id(str2))"
   ]
  },
  {
   "cell_type": "code",
   "execution_count": 43,
   "id": "22399a61-8f36-4eba-adeb-c7922badcc6d",
   "metadata": {
    "id": "22399a61-8f36-4eba-adeb-c7922badcc6d",
    "outputId": "910ed0a0-2ce9-4522-baef-58936de262c2"
   },
   "outputs": [
    {
     "data": {
      "text/plain": [
       "[1, 2, 3, 4]"
      ]
     },
     "execution_count": 43,
     "metadata": {},
     "output_type": "execute_result"
    }
   ],
   "source": [
    "lst_a"
   ]
  },
  {
   "cell_type": "code",
   "execution_count": 44,
   "id": "e9957786-7f2a-41ab-aef6-9805db9089c2",
   "metadata": {
    "id": "e9957786-7f2a-41ab-aef6-9805db9089c2"
   },
   "outputs": [],
   "source": [
    "lst_a[0]=10"
   ]
  },
  {
   "cell_type": "code",
   "execution_count": 45,
   "id": "1268ddbb-7a3d-4c1b-9c30-0d994b8671c3",
   "metadata": {
    "id": "1268ddbb-7a3d-4c1b-9c30-0d994b8671c3",
    "outputId": "02874842-b522-4fe8-ce4f-82213df662f1"
   },
   "outputs": [
    {
     "data": {
      "text/plain": [
       "[10, 2, 3, 4]"
      ]
     },
     "execution_count": 45,
     "metadata": {},
     "output_type": "execute_result"
    }
   ],
   "source": [
    "lst_a"
   ]
  },
  {
   "cell_type": "code",
   "execution_count": 46,
   "id": "e4b3acd1-4acb-4d2d-b299-8b566ef08ac5",
   "metadata": {
    "id": "e4b3acd1-4acb-4d2d-b299-8b566ef08ac5",
    "outputId": "38cf7e5a-2c82-4417-bbe0-a86aa85156e2"
   },
   "outputs": [
    {
     "data": {
      "text/plain": [
       "'akhil'"
      ]
     },
     "execution_count": 46,
     "metadata": {},
     "output_type": "execute_result"
    }
   ],
   "source": [
    "str1"
   ]
  },
  {
   "cell_type": "code",
   "execution_count": 47,
   "id": "ddada856-1dcb-4407-a501-31849c022ce0",
   "metadata": {
    "id": "ddada856-1dcb-4407-a501-31849c022ce0",
    "outputId": "4620d80b-ddd1-45f2-cc6e-f7627ebd7455"
   },
   "outputs": [
    {
     "ename": "TypeError",
     "evalue": "'str' object does not support item assignment",
     "output_type": "error",
     "traceback": [
      "\u001b[0;31m---------------------------------------------------------------------------\u001b[0m",
      "\u001b[0;31mTypeError\u001b[0m                                 Traceback (most recent call last)",
      "Cell \u001b[0;32mIn[47], line 1\u001b[0m\n\u001b[0;32m----> 1\u001b[0m \u001b[43mstr1\u001b[49m\u001b[43m[\u001b[49m\u001b[38;5;241;43m0\u001b[39;49m\u001b[43m]\u001b[49m\u001b[38;5;241m=\u001b[39m\u001b[38;5;124m'\u001b[39m\u001b[38;5;124mN\u001b[39m\u001b[38;5;124m'\u001b[39m \u001b[38;5;66;03m## immutable\u001b[39;00m\n",
      "\u001b[0;31mTypeError\u001b[0m: 'str' object does not support item assignment"
     ]
    }
   ],
   "source": [
    "str1[0]='N' ## immutable"
   ]
  },
  {
   "cell_type": "code",
   "execution_count": 48,
   "id": "90dd6515-d32f-4f8b-a0b8-7573b53d5440",
   "metadata": {
    "id": "90dd6515-d32f-4f8b-a0b8-7573b53d5440"
   },
   "outputs": [],
   "source": [
    "## Comparison operation"
   ]
  },
  {
   "cell_type": "markdown",
   "id": "9ff8a99c-38fb-484c-8e38-87ba3787c1ef",
   "metadata": {
    "id": "9ff8a99c-38fb-484c-8e38-87ba3787c1ef"
   },
   "source": [
    "|Operation|Meaning|\n",
    "|:-:|:-:|\n",
    "| **<** |less than|\n",
    "| **<=** |less than or equal to|\n",
    "| **>** |greater than|\n",
    "| **>=** |greater than or equal to|\n"
   ]
  },
  {
   "cell_type": "code",
   "execution_count": 49,
   "id": "5d7d6339-b810-4553-9ea8-343c28ec4e6f",
   "metadata": {
    "id": "5d7d6339-b810-4553-9ea8-343c28ec4e6f",
    "outputId": "8615c6f4-aea9-4a72-a4b8-e158d39d4d8f"
   },
   "outputs": [
    {
     "name": "stdout",
     "output_type": "stream",
     "text": [
      "bike is faster than car: False\n"
     ]
    }
   ],
   "source": [
    "maxium_speed_of_bike = 150\n",
    "max_speed_of_car = 200\n",
    "\n",
    "print(f\"bike is faster than car: {maxium_speed_of_bike >= max_speed_of_car}\")"
   ]
  },
  {
   "cell_type": "code",
   "execution_count": 50,
   "id": "7a9222eb-2e57-4511-9e62-b7b07d316e78",
   "metadata": {
    "id": "7a9222eb-2e57-4511-9e62-b7b07d316e78",
    "outputId": "92d8b4ec-1c50-4c60-88bb-dd132b0fdbcd"
   },
   "outputs": [
    {
     "name": "stdout",
     "output_type": "stream",
     "text": [
      "bike is faster than car: False\n"
     ]
    }
   ],
   "source": [
    "maxium_speed_of_bike = 200\n",
    "max_speed_of_car = 200\n",
    "\n",
    "print(f\"bike is faster than car: {maxium_speed_of_bike > max_speed_of_car}\")"
   ]
  },
  {
   "cell_type": "markdown",
   "id": "e340fd85-5946-46e6-8234-1b0caebc6c38",
   "metadata": {
    "id": "e340fd85-5946-46e6-8234-1b0caebc6c38"
   },
   "source": [
    "## Arithmethic Operations\n",
    "|Operation|Meaning|\n",
    "|:-:|:-:|\n",
    "| **+** |addition|\n",
    "| **-** |subtraction|\n",
    "| **\\*** |multiplication|\n",
    "| **/** |true division|\n",
    "| **//** |integer division|\n",
    "| **%** |the modulo operator|"
   ]
  },
  {
   "cell_type": "code",
   "execution_count": 51,
   "id": "d16cd857-cb72-4bee-b830-a4f407e6ad85",
   "metadata": {
    "id": "d16cd857-cb72-4bee-b830-a4f407e6ad85"
   },
   "outputs": [],
   "source": [
    "a=25\n",
    "b=101"
   ]
  },
  {
   "cell_type": "code",
   "execution_count": 52,
   "id": "7fbf03df-6cab-4130-a40a-5181cacc8962",
   "metadata": {
    "id": "7fbf03df-6cab-4130-a40a-5181cacc8962",
    "outputId": "f7172b05-6bc0-4b61-ecd1-1c0b3700c275"
   },
   "outputs": [
    {
     "data": {
      "text/plain": [
       "2525"
      ]
     },
     "execution_count": 52,
     "metadata": {},
     "output_type": "execute_result"
    }
   ],
   "source": [
    "b*a"
   ]
  },
  {
   "cell_type": "code",
   "execution_count": 53,
   "id": "0254f895-f20e-4004-8ea8-23ed0b4b426e",
   "metadata": {
    "id": "0254f895-f20e-4004-8ea8-23ed0b4b426e",
    "outputId": "7b373e0b-f15a-4b43-a7ce-5f51fb496412"
   },
   "outputs": [
    {
     "data": {
      "text/plain": [
       "126"
      ]
     },
     "execution_count": 53,
     "metadata": {},
     "output_type": "execute_result"
    }
   ],
   "source": [
    "b+a"
   ]
  },
  {
   "cell_type": "code",
   "execution_count": 54,
   "id": "e7f35b01-2227-4abe-b39d-7b2b5daab2b8",
   "metadata": {
    "id": "e7f35b01-2227-4abe-b39d-7b2b5daab2b8",
    "outputId": "c6337e2f-e360-46e7-84d7-e296f4f2b3ff"
   },
   "outputs": [
    {
     "data": {
      "text/plain": [
       "0.24752475247524752"
      ]
     },
     "execution_count": 54,
     "metadata": {},
     "output_type": "execute_result"
    }
   ],
   "source": [
    "a/b"
   ]
  },
  {
   "cell_type": "code",
   "execution_count": 55,
   "id": "2b85f879-44fa-4876-8e4d-877924e1c98f",
   "metadata": {
    "id": "2b85f879-44fa-4876-8e4d-877924e1c98f",
    "outputId": "011fd2e2-7b4a-4c4b-8091-d82313e41a2d"
   },
   "outputs": [
    {
     "data": {
      "text/plain": [
       "0"
      ]
     },
     "execution_count": 55,
     "metadata": {},
     "output_type": "execute_result"
    }
   ],
   "source": [
    "a//b"
   ]
  },
  {
   "cell_type": "code",
   "execution_count": 56,
   "id": "2b2a1e74-ec45-42c8-bc25-59d9a21b26fd",
   "metadata": {
    "id": "2b2a1e74-ec45-42c8-bc25-59d9a21b26fd",
    "outputId": "f3f8854f-7edf-4118-857b-84758755eb0e"
   },
   "outputs": [
    {
     "data": {
      "text/plain": [
       "4"
      ]
     },
     "execution_count": 56,
     "metadata": {},
     "output_type": "execute_result"
    }
   ],
   "source": [
    "b//a"
   ]
  },
  {
   "cell_type": "code",
   "execution_count": 57,
   "id": "9ddd6be3-7859-43f0-be58-3762b90d5310",
   "metadata": {
    "id": "9ddd6be3-7859-43f0-be58-3762b90d5310",
    "outputId": "b9e8ef82-46c5-4313-e3de-084a94ff4e4e"
   },
   "outputs": [
    {
     "data": {
      "text/plain": [
       "4.04"
      ]
     },
     "execution_count": 57,
     "metadata": {},
     "output_type": "execute_result"
    }
   ],
   "source": [
    "b/a"
   ]
  },
  {
   "cell_type": "code",
   "execution_count": 58,
   "id": "3f84b5c1-f824-4880-89bd-22645cbbf5ba",
   "metadata": {
    "id": "3f84b5c1-f824-4880-89bd-22645cbbf5ba",
    "outputId": "1ed8703e-c2e1-47d9-afee-2e5820482837"
   },
   "outputs": [
    {
     "data": {
      "text/plain": [
       "1"
      ]
     },
     "execution_count": 58,
     "metadata": {},
     "output_type": "execute_result"
    }
   ],
   "source": [
    "b%a"
   ]
  },
  {
   "cell_type": "code",
   "execution_count": 59,
   "id": "cd99a92b-fc8c-4e81-bb4e-5df45764efee",
   "metadata": {
    "id": "cd99a92b-fc8c-4e81-bb4e-5df45764efee",
    "outputId": "60fa0167-da18-4a0b-c951-65cf19d1cada"
   },
   "outputs": [
    {
     "data": {
      "text/plain": [
       "25"
      ]
     },
     "execution_count": 59,
     "metadata": {},
     "output_type": "execute_result"
    }
   ],
   "source": [
    "## Display the remainder\n",
    "a%b"
   ]
  },
  {
   "cell_type": "markdown",
   "id": "7322c956-0b1c-4a1b-84b4-294752bcf3da",
   "metadata": {
    "id": "7322c956-0b1c-4a1b-84b4-294752bcf3da"
   },
   "source": [
    "### Bitwise Operators\n",
    "|Operation|Meaning|\n",
    "|:-:|:-:|\n",
    "| **∼** |bitwise complement (prefix unary operator)|\n",
    "| **&** |bitwise and|\n",
    "| **\\|** |bitwise or|\n",
    "| **^** |bitwise exclusive-or|\n",
    "| **<<** |shift bits left, filling in with zeros|\n",
    "| **>>** |shift bits right, filling in with sign bit|\n"
   ]
  },
  {
   "cell_type": "code",
   "execution_count": 63,
   "id": "5d4f6dc3-9fe6-4d49-8af4-0f4d7c3bfb48",
   "metadata": {
    "id": "5d4f6dc3-9fe6-4d49-8af4-0f4d7c3bfb48",
    "outputId": "dc99dfb7-7798-4ff7-c6ba-4f2415d16319"
   },
   "outputs": [
    {
     "data": {
      "text/plain": [
       "'0b1010'"
      ]
     },
     "execution_count": 63,
     "metadata": {},
     "output_type": "execute_result"
    }
   ],
   "source": [
    "var=10\n",
    "#bin- binary number\n",
    "bin(var)"
   ]
  },
  {
   "cell_type": "code",
   "execution_count": 64,
   "id": "26b23b56-aa8f-42dc-b78c-91cd9c21eab9",
   "metadata": {
    "id": "26b23b56-aa8f-42dc-b78c-91cd9c21eab9",
    "outputId": "953bfe00-d4c5-4a19-ee95-7353d2a4397a"
   },
   "outputs": [
    {
     "data": {
      "text/plain": [
       "-11"
      ]
     },
     "execution_count": 64,
     "metadata": {},
     "output_type": "execute_result"
    }
   ],
   "source": [
    "~var"
   ]
  },
  {
   "cell_type": "code",
   "execution_count": 65,
   "id": "9507d38a-c76e-4405-8f12-4fb630acfb3a",
   "metadata": {
    "id": "9507d38a-c76e-4405-8f12-4fb630acfb3a",
    "outputId": "97cd7cf1-6e0c-4141-c046-c207545b588b"
   },
   "outputs": [
    {
     "data": {
      "text/plain": [
       "True"
      ]
     },
     "execution_count": 65,
     "metadata": {},
     "output_type": "execute_result"
    }
   ],
   "source": [
    "True | False"
   ]
  },
  {
   "cell_type": "code",
   "execution_count": 66,
   "id": "b89ed9f2-32f2-4643-9767-b0476fcb6a82",
   "metadata": {
    "id": "b89ed9f2-32f2-4643-9767-b0476fcb6a82",
    "outputId": "5971bb4c-17b1-4bcd-d006-8448c7be928d"
   },
   "outputs": [
    {
     "data": {
      "text/plain": [
       "False"
      ]
     },
     "execution_count": 66,
     "metadata": {},
     "output_type": "execute_result"
    }
   ],
   "source": [
    "False & False"
   ]
  },
  {
   "cell_type": "code",
   "execution_count": 67,
   "id": "fe46da9b-dc99-4acd-afe5-30f1bfbaf27e",
   "metadata": {
    "id": "fe46da9b-dc99-4acd-afe5-30f1bfbaf27e",
    "outputId": "4b9fd3f7-fd74-4e64-89f4-be3b2f96ff87"
   },
   "outputs": [
    {
     "data": {
      "text/plain": [
       "5"
      ]
     },
     "execution_count": 67,
     "metadata": {},
     "output_type": "execute_result"
    }
   ],
   "source": [
    "var >>1"
   ]
  },
  {
   "cell_type": "code",
   "execution_count": 68,
   "id": "0311e341-b687-4630-8b9a-5688d14ea56d",
   "metadata": {
    "id": "0311e341-b687-4630-8b9a-5688d14ea56d",
    "outputId": "8bac5d17-6cb8-418b-c630-0d041e3adc61"
   },
   "outputs": [
    {
     "data": {
      "text/plain": [
       "20"
      ]
     },
     "execution_count": 68,
     "metadata": {},
     "output_type": "execute_result"
    }
   ],
   "source": [
    "var << 1"
   ]
  },
  {
   "cell_type": "markdown",
   "id": "8fa1eccd-564c-42d1-a514-ca74c0d8b072",
   "metadata": {
    "id": "8fa1eccd-564c-42d1-a514-ca74c0d8b072"
   },
   "source": [
    "## First Data Structure\n",
    "## Strings"
   ]
  },
  {
   "cell_type": "code",
   "execution_count": 69,
   "id": "1e322ef0-fbbd-436a-916e-aaad16fd3585",
   "metadata": {
    "id": "1e322ef0-fbbd-436a-916e-aaad16fd3585",
    "outputId": "3359c9b0-0265-4911-bc95-b98a1df9cc83"
   },
   "outputs": [
    {
     "data": {
      "text/plain": [
       "'Welcome to the Data Science masters'"
      ]
     },
     "execution_count": 69,
     "metadata": {},
     "output_type": "execute_result"
    }
   ],
   "source": [
    "\n",
    "\"Welcome to the Data Science masters\""
   ]
  },
  {
   "cell_type": "code",
   "execution_count": 77,
   "id": "06892483-dacb-4ff7-80d3-a37d3d1d2336",
   "metadata": {
    "id": "06892483-dacb-4ff7-80d3-a37d3d1d2336"
   },
   "outputs": [],
   "source": [
    "str1=\"Welcome to Data Science Masters\""
   ]
  },
  {
   "cell_type": "code",
   "execution_count": 78,
   "id": "5c86d5ab-9446-4297-ad0c-c6d0825467da",
   "metadata": {
    "id": "5c86d5ab-9446-4297-ad0c-c6d0825467da",
    "outputId": "756be9cd-a49d-4c13-f6bc-d06300712922"
   },
   "outputs": [
    {
     "data": {
      "text/plain": [
       "str"
      ]
     },
     "execution_count": 78,
     "metadata": {},
     "output_type": "execute_result"
    }
   ],
   "source": [
    "type(str1)"
   ]
  },
  {
   "cell_type": "code",
   "execution_count": 79,
   "id": "35262123-5ae9-4a3b-ae30-dc41cc6e3f0e",
   "metadata": {
    "id": "35262123-5ae9-4a3b-ae30-dc41cc6e3f0e",
    "outputId": "350058bf-4c7c-4818-fe97-b3b4be1b7945"
   },
   "outputs": [
    {
     "ename": "TypeError",
     "evalue": "'str' object does not support item assignment",
     "output_type": "error",
     "traceback": [
      "\u001b[0;31m---------------------------------------------------------------------------\u001b[0m",
      "\u001b[0;31mTypeError\u001b[0m                                 Traceback (most recent call last)",
      "Cell \u001b[0;32mIn[79], line 2\u001b[0m\n\u001b[1;32m      1\u001b[0m \u001b[38;5;66;03m## immutable\u001b[39;00m\n\u001b[0;32m----> 2\u001b[0m \u001b[43mstr1\u001b[49m\u001b[43m[\u001b[49m\u001b[38;5;241;43m0\u001b[39;49m\u001b[43m]\u001b[49m\u001b[38;5;241m=\u001b[39m\u001b[38;5;241m12\u001b[39m\n",
      "\u001b[0;31mTypeError\u001b[0m: 'str' object does not support item assignment"
     ]
    }
   ],
   "source": [
    "## immutable\n",
    "str1[0]=12"
   ]
  },
  {
   "cell_type": "code",
   "execution_count": 80,
   "id": "e1795feb-0392-451f-b4d5-f1d16ae91131",
   "metadata": {
    "id": "e1795feb-0392-451f-b4d5-f1d16ae91131"
   },
   "outputs": [],
   "source": [
    "str1=\"Akhil Lankapalli\""
   ]
  },
  {
   "cell_type": "code",
   "execution_count": 81,
   "id": "8b278a46-d548-41bf-9350-9dc4d5edc73e",
   "metadata": {
    "id": "8b278a46-d548-41bf-9350-9dc4d5edc73e",
    "outputId": "da54d230-3af4-431d-c47a-92987c3670b7"
   },
   "outputs": [
    {
     "data": {
      "text/plain": [
       "'Akhil Lankapalli'"
      ]
     },
     "execution_count": 81,
     "metadata": {},
     "output_type": "execute_result"
    }
   ],
   "source": [
    "str1"
   ]
  },
  {
   "cell_type": "code",
   "execution_count": 82,
   "id": "054227a4-6424-4545-9795-1ca1d11cfbb1",
   "metadata": {
    "id": "054227a4-6424-4545-9795-1ca1d11cfbb1"
   },
   "outputs": [],
   "source": [
    "welcome=\"Hello World\""
   ]
  },
  {
   "cell_type": "code",
   "execution_count": 84,
   "id": "17e54429-1fb7-4efc-8f06-68aafbf09324",
   "metadata": {
    "id": "17e54429-1fb7-4efc-8f06-68aafbf09324",
    "outputId": "ad7e4ddd-5517-4028-be41-61d4f44f15d7"
   },
   "outputs": [
    {
     "data": {
      "text/plain": [
       "['__add__',\n",
       " '__class__',\n",
       " '__contains__',\n",
       " '__delattr__',\n",
       " '__dir__',\n",
       " '__doc__',\n",
       " '__eq__',\n",
       " '__format__',\n",
       " '__ge__',\n",
       " '__getattribute__',\n",
       " '__getitem__',\n",
       " '__getnewargs__',\n",
       " '__gt__',\n",
       " '__hash__',\n",
       " '__init__',\n",
       " '__init_subclass__',\n",
       " '__iter__',\n",
       " '__le__',\n",
       " '__len__',\n",
       " '__lt__',\n",
       " '__mod__',\n",
       " '__mul__',\n",
       " '__ne__',\n",
       " '__new__',\n",
       " '__reduce__',\n",
       " '__reduce_ex__',\n",
       " '__repr__',\n",
       " '__rmod__',\n",
       " '__rmul__',\n",
       " '__setattr__',\n",
       " '__sizeof__',\n",
       " '__str__',\n",
       " '__subclasshook__',\n",
       " 'capitalize',\n",
       " 'casefold',\n",
       " 'center',\n",
       " 'count',\n",
       " 'encode',\n",
       " 'endswith',\n",
       " 'expandtabs',\n",
       " 'find',\n",
       " 'format',\n",
       " 'format_map',\n",
       " 'index',\n",
       " 'isalnum',\n",
       " 'isalpha',\n",
       " 'isascii',\n",
       " 'isdecimal',\n",
       " 'isdigit',\n",
       " 'isidentifier',\n",
       " 'islower',\n",
       " 'isnumeric',\n",
       " 'isprintable',\n",
       " 'isspace',\n",
       " 'istitle',\n",
       " 'isupper',\n",
       " 'join',\n",
       " 'ljust',\n",
       " 'lower',\n",
       " 'lstrip',\n",
       " 'maketrans',\n",
       " 'partition',\n",
       " 'removeprefix',\n",
       " 'removesuffix',\n",
       " 'replace',\n",
       " 'rfind',\n",
       " 'rindex',\n",
       " 'rjust',\n",
       " 'rpartition',\n",
       " 'rsplit',\n",
       " 'rstrip',\n",
       " 'split',\n",
       " 'splitlines',\n",
       " 'startswith',\n",
       " 'strip',\n",
       " 'swapcase',\n",
       " 'title',\n",
       " 'translate',\n",
       " 'upper',\n",
       " 'zfill']"
      ]
     },
     "execution_count": 84,
     "metadata": {},
     "output_type": "execute_result"
    }
   ],
   "source": [
    "# To See The In-Built Functions\n",
    "dir(welcome)"
   ]
  },
  {
   "cell_type": "code",
   "execution_count": 86,
   "id": "c68902e1-dd9b-4b27-92de-dffc41f609d9",
   "metadata": {
    "id": "c68902e1-dd9b-4b27-92de-dffc41f609d9"
   },
   "outputs": [],
   "source": [
    "string =\"Pw Skills Data Science\""
   ]
  },
  {
   "cell_type": "code",
   "execution_count": 87,
   "id": "18719f50-a61e-4676-be36-3cf11b31b5d5",
   "metadata": {
    "id": "18719f50-a61e-4676-be36-3cf11b31b5d5",
    "outputId": "762bbd68-e0cc-4031-ce18-a14ffc05cecb"
   },
   "outputs": [
    {
     "data": {
      "text/plain": [
       "'i'"
      ]
     },
     "execution_count": 87,
     "metadata": {},
     "output_type": "execute_result"
    }
   ],
   "source": [
    "string[5]"
   ]
  },
  {
   "cell_type": "code",
   "execution_count": 88,
   "id": "73d391bf-b0d8-4c71-a8bb-b97f941e93df",
   "metadata": {
    "id": "73d391bf-b0d8-4c71-a8bb-b97f941e93df",
    "outputId": "a726b2af-7036-4310-ea99-8b17ca25539a"
   },
   "outputs": [
    {
     "data": {
      "text/plain": [
       "'ills D'"
      ]
     },
     "execution_count": 88,
     "metadata": {},
     "output_type": "execute_result"
    }
   ],
   "source": [
    "## slice operation\n",
    "string[5:11]"
   ]
  },
  {
   "cell_type": "code",
   "execution_count": 89,
   "id": "3de57a01-2bef-47da-895b-44bd05b62686",
   "metadata": {
    "id": "3de57a01-2bef-47da-895b-44bd05b62686",
    "outputId": "c4c5ef76-b34b-4715-a6c1-b352e7d3aafc"
   },
   "outputs": [
    {
     "data": {
      "text/plain": [
       "'e'"
      ]
     },
     "execution_count": 89,
     "metadata": {},
     "output_type": "execute_result"
    }
   ],
   "source": [
    "string[-1]"
   ]
  },
  {
   "cell_type": "code",
   "execution_count": 90,
   "id": "55fab397-3f30-42bc-b364-f4104e96fa1e",
   "metadata": {
    "id": "55fab397-3f30-42bc-b364-f4104e96fa1e",
    "outputId": "92955df2-dfa7-4d0f-8b65-a6b021fab25d"
   },
   "outputs": [
    {
     "data": {
      "text/plain": [
       "'nce'"
      ]
     },
     "execution_count": 90,
     "metadata": {},
     "output_type": "execute_result"
    }
   ],
   "source": [
    "string[-3:]"
   ]
  },
  {
   "cell_type": "code",
   "execution_count": 91,
   "id": "caeb9b04-0e81-46c2-a375-b4d718078fe9",
   "metadata": {
    "id": "caeb9b04-0e81-46c2-a375-b4d718078fe9",
    "outputId": "9dfba71b-2d56-4cfa-905d-309563b31a63"
   },
   "outputs": [
    {
     "data": {
      "text/plain": [
       "'Scie'"
      ]
     },
     "execution_count": 91,
     "metadata": {},
     "output_type": "execute_result"
    }
   ],
   "source": [
    "string[-7:-3]"
   ]
  },
  {
   "cell_type": "code",
   "execution_count": 92,
   "id": "845e1900-978d-4687-a358-db61add510a0",
   "metadata": {
    "id": "845e1900-978d-4687-a358-db61add510a0",
    "outputId": "c017b19e-06a2-45e6-86a9-f05c79ba70ad"
   },
   "outputs": [
    {
     "data": {
      "text/plain": [
       "'Pw Skills Data Science'"
      ]
     },
     "execution_count": 92,
     "metadata": {},
     "output_type": "execute_result"
    }
   ],
   "source": [
    "string"
   ]
  },
  {
   "cell_type": "code",
   "execution_count": 93,
   "id": "37d10dbe-788e-477b-b765-56337e9073db",
   "metadata": {
    "id": "37d10dbe-788e-477b-b765-56337e9073db",
    "outputId": "805d931b-5741-4d5a-f58a-f39f76ac67bc"
   },
   "outputs": [
    {
     "data": {
      "text/plain": [
       "''"
      ]
     },
     "execution_count": 93,
     "metadata": {},
     "output_type": "execute_result"
    }
   ],
   "source": [
    "string[-7:5]"
   ]
  },
  {
   "cell_type": "code",
   "execution_count": 94,
   "id": "5844b3ab-ead6-43df-98f9-59d2054ce40a",
   "metadata": {
    "id": "5844b3ab-ead6-43df-98f9-59d2054ce40a",
    "outputId": "6ed4ea9b-dee0-41b9-c9f2-b94ac9478958"
   },
   "outputs": [
    {
     "data": {
      "text/plain": [
       "''"
      ]
     },
     "execution_count": 94,
     "metadata": {},
     "output_type": "execute_result"
    }
   ],
   "source": [
    "string[7:5]"
   ]
  },
  {
   "cell_type": "code",
   "execution_count": 95,
   "id": "154674b7-8761-4eeb-8d77-5597c676d18a",
   "metadata": {
    "id": "154674b7-8761-4eeb-8d77-5597c676d18a",
    "outputId": "4600c081-dde0-461a-e65c-1fc2af95f11c"
   },
   "outputs": [
    {
     "data": {
      "text/plain": [
       "''"
      ]
     },
     "execution_count": 95,
     "metadata": {},
     "output_type": "execute_result"
    }
   ],
   "source": [
    "string[-10:10]"
   ]
  },
  {
   "cell_type": "code",
   "execution_count": 96,
   "id": "58c8e9b8-6362-4065-b34e-c5cde623078c",
   "metadata": {
    "id": "58c8e9b8-6362-4065-b34e-c5cde623078c",
    "outputId": "b6d6d343-b6d5-4329-fb71-9fe8a281cbd2"
   },
   "outputs": [
    {
     "data": {
      "text/plain": [
       "'Pw Skills Data Scienc'"
      ]
     },
     "execution_count": 96,
     "metadata": {},
     "output_type": "execute_result"
    }
   ],
   "source": [
    "string[:-1]"
   ]
  },
  {
   "cell_type": "code",
   "execution_count": 97,
   "id": "dd7134fc-2c5b-4f3e-a658-f4cd8ad2e237",
   "metadata": {
    "id": "dd7134fc-2c5b-4f3e-a658-f4cd8ad2e237",
    "outputId": "b24991bf-8eb9-4ea9-94b3-02c07e48a98b"
   },
   "outputs": [
    {
     "data": {
      "text/plain": [
       "'Pw Skills Data Science'"
      ]
     },
     "execution_count": 97,
     "metadata": {},
     "output_type": "execute_result"
    }
   ],
   "source": [
    "string[:]"
   ]
  },
  {
   "cell_type": "code",
   "execution_count": null,
   "id": "084987c8-42ce-4cff-a46f-b0fd333b676a",
   "metadata": {
    "id": "084987c8-42ce-4cff-a46f-b0fd333b676a",
    "outputId": "bc3761aa-e7a3-4c9e-9f98-05a10aed283a"
   },
   "outputs": [
    {
     "data": {
      "text/plain": [
       "'rt'"
      ]
     },
     "execution_count": 240,
     "metadata": {},
     "output_type": "execute_result"
    }
   ],
   "source": [
    "name=\"Karthik\"\n",
    "name[-5:4]\n"
   ]
  },
  {
   "cell_type": "code",
   "execution_count": null,
   "id": "43d42014-4f65-496e-8e51-f411d6d3f259",
   "metadata": {
    "id": "43d42014-4f65-496e-8e51-f411d6d3f259",
    "outputId": "24716783-8d80-4a81-b07e-1581b86d113e"
   },
   "outputs": [
    {
     "data": {
      "text/plain": [
       "'Pw Skills Data Science'"
      ]
     },
     "execution_count": 145,
     "metadata": {},
     "output_type": "execute_result"
    }
   ],
   "source": [
    "string"
   ]
  },
  {
   "cell_type": "code",
   "execution_count": null,
   "id": "f017f22e-8304-404d-84ad-a828733ecd27",
   "metadata": {
    "id": "f017f22e-8304-404d-84ad-a828733ecd27",
    "outputId": "03914298-eef6-4a29-91ee-8209bcdb3636"
   },
   "outputs": [
    {
     "data": {
      "text/plain": [
       "'ecneicS ataD sllikS wP'"
      ]
     },
     "execution_count": 148,
     "metadata": {},
     "output_type": "execute_result"
    }
   ],
   "source": [
    "string[::-1]"
   ]
  },
  {
   "cell_type": "code",
   "execution_count": null,
   "id": "cc8b5cf5-0e7a-4c49-8263-4d4c170fe47f",
   "metadata": {
    "id": "cc8b5cf5-0e7a-4c49-8263-4d4c170fe47f",
    "outputId": "84897fd7-de16-43fc-ca53-18575bdae240"
   },
   "outputs": [
    {
     "data": {
      "text/plain": [
       "'eniSaa liSw'"
      ]
     },
     "execution_count": 149,
     "metadata": {},
     "output_type": "execute_result"
    }
   ],
   "source": [
    "string[::-2]"
   ]
  },
  {
   "cell_type": "code",
   "execution_count": null,
   "id": "3a4e4b57-8754-4af7-8011-1f11fb8019cb",
   "metadata": {
    "id": "3a4e4b57-8754-4af7-8011-1f11fb8019cb",
    "outputId": "fc7f19b8-d816-4344-9783-359a0432af4c"
   },
   "outputs": [
    {
     "data": {
      "text/plain": [
       "'ecneicS ataD sllikS wP'"
      ]
     },
     "execution_count": 156,
     "metadata": {},
     "output_type": "execute_result"
    }
   ],
   "source": [
    "string[::-1]"
   ]
  },
  {
   "cell_type": "code",
   "execution_count": null,
   "id": "48d12583-b301-4a81-b0ee-c20d078a3257",
   "metadata": {
    "id": "48d12583-b301-4a81-b0ee-c20d078a3257",
    "outputId": "73face72-905f-43ed-bb56-41d2b96a7e67"
   },
   "outputs": [
    {
     "data": {
      "text/plain": [
       "'eeSt lSP'"
      ]
     },
     "execution_count": 157,
     "metadata": {},
     "output_type": "execute_result"
    }
   ],
   "source": [
    "string[::-3]"
   ]
  },
  {
   "cell_type": "code",
   "execution_count": null,
   "id": "6e5cfb4a-893a-4dd3-9ab9-05355780b24e",
   "metadata": {
    "id": "6e5cfb4a-893a-4dd3-9ab9-05355780b24e",
    "outputId": "7e32eeb5-5952-4712-c0b6-1ea3fd3c326a"
   },
   "outputs": [
    {
     "data": {
      "text/plain": [
       "'PiDSc'"
      ]
     },
     "execution_count": 160,
     "metadata": {},
     "output_type": "execute_result"
    }
   ],
   "source": [
    "string[::5]"
   ]
  },
  {
   "cell_type": "code",
   "execution_count": null,
   "id": "e6e600da-fb4a-479a-828d-ec5ac8efe7ba",
   "metadata": {
    "id": "e6e600da-fb4a-479a-828d-ec5ac8efe7ba"
   },
   "outputs": [],
   "source": [
    "name=\"Krish\""
   ]
  },
  {
   "cell_type": "code",
   "execution_count": null,
   "id": "7a74fce5-6c8e-464b-9827-815ea65c00d5",
   "metadata": {
    "id": "7a74fce5-6c8e-464b-9827-815ea65c00d5",
    "outputId": "770fa09a-88e9-4886-da2a-1d6177e60894"
   },
   "outputs": [
    {
     "data": {
      "text/plain": [
       "'hiK'"
      ]
     },
     "execution_count": 170,
     "metadata": {},
     "output_type": "execute_result"
    }
   ],
   "source": [
    "name[::-2]"
   ]
  },
  {
   "cell_type": "code",
   "execution_count": null,
   "id": "622ac4af-48ff-40b7-9df4-ee18e5900ed3",
   "metadata": {
    "id": "622ac4af-48ff-40b7-9df4-ee18e5900ed3",
    "outputId": "5d6097ac-d605-4d8c-c610-65304669c092"
   },
   "outputs": [
    {
     "data": {
      "text/plain": [
       "'si'"
      ]
     },
     "execution_count": 174,
     "metadata": {},
     "output_type": "execute_result"
    }
   ],
   "source": [
    "name[3:1:-1]"
   ]
  },
  {
   "cell_type": "code",
   "execution_count": null,
   "id": "f0ccb883-0770-40f1-b1e4-58cedd2da622",
   "metadata": {
    "id": "f0ccb883-0770-40f1-b1e4-58cedd2da622"
   },
   "outputs": [],
   "source": [
    "course_name=\"Data Science Masters\""
   ]
  },
  {
   "cell_type": "code",
   "execution_count": null,
   "id": "111944a3-b563-42df-bda9-a2da78164428",
   "metadata": {
    "id": "111944a3-b563-42df-bda9-a2da78164428"
   },
   "outputs": [],
   "source": [
    "name=\"Karthik\""
   ]
  },
  {
   "cell_type": "code",
   "execution_count": null,
   "id": "855f1fa4-b360-4991-965d-21033d2634c2",
   "metadata": {
    "id": "855f1fa4-b360-4991-965d-21033d2634c2",
    "outputId": "cd5c1309-09c5-4c39-d422-d8b866e2530f"
   },
   "outputs": [
    {
     "data": {
      "text/plain": [
       "'kihtraK'"
      ]
     },
     "execution_count": 239,
     "metadata": {},
     "output_type": "execute_result"
    }
   ],
   "source": [
    "name[::-1]"
   ]
  },
  {
   "cell_type": "code",
   "execution_count": null,
   "id": "1071790a-e65e-446d-82b6-a555831b2fd7",
   "metadata": {
    "id": "1071790a-e65e-446d-82b6-a555831b2fd7",
    "outputId": "ed288682-6305-4495-fd90-9798e4038b4f"
   },
   "outputs": [
    {
     "data": {
      "text/plain": [
       "' ecneicS'"
      ]
     },
     "execution_count": 233,
     "metadata": {},
     "output_type": "execute_result"
    }
   ],
   "source": [
    "course_name[12:4:-1]"
   ]
  },
  {
   "cell_type": "code",
   "execution_count": null,
   "id": "30e81a85-f7ee-44cc-9ab4-8fc37bef8600",
   "metadata": {
    "id": "30e81a85-f7ee-44cc-9ab4-8fc37bef8600",
    "outputId": "ee1020c7-bdfe-4e74-f997-47bbdffbc641"
   },
   "outputs": [
    {
     "data": {
      "text/plain": [
       "'Science'"
      ]
     },
     "execution_count": 179,
     "metadata": {},
     "output_type": "execute_result"
    }
   ],
   "source": [
    "course_name[5:12]"
   ]
  },
  {
   "cell_type": "code",
   "execution_count": null,
   "id": "459f5320-d777-4669-a64e-452429908a28",
   "metadata": {
    "id": "459f5320-d777-4669-a64e-452429908a28",
    "outputId": "e4211890-2606-4b10-a7e3-bc8e78b5ce10"
   },
   "outputs": [
    {
     "data": {
      "text/plain": [
       "'Data Science Masters'"
      ]
     },
     "execution_count": 188,
     "metadata": {},
     "output_type": "execute_result"
    }
   ],
   "source": [
    "course_name"
   ]
  },
  {
   "cell_type": "code",
   "execution_count": null,
   "id": "e0e74ef5-e223-4263-ba98-0ff60db18f67",
   "metadata": {
    "id": "e0e74ef5-e223-4263-ba98-0ff60db18f67",
    "outputId": "9e04e509-bda9-4d26-d071-dc1b5ed7bfbc"
   },
   "outputs": [
    {
     "data": {
      "text/plain": [
       "'ecneicS'"
      ]
     },
     "execution_count": 184,
     "metadata": {},
     "output_type": "execute_result"
    }
   ],
   "source": [
    "course_name[11:4:-1]"
   ]
  },
  {
   "cell_type": "code",
   "execution_count": null,
   "id": "3d5ccf57-dcd2-49eb-9034-e3bb5d1d2bc0",
   "metadata": {
    "id": "3d5ccf57-dcd2-49eb-9034-e3bb5d1d2bc0",
    "outputId": "252a6cfe-6b69-4a12-a8f6-2e2ca5722a00"
   },
   "outputs": [
    {
     "data": {
      "text/plain": [
       "' ecneicS'"
      ]
     },
     "execution_count": 185,
     "metadata": {},
     "output_type": "execute_result"
    }
   ],
   "source": [
    "course_name[12:4:-1]"
   ]
  },
  {
   "cell_type": "code",
   "execution_count": null,
   "id": "a18818d3-9bd8-4f53-b42d-8cd20e4ae75d",
   "metadata": {
    "id": "a18818d3-9bd8-4f53-b42d-8cd20e4ae75d",
    "outputId": "7b174117-c8c9-49a1-e32a-80ec6cc9beae"
   },
   "outputs": [
    {
     "data": {
      "text/plain": [
       "' ecneic'"
      ]
     },
     "execution_count": 187,
     "metadata": {},
     "output_type": "execute_result"
    }
   ],
   "source": [
    "course_name[12:5:-1]"
   ]
  },
  {
   "cell_type": "code",
   "execution_count": null,
   "id": "bc58ca47-02da-47d0-926a-6ca62aaf8b10",
   "metadata": {
    "id": "bc58ca47-02da-47d0-926a-6ca62aaf8b10",
    "outputId": "7db48564-e2a8-42bc-b12f-f880f4df4137"
   },
   "outputs": [
    {
     "data": {
      "text/plain": [
       "'Data Science MastersCourse'"
      ]
     },
     "execution_count": 194,
     "metadata": {},
     "output_type": "execute_result"
    }
   ],
   "source": [
    "## concatentaion\n",
    "course_name + \"Course\""
   ]
  },
  {
   "cell_type": "code",
   "execution_count": null,
   "id": "0b3dd5fc-1fe3-416c-89ef-ab35f09a8981",
   "metadata": {
    "id": "0b3dd5fc-1fe3-416c-89ef-ab35f09a8981",
    "outputId": "30cf14bc-276c-4b6e-b71b-ea1ba64e3442"
   },
   "outputs": [
    {
     "data": {
      "text/plain": [
       "' Science'"
      ]
     },
     "execution_count": 192,
     "metadata": {},
     "output_type": "execute_result"
    }
   ],
   "source": [
    "course_name[4:12:1]"
   ]
  },
  {
   "cell_type": "code",
   "execution_count": null,
   "id": "c0293d8e-9f11-4aa7-a708-af0276285752",
   "metadata": {
    "id": "c0293d8e-9f11-4aa7-a708-af0276285752",
    "outputId": "d967a8a6-8c0d-4784-c3be-9357105749c6"
   },
   "outputs": [
    {
     "name": "stdout",
     "output_type": "stream",
     "text": [
      "HelloWorlds\n"
     ]
    }
   ],
   "source": [
    "print(\"Hello\" + \"Worlds\")"
   ]
  },
  {
   "cell_type": "code",
   "execution_count": null,
   "id": "5aa2fe35-07fb-4cb8-8874-9058ac4e1172",
   "metadata": {
    "id": "5aa2fe35-07fb-4cb8-8874-9058ac4e1172",
    "outputId": "f522aed0-fbd9-462f-df97-daa624bb6e0a"
   },
   "outputs": [
    {
     "data": {
      "text/plain": [
       "'Data Science MastersData Science MastersData Science MastersData Science MastersData Science Masters'"
      ]
     },
     "execution_count": 197,
     "metadata": {},
     "output_type": "execute_result"
    }
   ],
   "source": [
    "course_name *5"
   ]
  },
  {
   "cell_type": "code",
   "execution_count": null,
   "id": "d6499265-aba8-49bc-b644-b6f1188717ed",
   "metadata": {
    "id": "d6499265-aba8-49bc-b644-b6f1188717ed",
    "outputId": "b3fa017b-e4ac-4e05-a5a0-066ae39181f1"
   },
   "outputs": [
    {
     "data": {
      "text/plain": [
       "20"
      ]
     },
     "execution_count": 198,
     "metadata": {},
     "output_type": "execute_result"
    }
   ],
   "source": [
    "len(course_name)"
   ]
  },
  {
   "cell_type": "code",
   "execution_count": null,
   "id": "c2fcf69e-5d14-4679-b4aa-64ae2b42166f",
   "metadata": {
    "id": "c2fcf69e-5d14-4679-b4aa-64ae2b42166f",
    "outputId": "60eec15a-37f8-45b2-a5d8-90eac7adef67"
   },
   "outputs": [
    {
     "data": {
      "text/plain": [
       "9"
      ]
     },
     "execution_count": 199,
     "metadata": {},
     "output_type": "execute_result"
    }
   ],
   "source": [
    "## find function\n",
    "course_name.find(\"n\")"
   ]
  },
  {
   "cell_type": "code",
   "execution_count": null,
   "id": "62b9d8ab-dde3-48e9-8703-a4cdf2e80b19",
   "metadata": {
    "id": "62b9d8ab-dde3-48e9-8703-a4cdf2e80b19",
    "outputId": "f6dc2d37-0a50-4a55-c13e-8e6bbf6d66fd"
   },
   "outputs": [
    {
     "data": {
      "text/plain": [
       "3"
      ]
     },
     "execution_count": 201,
     "metadata": {},
     "output_type": "execute_result"
    }
   ],
   "source": [
    "course_name.find(\"a\",2,10)"
   ]
  },
  {
   "cell_type": "code",
   "execution_count": null,
   "id": "58e88d61-0829-435e-a86f-24dfc0b5763d",
   "metadata": {
    "id": "58e88d61-0829-435e-a86f-24dfc0b5763d",
    "outputId": "35230a07-7da8-4f84-d37a-76f7ce8819b8"
   },
   "outputs": [
    {
     "data": {
      "text/plain": [
       "-1"
      ]
     },
     "execution_count": 202,
     "metadata": {},
     "output_type": "execute_result"
    }
   ],
   "source": [
    "course_name.find(\"z\")"
   ]
  },
  {
   "cell_type": "code",
   "execution_count": null,
   "id": "b9172204-126b-4f9e-a5b1-c7abeb3993a3",
   "metadata": {
    "id": "b9172204-126b-4f9e-a5b1-c7abeb3993a3",
    "outputId": "ae5c76dd-343e-4247-fca9-07703abc34df"
   },
   "outputs": [
    {
     "data": {
      "text/plain": [
       "'Data Science Masters'"
      ]
     },
     "execution_count": 204,
     "metadata": {},
     "output_type": "execute_result"
    }
   ],
   "source": [
    "course_name"
   ]
  },
  {
   "cell_type": "code",
   "execution_count": null,
   "id": "4eecc160-d7d2-4643-b654-9b9873a2c25e",
   "metadata": {
    "id": "4eecc160-d7d2-4643-b654-9b9873a2c25e",
    "outputId": "67a2edf0-eb9d-4160-c674-f8f4bbe68faf"
   },
   "outputs": [
    {
     "data": {
      "text/plain": [
       "3"
      ]
     },
     "execution_count": 203,
     "metadata": {},
     "output_type": "execute_result"
    }
   ],
   "source": [
    "## count()\n",
    "course_name.count('a')"
   ]
  },
  {
   "cell_type": "code",
   "execution_count": null,
   "id": "9e5d8558-545b-4f18-a88c-abe4c7cf9076",
   "metadata": {
    "id": "9e5d8558-545b-4f18-a88c-abe4c7cf9076",
    "outputId": "c237061e-126c-4ad4-c8c2-5ea5a7483222"
   },
   "outputs": [
    {
     "data": {
      "text/plain": [
       "2"
      ]
     },
     "execution_count": 206,
     "metadata": {},
     "output_type": "execute_result"
    }
   ],
   "source": [
    "course_name.count(' ')"
   ]
  },
  {
   "cell_type": "code",
   "execution_count": null,
   "id": "44d59c0e-9975-49f4-9ba9-caec6ed03987",
   "metadata": {
    "id": "44d59c0e-9975-49f4-9ba9-caec6ed03987",
    "outputId": "931f345b-3714-4bd3-b5f2-1321c548459a"
   },
   "outputs": [
    {
     "data": {
      "text/plain": [
       "21"
      ]
     },
     "execution_count": 207,
     "metadata": {},
     "output_type": "execute_result"
    }
   ],
   "source": [
    "course_name.count('')"
   ]
  },
  {
   "cell_type": "code",
   "execution_count": null,
   "id": "5defc0bf-4419-4a1f-a307-ab8e69990249",
   "metadata": {
    "id": "5defc0bf-4419-4a1f-a307-ab8e69990249",
    "outputId": "f08de55a-4aa0-47be-bf2c-07bd0ae7e6f5"
   },
   "outputs": [
    {
     "data": {
      "text/plain": [
       "'Data Science Masters'"
      ]
     },
     "execution_count": 225,
     "metadata": {},
     "output_type": "execute_result"
    }
   ],
   "source": [
    "course_name"
   ]
  },
  {
   "cell_type": "code",
   "execution_count": null,
   "id": "60317737-6bf3-4abc-9b69-fd351045233f",
   "metadata": {
    "id": "60317737-6bf3-4abc-9b69-fd351045233f",
    "outputId": "3efe2530-2b10-4af5-ac11-8a24a6b2fca4"
   },
   "outputs": [
    {
     "data": {
      "text/plain": [
       "'sretsaM ecneicS ataD'"
      ]
     },
     "execution_count": 227,
     "metadata": {},
     "output_type": "execute_result"
    }
   ],
   "source": [
    "course_name[::-1]"
   ]
  },
  {
   "cell_type": "code",
   "execution_count": null,
   "id": "6671a097-62c3-4830-b04a-c22259fb2b37",
   "metadata": {
    "id": "6671a097-62c3-4830-b04a-c22259fb2b37"
   },
   "outputs": [],
   "source": [
    "# string split function"
   ]
  },
  {
   "cell_type": "code",
   "execution_count": null,
   "id": "881c48a9-5f31-4f8a-b755-66d8321ff65a",
   "metadata": {
    "id": "881c48a9-5f31-4f8a-b755-66d8321ff65a",
    "outputId": "0b4105d0-8866-4a21-f4ce-6cb9e67159fb"
   },
   "outputs": [
    {
     "data": {
      "text/plain": [
       "['Data', 'Science', 'Masters']"
      ]
     },
     "execution_count": 211,
     "metadata": {},
     "output_type": "execute_result"
    }
   ],
   "source": [
    "course_name.split(' ')"
   ]
  },
  {
   "cell_type": "code",
   "execution_count": null,
   "id": "e0236b25-fbba-4ede-be00-6069d36987f9",
   "metadata": {
    "id": "e0236b25-fbba-4ede-be00-6069d36987f9",
    "outputId": "7e8f797b-d91a-4dc5-c31f-3f15f1702f27"
   },
   "outputs": [
    {
     "data": {
      "text/plain": [
       "'Data Science Masters'"
      ]
     },
     "execution_count": 213,
     "metadata": {},
     "output_type": "execute_result"
    }
   ],
   "source": [
    "course_name"
   ]
  },
  {
   "cell_type": "code",
   "execution_count": null,
   "id": "3c7e9daf-620c-49ce-8aa7-22f0707fe39a",
   "metadata": {
    "id": "3c7e9daf-620c-49ce-8aa7-22f0707fe39a",
    "outputId": "9f1ba87f-a7e6-4548-861b-d0755455b6cc"
   },
   "outputs": [
    {
     "data": {
      "text/plain": [
       "['Data ', 'cience Masters']"
      ]
     },
     "execution_count": 212,
     "metadata": {},
     "output_type": "execute_result"
    }
   ],
   "source": [
    "course_name.split('S')"
   ]
  },
  {
   "cell_type": "code",
   "execution_count": null,
   "id": "3de0a6ca-5651-4ca4-9ed1-8564bbfc98a9",
   "metadata": {
    "id": "3de0a6ca-5651-4ca4-9ed1-8564bbfc98a9",
    "outputId": "9508e0e9-e0ab-4903-b8a3-fe875fa7bb8f"
   },
   "outputs": [
    {
     "data": {
      "text/plain": [
       "['Data Science Ma', 'ter', '']"
      ]
     },
     "execution_count": 216,
     "metadata": {},
     "output_type": "execute_result"
    }
   ],
   "source": [
    "course_name.split('s')"
   ]
  },
  {
   "cell_type": "code",
   "execution_count": null,
   "id": "b927ad1b-a034-4f93-8ce6-4020957b2f5c",
   "metadata": {
    "id": "b927ad1b-a034-4f93-8ce6-4020957b2f5c",
    "outputId": "9cf890d5-8478-4279-9749-ebecf5cb6499"
   },
   "outputs": [
    {
     "data": {
      "text/plain": [
       "('Data Science Ma', 's', 'ters')"
      ]
     },
     "execution_count": 215,
     "metadata": {},
     "output_type": "execute_result"
    }
   ],
   "source": [
    "course_name.partition('s')"
   ]
  },
  {
   "cell_type": "code",
   "execution_count": null,
   "id": "167646c5-c071-4ae1-9c43-b3e144e668bf",
   "metadata": {
    "id": "167646c5-c071-4ae1-9c43-b3e144e668bf",
    "outputId": "4af23c4d-aa68-4d31-ae31-4a484bd1f87d"
   },
   "outputs": [
    {
     "data": {
      "text/plain": [
       "'DATA SCIENCE MASTERS'"
      ]
     },
     "execution_count": 217,
     "metadata": {},
     "output_type": "execute_result"
    }
   ],
   "source": [
    "## SString upper and lowercase\n",
    "course_name.upper()"
   ]
  },
  {
   "cell_type": "code",
   "execution_count": null,
   "id": "b16d77e5-6232-4ec4-94cc-c39cd6d388a3",
   "metadata": {
    "id": "b16d77e5-6232-4ec4-94cc-c39cd6d388a3",
    "outputId": "811ccda4-5eed-42f7-f043-7c9f66ba4f53"
   },
   "outputs": [
    {
     "data": {
      "text/plain": [
       "'data science masters'"
      ]
     },
     "execution_count": 218,
     "metadata": {},
     "output_type": "execute_result"
    }
   ],
   "source": [
    "course_name.lower()"
   ]
  },
  {
   "cell_type": "code",
   "execution_count": null,
   "id": "9ebc066c-58bc-4cec-8283-2f7d73cf64c7",
   "metadata": {
    "id": "9ebc066c-58bc-4cec-8283-2f7d73cf64c7",
    "outputId": "67f0e4ca-756c-469d-8765-6a99da5598c1"
   },
   "outputs": [
    {
     "data": {
      "text/plain": [
       "'Data Science Masters'"
      ]
     },
     "execution_count": 219,
     "metadata": {},
     "output_type": "execute_result"
    }
   ],
   "source": [
    "course_name"
   ]
  },
  {
   "cell_type": "code",
   "execution_count": null,
   "id": "eaf83939-b58a-432c-a8e9-3214b9f7a0dd",
   "metadata": {
    "id": "eaf83939-b58a-432c-a8e9-3214b9f7a0dd",
    "outputId": "066ddf75-bfd7-46e7-f884-bae546860cb9"
   },
   "outputs": [
    {
     "data": {
      "text/plain": [
       "'dATA sCIENCE mASTERS'"
      ]
     },
     "execution_count": 221,
     "metadata": {},
     "output_type": "execute_result"
    }
   ],
   "source": [
    "course_name.swapcase()"
   ]
  },
  {
   "cell_type": "code",
   "execution_count": null,
   "id": "15bae527-4570-4580-8aa7-f8ee21145529",
   "metadata": {
    "id": "15bae527-4570-4580-8aa7-f8ee21145529",
    "outputId": "d6acf50e-fd98-47e6-d1db-ae1f81db2a83"
   },
   "outputs": [
    {
     "data": {
      "text/plain": [
       "'Data Science Masters'"
      ]
     },
     "execution_count": 222,
     "metadata": {},
     "output_type": "execute_result"
    }
   ],
   "source": [
    "course_name.title()"
   ]
  },
  {
   "cell_type": "code",
   "execution_count": null,
   "id": "78841045-562c-418a-a37a-a3fe877a2810",
   "metadata": {
    "id": "78841045-562c-418a-a37a-a3fe877a2810"
   },
   "outputs": [],
   "source": [
    "name=\"krish nbaik\""
   ]
  },
  {
   "cell_type": "code",
   "execution_count": null,
   "id": "a4610ea2-a6f9-4634-bbeb-cdd1cf109116",
   "metadata": {
    "id": "a4610ea2-a6f9-4634-bbeb-cdd1cf109116",
    "outputId": "18b5a145-804e-4979-91b6-e67ee65a8a4c"
   },
   "outputs": [
    {
     "data": {
      "text/plain": [
       "'Krish Nbaik'"
      ]
     },
     "execution_count": 224,
     "metadata": {},
     "output_type": "execute_result"
    }
   ],
   "source": [
    "name.title()"
   ]
  },
  {
   "cell_type": "code",
   "execution_count": null,
   "id": "bc900f16-2795-4e8c-86b7-59f632f28122",
   "metadata": {
    "id": "bc900f16-2795-4e8c-86b7-59f632f28122",
    "outputId": "15a019ad-0e36-42cd-bb77-b81fa92d2173"
   },
   "outputs": [
    {
     "data": {
      "text/plain": [
       "'-0b10'"
      ]
     },
     "execution_count": 252,
     "metadata": {},
     "output_type": "execute_result"
    }
   ],
   "source": [
    "bin(-2)"
   ]
  },
  {
   "cell_type": "code",
   "execution_count": null,
   "id": "7decf215-60bc-4170-a13a-18e5b42fc043",
   "metadata": {
    "id": "7decf215-60bc-4170-a13a-18e5b42fc043",
    "outputId": "888d6ea2-99ea-411e-a4ba-042471ac9f10"
   },
   "outputs": [
    {
     "data": {
      "text/plain": [
       "20"
      ]
     },
     "execution_count": 253,
     "metadata": {},
     "output_type": "execute_result"
    }
   ],
   "source": [
    "len(course_name)"
   ]
  },
  {
   "cell_type": "code",
   "execution_count": null,
   "id": "4fc83c17-01b2-4fb9-a3bc-266327a9ba6c",
   "metadata": {
    "id": "4fc83c17-01b2-4fb9-a3bc-266327a9ba6c",
    "outputId": "8da440ea-1c7f-46ab-f276-07967628ebf7"
   },
   "outputs": [
    {
     "data": {
      "text/plain": [
       "21"
      ]
     },
     "execution_count": 258,
     "metadata": {},
     "output_type": "execute_result"
    }
   ],
   "source": [
    "course_name.count('')"
   ]
  },
  {
   "cell_type": "code",
   "execution_count": null,
   "id": "ab613bff-e15a-4be4-a500-001de69a289e",
   "metadata": {
    "id": "ab613bff-e15a-4be4-a500-001de69a289e",
    "outputId": "96005302-91a2-4ca6-ec18-d9afb6df6ede"
   },
   "outputs": [
    {
     "data": {
      "text/plain": [
       "''"
      ]
     },
     "execution_count": 266,
     "metadata": {},
     "output_type": "execute_result"
    }
   ],
   "source": [
    "course_name[-5:10]"
   ]
  },
  {
   "cell_type": "code",
   "execution_count": null,
   "id": "ae4751b9-88d1-47f1-aca2-feb299e33fcf",
   "metadata": {
    "id": "ae4751b9-88d1-47f1-aca2-feb299e33fcf",
    "outputId": "f44b8b0b-5fd7-444b-9e09-36fefc8b7e56"
   },
   "outputs": [
    {
     "data": {
      "text/plain": [
       "'Data Science Masters'"
      ]
     },
     "execution_count": 262,
     "metadata": {},
     "output_type": "execute_result"
    }
   ],
   "source": [
    "course_name"
   ]
  },
  {
   "cell_type": "code",
   "execution_count": null,
   "id": "94200727-d973-4c38-957e-6da77e86017b",
   "metadata": {
    "id": "94200727-d973-4c38-957e-6da77e86017b",
    "outputId": "da656cfd-8cb7-43a6-f3c8-03be82652897"
   },
   "outputs": [
    {
     "name": "stdin",
     "output_type": "stream",
     "text": [
      "Enter the triangle Length: 9\n"
     ]
    },
    {
     "name": "stdout",
     "output_type": "stream",
     "text": [
      "         *\n",
      "        **\n",
      "       ****\n",
      "      ******\n",
      "     ********\n",
      "    **********\n",
      "   ************\n",
      "  **************\n",
      " ****************\n"
     ]
    }
   ],
   "source": [
    "## Assignments\n",
    "size = int(input(\"Enter the triangle Length:\"))\n",
    "for i in range(size):\n",
    "    for j in range(size-i):\n",
    "        print(\"\",end=\" \")\n",
    "    for k in range(i+1) :\n",
    "        print(\"*\",end=\"\")\n",
    "    for m in range(k-1):\n",
    "        print(\"*\", end=\"\")\n",
    "    print()\n"
   ]
  },
  {
   "cell_type": "code",
   "execution_count": null,
   "id": "304e81cc-7705-4c69-bd42-33db96c0975b",
   "metadata": {
    "id": "304e81cc-7705-4c69-bd42-33db96c0975b",
    "outputId": "17f4fc9d-6558-4b8c-b1fb-3c0e5821f3fc"
   },
   "outputs": [
    {
     "data": {
      "text/plain": [
       "1"
      ]
     },
     "execution_count": 269,
     "metadata": {},
     "output_type": "execute_result"
    }
   ],
   "source": [
    "course_name.upper()."
   ]
  },
  {
   "cell_type": "code",
   "execution_count": null,
   "id": "fda983fb-2493-4b08-bb3d-c6c16daf7a38",
   "metadata": {
    "id": "fda983fb-2493-4b08-bb3d-c6c16daf7a38",
    "outputId": "4981526b-64f4-4bf8-f85e-caa9b2540cb8"
   },
   "outputs": [
    {
     "name": "stdout",
     "output_type": "stream",
     "text": [
      "          *\n",
      "         ***\n",
      "        *****\n",
      "       *******\n",
      "      *********\n",
      "     ***********\n",
      "    *************\n",
      "   ***************\n",
      "  *****************\n",
      " *******************\n"
     ]
    }
   ],
   "source": [
    "## solution 2\n",
    "n = 10\n",
    "for i in range(n):\n",
    "    print(\" \"*(n-i),end='')\n",
    "    for j in range(i*2+1):\n",
    "        print(\"*\",end=\"\")\n",
    "    print()\n"
   ]
  },
  {
   "cell_type": "code",
   "execution_count": null,
   "id": "d9a15044-1702-41b7-a009-7a8aa719959e",
   "metadata": {
    "id": "d9a15044-1702-41b7-a009-7a8aa719959e",
    "outputId": "61430300-927a-4f28-f2fd-645be46b7007"
   },
   "outputs": [
    {
     "data": {
      "text/plain": [
       "'Data Science Masters'"
      ]
     },
     "execution_count": 271,
     "metadata": {},
     "output_type": "execute_result"
    }
   ],
   "source": [
    "course_name"
   ]
  },
  {
   "cell_type": "code",
   "execution_count": null,
   "id": "b411a520-9005-4268-b8cd-c29381fbebb3",
   "metadata": {
    "id": "b411a520-9005-4268-b8cd-c29381fbebb3"
   },
   "outputs": [],
   "source": []
  },
  {
   "cell_type": "code",
   "execution_count": null,
   "id": "1e3283f5-68e6-43a4-ad4e-a0d0dec00c89",
   "metadata": {
    "id": "1e3283f5-68e6-43a4-ad4e-a0d0dec00c89"
   },
   "outputs": [],
   "source": []
  }
 ],
 "metadata": {
  "colab": {
   "provenance": []
  },
  "kernelspec": {
   "display_name": "Python 3 (ipykernel)",
   "language": "python",
   "name": "python3"
  },
  "language_info": {
   "codemirror_mode": {
    "name": "ipython",
    "version": 3
   },
   "file_extension": ".py",
   "mimetype": "text/x-python",
   "name": "python",
   "nbconvert_exporter": "python",
   "pygments_lexer": "ipython3",
   "version": "3.10.8"
  }
 },
 "nbformat": 4,
 "nbformat_minor": 5
}
