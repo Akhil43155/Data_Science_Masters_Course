{
 "cells": [
  {
   "cell_type": "markdown",
   "id": "9f42945c-9694-4f98-bbd7-534859dace4b",
   "metadata": {},
   "source": [
    "1. What is multiprocessing in python? Why is it useful?"
   ]
  },
  {
   "cell_type": "markdown",
   "id": "2019d450-d5b6-41e2-be23-a75f660979e2",
   "metadata": {},
   "source": [
    "Multiprocessing is a way of running multiple processes in parallel, allowing multiple CPUs or CPU cores to work simultaneously on a problem. It is useful for improving the performance of computationally intensive programs, as well as for parallelizing I/O-bound programs that spend a lot of time waiting for input/output operations to complete.\n",
    "\n",
    "Multiprocessing is particularly useful in Python because of the Global Interpreter Lock (GIL), which prevents multiple threads from executing Python bytecode at the same time. Multiprocessing allows multiple processes to run in parallel, each with its own Python interpreter and memory space, thereby bypassing the limitations of the GIL.\n",
    "\n",
    "The multiprocessing module in Python provides a way to create and manage multiple processes in a straightforward and easy-to-use manner. It provides several features for communication and synchronization between processes, such as shared memory, pipes, and queues, as well as tools for managing the execution of multiple processes, such as pools and process groups.\n",
    "\n",
    "\n",
    "\n"
   ]
  },
  {
   "cell_type": "markdown",
   "id": "b231b7cc-5763-4eb9-98a9-86f61898e7b8",
   "metadata": {},
   "source": [
    "2. What are the differences between multiprocessing and multithreading?"
   ]
  },
  {
   "cell_type": "markdown",
   "id": "3f452780-2464-4c12-a845-6a3e441f0157",
   "metadata": {},
   "source": [
    "The main differences between multiprocessing and multithreading are:\n",
    "\n",
    "Architecture: Multiprocessing involves multiple processes, each with its own memory space and resources, while multithreading involves multiple threads within a single process, sharing the same memory space and resources.\n",
    "\n",
    "Execution: Multiprocessing involves executing multiple processes simultaneously on multiple CPUs or CPU cores, while multithreading involves executing multiple threads simultaneously on a single CPU or CPU core.\n",
    "\n",
    "Overhead: Multiprocessing has higher overhead due to the need to create and manage multiple processes, while multithreading has lower overhead as it only requires creating and managing multiple threads within a single process.\n",
    "\n",
    "Interprocess communication: Multiprocessing requires interprocess communication mechanisms such as pipes, queues, or shared memory for communication between processes, while multithreading can communicate through shared variables or message passing without any additional mechanisms.\n",
    "\n",
    "Scalability: Multiprocessing is more scalable as it can take advantage of multiple CPUs or CPU cores, while multithreading is less scalable as it is limited to the resources of a single CPU or CPU core.\n",
    "\n",
    "Complexity: Multiprocessing is generally more complex due to the need to manage multiple processes and interprocess communication, while multithreading is simpler as it involves managing only multiple threads within a single process."
   ]
  },
  {
   "cell_type": "markdown",
   "id": "7b629d0f-26c8-43e7-a445-201914630094",
   "metadata": {},
   "source": [
    "3. Write a python code to create a process using the multiprocessing module."
   ]
  },
  {
   "cell_type": "code",
   "execution_count": 2,
   "id": "e81f75db-9c5b-441a-9fb8-9fdc2eb65b03",
   "metadata": {},
   "outputs": [
    {
     "name": "stdout",
     "output_type": "stream",
     "text": [
      "Worker\n",
      "Done\n"
     ]
    }
   ],
   "source": [
    "import multiprocessing\n",
    "\n",
    "def worker():\n",
    "    \"\"\"Worker function\"\"\"\n",
    "    print('Worker')\n",
    "\n",
    "if __name__ == '__main__':\n",
    "    # Create a new process\n",
    "    p = multiprocessing.Process(target=worker)\n",
    "    \n",
    "    # Start the process\n",
    "    p.start()\n",
    "    \n",
    "    # Wait for the process to finish\n",
    "    p.join()\n",
    "    \n",
    "    print('Done')\n"
   ]
  },
  {
   "cell_type": "markdown",
   "id": "2be7cf52-69a9-4749-9aaa-ef785614259d",
   "metadata": {},
   "source": [
    "In this code, we define a worker() function which will be executed in a separate process. We create a new process using the Process class, passing the target argument as the function to be executed in the new process. We then start the process using the start() method and wait for it to finish using the join() method. Finally, we print 'Done' to indicate that the process has finished."
   ]
  },
  {
   "cell_type": "markdown",
   "id": "83331b8e-d20f-41e8-bb61-325382c714ac",
   "metadata": {},
   "source": [
    "4. What is a multiprocessing pool in python? Why is it used?"
   ]
  },
  {
   "cell_type": "markdown",
   "id": "fa7ffc19-bf53-426a-b50b-2c51bb55f4b8",
   "metadata": {},
   "source": [
    "In Python, a multiprocessing pool is a way to parallelize the execution of a function across multiple input values in a collection. It allows you to distribute the work among multiple processes to improve performance and utilize multiple CPU cores effectively.\n",
    "\n",
    "The multiprocessing pool module provides a simple and easy-to-use interface for parallel processing. It creates a pool of worker processes and distributes tasks among them. Each worker process can work on a task independently, and the results are collected and returned to the parent process. This can significantly reduce the processing time of CPU-bound tasks.\n",
    "\n",
    "The pool object has methods such as map, imap, apply, apply_async, and map_async, which can be used to apply a function to multiple input values concurrently. These methods create a queue of tasks to be executed and distribute them among the available worker processes.\n",
    "\n",
    "The multiprocessing pool is especially useful when dealing with large data sets or CPU-intensive tasks that can be parallelized easily. By using a pool of worker processes, you can speed up the processing time and reduce the overall time taken to complete a task."
   ]
  },
  {
   "cell_type": "markdown",
   "id": "fb98e441-47ec-44f6-9eb1-fc1ac4f4a6d8",
   "metadata": {},
   "source": [
    "5. How can we create a pool of worker processes in python using the multiprocessing module?"
   ]
  },
  {
   "cell_type": "markdown",
   "id": "7f966719-1ce1-4f38-a23a-e2c6d4e40372",
   "metadata": {},
   "source": [
    "We can create a pool of worker processes in Python using the Pool class of the multiprocessing module.\n",
    "\n",
    "Here is an example code:"
   ]
  },
  {
   "cell_type": "code",
   "execution_count": 3,
   "id": "15c823e7-00c7-4d1d-9c24-7188ea65b2ad",
   "metadata": {},
   "outputs": [
    {
     "name": "stdout",
     "output_type": "stream",
     "text": [
      "WorkerWorkerWorker   312   is processing...is processing...is processing...\n",
      "\n",
      "\n"
     ]
    }
   ],
   "source": [
    "import multiprocessing\n",
    "\n",
    "# Define a function to be executed by each worker process\n",
    "def worker(num):\n",
    "    print(\"Worker\", num, \"is processing...\")\n",
    "\n",
    "# Define the main function\n",
    "def main():\n",
    "    # Create a pool of 3 worker processes\n",
    "    with multiprocessing.Pool(processes=3) as pool:\n",
    "        # Submit the function to be executed by the worker processes\n",
    "        pool.map(worker, [1, 2, 3])\n",
    "\n",
    "if __name__ == '__main__':\n",
    "    main()\n"
   ]
  },
  {
   "cell_type": "code",
   "execution_count": null,
   "id": "25a02c16-8dac-4bcb-9ea7-8fdfc57fbdcc",
   "metadata": {},
   "outputs": [],
   "source": [
    "In this code, we define a function worker() that takes a number as input and prints a message indicating that the worker is processing. We then define a main() function that creates a pool of 3 worker processes using the Pool class and submits the worker() function to be executed by each worker process using the map() method. Finally, we call the main() function when the script is executed.\n",
    "\n",
    "When we run this code, we should see the following output:"
   ]
  },
  {
   "cell_type": "markdown",
   "id": "a0a28e53-3333-4fc1-b04c-db7291a79564",
   "metadata": {},
   "source": [
    "6. Write a python program to create 4 processes, each process should print a different number using the\n",
    "multiprocessing module in python."
   ]
  },
  {
   "cell_type": "code",
   "execution_count": null,
   "id": "ebc1d1d7-518b-4460-92fb-78b13bed05d5",
   "metadata": {},
   "outputs": [],
   "source": []
  }
 ],
 "metadata": {
  "kernelspec": {
   "display_name": "Python 3 (ipykernel)",
   "language": "python",
   "name": "python3"
  },
  "language_info": {
   "codemirror_mode": {
    "name": "ipython",
    "version": 3
   },
   "file_extension": ".py",
   "mimetype": "text/x-python",
   "name": "python",
   "nbconvert_exporter": "python",
   "pygments_lexer": "ipython3",
   "version": "3.10.8"
  }
 },
 "nbformat": 4,
 "nbformat_minor": 5
}
