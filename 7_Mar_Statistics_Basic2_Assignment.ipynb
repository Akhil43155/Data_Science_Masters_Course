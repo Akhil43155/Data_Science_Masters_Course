{
 "cells": [
  {
   "cell_type": "markdown",
   "id": "d63bdcfa-dc01-44a4-894f-7420613bc107",
   "metadata": {},
   "source": [
    "### Q1. What are the three measures of central tendency?"
   ]
  },
  {
   "cell_type": "markdown",
   "id": "2714d018-acec-4fe4-897f-1ec95017f3f7",
   "metadata": {},
   "source": [
    "The three measures of central tendency are the mean, median, and mode."
   ]
  },
  {
   "cell_type": "markdown",
   "id": "defb23c7-9dcc-4b35-8984-b38b38a792bf",
   "metadata": {},
   "source": [
    "### Q2. What is the difference between the mean, median, and mode? How are they used to measure the\n",
    "central tendency of a dataset?"
   ]
  },
  {
   "cell_type": "markdown",
   "id": "b291f876-074d-417c-b8f3-618c858122a2",
   "metadata": {},
   "source": [
    "The mean, median, and mode are three measures of central tendency that are used to describe the central location of a dataset.\n",
    "\n",
    "The mean is the arithmetic average of a set of values, calculated by summing all the values and then dividing by the total number of values. It is sensitive to outliers and can be influenced by extreme values.\n",
    "\n",
    "The median is the middle value in a dataset when the values are arranged in order from smallest to largest (or vice versa). It is less affected by outliers than the mean.\n",
    "\n",
    "The mode is the most frequently occurring value in a dataset. It is often used for categorical or nominal data where there is no clear order or ranking of values.\n",
    "\n",
    "All three measures are used to give an idea of the typical value or central tendency of a dataset. The choice of which measure to use depends on the type of data and the research question. For example, the mean might be appropriate for measuring the average height of a group of people, while the median might be more appropriate for measuring the typical income of a group of people if there are extreme values or outliers present in the data. The mode is often used to describe categorical data, such as the most common color of cars sold by a dealership."
   ]
  },
  {
   "cell_type": "markdown",
   "id": "d0b579f7-a473-4c6c-9e8b-c5c790ee3104",
   "metadata": {},
   "source": [
    "### Q3. Measure the three measures of central tendency for the given height data:\n",
    "[178,177,176,177,178.2,178,175,179,180,175,178.9,176.2,177,172.5,178,176.5]"
   ]
  },
  {
   "cell_type": "markdown",
   "id": "bc9462a7-485f-406f-88e3-31622e558146",
   "metadata": {},
   "source": [
    "To find the measures of central tendency for the given height data, we can use the following formulas:\n",
    "\n",
    "Mean:\n",
    "\n",
    "    Mean = (sum of all values) / (total number of values)\n",
    "Median:\n",
    "\n",
    "\n",
    "    If the number of observations is odd, the median is the middle value.\n",
    "    If the number of observations is even, the median is the average of the two middle values.\n",
    "Mode:\n",
    "\n",
    "\n",
    "    The mode is the value that occurs most frequently in the dataset.\n",
    "Using these formulas, we get:\n",
    "\n",
    "Mean = (178+177+176+177+178.2+178+175+179+180+175+178.9+176.2+177+172.5+178+176.5) / 16 = 177.56\n",
    "\n",
    "Median = (176.5 + 177 + 177 + 178 + 178) / 5 = 177\n",
    "\n",
    "Mode = 177 and 178 (both occur twice)\n",
    "\n",
    "Therefore, the measures of central tendency for the given height data are:\n",
    "\n",
    "Mean: 177.56\n",
    "Median: 177\n",
    "Mode: 177 and 178\n",
    "\n",
    "\n",
    "\n"
   ]
  },
  {
   "cell_type": "markdown",
   "id": "36878ec1-625a-421f-8afa-0c03c4fd8273",
   "metadata": {},
   "source": [
    "### Q4. Find the standard deviation for the given data:\n",
    "[178,177,176,177,178.2,178,175,179,180,175,178.9,176.2,177,172.5,178,176.5]"
   ]
  },
  {
   "cell_type": "markdown",
   "id": "53eaf82e-374d-47bd-a626-6c92d11bd83e",
   "metadata": {},
   "source": [
    "To find the standard deviation, we can use the following formula:\n",
    "\n",
    "s = sqrt((Σ(xi - x̄)²) / (n - 1))\n",
    "\n",
    "Where:\n",
    "Σ = Summation (the sum of)\n",
    "xi = each value in the dataset\n",
    "x̄ = the mean of the dataset\n",
    "n = the number of values in the dataset\n",
    "sqrt = square root\n",
    "\n",
    "Using this formula, we get:\n",
    "\n",
    "x̄ = (178 + 177 + 176 + 177 + 178.2 + 178 + 175 + 179 + 180 + 175 + 178.9 + 176.2 + 177 + 172.5 + 178 + 176.5) / 16\n",
    "= 176.90625\n",
    "\n",
    "Σ(xi - x̄)² = (178 - 176.90625)² + (177 - 176.90625)² + (176 - 176.90625)² + ... + (176.5 - 176.90625)²\n",
    "= 78.6875\n",
    "\n",
    "s = sqrt((78.6875) / (16 - 1))\n",
    "= sqrt(5.80735294117647)\n",
    "= 2.409\n",
    "\n",
    "Therefore, the standard deviation for the given data is approximately 2.409."
   ]
  },
  {
   "cell_type": "markdown",
   "id": "f434b9f1-319d-4f58-bd3b-14f0baee949d",
   "metadata": {},
   "source": [
    "### Q5. How are measures of dispersion such as range, variance, and standard deviation used to describe\n",
    "the spread of a dataset? Provide an example."
   ]
  },
  {
   "cell_type": "markdown",
   "id": "e0aa29f6-d2f1-40cc-9b7e-2d016b58f77c",
   "metadata": {},
   "source": [
    "Measures of dispersion are used to describe how spread out or varied the data points are in a dataset. The three common measures of dispersion are range, variance, and standard deviation.\n",
    "\n",
    "Range: The range is the difference between the largest and smallest values in a dataset. It gives an idea of the total spread of the data points. However, the range can be affected by outliers, which may not represent the typical spread of the data. For example, if we have a dataset of test scores, the range could be used to determine the difference between the highest and lowest scores.\n",
    "\n",
    "Variance: Variance measures the average degree to which each value differs from the mean. It calculates how much the data points are dispersed from the central tendency. A higher variance indicates that the data points are more spread out from the mean, while a lower variance indicates that the data points are closer to the mean. For example, if we have a dataset of salaries, variance can be used to determine how much the salaries deviate from the average salary.\n",
    "\n",
    "Standard Deviation: Standard deviation measures the degree of variation from the mean. It provides a more accurate description of the spread of the data than the range, as it considers all data points and not just the extremes. A higher standard deviation indicates that the data points are more spread out from the mean, while a lower standard deviation indicates that the data points are closer to the mean. For example, if we have a dataset of student scores in a test, the standard deviation can be used to determine how much the scores vary from the average score.\n",
    "\n",
    "In general, measures of dispersion provide additional information about a dataset that can be used to understand the variability of the data points. However, it is important to consider the context of the data and the potential impact of outliers on the interpretation of these measures."
   ]
  },
  {
   "cell_type": "markdown",
   "id": "49f0ad51-8868-4e09-9ef8-ae634efff1e9",
   "metadata": {},
   "source": [
    "### Q6. What is a Venn diagram?"
   ]
  },
  {
   "cell_type": "markdown",
   "id": "06d82243-e924-4a57-9cc7-79803e359b17",
   "metadata": {},
   "source": [
    "A Venn diagram is a visual tool used to illustrate the relationship between sets of objects or data. It consists of one or more circles, with each circle representing a set of objects or data. The circles may overlap to indicate common elements between the sets. The Venn diagram can be used to show relationships between sets, such as how many elements are unique to each set, how many elements are shared between the sets, and how many elements are shared by all sets. It is commonly used in mathematics, logic, statistics, and other fields to visualize and analyze data."
   ]
  },
  {
   "cell_type": "markdown",
   "id": "018708ff-7c48-4889-83b8-a1f7192d0687",
   "metadata": {},
   "source": [
    "### Q7. For the two given sets A = (2,3,4,5,6,7) & B = (0,2,6,8,10). Find:\n",
    "(i) A ⋂ B\n",
    "(ii) A ⋃ B"
   ]
  },
  {
   "cell_type": "markdown",
   "id": "efd2be5d-053e-445f-a566-831808f15501",
   "metadata": {},
   "source": [
    "(i) A ⋂ B represents the intersection of sets A and B, which means the elements that are common to both sets. The common elements in sets A and B are 2 and 6, so A ⋂ B = {2,6}.\n",
    "\n",
    "(ii) A ⋃ B represents the union of sets A and B, which means all the elements that are in either set A or set B or both. The elements in set A are {2,3,4,5,6,7} and the elements in set B are {0,2,6,8,10}, so the union of sets A and B is {0,2,3,4,5,6,7,8,10}. Therefore, A ⋃ B = {0,2,3,4,5,6,7,8,10}."
   ]
  },
  {
   "cell_type": "markdown",
   "id": "87356f95-636c-4d69-86ed-60f9b89cf1e1",
   "metadata": {},
   "source": [
    "### Q8. What do you understand about skewness in data?"
   ]
  },
  {
   "cell_type": "markdown",
   "id": "15e87403-27e9-4086-9d65-30422078df05",
   "metadata": {},
   "source": [
    "Skewness in data refers to the degree of asymmetry observed in the distribution of the data. A perfectly symmetrical distribution has a skewness of 0, whereas a positive or right-skewed distribution has a longer tail on the right side of the distribution, resulting in a positive skewness value. Conversely, a negative or left-skewed distribution has a longer tail on the left side of the distribution, resulting in a negative skewness value. Skewness can affect measures of central tendency such as the mean, median, and mode, and can impact statistical analyses such as hypothesis testing and regression analysis."
   ]
  },
  {
   "cell_type": "markdown",
   "id": "308564f4-07ce-4302-a77d-0bab68ad6a90",
   "metadata": {},
   "source": [
    "### Q9. If a data is right skewed then what will be the position of median with respect to mean?"
   ]
  },
  {
   "cell_type": "markdown",
   "id": "c363d7f9-4b09-461c-8b97-a587cd95942e",
   "metadata": {},
   "source": [
    "If the data is right skewed, then the median will be to the right of the mean.\n",
    "\n",
    "This is because in a right-skewed distribution, the tail of the distribution extends towards the right, indicating that there are some extreme values on the right side of the distribution that pull the mean towards them. On the other hand, the median is less affected by extreme values, and instead represents the middle value of the distribution.\n",
    "\n",
    "Therefore, in a right-skewed distribution, the median will be closer to the bulk of the data on the left side of the distribution, while the mean will be pulled towards the extreme values on the right side of the distribution, resulting in the median being to the right of the mean."
   ]
  },
  {
   "cell_type": "markdown",
   "id": "3f829b8f-c623-4aea-8aac-f1b5081d1264",
   "metadata": {},
   "source": [
    "### Q10. Explain the difference between covariance and correlation. How are these measures used in\n",
    "statistical analysis?"
   ]
  },
  {
   "cell_type": "markdown",
   "id": "dc101480-960e-4eae-8ef8-f2d98134d245",
   "metadata": {},
   "source": [
    "Covariance and correlation are both measures of the relationship between two variables. However, they differ in the way they are calculated and interpreted.\n",
    "\n",
    "Covariance measures the extent to which two variables vary together. It indicates the direction of the relationship between the two variables (positive or negative) and the strength of the relationship. A positive covariance indicates that the two variables tend to increase or decrease together, while a negative covariance indicates that they tend to vary in opposite directions. However, covariance alone does not give a standardized measure of the relationship between the two variables.\n",
    "\n",
    "Correlation, on the other hand, measures the strength and direction of the linear relationship between two variables. It provides a standardized measure of the relationship between the two variables, which ranges from -1 to +1. A correlation coefficient of +1 indicates a perfect positive linear relationship, while a correlation coefficient of -1 indicates a perfect negative linear relationship. A correlation coefficient of 0 indicates no linear relationship between the two variables.\n",
    "\n",
    "Both covariance and correlation are used in statistical analysis to understand the relationship between two variables. However, correlation is a more commonly used measure as it provides a standardized measure of the relationship that is not affected by the scale of the variables. In addition, correlation can be used to compare the strength of the relationship between two pairs of variables, while covariance cannot be used for this purpose as it is affected by the scale of the variables."
   ]
  },
  {
   "cell_type": "markdown",
   "id": "22ae51cb-d16c-4e56-a2bf-9e0e1deed67d",
   "metadata": {},
   "source": [
    "### Q11. What is the formula for calculating the sample mean? Provide an example calculation for a\n",
    "dataset."
   ]
  },
  {
   "cell_type": "markdown",
   "id": "8fea26c6-9e7c-4dc0-ac5b-f0c9cbffc66f",
   "metadata": {},
   "source": [
    "The formula for calculating the sample mean is:\n",
    "\n",
    "sql\n",
    "\n",
    "sample mean = sum of all values / number of values\n",
    "Here is an example calculation for a dataset:\n",
    "\n",
    "Suppose we have a dataset of five numbers: 2, 5, 7, 8, 10.\n",
    "\n",
    "To find the sample mean, we first add up all the values:\n",
    "\n",
    "\n",
    "2 + 5 + 7 + 8 + 10 = 32\n",
    "Then we divide the sum by the number of values in the dataset (which is 5 in this case):\n",
    "\n",
    "java\n",
    "\n",
    "sample mean = 32 / 5 = 6.4\n",
    "Therefore, the sample mean of this dataset is 6.4."
   ]
  },
  {
   "cell_type": "markdown",
   "id": "563b2267-5fc4-4515-9012-68b724acb8fb",
   "metadata": {},
   "source": [
    "### Q12. For a normal distribution data what is the relationship between its measure of central tendency?"
   ]
  },
  {
   "cell_type": "markdown",
   "id": "9c7f6ed8-92da-495b-92ff-4ba60457897b",
   "metadata": {},
   "source": [
    "For a normal distribution data, the mean, median, and mode are equal. This means that they all represent the same value of the central tendency of the data. Additionally, in a normal distribution, the mean, median, and mode are located at the center of the distribution, which is also the highest point of the curve. The normal distribution is symmetrical, and so the mean, median, and mode will all be at the exact center of the distribution."
   ]
  },
  {
   "cell_type": "markdown",
   "id": "107209f4-c0b5-4520-8466-891d44904efc",
   "metadata": {},
   "source": [
    "### Q13. How is covariance different from correlation?"
   ]
  },
  {
   "cell_type": "markdown",
   "id": "13738fe6-c153-4bbd-a114-6cdf4f1887a0",
   "metadata": {},
   "source": [
    "Covariance and correlation are both measures of the relationship between two variables in a dataset, but they differ in their scale and interpretation.\n",
    "\n",
    "Covariance measures the direction and strength of the linear relationship between two variables. It measures how much two variables change together. The formula for covariance between two variables X and Y in a sample of size n is:\n",
    "\n",
    "cov(X,Y) = (Σ(Xi - X̄)(Yi - Ȳ))/(n-1)\n",
    "\n",
    "where Xi and Yi are the individual data points, X̄ and Ȳ are the sample means of X and Y, respectively, and n is the sample size.\n",
    "\n",
    "Correlation, on the other hand, measures the strength and direction of the linear relationship between two variables, but it is scaled between -1 and 1, where -1 indicates a perfect negative correlation, 0 indicates no correlation, and 1 indicates a perfect positive correlation. The formula for correlation between two variables X and Y in a sample of size n is:\n",
    "\n",
    "corr(X,Y) = cov(X,Y) / (sX * sY)\n",
    "\n",
    "where cov(X,Y) is the covariance between X and Y, and sX and sY are the sample standard deviations of X and Y, respectively.\n",
    "\n",
    "In summary, covariance measures the direction and strength of the linear relationship between two variables, while correlation measures the strength and direction of the linear relationship between two variables on a standardized scale. Both measures are important in statistical analysis as they help to understand the relationship between variables and make predictions based on that relationship.\n",
    "\n",
    "\n",
    "\n"
   ]
  },
  {
   "cell_type": "markdown",
   "id": "43bbacd9-bf02-42b0-8e4f-8eae632fd30b",
   "metadata": {},
   "source": [
    "### Q14. How do outliers affect measures of central tendency and dispersion? Provide an example."
   ]
  },
  {
   "cell_type": "markdown",
   "id": "60634d26-9365-4cf4-960f-9f38797cd55e",
   "metadata": {},
   "source": [
    "Outliers can have a significant impact on measures of central tendency and dispersion. Central tendency measures, such as the mean, are particularly sensitive to outliers because they incorporate all data points in their calculation. A single extreme value can significantly skew the mean, making it an inaccurate representation of the typical values in the dataset.\n",
    "\n",
    "On the other hand, measures of dispersion, such as range, variance, and standard deviation, can also be affected by outliers. Outliers can increase the range, variance, and standard deviation of a dataset, making it appear more spread out than it actually is.\n",
    "\n",
    "For example, consider a dataset of the salaries of employees in a company:\n",
    "\n",
    "[30,000, 35,000, 40,000, 45,000, 50,000, 55,000, 60,000, 75,000, 80,000, 150,000]\n",
    "\n",
    "In this dataset, the value of 150,000 is an outlier. If we calculate the mean of this dataset, we get:\n",
    "\n",
    "Mean = (30,000 + 35,000 + 40,000 + 45,000 + 50,000 + 55,000 + 60,000 + 75,000 + 80,000 + 150,000) / 10\n",
    "= 56,500\n",
    "\n",
    "The mean salary of employees in this company appears to be $56,500, which is a bit high. However, this is because of the outlier value of $150,000.\n",
    "\n",
    "If we remove the outlier and recalculate the mean, we get:\n",
    "\n",
    "Mean = (30,000 + 35,000 + 40,000 + 45,000 + 50,000 + 55,000 + 60,000 + 75,000 + 80,000) / 9\n",
    "= 51,666.67\n",
    "\n",
    "The mean salary now appears to be $51,666.67, which is a more accurate representation of the typical salaries in the company.\n",
    "\n",
    "Similarly, if we calculate the standard deviation of the original dataset, we get:\n",
    "\n",
    "Standard deviation = 37,777.27\n",
    "\n",
    "The standard deviation is quite high because of the outlier. If we remove the outlier and recalculate the standard deviation, we get:\n",
    "\n",
    "Standard deviation = 18,856.79\n",
    "\n",
    "The standard deviation is much lower now, reflecting the fact that the salaries are not as spread out as they appeared to be with the outlier included.\n",
    "\n",
    "\n",
    "\n"
   ]
  },
  {
   "cell_type": "code",
   "execution_count": null,
   "id": "4a14cda8-e327-4a1a-85e0-3dff42090a06",
   "metadata": {},
   "outputs": [],
   "source": []
  },
  {
   "cell_type": "code",
   "execution_count": null,
   "id": "2548e895-10c1-48be-8bca-8fa6b7ee0065",
   "metadata": {},
   "outputs": [],
   "source": []
  }
 ],
 "metadata": {
  "kernelspec": {
   "display_name": "Python 3 (ipykernel)",
   "language": "python",
   "name": "python3"
  },
  "language_info": {
   "codemirror_mode": {
    "name": "ipython",
    "version": 3
   },
   "file_extension": ".py",
   "mimetype": "text/x-python",
   "name": "python",
   "nbconvert_exporter": "python",
   "pygments_lexer": "ipython3",
   "version": "3.10.8"
  }
 },
 "nbformat": 4,
 "nbformat_minor": 5
}
