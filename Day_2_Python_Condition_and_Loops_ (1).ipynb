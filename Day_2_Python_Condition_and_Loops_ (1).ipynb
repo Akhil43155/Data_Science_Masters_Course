{
 "cells": [
  {
   "cell_type": "code",
   "execution_count": null,
   "id": "da9214bb-c0a9-46d7-9a95-4152a388c331",
   "metadata": {
    "id": "da9214bb-c0a9-46d7-9a95-4152a388c331",
    "outputId": "455ee973-0e15-4d4b-ffee-e4652572d60c"
   },
   "outputs": [],
   "source": [
    "int('123')"
   ]
  },
  {
   "cell_type": "code",
   "execution_count": null,
   "id": "84dc4185-d700-4766-8dca-b44b8e26845f",
   "metadata": {
    "id": "84dc4185-d700-4766-8dca-b44b8e26845f",
    "outputId": "f84c1efa-1aca-4278-f3a7-d637513b57f9"
   },
   "outputs": [],
   "source": [
    "print(\"Hello World\")"
   ]
  },
  {
   "cell_type": "code",
   "execution_count": null,
   "id": "fadf09ba-5413-4c72-83db-8a3c2de35b22",
   "metadata": {
    "id": "fadf09ba-5413-4c72-83db-8a3c2de35b22",
    "outputId": "249458b7-4ea9-4cd9-e1e5-c30787a95c5f"
   },
   "outputs": [],
   "source": [
    "print(123)"
   ]
  },
  {
   "cell_type": "code",
   "execution_count": null,
   "id": "70e0568d-9824-4da0-a01a-87f9e138368a",
   "metadata": {
    "id": "70e0568d-9824-4da0-a01a-87f9e138368a",
    "outputId": "ca8398e3-0cd4-4936-b32a-cab929be1bdd"
   },
   "outputs": [],
   "source": [
    "print('Hello World')"
   ]
  },
  {
   "cell_type": "code",
   "execution_count": null,
   "id": "83bd21cc-31b4-4b4d-a73c-dcd7af68f217",
   "metadata": {
    "id": "83bd21cc-31b4-4b4d-a73c-dcd7af68f217",
    "outputId": "e33a5682-e094-4a1c-a8ed-cb824e079c11"
   },
   "outputs": [],
   "source": [
    "age=32\n",
    "print(\"My age is:\",age)"
   ]
  },
  {
   "cell_type": "code",
   "execution_count": null,
   "id": "e250b48e-4c39-488a-aec0-ea4ff54ba69b",
   "metadata": {
    "id": "e250b48e-4c39-488a-aec0-ea4ff54ba69b",
    "outputId": "1e8c3c18-f427-4fe2-d52c-e46794559870"
   },
   "outputs": [],
   "source": [
    "##  f string\n",
    "print(f\"My age is: {age}\")"
   ]
  },
  {
   "cell_type": "code",
   "execution_count": null,
   "id": "6ff6137c-f76c-40fb-ac7a-9e0759df6c71",
   "metadata": {
    "id": "6ff6137c-f76c-40fb-ac7a-9e0759df6c71",
    "outputId": "968010c4-ff06-48fd-e913-99ea95587be1"
   },
   "outputs": [],
   "source": [
    "## format()\n",
    "name=\"Krish\"\n",
    "age=32\n",
    "print(\"My name is {} and age is {}\".format(name,age))"
   ]
  },
  {
   "cell_type": "code",
   "execution_count": null,
   "id": "bd510f5a-3e80-413d-866b-bdc8d24987c8",
   "metadata": {
    "id": "bd510f5a-3e80-413d-866b-bdc8d24987c8",
    "outputId": "0c12dcd3-ace9-4766-c808-5f35cdfbd572"
   },
   "outputs": [],
   "source": [
    "print(\"My name is {} and age is {}\".format(age,name))"
   ]
  },
  {
   "cell_type": "code",
   "execution_count": null,
   "id": "a4b07305-78e5-4c64-901f-2ed2f29be593",
   "metadata": {
    "id": "a4b07305-78e5-4c64-901f-2ed2f29be593",
    "outputId": "45ac932d-bdc4-4ff0-85e7-afcef272d5fe"
   },
   "outputs": [],
   "source": [
    "##placeholder\n",
    "print(\"My name is {firstname} and age is {firstage}\".format(firstage=age,firstname=name))"
   ]
  },
  {
   "cell_type": "code",
   "execution_count": null,
   "id": "9eb9c60d-dcfc-4d3a-919c-c6e5b83298a1",
   "metadata": {
    "id": "9eb9c60d-dcfc-4d3a-919c-c6e5b83298a1"
   },
   "outputs": [],
   "source": [
    "name=\"Akhil\"\n",
    "age=20\n",
    "degree=\"B.Tech\"\n",
    "\n",
    "\" My age is 20 and i have completed: my degree of B.Tech with the name of Akhil Lankapalli\""
   ]
  },
  {
   "cell_type": "code",
   "execution_count": null,
   "id": "56690822-9b0b-43b0-9956-2347334c7fdd",
   "metadata": {
    "id": "56690822-9b0b-43b0-9956-2347334c7fdd"
   },
   "outputs": [],
   "source": [
    "print(\"My age is {} and i have completed: my degree {} with the name of {}\".format(age,degree,name))\n"
   ]
  },
  {
   "cell_type": "code",
   "execution_count": null,
   "id": "e140e3e8-bfe5-4514-9ece-7649f5aac0ff",
   "metadata": {
    "id": "e140e3e8-bfe5-4514-9ece-7649f5aac0ff"
   },
   "outputs": [],
   "source": [
    "print(f\"My age is {age} and I have completed: my degree of {degree} with the name of {name}\")\n"
   ]
  },
  {
   "cell_type": "markdown",
   "id": "51339415-4160-4246-af5b-55fe111b0551",
   "metadata": {
    "id": "51339415-4160-4246-af5b-55fe111b0551"
   },
   "source": [
    "## Control Flow\n",
    "### Decision Making statements\n",
    "   * It is kind of making decision during occurred situation of program execution and action can be taken according to specified conditions.\n",
    "   * Structure of decision making evaluate several expressions that provide True or False as a result.\n",
    "   * It is up to you to decide which type of action want to take and execute the statements based upon True and False.\n",
    "   \n",
    "**These are several topics of decision making which going to be discussed below:**\n",
    "   1. **if**\n",
    "   2. **if else** \n",
    "   3. **if elif else**\n",
    "   4. **Nested if**\n",
    "   5. **Single Statement Suites**"
   ]
  },
  {
   "cell_type": "code",
   "execution_count": null,
   "id": "21fa06d5-2659-49e9-8c6c-0e1a76cc573f",
   "metadata": {
    "id": "21fa06d5-2659-49e9-8c6c-0e1a76cc573f",
    "outputId": "b84e3a05-9bc9-4d67-e36a-0d3de66e75c3"
   },
   "outputs": [],
   "source": [
    "## If Statements\n",
    "age=18\n",
    "if age>=18:\n",
    "    print(\"You are eligible to vote\")\n",
    "    "
   ]
  },
  {
   "cell_type": "code",
   "execution_count": null,
   "id": "8dcd857e-ce45-4935-b80f-45b1ee62803b",
   "metadata": {
    "id": "8dcd857e-ce45-4935-b80f-45b1ee62803b",
    "outputId": "36c3c8b9-a991-48ec-c9ad-7806706a60ed"
   },
   "outputs": [],
   "source": [
    "## If Statements\n",
    "age=17\n",
    "if age<18:\n",
    "    print(\"You are not eligible to vote\")"
   ]
  },
  {
   "cell_type": "code",
   "execution_count": null,
   "id": "c67056d6-a61b-46ec-960c-32e1a8120fbd",
   "metadata": {
    "id": "c67056d6-a61b-46ec-960c-32e1a8120fbd",
    "outputId": "daa24275-d0ae-4009-9e95-4b2b1926056c"
   },
   "outputs": [],
   "source": [
    "18<=18"
   ]
  },
  {
   "cell_type": "code",
   "execution_count": null,
   "id": "5e75d089-42f3-4a33-bc87-164ef45746f0",
   "metadata": {
    "id": "5e75d089-42f3-4a33-bc87-164ef45746f0",
    "outputId": "a6cd3f5f-b9af-488a-d9a7-bbab86d3b592"
   },
   "outputs": [],
   "source": [
    "name=input(\"Enter the name\")"
   ]
  },
  {
   "cell_type": "code",
   "execution_count": null,
   "id": "3cc379bf-785a-4a16-9c53-1bfb722b2ca1",
   "metadata": {
    "id": "3cc379bf-785a-4a16-9c53-1bfb722b2ca1",
    "outputId": "d1faadca-ce24-4bb3-a925-fa379bed118d"
   },
   "outputs": [],
   "source": [
    "Akhil"
   ]
  },
  {
   "cell_type": "code",
   "execution_count": null,
   "id": "50bd3a20-8e98-4e26-afa0-e995189bdb7d",
   "metadata": {
    "id": "50bd3a20-8e98-4e26-afa0-e995189bdb7d",
    "outputId": "ea94e20c-1a99-420c-927a-c5668a443974"
   },
   "outputs": [],
   "source": [
    "age=int(input(\"Enter your age\"))"
   ]
  },
  {
   "cell_type": "code",
   "execution_count": null,
   "id": "e29d6b6c-dc90-4193-a6ab-23440487e092",
   "metadata": {
    "id": "e29d6b6c-dc90-4193-a6ab-23440487e092",
    "outputId": "3d7316a9-f120-49f2-a73a-a02fc1959257"
   },
   "outputs": [],
   "source": [
    "type(age)"
   ]
  },
  {
   "cell_type": "code",
   "execution_count": null,
   "id": "c9f25139-0ed4-4f6a-b65b-42574870029a",
   "metadata": {
    "id": "c9f25139-0ed4-4f6a-b65b-42574870029a"
   },
   "outputs": [],
   "source": [
    "##Task\n",
    "## Take a input of age\n",
    "## check whether age >=18 and age<=45\n",
    "## display a message you are young blood"
   ]
  },
  {
   "cell_type": "code",
   "execution_count": null,
   "id": "6dbd8004-ba80-4771-b47f-cef36461615b",
   "metadata": {
    "id": "6dbd8004-ba80-4771-b47f-cef36461615b",
    "outputId": "64225c5c-c767-4bb3-edbd-ad64fd3d14d1"
   },
   "outputs": [],
   "source": [
    "age=int(input(\"Enter the age\"))\n",
    "if  age>=18 and age <=45:\n",
    "    print(\"You are young blood\")"
   ]
  },
  {
   "cell_type": "code",
   "execution_count": null,
   "id": "ce0d69b2-f519-4010-800e-8c14fbebb4d0",
   "metadata": {
    "id": "ce0d69b2-f519-4010-800e-8c14fbebb4d0",
    "outputId": "08503150-be39-4c6b-b3af-0e84dc8b0631"
   },
   "outputs": [],
   "source": [
    "22>=18 and 22<=45"
   ]
  },
  {
   "cell_type": "code",
   "execution_count": null,
   "id": "65bb2146-3b16-4d0c-8314-73c2a5d3552d",
   "metadata": {
    "id": "65bb2146-3b16-4d0c-8314-73c2a5d3552d",
    "outputId": "acccc8fa-6638-4a66-f7cf-80a80eb7627f"
   },
   "outputs": [],
   "source": [
    "22<=42"
   ]
  },
  {
   "cell_type": "code",
   "execution_count": null,
   "id": "283f842c-24ed-4ded-ab4c-b0108d93df83",
   "metadata": {
    "id": "283f842c-24ed-4ded-ab4c-b0108d93df83",
    "outputId": "ab5d23b2-73b2-4efc-ea16-8db567416402"
   },
   "outputs": [],
   "source": [
    "age=int(input(\"Enter the age\"))\n",
    "if  age>=18 and age <=45:\n",
    "    print(\"You are young blood\")"
   ]
  },
  {
   "cell_type": "code",
   "execution_count": null,
   "id": "eb3a4bfb-54cb-400e-88ee-c5deca913146",
   "metadata": {
    "id": "eb3a4bfb-54cb-400e-88ee-c5deca913146",
    "outputId": "d103cb4d-eda4-4f0d-981e-cbb1ae6a6887"
   },
   "outputs": [],
   "source": [
    "## if else satetements\n",
    "age=int(input(\"Enter the age\"))\n",
    "if  age>=18 and age <=45:\n",
    "    print(\"You are young blood\")|\n",
    "else:\n",
    "    print(\"Thank you your we will let you know\")"
   ]
  },
  {
   "cell_type": "code",
   "execution_count": null,
   "id": "de1c96e8-f315-4fab-a051-03e0a50384a0",
   "metadata": {
    "id": "de1c96e8-f315-4fab-a051-03e0a50384a0"
   },
   "outputs": [],
   "source": [
    "## mall - input the product price\n",
    "## product >1000 rs 20% off\n",
    "## print the product price after removing the discount\n",
    "## product <=1000 rs 30% off\n",
    "## print the product price after removing the discount\n"
   ]
  },
  {
   "cell_type": "code",
   "execution_count": null,
   "id": "cae3f380-2f96-4d67-9f4b-0871f59fc917",
   "metadata": {
    "id": "cae3f380-2f96-4d67-9f4b-0871f59fc917",
    "outputId": "269f4fcd-566d-45b6-c5a4-1f4203ad4f55"
   },
   "outputs": [],
   "source": [
    "product_price=int(input(\"Enter the price\"))\n",
    "if product_price>1000:\n",
    "    print(\"The price of the product is {}\".format(product_price*0.8))\n",
    "else:\n",
    "    print(\"The price of the product is {}\".format(product_price*0.7))"
   ]
  },
  {
   "cell_type": "code",
   "execution_count": null,
   "id": "d2959de0-ce8b-491f-8e5a-d269f4a86e64",
   "metadata": {
    "id": "d2959de0-ce8b-491f-8e5a-d269f4a86e64",
    "outputId": "b44b96b5-b6d6-40c6-8762-e93248d2cbde"
   },
   "outputs": [],
   "source": [
    "int((20/100)*5000)"
   ]
  },
  {
   "cell_type": "code",
   "execution_count": null,
   "id": "f28759c4-7d53-4277-8382-5f84405640cf",
   "metadata": {
    "id": "f28759c4-7d53-4277-8382-5f84405640cf",
    "outputId": "5ace077a-020f-4613-da56-9a2fb679b53c"
   },
   "outputs": [],
   "source": [
    "product_price=int(input(\"Enter the price\"))\n",
    "if product_price>1000:\n",
    "    print(f\"The price of the product is {product_price*0.8}\")\n",
    "else:\n",
    "    print(\"The price of the product is {}\".format(product_price*0.7))"
   ]
  },
  {
   "cell_type": "code",
   "execution_count": null,
   "id": "566ad314-b292-47df-bac7-e5b8b4b9f2b3",
   "metadata": {
    "id": "566ad314-b292-47df-bac7-e5b8b4b9f2b3"
   },
   "outputs": [],
   "source": [
    "## mall - input the product price\n",
    "## product >3000 rs 20% off\n",
    "## price is ==4000 you get a trip to Goa\n",
    "## print the product price after removing the discount\n",
    "## product >=2000 rs and <=3000 30% off\n",
    "## print the product price after removing the discount\n",
    "## price ==2999  u will get adiitional gift\n",
    "## product 100 rs and <=2000 40% off\n",
    "## print the product price after removing the discount"
   ]
  },
  {
   "cell_type": "code",
   "execution_count": null,
   "id": "f5a76f5b-2a4a-4e21-ad95-c981b2ce03d1",
   "metadata": {
    "id": "f5a76f5b-2a4a-4e21-ad95-c981b2ce03d1",
    "outputId": "65c098f8-3372-46c3-e7b0-d75ac8e49486"
   },
   "outputs": [],
   "source": [
    "product_price=int(input(\"Enter the price\"))\n",
    "if product_price>3000:\n",
    "    if product_price==4000:\n",
    "        print(\"Congratulations you get a Goa Trip\")\n",
    "    print(f\"The price of the product is {product_price*0.8}\")\n",
    "elif product_price>=2000 and product_price<=3000:\n",
    "    if product_price==2999:\n",
    "        print(\"Congratulations you get an additional gift\")\n",
    "    print(f\"The price of the product is {product_price*0.7}\")\n",
    "elif product_price>=100 and product_price<2000:\n",
    "    print(f\"The price of the product is {product_price*0.6}\")\n",
    "else:\n",
    "    print(\"Lets drink tea\")\n",
    "    print(\"I will also be there\")\n",
    "    "
   ]
  },
  {
   "cell_type": "code",
   "execution_count": null,
   "id": "fa450496-a013-4a8a-994e-e93ceb5335e9",
   "metadata": {
    "id": "fa450496-a013-4a8a-994e-e93ceb5335e9",
    "outputId": "748fd7c7-f988-43f1-b47d-19cd6514db8d"
   },
   "outputs": [],
   "source": [
    "#comaprission operator\n",
    "True==True"
   ]
  },
  {
   "cell_type": "code",
   "execution_count": null,
   "id": "24d70ba3-174c-4ab1-b524-b6fb4c937a3d",
   "metadata": {
    "id": "24d70ba3-174c-4ab1-b524-b6fb4c937a3d",
    "outputId": "4bb7d26e-511c-4935-fbe0-75a83594104a"
   },
   "outputs": [],
   "source": [
    "## Single statement Suites\n",
    "val=int(input('Enter the number'))\n",
    "if(val<=999):print(\"Value is less than equal to 999\")\n",
    "else:\n",
    "    print(\"Go Home\")"
   ]
  },
  {
   "cell_type": "markdown",
   "id": "38e18955-1f9e-4b5a-9674-16e5602eaf98",
   "metadata": {
    "id": "38e18955-1f9e-4b5a-9674-16e5602eaf98"
   },
   "source": [
    "## Loops statements\n",
    "1. while loop\n",
    "2. for loop\n",
    "3. nested loops\n",
    "4. Loop control(break,continue,pass)"
   ]
  },
  {
   "cell_type": "code",
   "execution_count": null,
   "id": "5af77a71-ea79-4120-88ba-8fdb5c46382c",
   "metadata": {
    "id": "5af77a71-ea79-4120-88ba-8fdb5c46382c",
    "outputId": "30f786fc-5ad1-4868-b2b5-abcb2f33988b"
   },
   "outputs": [],
   "source": [
    "# while loop while-else\n",
    "joining_age=50\n",
    "while joining_age<=60:\n",
    "    print(joining_age)\n",
    "    joining_age=joining_age+1\n",
    "    \n",
    "else:\n",
    "    print(\"Its time for retirement\")\n",
    "\n"
   ]
  },
  {
   "cell_type": "code",
   "execution_count": null,
   "id": "3ac6e35d-baec-4eb0-8b90-5ba77de7d4fe",
   "metadata": {
    "id": "3ac6e35d-baec-4eb0-8b90-5ba77de7d4fe",
    "outputId": "7de200e8-7825-4b71-cab3-99bc543097ab"
   },
   "outputs": [],
   "source": [
    "### Atm machine with 1000 rs\n",
    "total_amount=1000\n",
    "while total_amount!=0:\n",
    "    print(total_amount)\n",
    "    total_amount=total_amount-100\n",
    "else:\n",
    "    print(\"Put more money bank people\")\n",
    "    \n",
    "print(\"Hello All\")\n",
    "    "
   ]
  },
  {
   "cell_type": "markdown",
   "id": "b2a9ea39-c927-4717-b4c6-bbc12da4f82a",
   "metadata": {
    "id": "b2a9ea39-c927-4717-b4c6-bbc12da4f82a"
   },
   "source": [
    "## For Loop"
   ]
  },
  {
   "cell_type": "code",
   "execution_count": null,
   "id": "be6ed02f-ed0d-4296-905c-26358227e62b",
   "metadata": {
    "id": "be6ed02f-ed0d-4296-905c-26358227e62b"
   },
   "outputs": [],
   "source": [
    "lst=[\"Akhil\",1,2,3,4,\"apple\",\"banana\"]"
   ]
  },
  {
   "cell_type": "code",
   "execution_count": null,
   "id": "6937007c-1411-4ad9-9796-7df9fdf62f55",
   "metadata": {
    "id": "6937007c-1411-4ad9-9796-7df9fdf62f55",
    "outputId": "217bd07a-4dfe-4535-87f9-9de4eac6dec0"
   },
   "outputs": [],
   "source": [
    "type(lst)"
   ]
  },
  {
   "cell_type": "code",
   "execution_count": null,
   "id": "bc0a3c5d-287b-433f-90f7-63301ca68fe5",
   "metadata": {
    "id": "bc0a3c5d-287b-433f-90f7-63301ca68fe5",
    "outputId": "6bb58d73-925b-4f24-e3a4-775e6e35dccd"
   },
   "outputs": [],
   "source": [
    "lst[4]"
   ]
  },
  {
   "cell_type": "code",
   "execution_count": null,
   "id": "81f419f4-2335-415b-b209-e914865bae85",
   "metadata": {
    "id": "81f419f4-2335-415b-b209-e914865bae85",
    "outputId": "51356af8-86b2-4cc3-ec25-43b3bd578ecc"
   },
   "outputs": [],
   "source": [
    "lst"
   ]
  },
  {
   "cell_type": "code",
   "execution_count": null,
   "id": "bea79ecb-8f33-4829-9b78-bb116e7cbfb1",
   "metadata": {
    "id": "bea79ecb-8f33-4829-9b78-bb116e7cbfb1",
    "outputId": "36358723-d310-4da0-b17f-11b935a1b775"
   },
   "outputs": [],
   "source": [
    "for x in lst:\n",
    "    print(x)"
   ]
  },
  {
   "cell_type": "code",
   "execution_count": null,
   "id": "a676b171-a273-499f-89cd-0ba1e5d9882f",
   "metadata": {
    "id": "a676b171-a273-499f-89cd-0ba1e5d9882f"
   },
   "outputs": [],
   "source": [
    "fruits_list = [\"Mango\",\"Cherry\",\"Apple\",\"Papaya\",\"Banana\"]"
   ]
  },
  {
   "cell_type": "code",
   "execution_count": null,
   "id": "f0d5c558-d765-4ff1-8a65-1229a62445c8",
   "metadata": {
    "id": "f0d5c558-d765-4ff1-8a65-1229a62445c8",
    "outputId": "5f63cd23-3fce-449f-b63d-ab4f28c915f3"
   },
   "outputs": [],
   "source": [
    "for a in fruits_list:\n",
    "    print(a)\n",
    "    if a==\"Cherry\":\n",
    "        print(\"The fruit is cherry\")\n",
    "        "
   ]
  },
  {
   "cell_type": "code",
   "execution_count": null,
   "id": "f59824fd-26c1-498e-88e9-61a7918ff087",
   "metadata": {
    "id": "f59824fd-26c1-498e-88e9-61a7918ff087",
    "outputId": "87a91ca9-0506-4133-eea5-76b323aa89bf"
   },
   "outputs": [],
   "source": [
    "fruit='mango'\n",
    "for x in fruit:\n",
    "    print(x)"
   ]
  },
  {
   "cell_type": "code",
   "execution_count": null,
   "id": "ae17b40a-d8b2-4946-b829-665d3b59841a",
   "metadata": {
    "id": "ae17b40a-d8b2-4946-b829-665d3b59841a",
    "outputId": "5113b83a-363e-4d3a-e806-c82201434387"
   },
   "outputs": [],
   "source": [
    "fruit='mango'\n",
    "for x in fruit:\n",
    "    print(x)"
   ]
  },
  {
   "cell_type": "code",
   "execution_count": null,
   "id": "f6b700b0-f87a-421f-b749-c2bff589fd58",
   "metadata": {
    "id": "f6b700b0-f87a-421f-b749-c2bff589fd58",
    "outputId": "c178d343-8c23-4263-9810-2ec0d34fc98c"
   },
   "outputs": [],
   "source": [
    "fruit[2]"
   ]
  },
  {
   "cell_type": "code",
   "execution_count": null,
   "id": "cdb25811-64ae-472c-9edc-df333e9d9141",
   "metadata": {
    "id": "cdb25811-64ae-472c-9edc-df333e9d9141"
   },
   "outputs": [],
   "source": [
    "###  Nested loops\n",
    "n=7\n",
    "\n"
   ]
  },
  {
   "cell_type": "code",
   "execution_count": null,
   "id": "a9a34800-2a3e-45de-b2e6-a56754bf5d02",
   "metadata": {
    "id": "a9a34800-2a3e-45de-b2e6-a56754bf5d02",
    "outputId": "20d29e4b-4cc5-4ba0-c810-76a4e27ae507"
   },
   "outputs": [
    {
     "name": "stdout",
     "output_type": "stream",
     "text": [
      "1\n",
      "2\n",
      "3\n",
      "4\n",
      "5\n",
      "6\n",
      "7\n",
      "8\n",
      "9\n"
     ]
    }
   ],
   "source": [
    "## range\n",
    "for i in range(1,10):\n",
    "    print(i)"
   ]
  },
  {
   "cell_type": "code",
   "execution_count": null,
   "id": "278a477f-3c86-4d52-813e-33badccc6058",
   "metadata": {
    "id": "278a477f-3c86-4d52-813e-33badccc6058",
    "outputId": "3983305a-def5-4932-f854-653e0c8d0506"
   },
   "outputs": [
    {
     "name": "stdout",
     "output_type": "stream",
     "text": [
      "0\n",
      "2\n",
      "4\n",
      "6\n"
     ]
    }
   ],
   "source": [
    "for i in range(0,7,2):\n",
    "    print(i)"
   ]
  },
  {
   "cell_type": "code",
   "execution_count": null,
   "id": "cd16d3c6-8d2f-4aeb-8fa2-3f863db793fb",
   "metadata": {
    "id": "cd16d3c6-8d2f-4aeb-8fa2-3f863db793fb",
    "outputId": "3ea86d31-2ba6-4806-d5b7-0ff4be8a8f6d"
   },
   "outputs": [
    {
     "name": "stdout",
     "output_type": "stream",
     "text": [
      "*\n",
      "**\n",
      "***\n",
      "****\n",
      "*****\n",
      "******\n",
      "*******\n"
     ]
    }
   ],
   "source": [
    "## Nested loops\n",
    "n=7\n",
    "\n",
    "for i in range(0,n):\n",
    "    for j in range(0,i+1):\n",
    "        print(\"*\",end=\"\")\n",
    "    print(\"\\r\")"
   ]
  },
  {
   "cell_type": "code",
   "execution_count": null,
   "id": "3ba5f283-3eb0-407e-a3b1-8a30ec0529e1",
   "metadata": {
    "id": "3ba5f283-3eb0-407e-a3b1-8a30ec0529e1"
   },
   "outputs": [],
   "source": [
    "##Loop controls\n",
    "## Break and continue\n",
    "fruits_list = [\"Mango\",\"Cherry\",\"Apple\",\"Papaya\",\"Banana\"]\n"
   ]
  },
  {
   "cell_type": "code",
   "execution_count": null,
   "id": "8ac9ff67-6736-4a9b-8a32-09439a52f083",
   "metadata": {
    "id": "8ac9ff67-6736-4a9b-8a32-09439a52f083",
    "outputId": "48d26b01-a601-451a-8a0a-4b62f92923b9"
   },
   "outputs": [
    {
     "name": "stdout",
     "output_type": "stream",
     "text": [
      "Mango\n",
      "Cherry\n",
      "The fruit is apple\n"
     ]
    }
   ],
   "source": [
    "for i in fruits_list:\n",
    "    if i==\"Apple\":\n",
    "        print(\"The fruit is apple\")\n",
    "        break\n",
    "    print(i)"
   ]
  },
  {
   "cell_type": "code",
   "execution_count": null,
   "id": "c4da2082-960e-497a-80ee-fe65f9882375",
   "metadata": {
    "id": "c4da2082-960e-497a-80ee-fe65f9882375",
    "outputId": "bf8a5bc2-1380-4c8c-f825-00769876a439"
   },
   "outputs": [
    {
     "name": "stdout",
     "output_type": "stream",
     "text": [
      "Mango\n",
      "Cherry\n",
      "The fruit is apple\n",
      "Apple\n",
      "Papaya\n",
      "Banana\n"
     ]
    }
   ],
   "source": [
    "for i in fruits_list:\n",
    "    if i==\"Apple\":\n",
    "        print(\"The fruit is apple\")\n",
    "        pass\n",
    "    print(i)"
   ]
  },
  {
   "cell_type": "code",
   "execution_count": null,
   "id": "d398b369-92ea-49a2-bda0-e0d5cac82d97",
   "metadata": {
    "id": "d398b369-92ea-49a2-bda0-e0d5cac82d97",
    "outputId": "e5c69ec8-2eff-4d8c-da06-e46b2f0fd8f3"
   },
   "outputs": [
    {
     "name": "stdout",
     "output_type": "stream",
     "text": [
      "Mango\n",
      "Cherry\n",
      "The fruit is apple\n",
      "Papaya\n",
      "Banana\n"
     ]
    }
   ],
   "source": [
    "##continue\n",
    "for i in fruits_list:\n",
    "    if i==\"Apple\":\n",
    "        print(\"The fruit is apple\")\n",
    "        continue\n",
    "    print(i)"
   ]
  },
  {
   "cell_type": "code",
   "execution_count": null,
   "id": "29f73633-daeb-499f-bfd1-bbe62a35417e",
   "metadata": {
    "id": "29f73633-daeb-499f-bfd1-bbe62a35417e"
   },
   "outputs": [],
   "source": []
  }
 ],
 "metadata": {
  "colab": {
   "provenance": []
  },
  "kernelspec": {
   "display_name": "Python 3 (ipykernel)",
   "language": "python",
   "name": "python3"
  },
  "language_info": {
   "codemirror_mode": {
    "name": "ipython",
    "version": 3
   },
   "file_extension": ".py",
   "mimetype": "text/x-python",
   "name": "python",
   "nbconvert_exporter": "python",
   "pygments_lexer": "ipython3",
   "version": "3.10.8"
  }
 },
 "nbformat": 4,
 "nbformat_minor": 5
}
