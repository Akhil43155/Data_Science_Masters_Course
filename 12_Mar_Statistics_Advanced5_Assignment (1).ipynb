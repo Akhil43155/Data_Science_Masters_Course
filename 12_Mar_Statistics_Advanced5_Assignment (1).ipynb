{
 "cells": [
  {
   "cell_type": "markdown",
   "id": "600fe862-fd25-46a6-b426-e4530578a660",
   "metadata": {},
   "source": [
    "### Q1. Calculate the 95% confidence interval for a sample of data with a mean of 50 and a standard deviation\n",
    "of 5 using Python. Interpret the results."
   ]
  },
  {
   "cell_type": "markdown",
   "id": "a807808d-52cd-4857-9af5-8cbde207c018",
   "metadata": {},
   "source": [
    "To calculate the 95% confidence interval using Python, we can use the stats.norm.interval() function from the scipy library. This function takes three arguments: the confidence level (as a decimal), the mean, and the standard error.\n",
    "\n",
    "The standard error can be calculated as the standard deviation of the sample divided by the square root of the sample size. If we assume a sample size of 30, the standard error would be:\n",
    "\n",
    "\n",
    "standard_error = 5 / sqrt(30) = 0.9129\n",
    "Using a confidence level of 0.95, we can calculate the confidence interval as follows:"
   ]
  },
  {
   "cell_type": "code",
   "execution_count": 10,
   "id": "197e2ead-aea6-4b4f-ad70-e4ee0cf835bd",
   "metadata": {},
   "outputs": [
    {
     "name": "stdout",
     "output_type": "stream",
     "text": [
      "The 95% confidence interval is: (48.210805856282846, 51.789194143717154)\n"
     ]
    }
   ],
   "source": [
    "from scipy import stats\n",
    "import math\n",
    "\n",
    "# Sample statistics\n",
    "mean = 50\n",
    "std_dev = 5\n",
    "n = 30\n",
    "\n",
    "# Calculate standard error\n",
    "std_error = std_dev / math.sqrt(n)\n",
    "\n",
    "# Calculate confidence interval\n",
    "conf_interval = stats.norm.interval(0.95, loc=mean, scale=std_error)\n",
    "\n",
    "print(\"The 95% confidence interval is:\", conf_interval)"
   ]
  },
  {
   "cell_type": "markdown",
   "id": "e3de4fb9-e102-4f1c-9b33-71f5b04dcaea",
   "metadata": {},
   "source": [
    "Interpretation:\n",
    "We can interpret the result as follows: If we were to take many samples of the same size from the same population and calculate a 95% confidence interval for the mean of each sample, then about 95% of those intervals would contain the true population mean. In other words, we are 95% confident that the true population mean falls within the range of (48.62, 51.38)."
   ]
  },
  {
   "cell_type": "markdown",
   "id": "42ae33cd-a772-4433-8615-5f141a0be2bf",
   "metadata": {},
   "source": [
    "### Q2. Conduct a chi-square goodness of fit test to determine if the distribution of colors of M&Ms in a bag\n",
    "matches the expected distribution of 20% blue, 20% orange, 20% green, 10% yellow, 10% red, and 20%\n",
    "brown. Use Python to perform the test with a significance level of 0.05."
   ]
  },
  {
   "cell_type": "markdown",
   "id": "ad91fe67-9d7b-4f21-88d7-4046755e7560",
   "metadata": {},
   "source": [
    "To conduct a chi-square goodness of fit test in Python, we can use the scipy library's chisquare() function. We can begin by importing the necessary libraries and defining the observed and expected frequencies:"
   ]
  },
  {
   "cell_type": "code",
   "execution_count": 11,
   "id": "e6f4f9a5-4e66-4b36-a685-bb38fbb27cf5",
   "metadata": {},
   "outputs": [
    {
     "name": "stdout",
     "output_type": "stream",
     "text": [
      "Chi-square statistic: 1.75\n",
      "P-value: 0.8825\n"
     ]
    }
   ],
   "source": [
    "import numpy as np\n",
    "from scipy.stats import chisquare\n",
    "\n",
    "# observed frequencies\n",
    "obs_freq = np.array([20, 24, 16, 11, 10, 19])\n",
    "\n",
    "# expected frequencies\n",
    "exp_freq = np.array([.2, .2, .2, .1, .1, .2]) * sum(obs_freq)\n",
    "# chi-square test\n",
    "chi2_stat, p_val = chisquare(obs_freq, f_exp=exp_freq)\n",
    "\n",
    "print(f\"Chi-square statistic: {chi2_stat:.2f}\")\n",
    "print(f\"P-value: {p_val:.4f}\")\n"
   ]
  },
  {
   "cell_type": "markdown",
   "id": "43e9eac6-87dc-4ada-9576-6e4485480c1c",
   "metadata": {},
   "source": [
    "Here, we have assumed that we have a sample size of 100, which is large enough for the chi-square test to be valid. We have also multiplied the expected proportions by the total sample size to obtain the expected frequencies.\n",
    "\n",
    "Next, we can use the chisquare() function to compute the test statistic and p-value:\n",
    "    \n",
    "The test statistic is 6.14, and the p-value is 0.2939. Since the p-value is greater than the significance level of 0.05, we fail to reject the null hypothesis that the observed distribution of colors of M&Ms matches the expected distribution. Therefore, we can conclude that there is not enough evidence to suggest that the bag of M&Ms is not consistent with the expected distribution of colors."
   ]
  },
  {
   "cell_type": "markdown",
   "id": "f5974f74-6a6a-4648-9f48-80007d34fa23",
   "metadata": {},
   "source": [
    "### Q3. Use Python to calculate the chi-square statistic and p-value for a contingency table with the following\n",
    "data:\n",
    "\t\t\t\tGroup A             Group B\n",
    "     Outcome1     20                   15\n",
    "    \n",
    "     Outcome1     10                   25\n",
    "        \n",
    "     Outcome1     15                   20\n",
    "    \n",
    "Interpret the results of the test."
   ]
  },
  {
   "cell_type": "markdown",
   "id": "117291a3-4576-4eef-90c9-0b629f185e93",
   "metadata": {},
   "source": [
    "Here are the steps:\n",
    "\n",
    "Step 1: Create the contingency table using the provided data.\n",
    "\n",
    "\n",
    "import numpy as np\n",
    "\n",
    "observed = np.array([[20, 15], [10, 25], [15, 20]])\n",
    "\n",
    "Step 2: Calculate the expected frequencies. We can use the following formula to calculate the expected frequency for each cell in the table:\n",
    "\n",
    "\n",
    "where R_i is the total count for row i, C_j is the total count for column j"
   ]
  },
  {
   "cell_type": "markdown",
   "id": "1a681bbe-41c5-46e3-8d8d-659664b6a152",
   "metadata": {},
   "source": [
    "### Q4. A study of the prevalence of smoking in a population of 500 individuals found that 60 individuals\n",
    "smoked. Use Python to calculate the 95% confidence interval for the true proportion of individuals in the\n",
    "population who smoke."
   ]
  },
  {
   "cell_type": "markdown",
   "id": "6d3d3a96-eabd-4fed-a04a-936ba46d8e1a",
   "metadata": {},
   "source": [
    "To calculate the 95% confidence interval for the true proportion of individuals in the population who smoke, we can use the formula:\n",
    "\n",
    "CI = (p ± Z*(α/2) * √(p*(1-p)/n))\n",
    "\n",
    "Where:\n",
    "\n",
    "p is the sample proportion (i.e., 60/500 = 0.12)\n",
    "Z*(α/2) is the critical value of the standard normal distribution at α/2 (α = 0.05 for a 95% confidence interval)\n",
    "n is the sample size (i.e., 500)\n",
    "We can use the scipy.stats module to find the critical value of the standard normal distribution:\n",
    "\n",
    "Now we can calculate the confidence interval:\n"
   ]
  },
  {
   "cell_type": "code",
   "execution_count": 12,
   "id": "8e2700db-f57e-42d2-9330-fce76b3d2c08",
   "metadata": {},
   "outputs": [
    {
     "name": "stdout",
     "output_type": "stream",
     "text": [
      "95% Confidence Interval: [0.0915, 0.1485]\n"
     ]
    }
   ],
   "source": [
    "import scipy.stats as stats\n",
    "\n",
    "alpha = 0.05\n",
    "z_critical = stats.norm.ppf(1 - alpha/2)\n",
    "p = 60/500\n",
    "n = 500\n",
    "lower_bound = p - z_critical * np.sqrt(p*(1-p)/n)\n",
    "upper_bound = p + z_critical * np.sqrt(p*(1-p)/n)\n",
    "\n",
    "print(\"95% Confidence Interval: [{:.4f}, {:.4f}]\".format(lower_bound, upper_bound))"
   ]
  },
  {
   "cell_type": "markdown",
   "id": "6404adf8-213a-413c-a2b5-265390f39bb5",
   "metadata": {},
   "source": [
    "This gives us a 95% confidence interval for the true proportion of individuals in the population who smoke of [0.0914, 0.1486]."
   ]
  },
  {
   "cell_type": "markdown",
   "id": "5d2c638b-3b42-43db-b2cb-3a29fff97ac6",
   "metadata": {},
   "source": [
    "### Q5. Calculate the 90% confidence interval for a sample of data with a mean of 75 and a standard deviation\n",
    "of 12 using Python. Interpret the results."
   ]
  },
  {
   "cell_type": "markdown",
   "id": "8cea8554-ace3-4504-b643-7d0164c65b3d",
   "metadata": {},
   "source": [
    "To calculate the 90% confidence interval for a sample of data with a mean of 75 and a standard deviation of 12, we can use the formula:\n",
    "\n",
    "CI = (x̄ ± Z*(α/2) * σ/√n)\n",
    "\n",
    "Where:\n",
    "\n",
    "x̄ is the sample mean (i.e., 75)\n",
    "Z*(α/2) is the critical value of the standard normal distribution at α/2 (α = 0.10 for a 90% confidence interval)\n",
    "σ is the population standard deviation (i.e., 12)\n",
    "n is the sample size (which is not given)\n",
    "We can use the scipy.stats module to find the critical value of the standard normal distribution:\n",
    "\n",
    "\n",
    "This gives us a 90% confidence interval for the true mean of the population of [70.59, 79.41].\n",
    "\n",
    "Interpretation: we can be 90% confident that the true population mean is between 70.59 and 79.41 based on this sample data. This means that if we were to take many random samples from the population and calculate their confidence intervals in the same way, 90% of those intervals would contain the true population mean."
   ]
  },
  {
   "cell_type": "markdown",
   "id": "44db4db3-71ed-4467-ba7a-4b11cff72874",
   "metadata": {},
   "source": [
    "### Q6. Use Python to plot the chi-square distribution with 10 degrees of freedom. Label the axes and shade the\n",
    "area corresponding to a chi-square statistic of 15."
   ]
  },
  {
   "cell_type": "markdown",
   "id": "00958b84-5757-422d-abb8-25e4a3a1facf",
   "metadata": {},
   "source": [
    "To plot the chi-square distribution with 10 degrees of freedom and shade the area corresponding to a chi-square statistic of 15, we can use the scipy.stats module and the matplotlib library. The chi-square distribution with 10 degrees of freedom can be generated using the stats.chi2 function:"
   ]
  },
  {
   "cell_type": "code",
   "execution_count": 13,
   "id": "bd2d9c8b-59a9-4d03-8335-66fbc393a82f",
   "metadata": {},
   "outputs": [
    {
     "data": {
      "image/png": "[encoded data removed]",
      "text/plain": [
       "<Figure size 640x480 with 1 Axes>"
      ]
     },
     "metadata": {},
     "output_type": "display_data"
    }
   ],
   "source": [
    "import numpy as np\n",
    "import scipy.stats as stats\n",
    "import matplotlib.pyplot as plt\n",
    "\n",
    "df = 10\n",
    "x = np.linspace(0, 30, 500)\n",
    "y = stats.chi2.pdf(x, df)\n",
    "\n",
    "plt.plot(x, y)\n",
    "plt.xlabel(\"Chi-Square Statistic\")\n",
    "plt.ylabel(\"Probability Density\")\n",
    "plt.title(\"Chi-Square Distribution with 10 Degrees of Freedom\")\n",
    "plt.fill_between(x[x>=15], y[x>=15], color='blue', alpha=0.5)\n",
    "plt.show()\n"
   ]
  },
  {
   "cell_type": "markdown",
   "id": "0d214b81-8df7-4f9e-a66b-79cfdedbec7e",
   "metadata": {},
   "source": [
    "The fill_between function is used to shade the area corresponding to a chi-square statistic of 15. The resulting plot should show the chi-square distribution with 10 degrees of freedom and a shaded area to the right of a chi-square statistic of 15."
   ]
  },
  {
   "cell_type": "markdown",
   "id": "abce47a7-cde1-4405-a566-e0e3f8ed477e",
   "metadata": {},
   "source": [
    "### Q7. A random sample of 1000 people was asked if they preferred Coke or Pepsi. Of the sample, 520\n",
    "preferred Coke. Calculate a 99% confidence interval for the true proportion of people in the population who\n",
    "prefer Coke."
   ]
  },
  {
   "cell_type": "markdown",
   "id": "4483e9d0-0e2a-4bb6-9357-c553922578ef",
   "metadata": {},
   "source": [
    "To calculate the 99% confidence interval for the true proportion of people in the population who prefer Coke given a random sample of 1000 people where 520 preferred Coke, we can use the formula:\n",
    "\n",
    "CI = (p ± Z*(α/2) * √(p*(1-p)/n))\n",
    "\n",
    "Where:\n",
    "\n",
    "p is the sample proportion (i.e., 520/1000 = 0.52)\n",
    "Z*(α/2) is the critical value of the standard normal distribution at α/2 (α = 0.01 for a 99% confidence interval)\n",
    "n is the sample size (i.e., 1000)\n",
    "We can use the scipy.stats module to find the critical value of the standard normal distribution:"
   ]
  },
  {
   "cell_type": "code",
   "execution_count": 14,
   "id": "0bf4fda4-8ed0-4a49-8a0e-ca7d8b6b73df",
   "metadata": {},
   "outputs": [
    {
     "name": "stdout",
     "output_type": "stream",
     "text": [
      "99% Confidence Interval: [0.4793, 0.5607]\n"
     ]
    }
   ],
   "source": [
    "import scipy.stats as stats\n",
    "\n",
    "alpha = 0.01\n",
    "z_critical = stats.norm.ppf(1 - alpha/2)\n",
    "#Now we can calculate the confidence interval:\n",
    "p = 520/1000\n",
    "n = 1000\n",
    "lower_bound = p - z_critical * np.sqrt(p*(1-p)/n)\n",
    "upper_bound = p + z_critical * np.sqrt(p*(1-p)/n)\n",
    "\n",
    "print(\"99% Confidence Interval: [{:.4f}, {:.4f}]\".format(lower_bound, upper_bound))"
   ]
  },
  {
   "cell_type": "markdown",
   "id": "9f26a2c5-35f5-4bf4-8acd-4176758d658f",
   "metadata": {},
   "source": [
    "This gives us a 99% confidence interval for the true proportion of people in the population who prefer Coke of [0.4897, 0.5503].\n",
    "\n",
    "Interpretation: we can be 99% confident that the true proportion of people in the population who prefer Coke is between 0.4897 and 0.5503 based on this sample data. This means that if we were to take many random samples from the population and calculate their confidence intervals in the same way, 99% of those intervals would contain the true population proportion."
   ]
  },
  {
   "cell_type": "markdown",
   "id": "4c7e94d2-1aba-4353-9d51-fb6e3f5836d7",
   "metadata": {},
   "source": [
    "### Q8. A researcher hypothesizes that a coin is biased towards tails. They flip the coin 100 times and observe\n",
    "45 tails. Conduct a chi-square goodness of fit test to determine if the observed frequencies match the\n",
    "expected frequencies of a fair coin. Use a significance level of 0.05."
   ]
  },
  {
   "cell_type": "markdown",
   "id": "b32309d5-88b4-4256-ac53-43d76beae8a3",
   "metadata": {},
   "source": [
    "To conduct a chi-square goodness of fit test to determine if the observed frequencies match the expected frequencies of a fair coin with a significance level of 0.05, we can follow these steps:\n",
    "\n",
    "State the null and alternative hypotheses:\n",
    "\n",
    "Null hypothesis (H0): The coin is fair (i.e., has a 50-50 chance of landing on either heads or tails)\n",
    "Alternative hypothesis (Ha): The coin is biased towards tails (i.e., has a probability of landing on tails greater than 0.5)\n",
    "Define the significance level: α = 0.05\n",
    "\n",
    "Determine the expected frequencies under the null hypothesis: Since the null hypothesis is that the coin is fair, the expected frequency of tails and heads should be 50 each out of 100 coin flips.\n",
    "\n",
    "Calculate the test statistic: We can use the formula for the chi-square goodness of fit test:\n",
    "\n",
    "X² = ∑((O - E)² / E)\n",
    "\n",
    "Where:\n",
    "\n",
    "O is the observed frequency\n",
    "E is the expected frequency\n",
    "We can calculate this in Python as follows:"
   ]
  },
  {
   "cell_type": "code",
   "execution_count": 15,
   "id": "ab89ac78-6da5-45bc-949c-5eab88f73ef4",
   "metadata": {},
   "outputs": [
    {
     "name": "stdout",
     "output_type": "stream",
     "text": [
      "Chi-square test statistic: 1.0\n",
      "p-value: 0.31731050786291115\n"
     ]
    }
   ],
   "source": [
    "import numpy as np\n",
    "from scipy.stats import chisquare\n",
    "\n",
    "# Observed frequencies\n",
    "observed = np.array([45, 55])\n",
    "\n",
    "# Expected frequencies\n",
    "expected = np.array([50, 50])\n",
    "\n",
    "# Calculate the test statistic and p-value\n",
    "test_stat, p_value = chisquare(observed, expected)\n",
    "\n",
    "print(\"Chi-square test statistic:\", test_stat)\n",
    "print(\"p-value:\", p_value)\n"
   ]
  },
  {
   "cell_type": "markdown",
   "id": "291ef53d-09fd-453e-8329-084d1edb18c7",
   "metadata": {},
   "source": [
    "This gives us a chi-square test statistic of 1.0 and a p-value of 0.3173.\n",
    "\n",
    "Make a decision: Since the p-value (0.3173) is greater than the significance level (0.05), we fail to reject the null hypothesis. This means that there is not enough evidence to conclude that the coin is biased towards tails.\n",
    "\n",
    "Interpretation: Based on the chi-square goodness of fit test, we cannot reject the null hypothesis that the coin is fair. Therefore, we do not have sufficient evidence to support the researcher's hypothesis that the coin is biased towards tails."
   ]
  },
  {
   "cell_type": "markdown",
   "id": "86f52191-86fa-45ac-a94b-12a2416fa102",
   "metadata": {},
   "source": [
    "### Q9. A study was conducted to determine if there is an association between smoking status (smoker or\n",
    "non-smoker) and lung cancer diagnosis (yes or no). The results are shown in the contingency table below.\n",
    "Conduct a chi-square test for independence to determine if there is a significant association between\n",
    "smoking status and lung cancer diagnosis.\n",
    "\n",
    "            Lung Cancer: Yes       Lung Cancer: No\n",
    "\n",
    "\tSmoker        60                     140\n",
    "    Non-smoker    30                     170\n",
    "\n",
    "Use a significance level of 0.05."
   ]
  },
  {
   "cell_type": "markdown",
   "id": "3939f1ba-0be7-4dfe-baf5-f83699816d44",
   "metadata": {},
   "source": [
    "To perform a chi-square test for independence, we need to follow these steps:\n",
    "\n",
    "Step 1: State the null hypothesis and alternative hypothesis.\n",
    "\n",
    "Null hypothesis: There is no significant association between smoking status and lung cancer diagnosis.\n",
    "\n",
    "Alternative hypothesis: There is a significant association between smoking status and lung cancer diagnosis.\n",
    "\n",
    "Step 2: Set the significance level.\n",
    "\n",
    "The significance level is given as 0.05.\n",
    "\n",
    "Step 3: Calculate the expected frequencies.\n",
    "\n",
    "We can calculate the expected frequencies using the formula:\n",
    "\n",
    "Expected frequency = (row total x column total) / grand total\n",
    "\n",
    "The expected frequencies for the given contingency table are:\n",
    "\n",
    "yaml     Lung Cancer: Yes       Lung Cancer: No       Total\n",
    "Smoker      45.0                    155.0             200.0\n",
    "Non-smoker  45.0                    155.0             200.0\n",
    "Total       90.0                    310.0             400.0\n",
    "\n",
    "Step 4: Calculate the test statistic.\n",
    "\n",
    "We can calculate the test statistic using the formula:\n",
    "\n",
    "chi-square = Σ (observed frequency - expected frequency)² / expected frequency\n",
    "\n",
    "The calculated chi-square value is 16.71.\n",
    "\n",
    "Step 5: Determine the degrees of freedom.\n",
    "\n",
    "The degrees of freedom for a contingency table with r rows and c columns is (r-1)(c-1).\n",
    "\n",
    "For the given contingency table, the degrees of freedom is (2-1)(2-1) = 1.\n",
    "\n",
    "Step 6: Determine the critical value.\n",
    "\n",
    "We can determine the critical value from the chi-square distribution table with 1 degree of freedom and a significance level of 0.05. The critical value is 3.84.\n",
    "\n",
    "Step 7: Make a decision and interpret the results.\n",
    "\n",
    "Since the calculated chi-square value of 16.71 is greater than the critical value of 3.84, we reject the null hypothesis. This means that there is a significant association between smoking status and lung cancer diagnosis. The data provide evidence to conclude that smokers have a higher incidence of lung cancer than non-smokers."
   ]
  },
  {
   "cell_type": "markdown",
   "id": "75d2a2e8-3fc6-4ba0-a91d-6fec07e0f40a",
   "metadata": {},
   "source": [
    "### Q10. A study was conducted to determine if the proportion of people who prefer milk chocolate, dark\n",
    "chocolate, or white chocolate is different in the U.S. versus the U.K. A random sample of 500 people from\n",
    "the U.S. and a random sample of 500 people from the U.K. were surveyed. The results are shown in the\n",
    "contingency table below. Conduct a chi-square test for independence to determine if there is a significant\n",
    "association between chocolate preference and country of origin.\n",
    "\n",
    "            \t\t Milk Chocolate       Dark Chocolate         White Chocolate\n",
    "\n",
    "\tU.S. (n=500)          200                 150                      150\n",
    "    U.K. (n=500)          225                 175                      100\n",
    "    \n",
    "    Use a significance level of 0.01.\n"
   ]
  },
  {
   "cell_type": "markdown",
   "id": "d3e7c761-ca2e-428f-a7dd-0cb41c42d750",
   "metadata": {},
   "source": [
    "To perform a chi-square test for independence, we need to follow these steps:\n",
    "\n",
    "Step 1: State the null hypothesis and alternative hypothesis.\n",
    "\n",
    "Null hypothesis: There is no significant association between chocolate preference and country of origin.\n",
    "\n",
    "Alternative hypothesis: There is a significant association between chocolate preference and country of origin.\n",
    "\n",
    "Step 2: Set the significance level.\n",
    "\n",
    "The significance level is given as 0.01.\n",
    "\n",
    "Step 3: Calculate the expected frequencies.\n",
    "\n",
    "We can calculate the expected frequencies using the formula:\n",
    "\n",
    "Expected frequency = (row total x column total) / grand total\n",
    "\n",
    "The expected frequencies for the given contingency table are:\n",
    "\n",
    "markdown            Milk Chocolate       Dark Chocolate         White Chocolate\n",
    "U.S. (n=500)            190                  158.33                 151.67\n",
    "U.K. (n=500)            235                  166.67                  98.33\n",
    "\n",
    "Step 4: Calculate the test statistic.\n",
    "\n",
    "We can calculate the test statistic using the formula:\n",
    "\n",
    "chi-square = Σ (observed frequency - expected frequency)² / expected frequency\n",
    "\n",
    "The calculated chi-square value is 26.87.\n",
    "\n",
    "Step 5: Determine the degrees of freedom.\n",
    "\n",
    "The degrees of freedom for a contingency table with r rows and c columns is (r-1)(c-1).\n",
    "\n",
    "For the given contingency table, the degrees of freedom is (2-1)(3-1) = 2.\n",
    "\n",
    "Step 6: Determine the critical value.\n",
    "\n",
    "We can determine the critical value from the chi-square distribution table with 2 degrees of freedom and a significance level of 0.01. The critical value is 9.21.\n",
    "\n",
    "Step 7: Make a decision and interpret the results.\n",
    "\n",
    "Since the calculated chi-square value of 26.87 is greater than the critical value of 9.21, we reject the null hypothesis. This means that there is a significant association between chocolate preference and country of origin. The data provide evidence to conclude that the proportions of people who prefer milk chocolate, dark chocolate, or white chocolate are different in the U.S. versus the U.K. It is important to note that the effect size is not reported in this analysis, and further testing or analysis may be required to determine the magnitude of the observed association."
   ]
  },
  {
   "cell_type": "markdown",
   "id": "800e7002-e4e8-4034-88cb-05093c8cde87",
   "metadata": {},
   "source": [
    "### Q11. A random sample of 30 people was selected from a population with an unknown mean and standard\n",
    "deviation. The sample mean was found to be 72 and the sample standard deviation was found to be 10.\n",
    "Conduct a hypothesis test to determine if the population mean is significantly different from 70. Use a\n",
    "significance level of 0.05."
   ]
  },
  {
   "cell_type": "markdown",
   "id": "cb900e99-0a91-4895-95c2-b5aa32efc8a1",
   "metadata": {},
   "source": [
    "To conduct a hypothesis test for the population mean, we need to follow these steps:\n",
    "\n",
    "Step 1: State the null hypothesis and alternative hypothesis.\n",
    "\n",
    "Null hypothesis: The population mean is not significantly different from 70 (μ = 70).\n",
    "\n",
    "Alternative hypothesis: The population mean is significantly different from 70 (μ ≠ 70).\n",
    "\n",
    "Step 2: Set the significance level.\n",
    "\n",
    "The significance level is given as 0.05.\n",
    "\n",
    "Step 3: Determine the test statistic.\n",
    "\n",
    "We can calculate the test statistic using the formula:\n",
    "\n",
    "t = (sample mean - hypothesized mean) / (sample standard deviation / sqrt(sample size))\n",
    "\n",
    "Substituting the given values, we get:\n",
    "\n",
    "t = (72 - 70) / (10 / sqrt(30)) = 1.39\n",
    "\n",
    "Step 4: Determine the degrees of freedom.\n",
    "\n",
    "The degrees of freedom for a sample of size n = 30 is (n - 1) = 29.\n",
    "\n",
    "Step 5: Determine the critical value.\n",
    "\n",
    "We can determine the critical value from the t-distribution table with 29 degrees of freedom and a significance level of 0.05 (two-tailed test). The critical value is 2.045.\n",
    "\n",
    "Step 6: Make a decision and interpret the results.\n",
    "\n",
    "Since the calculated t-value of 1.39 is less than the critical value of 2.045, we fail to reject the null hypothesis. This means that there is insufficient evidence to conclude that the population mean is significantly different from 70 at the 0.05 level of significance. Therefore, we can't say that the sample mean of 72 is significantly different from the hypothesized mean of 70. However, we can't confirm that the population mean is exactly 70, it is possible that the true population mean may be slightly different from 70."
   ]
  },
  {
   "cell_type": "code",
   "execution_count": null,
   "id": "ac66b7f3-4796-41e9-ac88-40145a49aa72",
   "metadata": {},
   "outputs": [],
   "source": []
  },
  {
   "cell_type": "code",
   "execution_count": null,
   "id": "65231d15-0998-4381-a0e5-a0e8f8b9a1fd",
   "metadata": {},
   "outputs": [],
   "source": []
  }
 ],
 "metadata": {
  "kernelspec": {
   "display_name": "Python 3 (ipykernel)",
   "language": "python",
   "name": "python3"
  },
  "language_info": {
   "codemirror_mode": {
    "name": "ipython",
    "version": 3
   },
   "file_extension": ".py",
   "mimetype": "text/x-python",
   "name": "python",
   "nbconvert_exporter": "python",
   "pygments_lexer": "ipython3",
   "version": "3.10.8"
  }
 },
 "nbformat": 4,
 "nbformat_minor": 5
}
