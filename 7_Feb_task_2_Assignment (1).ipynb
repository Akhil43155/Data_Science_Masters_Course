{
 "cells": [
  {
   "cell_type": "markdown",
   "id": "14dc082d-fb42-4453-a157-8083c7049a97",
   "metadata": {},
   "source": [
    "#### Q1. You are writing code for a company. The requirement of the company is that you create a python \n",
    "function that will check whether the password entered by the user is correct or not. The function should \n",
    "take the password as input and return the string “Valid Password” if the entered password follows the \n",
    "below-given password guidelines else it should return “Invalid Password”.\n",
    "\n",
    "\n",
    "Note: 1. The Password should contain at least two uppercase letters and at least two lowercase letters.\n",
    "\n",
    "2. The Password should contain at least a number and three special characters.\n",
    "\n",
    "3. The length of the password should be 10 characters long."
   ]
  },
  {
   "cell_type": "code",
   "execution_count": 9,
   "id": "ec541cc6-1d06-4dc4-b67d-b5bc714af219",
   "metadata": {},
   "outputs": [],
   "source": [
    "import re\n",
    "\n",
    "def check_password(password):\n",
    "    if len(password) != 10:\n",
    "        return \"Invalid Password\"\n",
    "    if not re.search(r'[A-Z].*[A-Z]', password):\n",
    "        return \"Invalid Password\"\n",
    "    if not re.search(r'[a-z].*[a-z]', password):\n",
    "        return \"Invalid Password\"\n",
    "    if not re.search(r'\\d', password):\n",
    "        return \"Invalid Password\"\n",
    "    if not re.search(r'[!@#$%^&*(),.?\":{}|<>]', password):\n",
    "        return \"Invalid Password\"\n",
    "    return \"Valid Password\"\n"
   ]
  },
  {
   "cell_type": "code",
   "execution_count": 10,
   "id": "a0360cb2-1867-4131-a2f0-6752fc36687a",
   "metadata": {},
   "outputs": [
    {
     "name": "stdout",
     "output_type": "stream",
     "text": [
      "Invalid Password\n"
     ]
    }
   ],
   "source": [
    "password = \"MyPassw0rd!!\"\n",
    "result = check_password(password)\n",
    "print(result) # This will output \"Valid Password\"\n"
   ]
  },
  {
   "cell_type": "markdown",
   "id": "f987e716-6442-42a0-90b4-96a81056ccf3",
   "metadata": {},
   "source": [
    "#### Q2. Solve the below-given questions using at least one of the following: "
   ]
  },
  {
   "cell_type": "raw",
   "id": "14dbf4d7-aa23-47a4-b83b-91379a0bd860",
   "metadata": {},
   "source": [
    "1. Lambda function\n",
    "2. Filter function\n",
    "3. map function\n",
    "4. List Comprehension\n",
    "  Check if the string starts with a particular letter.\n",
    "  Check if the string is numeric.\n",
    "  Sort a list of tuples having fruit names and their quantity. [(\"mango\",99),(\"orange\",80), (\"grapes\", 1000)-\n",
    "  Find the squares of numbers from 1 to 10.\n",
    "  Find the cube root of numbers from 1 to 10.\n",
    "  Check if a given number is even.\n",
    "  Filter odd numbers from the given list.\n",
    "\t[1,2,3,4,5,6,7,8,9,10]\n",
    "  Sort a list of integers into positive and negative integers lists.\n",
    "\t[1,2,3,4,5,6,-1,-2,-3,-4,-5,0]"
   ]
  },
  {
   "cell_type": "markdown",
   "id": "e98504f5-731b-49c9-9727-bae843f1a37d",
   "metadata": {},
   "source": [
    "#### Check if the string starts with a particular letter: Using startswith function:"
   ]
  },
  {
   "cell_type": "code",
   "execution_count": 11,
   "id": "d90c29a3-49d5-4bc3-912d-e21e2481439a",
   "metadata": {},
   "outputs": [
    {
     "name": "stdout",
     "output_type": "stream",
     "text": [
      "True\n"
     ]
    }
   ],
   "source": [
    "string = \"Hello, world!\"\n",
    "letter = \"H\"\n",
    "result = string.startswith(letter)\n",
    "print(result) # This will output True\n"
   ]
  },
  {
   "cell_type": "markdown",
   "id": "6143a25c-091d-4452-ba92-b3b3f846ae07",
   "metadata": {},
   "source": [
    "#### Using list Comprehension"
   ]
  },
  {
   "cell_type": "code",
   "execution_count": 14,
   "id": "3e979003-24eb-43d0-8bb8-cd9cd6036e05",
   "metadata": {},
   "outputs": [
    {
     "name": "stdout",
     "output_type": "stream",
     "text": [
      "['cherry']\n"
     ]
    }
   ],
   "source": [
    "strings = [\"apple\", \"banana\", \"cherry\", \"date\"]\n",
    "letter = \"c\"\n",
    "result = [s for s in strings if s.startswith(letter)]\n",
    "print(result) # This will output [\"cherry\"]\n"
   ]
  },
  {
   "cell_type": "markdown",
   "id": "f4149377-f7f5-41c3-9aef-8bd0b65fd010",
   "metadata": {},
   "source": [
    "#### Check if the string is numeric: Using isnumeric function:"
   ]
  },
  {
   "cell_type": "code",
   "execution_count": 15,
   "id": "4e44764c-c3ce-4175-9f29-97afea94e6f6",
   "metadata": {},
   "outputs": [
    {
     "name": "stdout",
     "output_type": "stream",
     "text": [
      "True\n"
     ]
    }
   ],
   "source": [
    "string = \"1234\"\n",
    "result = string.isnumeric()\n",
    "print(result) # This will output True\n"
   ]
  },
  {
   "cell_type": "markdown",
   "id": "537df821-f0d9-4c16-b2a9-868ac55c4146",
   "metadata": {},
   "source": [
    "#### Using List Comprehension"
   ]
  },
  {
   "cell_type": "code",
   "execution_count": 16,
   "id": "e92b226c-7caf-4f49-8910-bdda0fc5c7ac",
   "metadata": {},
   "outputs": [
    {
     "name": "stdout",
     "output_type": "stream",
     "text": [
      "['123']\n"
     ]
    }
   ],
   "source": [
    "strings = [\"123\", \"1.23\", \"abc\", \"0.01\"]\n",
    "result = [s for s in strings if s.isnumeric()]\n",
    "print(result) # This will output [\"123\"]\n"
   ]
  },
  {
   "cell_type": "markdown",
   "id": "4824f337-fa85-4376-9102-e49593684421",
   "metadata": {},
   "source": [
    "#### Sort a list of tuples having fruit names and their quantity: Using sorted function and lambda:"
   ]
  },
  {
   "cell_type": "code",
   "execution_count": 17,
   "id": "ecf26392-a66b-4170-bb3d-f2d269e8ccee",
   "metadata": {},
   "outputs": [
    {
     "name": "stdout",
     "output_type": "stream",
     "text": [
      "[('orange', 80), ('mango', 99), ('grapes', 1000)]\n"
     ]
    }
   ],
   "source": [
    "fruits = [(\"mango\",99),(\"orange\",80),(\"grapes\",1000)]\n",
    "sorted_fruits = sorted(fruits, key=lambda x: x[1])\n",
    "print(sorted_fruits) # This will output [(\"orange\", 80), (\"mango\", 99), (\"grapes\", 1000)]\n"
   ]
  },
  {
   "cell_type": "markdown",
   "id": "76258b1f-3b17-4984-8e00-ed25765116ea",
   "metadata": {},
   "source": [
    "#### Find the squares of numbers from 1 to 10: Using list comprehension:"
   ]
  },
  {
   "cell_type": "code",
   "execution_count": 18,
   "id": "e84d569a-7a92-4505-a625-814acc0fa9ee",
   "metadata": {},
   "outputs": [
    {
     "name": "stdout",
     "output_type": "stream",
     "text": [
      "[1, 4, 9, 16, 25, 36, 49, 64, 81, 100]\n"
     ]
    }
   ],
   "source": [
    "numbers = list(range(1, 11))\n",
    "squares = [n**2 for n in numbers]\n",
    "print(squares) # This will output [1, 4, 9, 16, 25, 36, 49, 64, 81, 100]\n"
   ]
  },
  {
   "cell_type": "markdown",
   "id": "6f56010e-501c-4224-996f-66a0e080929f",
   "metadata": {},
   "source": [
    "#### Find the cube root of numbers from 1 to 10: Using map function and lambda:"
   ]
  },
  {
   "cell_type": "code",
   "execution_count": 19,
   "id": "847e5c1d-b40e-4ab1-bdcf-00c6e92e7655",
   "metadata": {},
   "outputs": [
    {
     "name": "stdout",
     "output_type": "stream",
     "text": [
      "[1.0, 1.2599210498948732, 1.4422495703074083, 1.5874010519681994, 1.7099759466766968, 1.8171205928321397, 1.912931182772389, 2.0, 2.080083823051904, 2.154434690031884]\n"
     ]
    }
   ],
   "source": [
    "numbers = list(range(1, 11))\n",
    "cuberoots = list(map(lambda x: x**(1/3), numbers))\n",
    "print(cuberoots) # This will output [1.0, 1.2599210498948732, 1.4422495703074083, 1.5874010519681994, 1.7099759466766968, 1.8171205928321397, 1.912931182772389, 2.0, 2.080083823051904, 2.154434690031884]\n"
   ]
  },
  {
   "cell_type": "markdown",
   "id": "4d5f1d4a-6b65-4361-bfcf-44e0a95366a7",
   "metadata": {},
   "source": [
    "#### Check if a given number is even: Using lambda and modulo operator:"
   ]
  },
  {
   "cell_type": "code",
   "execution_count": 20,
   "id": "91c39530-24cf-4a7d-8966-d55cdc5ec04b",
   "metadata": {},
   "outputs": [
    {
     "name": "stdout",
     "output_type": "stream",
     "text": [
      "True\n"
     ]
    }
   ],
   "source": [
    "is_even = lambda n: n % 2 == 0\n",
    "result = is_even(4)\n",
    "print(result) # This will output True\n"
   ]
  },
  {
   "cell_type": "markdown",
   "id": "eecad731-ae30-4a0c-a4d0-14a3a30a9a17",
   "metadata": {},
   "source": [
    "#### Filter odd numbers from the given list. Using filter and lambda:"
   ]
  },
  {
   "cell_type": "code",
   "execution_count": 21,
   "id": "57dc0003-734b-4924-9b47-0d8b9cc9d4bd",
   "metadata": {},
   "outputs": [
    {
     "name": "stdout",
     "output_type": "stream",
     "text": [
      "[1, 3, 5, 7, 9]\n"
     ]
    }
   ],
   "source": [
    "numbers = [1,2,3,4,5,6,7,8,9,10]\n",
    "odd_numbers = list(filter(lambda x: x % 2 != 0, numbers))\n",
    "print(odd_numbers) # This will output [1, 3, 5, 7, 9]\n"
   ]
  },
  {
   "cell_type": "markdown",
   "id": "dbe1d25c-217c-4ef4-a95b-cbf9940f3191",
   "metadata": {},
   "source": [
    "#### Sort a list of integers into positive and negative integers lists. Using list comprehension:"
   ]
  },
  {
   "cell_type": "code",
   "execution_count": 24,
   "id": "e5a87893-41f0-4b63-b5ad-86d66d15eeac",
   "metadata": {},
   "outputs": [
    {
     "name": "stdout",
     "output_type": "stream",
     "text": [
      "[1, 2, 3, 4, 5, 6]\n",
      "[-1, -2, -3, -4, -5]\n"
     ]
    }
   ],
   "source": [
    "numbers = [1,2,3,4,5,6,-1,-2,-3,-4,-5,0]\n",
    "positive_numbers = [n for n in numbers if n > 0]\n",
    "negative_numbers = [n for n in numbers if n < 0]\n",
    "print(positive_numbers) # This will output [1, 2, 3, 4, 5, 6]\n",
    "print(negative_numbers) # This will output [-1]"
   ]
  }
 ],
 "metadata": {
  "kernelspec": {
   "display_name": "Python 3 (ipykernel)",
   "language": "python",
   "name": "python3"
  },
  "language_info": {
   "codemirror_mode": {
    "name": "ipython",
    "version": 3
   },
   "file_extension": ".py",
   "mimetype": "text/x-python",
   "name": "python",
   "nbconvert_exporter": "python",
   "pygments_lexer": "ipython3",
   "version": "3.10.8"
  }
 },
 "nbformat": 4,
 "nbformat_minor": 5
}
