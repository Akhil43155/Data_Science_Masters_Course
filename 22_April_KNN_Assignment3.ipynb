{
 "cells": [
  {
   "cell_type": "markdown",
   "id": "870dcfcd-33c7-43d0-96b3-b052f0e060f8",
   "metadata": {},
   "source": [
    "### Q1. Write a Python code to implement the KNN classifier algorithm on load_iris dataset in\n",
    "sklearn.datasets."
   ]
  },
  {
   "cell_type": "code",
   "execution_count": 1,
   "id": "3e380634-58e5-4659-960c-7d13b31819e3",
   "metadata": {},
   "outputs": [
    {
     "name": "stdout",
     "output_type": "stream",
     "text": [
      "Accuracy: 1.0\n"
     ]
    }
   ],
   "source": [
    "from sklearn.datasets import load_iris\n",
    "from sklearn.model_selection import train_test_split\n",
    "from sklearn.neighbors import KNeighborsClassifier\n",
    "from sklearn.metrics import accuracy_score\n",
    "\n",
    "# Load iris dataset\n",
    "iris = load_iris()\n",
    "\n",
    "# Split the dataset into training and testing data\n",
    "X_train, X_test, y_train, y_test = train_test_split(iris.data, iris.target, test_size=0.3, random_state=42)\n",
    "\n",
    "# Create a KNN classifier object with k = 3\n",
    "knn = KNeighborsClassifier(n_neighbors=3)\n",
    "\n",
    "# Train the model using the training data\n",
    "knn.fit(X_train, y_train)\n",
    "\n",
    "# Predict the target variable for the test data\n",
    "y_pred = knn.predict(X_test)\n",
    "\n",
    "# Calculate the accuracy of the model\n",
    "accuracy = accuracy_score(y_test, y_pred)\n",
    "\n",
    "print(f\"Accuracy: {accuracy}\")\n"
   ]
  },
  {
   "cell_type": "markdown",
   "id": "95de986d-2447-4fd4-8d88-02e3515e95bb",
   "metadata": {},
   "source": [
    "### Q2. Write a Python code to implement the KNN regressor algorithm on load_boston dataset in\n",
    "sklearn.datasets."
   ]
  },
  {
   "cell_type": "code",
   "execution_count": 4,
   "id": "3b9a7bdb-7a4d-4186-b3df-4d0842cac5e5",
   "metadata": {},
   "outputs": [
    {
     "name": "stdout",
     "output_type": "stream",
     "text": [
      "Mean Squared Error: 1.1982342607232825\n"
     ]
    }
   ],
   "source": [
    "from sklearn.datasets import fetch_california_housing\n",
    "from sklearn.model_selection import train_test_split\n",
    "from sklearn.neighbors import KNeighborsRegressor\n",
    "from sklearn.metrics import mean_squared_error\n",
    "\n",
    "# Load California housing dataset\n",
    "california = fetch_california_housing()\n",
    "\n",
    "# Split the dataset into training and testing data\n",
    "X_train, X_test, y_train, y_test = train_test_split(california.data, california.target, test_size=0.3, random_state=42)\n",
    "\n",
    "# Create a KNN regressor object with k = 3\n",
    "knn = KNeighborsRegressor(n_neighbors=3)\n",
    "\n",
    "# Train the model using the training data\n",
    "knn.fit(X_train, y_train)\n",
    "\n",
    "# Predict the target variable for the test data\n",
    "y_pred = knn.predict(X_test)\n",
    "\n",
    "# Calculate the mean squared error of the model\n",
    "mse = mean_squared_error(y_test, y_pred)\n",
    "\n",
    "print(f\"Mean Squared Error: {mse}\")\n"
   ]
  },
  {
   "cell_type": "markdown",
   "id": "58a796a5-174c-4e5a-af38-2d6c3c2ea3d6",
   "metadata": {},
   "source": [
    "### Q3. Write a Python code snippet to find the optimal value of K for the KNN classifier algorithm using\n",
    "cross-validation on load_iris dataset in sklearn.datasets."
   ]
  },
  {
   "cell_type": "code",
   "execution_count": 5,
   "id": "dcb8aa9a-31d5-4746-b87b-fa95800beb46",
   "metadata": {},
   "outputs": [
    {
     "name": "stdout",
     "output_type": "stream",
     "text": [
      "Best value of K:  11\n",
      "Accuracy score:  0.9627272727272727\n"
     ]
    }
   ],
   "source": [
    "from sklearn.datasets import load_iris\n",
    "from sklearn.model_selection import GridSearchCV, train_test_split\n",
    "from sklearn.neighbors import KNeighborsClassifier\n",
    "\n",
    "# Load iris dataset\n",
    "iris = load_iris()\n",
    "\n",
    "# Split the dataset into training and testing data\n",
    "X_train, X_test, y_train, y_test = train_test_split(iris.data, iris.target, test_size=0.3, random_state=42)\n",
    "\n",
    "# Set the range of K values to test\n",
    "k_range = list(range(1, 31))\n",
    "\n",
    "# Create a parameter grid\n",
    "param_grid = {'n_neighbors': k_range}\n",
    "\n",
    "# Create a KNN classifier object\n",
    "knn = KNeighborsClassifier()\n",
    "\n",
    "# Use GridSearchCV to find the optimal value of K\n",
    "grid = GridSearchCV(knn, param_grid, cv=10, scoring='accuracy')\n",
    "grid.fit(X_train, y_train)\n",
    "\n",
    "# Print the best value of K and its corresponding accuracy score\n",
    "print(\"Best value of K: \", grid.best_params_['n_neighbors'])\n",
    "print(\"Accuracy score: \", grid.best_score_)\n"
   ]
  },
  {
   "cell_type": "markdown",
   "id": "b2bcad2c-5b56-46e6-a322-c108c459e147",
   "metadata": {},
   "source": [
    "### Q4. Implement the KNN regressor algorithm with feature scaling on load_boston dataset in\n",
    "sklearn.datasets."
   ]
  },
  {
   "cell_type": "code",
   "execution_count": 2,
   "id": "dbb51f3a-5f59-46dd-9bdf-e140ceb10204",
   "metadata": {},
   "outputs": [
    {
     "name": "stdout",
     "output_type": "stream",
     "text": [
      "Mean squared error on scaled test data: 0.4324216146043236\n"
     ]
    }
   ],
   "source": [
    "from sklearn.datasets import fetch_california_housing\n",
    "from sklearn.preprocessing import StandardScaler\n",
    "from sklearn.neighbors import KNeighborsRegressor\n",
    "from sklearn.model_selection import train_test_split\n",
    "from sklearn.metrics import mean_squared_error\n",
    "\n",
    "# Load the California Housing Prices dataset\n",
    "data = fetch_california_housing()\n",
    "\n",
    "# Split the data into training and testing sets\n",
    "X_train, X_test, y_train, y_test = train_test_split(data.data, data.target, test_size=0.2, random_state=42)\n",
    "\n",
    "# Scale the data using StandardScaler\n",
    "scaler = StandardScaler()\n",
    "X_train_scaled = scaler.fit_transform(X_train)\n",
    "X_test_scaled = scaler.transform(X_test)\n",
    "\n",
    "# Fit the KNN regressor model on the scaled training data\n",
    "knn = KNeighborsRegressor(n_neighbors=5)\n",
    "knn.fit(X_train_scaled, y_train)\n",
    "\n",
    "# Predict the housing prices on the scaled test data\n",
    "y_pred_scaled = knn.predict(X_test_scaled)\n",
    "\n",
    "# Compute the mean squared error on the scaled test data\n",
    "mse_scaled = mean_squared_error(y_test, y_pred_scaled)\n",
    "print(\"Mean squared error on scaled test data:\", mse_scaled)\n"
   ]
  },
  {
   "cell_type": "markdown",
   "id": "16a723c1-c034-416b-a89c-b94269ec309f",
   "metadata": {},
   "source": [
    "### Q5. Write a Python code snippet to implement the KNN classifier algorithm with weighted voting on\n",
    "load_iris dataset in sklearn.datasets."
   ]
  },
  {
   "cell_type": "code",
   "execution_count": 3,
   "id": "cb34c52b-9ef8-4873-87a1-d6fcd25b1418",
   "metadata": {},
   "outputs": [
    {
     "name": "stdout",
     "output_type": "stream",
     "text": [
      "Accuracy: 0.9666666666666667\n"
     ]
    }
   ],
   "source": [
    "from sklearn.datasets import load_iris\n",
    "from sklearn.neighbors import KNeighborsClassifier\n",
    "\n",
    "# Load iris dataset\n",
    "iris = load_iris()\n",
    "\n",
    "# Split data into training and testing sets\n",
    "X_train, X_test, y_train, y_test = train_test_split(iris.data, iris.target, test_size=0.2)\n",
    "\n",
    "# Instantiate KNN classifier with weighted voting and fit to training data\n",
    "knn = KNeighborsClassifier(weights='distance')\n",
    "knn.fit(X_train, y_train)\n",
    "\n",
    "# Predict classes for testing data\n",
    "y_pred = knn.predict(X_test)\n",
    "\n",
    "# Calculate accuracy of classifier\n",
    "accuracy = knn.score(X_test, y_test)\n",
    "\n",
    "print(\"Accuracy:\", accuracy)\n"
   ]
  },
  {
   "cell_type": "markdown",
   "id": "ef1d7091-85e8-4af2-a2d9-6647361bb85c",
   "metadata": {},
   "source": [
    "### Q6. Implement a function to standardise the features before applying KNN classifier."
   ]
  },
  {
   "cell_type": "code",
   "execution_count": 11,
   "id": "231aecc0-c190-4c72-bb54-ab10b564f93a",
   "metadata": {},
   "outputs": [
    {
     "name": "stdout",
     "output_type": "stream",
     "text": [
      "Accuracy of KNN classifier with k=5 and Euclidean distance: 100.00%\n"
     ]
    }
   ],
   "source": [
    "import numpy as np\n",
    "from sklearn.datasets import load_iris\n",
    "from sklearn.neighbors import KNeighborsClassifier\n",
    "from sklearn.preprocessing import StandardScaler\n",
    "from sklearn.model_selection import train_test_split\n",
    "\n",
    "def euclidean_distance(x1, x2):\n",
    "    \"\"\"\n",
    "    Compute the Euclidean distance between two points.\n",
    "\n",
    "    Args:\n",
    "    - x1: numpy array, first point\n",
    "    - x2: numpy array, second point\n",
    "\n",
    "    Returns:\n",
    "    - dist: float, Euclidean distance between x1 and x2\n",
    "    \"\"\"\n",
    "\n",
    "    dist = np.sqrt(np.sum((x1 - x2)**2))\n",
    "\n",
    "    return dist\n",
    "\n",
    "def manhattan_distance(x1, x2):\n",
    "    \"\"\"\n",
    "    Compute the Manhattan distance between two points.\n",
    "\n",
    "    Args:\n",
    "    - x1: numpy array, first point\n",
    "    - x2: numpy array, second point\n",
    "\n",
    "    Returns:\n",
    "    - dist: float, Manhattan distance between x1 and x2\n",
    "    \"\"\"\n",
    "\n",
    "    dist = np.sum(np.abs(x1 - x2))\n",
    "\n",
    "    return dist\n",
    "\n",
    "def knn_classifier(X_train, y_train, X_test, k, distance_func=euclidean_distance):\n",
    "    \"\"\"\n",
    "    Perform KNN classification on test data.\n",
    "\n",
    "    Args:\n",
    "    - X_train: numpy array, training data features\n",
    "    - y_train: numpy array, training data labels\n",
    "    - X_test: numpy array, test data features\n",
    "    - k: int, number of nearest neighbors to consider\n",
    "    - distance_func: function, distance function to use for computing distances\n",
    "\n",
    "    Returns:\n",
    "    - y_pred: numpy array, predicted labels for test data\n",
    "    \"\"\"\n",
    "\n",
    "    # Standardize features in training and test data\n",
    "    scaler = StandardScaler()\n",
    "    X_train_std = scaler.fit_transform(X_train)\n",
    "    X_test_std = scaler.transform(X_test)\n",
    "\n",
    "    # Calculate pairwise distances between test data and training data\n",
    "    num_test = X_test.shape[0]\n",
    "    num_train = X_train.shape[0]\n",
    "    distances = np.zeros((num_test, num_train))\n",
    "    for i in range(num_test):\n",
    "        for j in range(num_train):\n",
    "            distances[i, j] = distance_func(X_test_std[i], X_train_std[j])\n",
    "\n",
    "    # Sort distances and get indices of k nearest neighbors for each test point\n",
    "    indices = np.argsort(distances, axis=1)[:, :k]\n",
    "\n",
    "    # Predict labels for test data using weighted voting\n",
    "    y_pred = np.zeros(num_test)\n",
    "    for i in range(num_test):\n",
    "        k_nearest_labels = y_train[indices[i]]\n",
    "        weights = 1 / distances[i, indices[i]]\n",
    "        y_pred[i] = np.bincount(k_nearest_labels, weights=weights).argmax()\n",
    "\n",
    "    return y_pred\n",
    "\n",
    "# Load iris dataset and split into train and test data\n",
    "iris = load_iris()\n",
    "X_train, X_test, y_train, y_test = train_test_split(iris.data, iris.target, test_size=0.2, random_state=42)\n",
    "\n",
    "# Perform KNN classification with k=5 and Euclidean distance\n",
    "y_pred = knn_classifier(X_train, y_train, X_test, k=5, distance_func=euclidean_distance)\n",
    "\n",
    "# Compute accuracy of KNN classifier\n",
    "accuracy = np.sum(y_pred == y_test) / len(y_test)\n",
    "print(\"Accuracy of KNN classifier with k=5 and Euclidean distance: {:.2f}%\".format(accuracy*100))\n"
   ]
  },
  {
   "cell_type": "markdown",
   "id": "715641c3-4f12-4775-addc-80741717bec0",
   "metadata": {},
   "source": [
    "### Q7. Write a Python function to calculate the euclidean distance between two points."
   ]
  },
  {
   "cell_type": "code",
   "execution_count": 5,
   "id": "7b654e2e-411c-4bcc-9f1d-79cb77596cc4",
   "metadata": {},
   "outputs": [],
   "source": [
    "import math\n",
    "\n",
    "def euclidean_distance(point1, point2):\n",
    "    \"\"\"Calculate the Euclidean distance between two points.\n",
    "    \n",
    "    Args:\n",
    "        point1 (list or tuple): The first point, represented as a list or tuple of coordinates.\n",
    "        point2 (list or tuple): The second point, represented as a list or tuple of coordinates.\n",
    "    \n",
    "    Returns:\n",
    "        float: The Euclidean distance between the two points.\n",
    "    \"\"\"\n",
    "    distance_squared = sum([(point1[i] - point2[i])**2 for i in range(len(point1))])\n",
    "    return math.sqrt(distance_squared)\n"
   ]
  },
  {
   "cell_type": "code",
   "execution_count": 6,
   "id": "fab9276c-61d0-4527-ad6e-1ab0d38136cb",
   "metadata": {},
   "outputs": [
    {
     "name": "stdout",
     "output_type": "stream",
     "text": [
      "5.196152422706632\n"
     ]
    }
   ],
   "source": [
    "point1 = [1, 2, 3]\n",
    "point2 = [4, 5, 6]\n",
    "\n",
    "distance = euclidean_distance(point1, point2)\n",
    "\n",
    "print(distance) # Output: 5.196152422706632\n"
   ]
  },
  {
   "cell_type": "markdown",
   "id": "a5c8b0b0-4ef7-4b44-bc17-f559de6385d3",
   "metadata": {},
   "source": [
    "### Q8. Write a Python function to calculate the manhattan distance between two points."
   ]
  },
  {
   "cell_type": "code",
   "execution_count": 8,
   "id": "d96546a2-25ce-4757-aa53-0f24aa888266",
   "metadata": {},
   "outputs": [
    {
     "data": {
      "text/plain": [
       "4"
      ]
     },
     "execution_count": 8,
     "metadata": {},
     "output_type": "execute_result"
    }
   ],
   "source": [
    "def manhattan_distance(x1, y1, x2, y2):\n",
    "    \"\"\"\n",
    "    Calculate the Manhattan distance between two points (x1, y1) and (x2, y2).\n",
    "    \"\"\"\n",
    "    return abs(x1 - x2) + abs(y1 - y2)\n",
    "\n",
    "\n",
    "manhattan_distance(1,2,3,4)\n"
   ]
  },
  {
   "cell_type": "code",
   "execution_count": null,
   "id": "3dd0cf57-da45-4c37-9bee-ec3b5a15b6f0",
   "metadata": {},
   "outputs": [],
   "source": []
  }
 ],
 "metadata": {
  "kernelspec": {
   "display_name": "Python 3 (ipykernel)",
   "language": "python",
   "name": "python3"
  },
  "language_info": {
   "codemirror_mode": {
    "name": "ipython",
    "version": 3
   },
   "file_extension": ".py",
   "mimetype": "text/x-python",
   "name": "python",
   "nbconvert_exporter": "python",
   "pygments_lexer": "ipython3",
   "version": "3.10.8"
  }
 },
 "nbformat": 4,
 "nbformat_minor": 5
}
