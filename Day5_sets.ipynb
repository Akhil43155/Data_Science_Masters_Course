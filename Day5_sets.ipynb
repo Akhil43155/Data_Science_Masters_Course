{
 "cells": [
  {
   "cell_type": "code",
   "execution_count": 2,
   "id": "3697c2d0-3d19-4b38-9403-6dcd14b2696b",
   "metadata": {
    "id": "3697c2d0-3d19-4b38-9403-6dcd14b2696b"
   },
   "outputs": [],
   "source": [
    "s = {}"
   ]
  },
  {
   "cell_type": "code",
   "execution_count": 3,
   "id": "59e79eae-4523-4c89-bbae-135679d807a8",
   "metadata": {
    "id": "59e79eae-4523-4c89-bbae-135679d807a8",
    "outputId": "197c8607-e598-4602-d06e-d33312bb5410"
   },
   "outputs": [
    {
     "data": {
      "text/plain": [
       "dict"
      ]
     },
     "execution_count": 3,
     "metadata": {},
     "output_type": "execute_result"
    }
   ],
   "source": [
    "type(s)"
   ]
  },
  {
   "cell_type": "code",
   "execution_count": 4,
   "id": "476f4608-283b-48b0-b9b8-a66751e2ec94",
   "metadata": {
    "id": "476f4608-283b-48b0-b9b8-a66751e2ec94"
   },
   "outputs": [],
   "source": [
    "s1 = {1,2,3,4,5}"
   ]
  },
  {
   "cell_type": "code",
   "execution_count": 5,
   "id": "c73cc7b5-d7fb-4ed7-b6fd-a41d42de8760",
   "metadata": {
    "id": "c73cc7b5-d7fb-4ed7-b6fd-a41d42de8760",
    "outputId": "4b64afa8-530d-4d89-a7ec-e937ca2350d2"
   },
   "outputs": [
    {
     "data": {
      "text/plain": [
       "set"
      ]
     },
     "execution_count": 5,
     "metadata": {},
     "output_type": "execute_result"
    }
   ],
   "source": [
    "type(s1)"
   ]
  },
  {
   "cell_type": "code",
   "execution_count": 6,
   "id": "a6df7d98-8f2d-422c-b0dd-16ff8fb1adba",
   "metadata": {
    "id": "a6df7d98-8f2d-422c-b0dd-16ff8fb1adba"
   },
   "outputs": [],
   "source": [
    "s2 = {1,1,12,3,3,3,4,5,5,5,55,523,34,3,45,6,67}"
   ]
  },
  {
   "cell_type": "code",
   "execution_count": 7,
   "id": "17ae1584-8f1b-478f-8d48-cd91827d8c5a",
   "metadata": {
    "id": "17ae1584-8f1b-478f-8d48-cd91827d8c5a",
    "outputId": "7df6c58f-db83-4cfb-dd2b-11ff71be5cfd"
   },
   "outputs": [
    {
     "data": {
      "text/plain": [
       "{1, 3, 4, 5, 6, 12, 34, 45, 55, 67, 523}"
      ]
     },
     "execution_count": 7,
     "metadata": {},
     "output_type": "execute_result"
    }
   ],
   "source": [
    "s2"
   ]
  },
  {
   "cell_type": "code",
   "execution_count": 8,
   "id": "5f2bc11c-65f2-4b99-b65e-9c7fc184dd8f",
   "metadata": {
    "id": "5f2bc11c-65f2-4b99-b65e-9c7fc184dd8f"
   },
   "outputs": [],
   "source": [
    "l = list(s2)"
   ]
  },
  {
   "cell_type": "code",
   "execution_count": 9,
   "id": "2123f135-8d42-4cb7-84ac-ec75c9a348ef",
   "metadata": {
    "id": "2123f135-8d42-4cb7-84ac-ec75c9a348ef",
    "outputId": "7463f9fd-2f09-4658-872c-0254e4f67855"
   },
   "outputs": [
    {
     "data": {
      "text/plain": [
       "(1, 34, 3, 4, 5, 6, 67, 523, 12, 45, 55)"
      ]
     },
     "execution_count": 9,
     "metadata": {},
     "output_type": "execute_result"
    }
   ],
   "source": [
    "tuple(s2)"
   ]
  },
  {
   "cell_type": "code",
   "execution_count": 10,
   "id": "82de2690-f8b5-4890-8ea2-fced9ece43c8",
   "metadata": {
    "id": "82de2690-f8b5-4890-8ea2-fced9ece43c8",
    "outputId": "51604e76-4798-46f9-ee6c-b2212fe85b1d"
   },
   "outputs": [
    {
     "data": {
      "text/plain": [
       "[1, 34, 3, 4, 5, 6, 67, 523, 12, 45, 55]"
      ]
     },
     "execution_count": 10,
     "metadata": {},
     "output_type": "execute_result"
    }
   ],
   "source": [
    "l"
   ]
  },
  {
   "cell_type": "code",
   "execution_count": 11,
   "id": "12b9445e-4456-4204-8f21-9ec60f9bc5a2",
   "metadata": {
    "id": "12b9445e-4456-4204-8f21-9ec60f9bc5a2",
    "outputId": "13156033-57e3-4fb3-a52c-2d21c3e90167"
   },
   "outputs": [
    {
     "data": {
      "text/plain": [
       "{1, 3, 4, 5, 6, 12, 34, 45, 55, 67, 523}"
      ]
     },
     "execution_count": 11,
     "metadata": {},
     "output_type": "execute_result"
    }
   ],
   "source": [
    "set(l)"
   ]
  },
  {
   "cell_type": "code",
   "execution_count": 12,
   "id": "547ad2a4-5f66-4d49-b7ee-2b2d45abba54",
   "metadata": {
    "id": "547ad2a4-5f66-4d49-b7ee-2b2d45abba54",
    "outputId": "ff8c4adf-c53f-4616-b6a7-a542b9645ac0"
   },
   "outputs": [
    {
     "ename": "TypeError",
     "evalue": "unhashable type: 'list'",
     "output_type": "error",
     "traceback": [
      "\u001b[0;31m---------------------------------------------------------------------------\u001b[0m",
      "\u001b[0;31mTypeError\u001b[0m                                 Traceback (most recent call last)",
      "Cell \u001b[0;32mIn[12], line 1\u001b[0m\n\u001b[0;32m----> 1\u001b[0m s4 \u001b[38;5;241m=\u001b[39m {\u001b[38;5;241m1\u001b[39m,\u001b[38;5;241m2\u001b[39m,\u001b[38;5;241m3\u001b[39m,\u001b[38;5;241m4\u001b[39m,[\u001b[38;5;241m1\u001b[39m,\u001b[38;5;241m2\u001b[39m,\u001b[38;5;241m3\u001b[39m,\u001b[38;5;241m4\u001b[39m]}\n",
      "\u001b[0;31mTypeError\u001b[0m: unhashable type: 'list'"
     ]
    }
   ],
   "source": [
    "s4 = {1,2,3,4,[1,2,3,4]}"
   ]
  },
  {
   "cell_type": "code",
   "execution_count": 13,
   "id": "a8dc63ca-297a-48e0-8f3e-9745db3618ca",
   "metadata": {
    "id": "a8dc63ca-297a-48e0-8f3e-9745db3618ca"
   },
   "outputs": [],
   "source": [
    "s5 = {1,2,3,4, (1,2,3,4)}"
   ]
  },
  {
   "cell_type": "code",
   "execution_count": 14,
   "id": "413a30ef-1fe3-461d-935f-4306115247da",
   "metadata": {
    "id": "413a30ef-1fe3-461d-935f-4306115247da",
    "outputId": "085b1d82-dec5-46be-f4b5-606b84138ed7"
   },
   "outputs": [
    {
     "data": {
      "text/plain": [
       "{(1, 2, 3, 4), 1, 2, 3, 4}"
      ]
     },
     "execution_count": 14,
     "metadata": {},
     "output_type": "execute_result"
    }
   ],
   "source": [
    "s5"
   ]
  },
  {
   "cell_type": "code",
   "execution_count": 15,
   "id": "f34a1a18-ee23-4e12-9299-569b42cca70a",
   "metadata": {
    "id": "f34a1a18-ee23-4e12-9299-569b42cca70a"
   },
   "outputs": [],
   "source": [
    "s6 = {\"sudh\" , \"Sudh\" , 2,3,4,5}"
   ]
  },
  {
   "cell_type": "code",
   "execution_count": 16,
   "id": "2448b4cd-afb6-42d1-8998-47836ae7088f",
   "metadata": {
    "id": "2448b4cd-afb6-42d1-8998-47836ae7088f",
    "outputId": "d2916b33-8734-4a9b-b401-d10351f7373b"
   },
   "outputs": [
    {
     "data": {
      "text/plain": [
       "{2, 3, 4, 5, 'Sudh', 'sudh'}"
      ]
     },
     "execution_count": 16,
     "metadata": {},
     "output_type": "execute_result"
    }
   ],
   "source": [
    "s6"
   ]
  },
  {
   "cell_type": "code",
   "execution_count": 17,
   "id": "2b39f98f-f12f-4911-92a4-59b4d6016a16",
   "metadata": {
    "id": "2b39f98f-f12f-4911-92a4-59b4d6016a16"
   },
   "outputs": [],
   "source": [
    "s7  = {\"sudh\" , \"sudh\" , 2,3,4,5}"
   ]
  },
  {
   "cell_type": "code",
   "execution_count": 18,
   "id": "f06ad1a8-2c42-4528-bca1-4a113d7c910f",
   "metadata": {
    "id": "f06ad1a8-2c42-4528-bca1-4a113d7c910f",
    "outputId": "6b0727ea-415a-4be9-d16c-a20fcd2cd96c"
   },
   "outputs": [
    {
     "data": {
      "text/plain": [
       "{2, 3, 4, 5, 'sudh'}"
      ]
     },
     "execution_count": 18,
     "metadata": {},
     "output_type": "execute_result"
    }
   ],
   "source": [
    "s7"
   ]
  },
  {
   "cell_type": "code",
   "execution_count": 19,
   "id": "66cfa82b-ac4a-4527-a978-f02f34331dee",
   "metadata": {
    "id": "66cfa82b-ac4a-4527-a978-f02f34331dee",
    "outputId": "e514c2ed-d1d9-4c6e-aac8-3ce5d7533667"
   },
   "outputs": [
    {
     "data": {
      "text/plain": [
       "{2, 3, 4, 5, 'sudh'}"
      ]
     },
     "execution_count": 19,
     "metadata": {},
     "output_type": "execute_result"
    }
   ],
   "source": [
    "s7"
   ]
  },
  {
   "cell_type": "code",
   "execution_count": 21,
   "id": "09341df2-19d8-4a47-b81c-6d9605d9a90f",
   "metadata": {
    "id": "09341df2-19d8-4a47-b81c-6d9605d9a90f",
    "outputId": "82e02cf7-d69e-4042-9e16-6264aa849e0b"
   },
   "outputs": [
    {
     "ename": "TypeError",
     "evalue": "'set' object is not subscriptable",
     "output_type": "error",
     "traceback": [
      "\u001b[0;31m---------------------------------------------------------------------------\u001b[0m",
      "\u001b[0;31mTypeError\u001b[0m                                 Traceback (most recent call last)",
      "Cell \u001b[0;32mIn[21], line 1\u001b[0m\n\u001b[0;32m----> 1\u001b[0m \u001b[43ms7\u001b[49m\u001b[43m[\u001b[49m\u001b[38;5;241;43m0\u001b[39;49m\u001b[43m]\u001b[49m\n",
      "\u001b[0;31mTypeError\u001b[0m: 'set' object is not subscriptable"
     ]
    }
   ],
   "source": [
    "s7[0]"
   ]
  },
  {
   "cell_type": "code",
   "execution_count": 22,
   "id": "8815ca1f-85cc-430e-9c15-5a4cef77b84b",
   "metadata": {
    "id": "8815ca1f-85cc-430e-9c15-5a4cef77b84b",
    "outputId": "8f521abd-0e00-4de5-851c-138bbb7bc4ab"
   },
   "outputs": [
    {
     "ename": "TypeError",
     "evalue": "'set' object is not subscriptable",
     "output_type": "error",
     "traceback": [
      "\u001b[0;31m---------------------------------------------------------------------------\u001b[0m",
      "\u001b[0;31mTypeError\u001b[0m                                 Traceback (most recent call last)",
      "Cell \u001b[0;32mIn[22], line 1\u001b[0m\n\u001b[0;32m----> 1\u001b[0m \u001b[43ms7\u001b[49m\u001b[43m[\u001b[49m\u001b[43m:\u001b[49m\u001b[43m:\u001b[49m\u001b[38;5;241;43m-\u001b[39;49m\u001b[38;5;241;43m1\u001b[39;49m\u001b[43m]\u001b[49m\n",
      "\u001b[0;31mTypeError\u001b[0m: 'set' object is not subscriptable"
     ]
    }
   ],
   "source": [
    "s7[::-1]"
   ]
  },
  {
   "cell_type": "code",
   "execution_count": 23,
   "id": "965f82d2-f5c3-4d48-9904-dcaced03595c",
   "metadata": {
    "id": "965f82d2-f5c3-4d48-9904-dcaced03595c",
    "outputId": "c4824cd4-a71c-40db-d9bd-09ad08d35ddb"
   },
   "outputs": [
    {
     "data": {
      "text/plain": [
       "{2, 3, 4, 5, 'sudh'}"
      ]
     },
     "execution_count": 23,
     "metadata": {},
     "output_type": "execute_result"
    }
   ],
   "source": [
    "s7"
   ]
  },
  {
   "cell_type": "code",
   "execution_count": 24,
   "id": "dc50c786-7ed5-40c0-817a-3d323098f7e4",
   "metadata": {
    "id": "dc50c786-7ed5-40c0-817a-3d323098f7e4",
    "outputId": "d7c2046b-2381-45aa-f867-1732b776b690"
   },
   "outputs": [
    {
     "name": "stdout",
     "output_type": "stream",
     "text": [
      "2\n",
      "3\n",
      "4\n",
      "5\n",
      "sudh\n"
     ]
    }
   ],
   "source": [
    "for i in s7 :\n",
    "    print(i)"
   ]
  },
  {
   "cell_type": "code",
   "execution_count": 25,
   "id": "1ba967f5-464f-4a89-9f8c-97de6c8efcb5",
   "metadata": {
    "id": "1ba967f5-464f-4a89-9f8c-97de6c8efcb5",
    "outputId": "e7fbe2d0-21e6-4593-e438-93dfb1df23c5"
   },
   "outputs": [
    {
     "data": {
      "text/plain": [
       "{2, 3, 4, 5, 'sudh'}"
      ]
     },
     "execution_count": 25,
     "metadata": {},
     "output_type": "execute_result"
    }
   ],
   "source": [
    "s7"
   ]
  },
  {
   "cell_type": "code",
   "execution_count": 26,
   "id": "aa6799f4-0711-4214-a799-b1ab5e7d9f79",
   "metadata": {
    "id": "aa6799f4-0711-4214-a799-b1ab5e7d9f79"
   },
   "outputs": [],
   "source": [
    "s7.add(34)"
   ]
  },
  {
   "cell_type": "code",
   "execution_count": 27,
   "id": "1fb8cacf-debc-465e-af26-9f9f9cc435b1",
   "metadata": {
    "id": "1fb8cacf-debc-465e-af26-9f9f9cc435b1",
    "outputId": "7501b524-c549-49fd-e730-17eca710b36c"
   },
   "outputs": [
    {
     "data": {
      "text/plain": [
       "{2, 3, 34, 4, 5, 'sudh'}"
      ]
     },
     "execution_count": 27,
     "metadata": {},
     "output_type": "execute_result"
    }
   ],
   "source": [
    "s7"
   ]
  },
  {
   "cell_type": "code",
   "execution_count": 28,
   "id": "df5194a1-e747-490a-ade9-f2dc9e7f42af",
   "metadata": {
    "id": "df5194a1-e747-490a-ade9-f2dc9e7f42af"
   },
   "outputs": [],
   "source": [
    "s7.add(2)"
   ]
  },
  {
   "cell_type": "code",
   "execution_count": 29,
   "id": "6214d4ef-e40e-4b59-a003-cdac24d8df2b",
   "metadata": {
    "id": "6214d4ef-e40e-4b59-a003-cdac24d8df2b",
    "outputId": "c5df219d-a705-4830-a8d3-46be345384eb"
   },
   "outputs": [
    {
     "data": {
      "text/plain": [
       "{2, 3, 34, 4, 5, 'sudh'}"
      ]
     },
     "execution_count": 29,
     "metadata": {},
     "output_type": "execute_result"
    }
   ],
   "source": [
    "s7"
   ]
  },
  {
   "cell_type": "code",
   "execution_count": 30,
   "id": "3226edf2-1c28-4eb5-bba4-80f36814402d",
   "metadata": {
    "id": "3226edf2-1c28-4eb5-bba4-80f36814402d",
    "outputId": "46863ae0-4cac-4b5e-fc58-1c6ef3c1bdfa"
   },
   "outputs": [
    {
     "data": {
      "text/plain": [
       "6"
      ]
     },
     "execution_count": 30,
     "metadata": {},
     "output_type": "execute_result"
    }
   ],
   "source": [
    "len(s7)"
   ]
  },
  {
   "cell_type": "code",
   "execution_count": 31,
   "id": "a5b6e2df-e8dc-49d6-85cc-70c86e796ec3",
   "metadata": {
    "id": "a5b6e2df-e8dc-49d6-85cc-70c86e796ec3",
    "outputId": "31b1f7e5-3ff3-4ee4-e96a-a4394a74ff1a"
   },
   "outputs": [
    {
     "data": {
      "text/plain": [
       "2"
      ]
     },
     "execution_count": 31,
     "metadata": {},
     "output_type": "execute_result"
    }
   ],
   "source": [
    "s7.pop()"
   ]
  },
  {
   "cell_type": "code",
   "execution_count": 32,
   "id": "2faab01e-563d-47fd-a7a6-47efae3be27d",
   "metadata": {
    "id": "2faab01e-563d-47fd-a7a6-47efae3be27d",
    "outputId": "9ebe89d4-4ed7-44c8-cc9b-02734fff8c5b"
   },
   "outputs": [
    {
     "data": {
      "text/plain": [
       "{3, 34, 4, 5, 'sudh'}"
      ]
     },
     "execution_count": 32,
     "metadata": {},
     "output_type": "execute_result"
    }
   ],
   "source": [
    "s7"
   ]
  },
  {
   "cell_type": "code",
   "execution_count": 33,
   "id": "54b3eda0-01fb-42ec-8236-97313ad87a9d",
   "metadata": {
    "id": "54b3eda0-01fb-42ec-8236-97313ad87a9d",
    "outputId": "d5fe693c-c46e-42aa-cb63-00a0819651f4"
   },
   "outputs": [
    {
     "data": {
      "text/plain": [
       "3"
      ]
     },
     "execution_count": 33,
     "metadata": {},
     "output_type": "execute_result"
    }
   ],
   "source": [
    "s7.pop()"
   ]
  },
  {
   "cell_type": "code",
   "execution_count": 34,
   "id": "1e7d0a3d-a380-4edb-9e1c-ef9a8f4086b5",
   "metadata": {
    "id": "1e7d0a3d-a380-4edb-9e1c-ef9a8f4086b5",
    "outputId": "5a4db3c2-daeb-417c-ab11-1ae72f6e0303"
   },
   "outputs": [
    {
     "data": {
      "text/plain": [
       "4"
      ]
     },
     "execution_count": 34,
     "metadata": {},
     "output_type": "execute_result"
    }
   ],
   "source": [
    "s7.pop()"
   ]
  },
  {
   "cell_type": "code",
   "execution_count": 35,
   "id": "d5e2518c-6cf1-4f31-84be-5808e6be7d05",
   "metadata": {
    "id": "d5e2518c-6cf1-4f31-84be-5808e6be7d05",
    "outputId": "9cf0babb-5495-44c7-8901-b86e7f483ce6"
   },
   "outputs": [
    {
     "data": {
      "text/plain": [
       "5"
      ]
     },
     "execution_count": 35,
     "metadata": {},
     "output_type": "execute_result"
    }
   ],
   "source": [
    "s7.pop()"
   ]
  },
  {
   "cell_type": "code",
   "execution_count": 36,
   "id": "9cb0ec4b-0bba-46ba-91e9-f3ce410ff5b5",
   "metadata": {
    "id": "9cb0ec4b-0bba-46ba-91e9-f3ce410ff5b5",
    "outputId": "4ccceb61-6918-4c12-9361-df69f532d8c4"
   },
   "outputs": [
    {
     "data": {
      "text/plain": [
       "{34, 'sudh'}"
      ]
     },
     "execution_count": 36,
     "metadata": {},
     "output_type": "execute_result"
    }
   ],
   "source": [
    "s7"
   ]
  },
  {
   "cell_type": "code",
   "execution_count": 38,
   "id": "4c124960-116a-4960-8a16-78ec6413af76",
   "metadata": {
    "id": "4c124960-116a-4960-8a16-78ec6413af76",
    "outputId": "041d4818-8804-4601-f9df-a5af47987cc1"
   },
   "outputs": [
    {
     "data": {
      "text/plain": [
       "{34, 'sudh'}"
      ]
     },
     "execution_count": 38,
     "metadata": {},
     "output_type": "execute_result"
    }
   ],
   "source": [
    "s7"
   ]
  },
  {
   "cell_type": "code",
   "execution_count": 39,
   "id": "68cea014-757e-4548-acae-ef90ba6a401a",
   "metadata": {
    "id": "68cea014-757e-4548-acae-ef90ba6a401a"
   },
   "outputs": [],
   "source": [
    "s7.clear()"
   ]
  },
  {
   "cell_type": "code",
   "execution_count": 40,
   "id": "604229f1-0076-4fe5-b440-a45b5a2d1033",
   "metadata": {
    "id": "604229f1-0076-4fe5-b440-a45b5a2d1033",
    "outputId": "c8b847b2-e74f-42b9-9d37-c8e4bc190925"
   },
   "outputs": [
    {
     "data": {
      "text/plain": [
       "set()"
      ]
     },
     "execution_count": 40,
     "metadata": {},
     "output_type": "execute_result"
    }
   ],
   "source": [
    "s7"
   ]
  },
  {
   "cell_type": "code",
   "execution_count": 41,
   "id": "72d33ad6-707a-441c-8c80-2f54051247c1",
   "metadata": {
    "id": "72d33ad6-707a-441c-8c80-2f54051247c1"
   },
   "outputs": [],
   "source": [
    "s8 = {1,2,3,4}\n",
    "s9 = {1,2,3,5}"
   ]
  },
  {
   "cell_type": "code",
   "execution_count": 42,
   "id": "a790bf5b-453b-462e-a796-da5130f4d8d2",
   "metadata": {
    "id": "a790bf5b-453b-462e-a796-da5130f4d8d2",
    "outputId": "98193e6c-4523-47d7-a3ef-a2525823687c"
   },
   "outputs": [
    {
     "data": {
      "text/plain": [
       "{4}"
      ]
     },
     "execution_count": 42,
     "metadata": {},
     "output_type": "execute_result"
    }
   ],
   "source": [
    "s8.difference(s9)"
   ]
  },
  {
   "cell_type": "code",
   "execution_count": null,
   "id": "f0d9ca08-0018-4f1a-b450-c1114c590ba7",
   "metadata": {
    "id": "f0d9ca08-0018-4f1a-b450-c1114c590ba7",
    "outputId": "c85eb5b8-cb3d-4dbf-a2e3-05252836ca9c"
   },
   "outputs": [
    {
     "data": {
      "text/plain": [
       "{5}"
      ]
     },
     "execution_count": 41,
     "metadata": {},
     "output_type": "execute_result"
    }
   ],
   "source": [
    "s9.difference(s8)"
   ]
  },
  {
   "cell_type": "code",
   "execution_count": null,
   "id": "71b3c4a8-5977-4ab8-a632-9229f706e594",
   "metadata": {
    "id": "71b3c4a8-5977-4ab8-a632-9229f706e594"
   },
   "outputs": [],
   "source": []
  }
 ],
 "metadata": {
  "colab": {
   "provenance": []
  },
  "kernelspec": {
   "display_name": "Python 3 (ipykernel)",
   "language": "python",
   "name": "python3"
  },
  "language_info": {
   "codemirror_mode": {
    "name": "ipython",
    "version": 3
   },
   "file_extension": ".py",
   "mimetype": "text/x-python",
   "name": "python",
   "nbconvert_exporter": "python",
   "pygments_lexer": "ipython3",
   "version": "3.10.8"
  }
 },
 "nbformat": 4,
 "nbformat_minor": 5
}
