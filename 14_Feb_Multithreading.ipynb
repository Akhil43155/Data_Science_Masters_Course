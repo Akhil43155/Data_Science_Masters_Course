{
 "cells": [
  {
   "cell_type": "markdown",
   "id": "ffd6f560-ea1f-472e-a83f-7248d2815e6d",
   "metadata": {},
   "source": [
    "1. What is multithreading in python? Why it is used? Name the module used to handle threads in python."
   ]
  },
  {
   "cell_type": "markdown",
   "id": "47b7a57c-8362-4989-8922-0ee071c50211",
   "metadata": {},
   "source": [
    "Multithreading in Python refers to the process of executing multiple threads (independent units of execution) within a single process. Each thread runs in parallel with the other threads, allowing for more efficient utilization of CPU time and faster processing of tasks.\n",
    "\n",
    "Multithreading is used to improve the performance of applications that need to perform multiple tasks simultaneously. By using threads, a program can execute multiple tasks concurrently, allowing it to perform more work in less time.\n",
    "\n",
    "In Python, the threading module is used to handle threads. This module provides a way to create, start, and manage threads within a Python program. The threading module defines the Thread class, which is used to create new threads, and provides methods for starting, joining, and managing threads."
   ]
  },
  {
   "cell_type": "markdown",
   "id": "6c581806-ba1b-4f01-bfa2-a904463b30c9",
   "metadata": {},
   "source": [
    "2. Why threading module used? Write the use of the following functions:\n",
    "    a) active count()\n",
    "    b) currentThread()\n",
    "    c) enumerate()"
   ]
  },
  {
   "cell_type": "markdown",
   "id": "013b579d-9d14-4871-b629-cd5390b1af86",
   "metadata": {},
   "source": [
    "The threading module in Python is used to handle threads. It provides a way to create, start, and manage threads within a Python program. The main use of the threading module is to enable concurrent execution of multiple threads within a single process. By using threads, a program can perform multiple tasks simultaneously, making it more efficient and faster.\n",
    "\n",
    "The following are the uses of the active_count(), currentThread(), and enumerate() functions in the threading module:\n",
    "\n",
    "a) active_count(): This function returns the number of thread objects that are currently alive. A thread object is considered alive if it has been created and has not yet been terminated. This function is useful for debugging and monitoring the status of threads in a program.\n",
    "\n",
    "b) currentThread(): This function returns a reference to the current thread object that is executing the code. This function is useful for accessing information about the current thread, such as its name or identification number.\n",
    "\n",
    "c) enumerate(): This function returns a list of all thread objects that are currently alive. The list includes both daemon and non-daemon threads. Each thread object is represented by an instance of the Thread class. This function is useful for debugging and monitoring the status of threads in a program."
   ]
  },
  {
   "cell_type": "markdown",
   "id": "d2333d3e-21a2-4f83-8cfb-bf42ee266710",
   "metadata": {},
   "source": [
    "3. Explain the following functions.\n",
    "\t1. Run()\n",
    "    2. Start()\n",
    "    3. Join()\n",
    "    4. isAlive()"
   ]
  },
  {
   "cell_type": "markdown",
   "id": "d9db2adb-0cc5-4d31-947b-2ea9b7126ba6",
   "metadata": {},
   "source": [
    "The following are the explanations of the run(), start(), join(), and isAlive() functions in the Thread class of the threading module:\n",
    "\n",
    "run(): This method is called when a thread is started using the start() method. The run() method contains the code that will be executed by the thread. When a new thread is created, you can override this method to specify the code that the thread should run.\n",
    "\n",
    "start(): This method is used to start a new thread. When called, it creates a new thread and calls the run() method of the thread. The start() method does not block the calling thread and returns immediately, allowing the program to continue running while the new thread runs in the background.\n",
    "\n",
    "join(): This method is used to block the calling thread until the thread that called the method has completed. When a thread calls the join() method of another thread, the calling thread waits until the other thread has finished executing its code. This method is useful when you want to wait for a thread to complete before continuing with the rest of your program.\n",
    "\n",
    "isAlive(): This method is used to check whether a thread is still executing or has completed its code. When called on a thread object, it returns a boolean value indicating whether the thread is currently alive or not. If the thread has completed its execution, the method returns False, otherwise it returns True. This method is useful when you want to check the status of a thread before continuing with your program."
   ]
  },
  {
   "cell_type": "markdown",
   "id": "7e7be99c-25e0-4479-aca9-788b274bdd25",
   "metadata": {},
   "source": [
    "4. Write a python program to create two threads. Thread one must print the list of squares and thread\n",
    "two must print the list of cubes"
   ]
  },
  {
   "cell_type": "code",
   "execution_count": 1,
   "id": "933c1b8a-6732-4e8b-b5a4-5e191d242810",
   "metadata": {},
   "outputs": [
    {
     "name": "stdout",
     "output_type": "stream",
     "text": [
      "List of squares:\n",
      "1\n",
      "4\n",
      "9\n",
      "16\n",
      "25\n",
      "List of cubes:\n",
      "1\n",
      "8\n",
      "27\n",
      "64\n",
      "125\n",
      "Finished executing threads\n"
     ]
    }
   ],
   "source": [
    "import threading\n",
    "\n",
    "# function to print list of squares\n",
    "def print_squares(n):\n",
    "    print(\"List of squares:\")\n",
    "    for i in range(1, n+1):\n",
    "        print(i*i)\n",
    "        \n",
    "# function to print list of cubes\n",
    "def print_cubes(n):\n",
    "    print(\"List of cubes:\")\n",
    "    for i in range(1, n+1):\n",
    "        print(i*i*i)\n",
    "\n",
    "# creating thread objects\n",
    "t1 = threading.Thread(target=print_squares, args=(5,))\n",
    "t2 = threading.Thread(target=print_cubes, args=(5,))\n",
    "\n",
    "# starting the threads\n",
    "t1.start()\n",
    "t2.start()\n",
    "\n",
    "# waiting for the threads to finish\n",
    "t1.join()\n",
    "t2.join()\n",
    "\n",
    "print(\"Finished executing threads\")\n"
   ]
  },
  {
   "cell_type": "markdown",
   "id": "4737539c-7dd7-4c96-915f-ab2fce0d6a6e",
   "metadata": {},
   "source": [
    "In this program, we define two functions print_squares() and print_cubes() that print the list of squares and cubes, respectively. We then create two Thread objects t1 and t2, where t1 calls the print_squares() function and t2 calls the print_cubes() function. We then start the threads using the start() method and wait for them to finish using the join() method. Finally, we print a message to indicate that the program has finished executing. When we run the program, we should see the list of squares and cubes printed in parallel by the two threads."
   ]
  },
  {
   "cell_type": "markdown",
   "id": "6d1210ba-3717-4a1f-bff9-37c1a3f28de2",
   "metadata": {},
   "source": [
    "5. State advantages and disadvantages of multithreading"
   ]
  },
  {
   "cell_type": "markdown",
   "id": "32ca1db9-b95b-49f9-97a9-598c7556a32a",
   "metadata": {},
   "source": [
    "Multithreading has several advantages and disadvantages, which are listed below:\n",
    "\n",
    "Advantages of Multithreading:\n",
    "\n",
    "Increased responsiveness: Multithreading allows a program to respond to user inputs faster by running tasks in the background while the main thread is still running.\n",
    "\n",
    "Efficient use of resources: Multithreading can improve the efficiency of a program by using multiple threads to perform different tasks simultaneously, making better use of CPU resources.\n",
    "\n",
    "Faster execution: Multithreading can speed up the execution of a program by dividing a large task into smaller sub-tasks that can be executed in parallel.\n",
    "\n",
    "Simplified code: Multithreading can simplify the code of a program by separating different tasks into separate threads, making it easier to understand and maintain.\n",
    "\n",
    "Disadvantages of Multithreading:\n",
    "\n",
    "Complexity: Multithreading can increase the complexity of a program by requiring synchronization between threads, which can introduce bugs and make the code harder to understand.\n",
    "\n",
    "Overhead: Multithreading can introduce overhead in the form of context switching and synchronization, which can slow down a program's execution time.\n",
    "\n",
    "Debugging: Debugging multithreaded programs can be difficult due to race conditions, deadlocks, and other synchronization issues that can occur.\n",
    "\n",
    "Resource contention: Multithreading can result in resource contention, where multiple threads compete for the same resources, which can lead to inefficiencies and slowdowns.\n",
    "\n",
    "In summary, multithreading can provide several benefits to a program, such as increased responsiveness, efficient resource usage, faster execution, and simplified code. However, it also has some drawbacks, including increased complexity, overhead, debugging difficulties, and resource contention."
   ]
  },
  {
   "cell_type": "markdown",
   "id": "f6324767-cf94-481f-bcd1-928491217a70",
   "metadata": {},
   "source": [
    "6. Explain deadlocks and race conditions."
   ]
  },
  {
   "cell_type": "code",
   "execution_count": null,
   "id": "7ca9fd04-c2d6-46ca-bd05-eac98525e9b7",
   "metadata": {},
   "outputs": [],
   "source": []
  }
 ],
 "metadata": {
  "kernelspec": {
   "display_name": "Python 3 (ipykernel)",
   "language": "python",
   "name": "python3"
  },
  "language_info": {
   "codemirror_mode": {
    "name": "ipython",
    "version": 3
   },
   "file_extension": ".py",
   "mimetype": "text/x-python",
   "name": "python",
   "nbconvert_exporter": "python",
   "pygments_lexer": "ipython3",
   "version": "3.10.8"
  }
 },
 "nbformat": 4,
 "nbformat_minor": 5
}
