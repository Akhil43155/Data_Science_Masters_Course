{
 "cells": [
  {
   "cell_type": "markdown",
   "id": "890d14ff-00fb-439b-ac90-fd853be15b6c",
   "metadata": {},
   "source": [
    "## Q1. \n",
    "What are the characteristics of the tuples? Is tuple immutable?"
   ]
  },
  {
   "cell_type": "raw",
   "id": "a4e06b4e-53d2-464b-bea0-f6a1e0498528",
   "metadata": {},
   "source": [
    "Ans. Characteristics of Tuples\n",
    "\t\tThey are indexed.\n",
    "\t\tTuples are ordered.\n",
    "\t\tTuples are immutable.\n",
    "\t\tThey can contain duplicate items."
   ]
  },
  {
   "cell_type": "markdown",
   "id": "e9ea9a79-0fad-42cf-999a-dd40c7654839",
   "metadata": {},
   "source": [
    "## Q2\n",
    "What are the two tuple methods in python? Give an example of each method. Give a reason why\n",
    "\ttuples have only two in-built methods as compared to Lists."
   ]
  },
  {
   "cell_type": "raw",
   "id": "e4341263-2e03-41b4-9ce0-34c95c3b3b29",
   "metadata": {},
   "source": [
    "Ans. There are only two tuple methods count() and index()."
   ]
  },
  {
   "cell_type": "code",
   "execution_count": 1,
   "id": "94872634-4e69-4b96-ae23-92ad51b6b7bc",
   "metadata": {},
   "outputs": [
    {
     "data": {
      "text/plain": [
       "4"
      ]
     },
     "execution_count": 1,
     "metadata": {},
     "output_type": "execute_result"
    }
   ],
   "source": [
    "#Count menthod:\n",
    "#it counts the no of occurances of a specific element\n",
    "elements = (1,1,2,3,3.43,3,3,3,3.45,'a','akhil')\n",
    "a=elements.count(3)\n",
    "a"
   ]
  },
  {
   "cell_type": "code",
   "execution_count": 2,
   "id": "1e40701b-3c2c-4e0d-97c0-d3942169974d",
   "metadata": {},
   "outputs": [
    {
     "data": {
      "text/plain": [
       "10"
      ]
     },
     "execution_count": 2,
     "metadata": {},
     "output_type": "execute_result"
    }
   ],
   "source": [
    "#it gives you the value index number\n",
    "a1=elements.index('akhil')\n",
    "a1"
   ]
  },
  {
   "cell_type": "markdown",
   "id": "c2ecd4c0-7bd1-4021-8a52-9757aef58194",
   "metadata": {},
   "source": [
    "## Q3\n",
    "    Which collection datatypes in python do not allow duplicate items? Write a code using a set to remove\n",
    "\tduplicates from the given list.\n",
    "\tList = [1, 1, 1, 2, 1, 3, 1, 4, 2, 1, 2, 2, 2, 3, 2, 4, 3, 1, 3, 2, 3, 3, 3, 4, 4, 1, 4, 2, 4, 3, 4, 4]"
   ]
  },
  {
   "cell_type": "markdown",
   "id": "933efafe-abfd-4ffc-b136-fb07549be02e",
   "metadata": {},
   "source": [
    "Ans. Sets are a collection that is unordered and unindexed. They are mutable (changeable) \n",
    "\t\tbut do not allow duplicate values"
   ]
  },
  {
   "cell_type": "code",
   "execution_count": 3,
   "id": "36574234-16a7-4cd2-8b30-b2699e8f824f",
   "metadata": {},
   "outputs": [
    {
     "data": {
      "text/plain": [
       "{1, 2, 3, 4}"
      ]
     },
     "execution_count": 3,
     "metadata": {},
     "output_type": "execute_result"
    }
   ],
   "source": [
    "List = [1, 1, 1, 2, 1, 3, 1, 4, 2, 1, 2, 2, 2, 3, 2, 4, 3, 1, 3, 2, 3, 3, 3, 4, 4, 1, 4, 2, 4, 3, 4, 4]\n",
    "Result = set(List)\n",
    "Result"
   ]
  },
  {
   "cell_type": "markdown",
   "id": "d5c3a227-53d1-4263-b610-63e38e82d6d4",
   "metadata": {},
   "source": [
    "## Q4. \n",
    "\tExplain the difference between the union() and update() methods for a set. Give an example of\n",
    "\teach method."
   ]
  },
  {
   "cell_type": "raw",
   "id": "84b52987-943f-47dc-b035-ef0174e458cc",
   "metadata": {},
   "source": [
    "Ans. update() adds all missing elements to the set on which it is called \n",
    "\t\twhereas set. union() creates a new set."
   ]
  },
  {
   "cell_type": "code",
   "execution_count": 4,
   "id": "5a91491b-5689-404d-b6f6-704d20ba667d",
   "metadata": {},
   "outputs": [
    {
     "data": {
      "text/plain": [
       "{1, 2, 3, 4, 5, 6, 7, 8, 9, 10}"
      ]
     },
     "execution_count": 4,
     "metadata": {},
     "output_type": "execute_result"
    }
   ],
   "source": [
    "#Union method - it creates new set using A and B sets\n",
    "A = {1,2,3,4,5}\n",
    "B = {6,7,8,9,10}\n",
    "C = A.union(B)\n",
    "C"
   ]
  },
  {
   "cell_type": "code",
   "execution_count": 5,
   "id": "53f037d4-8c5c-46a7-bee0-0db667b7d550",
   "metadata": {},
   "outputs": [
    {
     "data": {
      "text/plain": [
       "{1, 2, 3, 4, 5, 6, 10, 11, 12, 13, 14, 15}"
      ]
     },
     "execution_count": 5,
     "metadata": {},
     "output_type": "execute_result"
    }
   ],
   "source": [
    "#Update method - it adds the new elements\n",
    "A = {1,2,3,4,5,6}\n",
    "B = {10,11,12,13,14,15}\n",
    "A.update(B)\n",
    "A"
   ]
  },
  {
   "cell_type": "markdown",
   "id": "368e9a5a-08c7-46e3-9d89-f7a18a1385a5",
   "metadata": {},
   "source": [
    "## Q5\n",
    "\tWhat is a dictionary? Give an example. Also, state whether a dictionary is ordered or unordered."
   ]
  },
  {
   "cell_type": "raw",
   "id": "d3b29fe4-dd5d-4eaf-b38a-b33a5262b602",
   "metadata": {},
   "source": [
    "Ans. 1) Dictionary is the collection of {key:value} pairs, We can chsnge the value any time but \n",
    "\t\twe can't chsnge the key .\n",
    "     2) As of Python version 3.7, dictionaries are ordered. In Python 3.6 and earlier, \n",
    "     \tdictionaries are unordered."
   ]
  },
  {
   "cell_type": "markdown",
   "id": "9a473e21-4a7b-4881-bfe4-501e218e5a7e",
   "metadata": {},
   "source": [
    "## Q6. \n",
    "\tCan we create a nested dictionary? If so, please give an example by creating a simple one-level \n",
    "\tnested dictionary"
   ]
  },
  {
   "cell_type": "raw",
   "id": "6e58246e-d312-458f-a852-2f46e7ba5522",
   "metadata": {},
   "source": [
    "Ans. A nested dictionary is created the same way a normal dictionary is created. The only difference \n",
    "\t\tis that each value is another dictionary."
   ]
  },
  {
   "cell_type": "code",
   "execution_count": 6,
   "id": "56edab12-47f2-46e5-bddb-c885efbf1bb3",
   "metadata": {},
   "outputs": [
    {
     "data": {
      "text/plain": [
       "{'emp1': {'name': 'Bob', 'job': 'Mgr'},\n",
       " 'emp2': {'name': 'Kim', 'job': 'Dev'},\n",
       " 'emp3': {'name': 'Sam', 'job': 'Dev'}}"
      ]
     },
     "execution_count": 6,
     "metadata": {},
     "output_type": "execute_result"
    }
   ],
   "source": [
    "D = {'emp1': {'name': 'Bob', 'job': 'Mgr'},\n",
    "     'emp2': {'name': 'Kim', 'job': 'Dev'},\n",
    "     'emp3': {'name': 'Sam', 'job': 'Dev'}}\n",
    "D"
   ]
  },
  {
   "cell_type": "markdown",
   "id": "9377affd-99f0-477b-a342-466003edefbd",
   "metadata": {},
   "source": [
    "## Q7. \n",
    "\tUsing setdefault() method, create key named topics in the given dictionary and also add the value of \n",
    "\tthe key as this list ['Python', 'Machine Learning’, 'Deep Learning']\n",
    "\n",
    "\n",
    "\tdict1 = {'language' : 'Python', 'course': 'Data Science Masters'}"
   ]
  },
  {
   "cell_type": "code",
   "execution_count": 9,
   "id": "64e15857-8af1-4ffd-a487-0463edef84d6",
   "metadata": {},
   "outputs": [
    {
     "data": {
      "text/plain": [
       "{'language': 'Python',\n",
       " 'course': 'Data Science Masters',\n",
       " 'topics': ['Python', 'Machine Learning', 'Deep Learning']}"
      ]
     },
     "execution_count": 9,
     "metadata": {},
     "output_type": "execute_result"
    }
   ],
   "source": [
    "dict1 = {'language' : 'Python', 'course': 'Data Science Masters'}\n",
    "dict1.setdefault('topics', ['Python', 'Machine Learning', 'Deep Learning'])\n",
    "dict1"
   ]
  },
  {
   "cell_type": "markdown",
   "id": "5ec25a08-b44d-416f-afa6-be6a552b761a",
   "metadata": {},
   "source": [
    "## Q8. \n",
    "\tWhat are the three view objects in dictionaries? Use the three in-built methods in python to display \n",
    "\tthese three view objects for the given dictionary.\n",
    "\n",
    "\n",
    "\tdict1 = {'Sport': 'Cricket' , 'Teams': ['India', 'Australia', 'England', 'South Africa', 'Sri Lanka', \n",
    "    'New Zealand']}"
   ]
  },
  {
   "cell_type": "raw",
   "id": "89202cac-de1b-44d6-83f6-ad38cc37a23a",
   "metadata": {},
   "source": [
    "Ans. The three view objects in dictionaries are:\n",
    "\n",
    "\t1.keys()\n",
    "\t2.values()\n",
    "\t3.items()\n",
    "    "
   ]
  },
  {
   "cell_type": "code",
   "execution_count": 11,
   "id": "a7a3fbcd-ab91-4bf4-a34e-95076be060d3",
   "metadata": {},
   "outputs": [
    {
     "name": "stdout",
     "output_type": "stream",
     "text": [
      "Keys view object:  dict_keys(['language', 'course', 'topics'])\n"
     ]
    }
   ],
   "source": [
    "#using keys() method\n",
    "print(\"Keys view object: \", dict1.keys())"
   ]
  },
  {
   "cell_type": "code",
   "execution_count": 12,
   "id": "2fd68ebf-7796-46ab-95db-0be9cf73a551",
   "metadata": {},
   "outputs": [
    {
     "name": "stdout",
     "output_type": "stream",
     "text": [
      "Values view object:  dict_values(['Python', 'Data Science Masters', ['Python', 'Machine Learning', 'Deep Learning']])\n"
     ]
    }
   ],
   "source": [
    "#using values() method\n",
    "print(\"Values view object: \", dict1.values())\n"
   ]
  },
  {
   "cell_type": "code",
   "execution_count": 13,
   "id": "4add42e6-5eb5-423d-a35c-25f26be10aa7",
   "metadata": {},
   "outputs": [
    {
     "name": "stdout",
     "output_type": "stream",
     "text": [
      "Items view object:  dict_items([('language', 'Python'), ('course', 'Data Science Masters'), ('topics', ['Python', 'Machine Learning', 'Deep Learning'])])\n"
     ]
    }
   ],
   "source": [
    "#using items() method\n",
    "print(\"Items view object: \", dict1.items())\n"
   ]
  }
 ],
 "metadata": {
  "kernelspec": {
   "display_name": "Python 3 (ipykernel)",
   "language": "python",
   "name": "python3"
  },
  "language_info": {
   "codemirror_mode": {
    "name": "ipython",
    "version": 3
   },
   "file_extension": ".py",
   "mimetype": "text/x-python",
   "name": "python",
   "nbconvert_exporter": "python",
   "pygments_lexer": "ipython3",
   "version": "3.10.8"
  }
 },
 "nbformat": 4,
 "nbformat_minor": 5
}
