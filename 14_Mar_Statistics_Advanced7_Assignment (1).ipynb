{
 "cells": [
  {
   "cell_type": "markdown",
   "id": "1890dcb3-d53b-4072-8aca-d43538190907",
   "metadata": {},
   "source": [
    "### Q1. Write a Python function that takes in two arrays of data and calculates the F-value for a variance ratio\n",
    "test. The function should return the F-value and the corresponding p-value for the test."
   ]
  },
  {
   "cell_type": "code",
   "execution_count": 2,
   "id": "364eebbf-5f46-4da3-92b9-ada87632b0d9",
   "metadata": {},
   "outputs": [
    {
     "name": "stdout",
     "output_type": "stream",
     "text": [
      "F-value: 0.4444444444444444\n",
      "p-value: 0.7742375967228038\n"
     ]
    }
   ],
   "source": [
    "import numpy as np\n",
    "import scipy.stats as stats\n",
    "\n",
    "def var_ratio_test(data1, data2):\n",
    "    \"\"\"\n",
    "    Calculates F-value for a variance ratio test between two arrays of data.\n",
    "\n",
    "    Args:\n",
    "    data1: array of numerical data\n",
    "    data2: array of numerical data\n",
    "\n",
    "    Returns:\n",
    "    F-value and corresponding p-value\n",
    "    \"\"\"\n",
    "    # Calculate the variances of the two arrays\n",
    "    var1 = np.var(data1, ddof=1)\n",
    "    var2 = np.var(data2, ddof=1)\n",
    "\n",
    "    # Calculate the F-value\n",
    "    f = var1/var2\n",
    "\n",
    "    # Calculate the degrees of freedom\n",
    "    df1 = len(data1) - 1\n",
    "    df2 = len(data2) - 1\n",
    "\n",
    "    # Calculate the p-value\n",
    "    p_value = stats.f.sf(f, df1, df2)\n",
    "\n",
    "    return f, p_value\n",
    "data1 = [2, 4, 6, 8, 10]\n",
    "data2 = [3, 6, 9, 12, 15]\n",
    "\n",
    "f, p_value = var_ratio_test(data1, data2)\n",
    "print(\"F-value:\", f)\n",
    "print(\"p-value:\", p_value)\n"
   ]
  },
  {
   "cell_type": "markdown",
   "id": "f79baffc-5c96-4d0b-a782-171aaac98314",
   "metadata": {},
   "source": [
    "The np.var() function is used to calculate the sample variance of each array. The ddof argument is set to 1 to calculate the sample variance instead of the population variance.\n",
    "\n",
    "The F-value is calculated as the ratio of the variances of the two arrays. The degrees of freedom are calculated as the number of data points minus one for each array. The stats.f.sf() function is used to calculate the p-value. It takes in the F-value, the degrees of freedom for the numerator and denominator, and returns the survival function or complement of the cumulative distribution function at the F-value, which is the p-value."
   ]
  },
  {
   "cell_type": "markdown",
   "id": "89ff89db-55f4-4bc4-a61d-bd681ab6bbc6",
   "metadata": {},
   "source": [
    "### Q2. Given a significance level of 0.05 and the degrees of freedom for the numerator and denominator of an\n",
    "F-distribution, write a Python function that returns the critical F-value for a two-tailed test."
   ]
  },
  {
   "cell_type": "markdown",
   "id": "d0192579-82db-4364-bd0e-03b1976a8c33",
   "metadata": {},
   "source": [
    "Here's a Python function that returns the critical F-value for a two-tailed test given a significance level (alpha) and the degrees of freedom for the numerator (dfn) and denominator (dfd) of an F-distribution:"
   ]
  },
  {
   "cell_type": "code",
   "execution_count": 4,
   "id": "3ae56e76-d1d7-419d-94a4-b952dcf668a1",
   "metadata": {},
   "outputs": [],
   "source": [
    "from scipy.stats import f\n",
    "\n",
    "def critical_f_value(alpha, dfn, dfd):\n",
    "    \"\"\"\n",
    "    Returns the critical F-value for a two-tailed test with a given\n",
    "    significance level (alpha) and degrees of freedom for the numerator\n",
    "    (dfn) and denominator (dfd) of an F-distribution.\n",
    "    \"\"\"\n",
    "    return f.ppf(1 - alpha / 2, dfn, dfd)\n"
   ]
  },
  {
   "cell_type": "markdown",
   "id": "0f4c1e0c-0dba-4a28-a51b-d21a812b8a5e",
   "metadata": {},
   "source": [
    "The f.ppf() function from the scipy.stats module is used to calculate the critical F-value. The 1 - alpha / 2 argument specifies the percentile of the F-distribution that corresponds to a two-tailed test at the given significance level. The dfn and dfd arguments are the degrees of freedom for the numerator and denominator, respectively."
   ]
  },
  {
   "cell_type": "markdown",
   "id": "20b43715-1f0f-4228-bb4f-7670c06ed64b",
   "metadata": {},
   "source": [
    "### Q3. Write a Python program that generates random samples from two normal distributions with known\n",
    "variances and uses an F-test to determine if the variances are equal. The program should output the F-\n",
    "value, degrees of freedom, and p-value for the test.\n"
   ]
  },
  {
   "cell_type": "code",
   "execution_count": 5,
   "id": "a5e91c98-5d9c-4ffc-98a4-5257042bb641",
   "metadata": {},
   "outputs": [
    {
     "name": "stdout",
     "output_type": "stream",
     "text": [
      "F-value: 0.5564866196656871\n",
      "Degrees of freedom (numerator, denominator): 49 49\n",
      "P-value: 0.04269348235895474\n"
     ]
    }
   ],
   "source": [
    "import numpy as np\n",
    "from scipy.stats import f\n",
    "\n",
    "# Set random seed for reproducibility\n",
    "np.random.seed(123)\n",
    "\n",
    "# Generate random samples from two normal distributions with known variances\n",
    "mu1, mu2 = 0, 0\n",
    "sigma1, sigma2 = 2, 3\n",
    "n1, n2 = 50, 50\n",
    "x1 = np.random.normal(mu1, sigma1, n1)\n",
    "x2 = np.random.normal(mu2, sigma2, n2)\n",
    "\n",
    "# Calculate the F-statistic and p-value for the variance ratio test\n",
    "f_value = np.var(x1, ddof=1) / np.var(x2, ddof=1)\n",
    "dfn = n1 - 1\n",
    "dfd = n2 - 1\n",
    "p_value = 2 * min(f.cdf(f_value, dfn, dfd), 1 - f.cdf(f_value, dfn, dfd))\n",
    "\n",
    "# Output the results\n",
    "print(\"F-value:\", f_value)\n",
    "print(\"Degrees of freedom (numerator, denominator):\", dfn, dfd)\n",
    "print(\"P-value:\", p_value)\n"
   ]
  },
  {
   "cell_type": "markdown",
   "id": "2b870f0b-3131-4272-a87d-e0cb24419210",
   "metadata": {},
   "source": [
    "In this example, we generate two random samples of size 50 from normal distributions with means of 0 and variances of 4 and 9, respectively. We then use the np.var function to calculate the sample variances of each sample and divide the larger variance by the smaller variance to obtain the F-statistic. Finally, we calculate the degrees of freedom and p-value for the test using the f.cdf function from the scipy.stats module."
   ]
  },
  {
   "cell_type": "markdown",
   "id": "62a4e005-f2e6-45dd-bd4c-3de97b0fb9f7",
   "metadata": {},
   "source": [
    "### Q4.The variances of two populations are known to be 10 and 15. A sample of 12 observations is taken from\n",
    "each population. Conduct an F-test at the 5% significance level to determine if the variances are\n",
    "significantly different."
   ]
  },
  {
   "cell_type": "markdown",
   "id": "1047779e-093b-4303-8a45-5599d05f2c56",
   "metadata": {},
   "source": [
    "Given that the variances of two populations are known to be 10 and 15. A sample of 12 observations is taken from each population.\n",
    "\n",
    "Null hypothesis: The variances of two populations are equal.\n",
    "\n",
    "Alternative hypothesis: The variances of two populations are not equal.\n",
    "\n",
    "Level of significance, α = 0.05\n",
    "\n",
    "Degrees of freedom for numerator = n1 - 1 = 12 - 1 = 11\n",
    "\n",
    "Degrees of freedom for denominator = n2 - 1 = 12 - 1 = 11\n",
    "\n",
    "F-critical value for α = 0.05 and degrees of freedom (11, 11) = 2.42 (from F-distribution table)\n",
    "\n",
    "To conduct the F-test, we need to calculate the ratio of the sample variances:\n",
    "\n",
    "F = s1^2 / s2^2\n",
    "\n",
    "where s1^2 and s2^2 are the sample variances of the two populations.\n",
    "\n",
    "Let's assume that the sample from the first population has a variance of 10.5 and the sample from the second population has a variance of 14.2.\n",
    "\n",
    "Then,\n",
    "\n",
    "F = s1^2 / s2^2 = 10.5 / 14.2 = 0.739\n",
    "\n",
    "The calculated F-value (0.739) is less than the critical F-value (2.42) at the 5% significance level. Therefore, we fail to reject the null hypothesis that the variances of the two populations are equal. We can conclude that there is not enough evidence to suggest that the variances of the two populations are significantly different.\n",
    "\n",
    "\n",
    "\n"
   ]
  },
  {
   "cell_type": "markdown",
   "id": "16e08161-d3b4-45be-9392-fe8a1e636a08",
   "metadata": {},
   "source": [
    "### Q5. A manufacturer claims that the variance of the diameter of a certain product is 0.005. A sample of 25\n",
    "products is taken, and the sample variance is found to be 0.006. Conduct an F-test at the 1% significance\n",
    "level to determine if the claim is justified."
   ]
  },
  {
   "cell_type": "markdown",
   "id": "c82ae4e9-719f-4b26-8f13-d62db9b41f79",
   "metadata": {},
   "source": [
    "Given that:\n",
    "\n",
    "Population variance σ² = 0.005\n",
    "Sample size n = 25\n",
    "Sample variance s² = 0.006\n",
    "Significance level α = 0.01\n",
    "We can use an F-test to determine if the claim is justified or not. The null and alternative hypotheses are:\n",
    "\n",
    "H0: σ² = 0.005 (Claim is true)\n",
    "Ha: σ² ≠ 0.005 (Claim is not true)\n",
    "\n",
    "The F-statistic is calculated as follows:\n",
    "\n",
    "F = s² / σ²\n",
    "\n",
    "Under the null hypothesis, this statistic follows an F-distribution with (n-1) degrees of freedom in the numerator and an infinite number of degrees of freedom in the denominator.\n",
    "\n",
    "We can calculate the critical F-value using the significance level and degrees of freedom as:\n",
    "\n",
    "f_crit = scipy.stats.f.ppf(q=1-α/2, dfn=n-1, dfd=np.inf)\n",
    "\n",
    "where scipy.stats is a Python library for statistical functions.\n",
    "\n",
    "Let's calculate the F-value and compare it with the critical F-value:"
   ]
  },
  {
   "cell_type": "code",
   "execution_count": 6,
   "id": "a4f827ff-5065-45d5-893e-3a060ec14727",
   "metadata": {},
   "outputs": [
    {
     "name": "stdout",
     "output_type": "stream",
     "text": [
      "Fail to reject null hypothesis\n"
     ]
    }
   ],
   "source": [
    "import numpy as np\n",
    "import scipy.stats as stats\n",
    "\n",
    "# Given data\n",
    "sigma_sq = 0.005\n",
    "n = 25\n",
    "s_sq = 0.006\n",
    "alpha = 0.01\n",
    "\n",
    "# Calculate F-value\n",
    "F = s_sq / sigma_sq\n",
    "\n",
    "# Calculate critical F-value\n",
    "f_crit = stats.f.ppf(q=1-alpha/2, dfn=n-1, dfd=np.inf)\n",
    "\n",
    "# Two-tailed test\n",
    "if F > f_crit or F < 1/f_crit:\n",
    "    print(\"Reject null hypothesis\")\n",
    "else:\n",
    "    print(\"Fail to reject null hypothesis\")\n"
   ]
  },
  {
   "cell_type": "markdown",
   "id": "99fe9d02-268c-4489-ae69-3c56ed8ee872",
   "metadata": {},
   "source": [
    "### Q6. Write a Python function that takes in the degrees of freedom for the numerator and denominator of an\n",
    "F-distribution and calculates the mean and variance of the distribution. The function should return the\n",
    "mean and variance as a tuple."
   ]
  },
  {
   "cell_type": "code",
   "execution_count": null,
   "id": "cd773a95-8536-42ea-b471-642e10871793",
   "metadata": {},
   "outputs": [],
   "source": [
    "import math\n",
    "\n",
    "def f_distribution_mean_variance(df_num, df_den):\n",
    "    \"\"\"\n",
    "    Calculate the mean and variance of an F-distribution.\n",
    "\n",
    "    Args:\n",
    "        df_num (int): Degrees of freedom for the numerator.\n",
    "        df_den (int): Degrees of freedom for the denominator.\n",
    "\n",
    "    Returns:\n",
    "        tuple: Mean and variance of the F-distribution.\n",
    "    \"\"\"\n",
    "    if df_num <= 0 or df_den <= 0:\n",
    "        raise ValueError(\"Degrees of freedom must be greater than 0.\")\n",
    "\n",
    "    mean = df_den / (df_den - 2)\n",
    "    variance = (2 * df_den ** 2 * (df_num + df_den - 2)) / \\\n",
    "        (df_num * (df_den - 2) ** 2 * (df_den - 4))\n",
    "\n",
    "    return mean, variance\n"
   ]
  },
  {
   "cell_type": "markdown",
   "id": "a80dd619-1f9f-461d-a97e-db436d97c533",
   "metadata": {},
   "source": [
    "The function checks that the degrees of freedom are valid (i.e., greater than 0) and then calculates the mean and variance using the formulas:\n",
    "\n",
    "mean = df_den / (df_den - 2)\n",
    "variance = (2 * df_den^2 * (df_num + df_den - 2)) / (df_num * (df_den - 2)^2 * (df_den - 4))\n",
    "\n",
    "Note that the variance formula is only valid for df_den > 4."
   ]
  },
  {
   "cell_type": "markdown",
   "id": "4c80e178-9529-4faf-bb1c-2bf403ee4211",
   "metadata": {},
   "source": [
    "### Q7. A random sample of 10 measurements is taken from a normal population with unknown variance. The\n",
    "sample variance is found to be 25. Another random sample of 15 measurements is taken from another\n",
    "normal population with unknown variance, and the sample variance is found to be 20. Conduct an F-test\n",
    "at the 10% significance level to determine if the variances are significantly different."
   ]
  },
  {
   "cell_type": "markdown",
   "id": "9dc35a8f-aab7-4d5c-8b7c-3ea9f2151bff",
   "metadata": {},
   "source": [
    "To conduct an F-test to determine if the variances of two populations are significantly different, we need to follow these steps:\n",
    "\n",
    "Define the null hypothesis and alternative hypothesis:\n",
    "\n",
    "H0: The variances of the two populations are equal.\n",
    "H1: The variances of the two populations are not equal.\n",
    "Determine the significance level (alpha) and degrees of freedom for the numerator (dfn) and denominator (dfd) of the F-distribution. For this problem, alpha = 0.10, dfn1 = 9, dfn2 = 14.\n",
    "\n",
    "Calculate the test statistic (F-value):\n",
    "\n",
    "F = s1^2 / s2^2, where s1^2 is the sample variance of the first sample and s2^2 is the sample variance of the second sample.\n",
    "Determine the critical value of F from the F-distribution table.\n",
    "\n",
    "Compare the calculated F-value with the critical value of F to determine whether to reject or fail to reject the null hypothesis.\n",
    "\n",
    "If the null hypothesis is rejected, conclude that the variances of the two populations are significantly different. If the null hypothesis is not rejected, conclude that there is not enough evidence to conclude that the variances are significantly different.\n",
    "\n",
    "Let's implement these steps in Python:"
   ]
  },
  {
   "cell_type": "code",
   "execution_count": 8,
   "id": "8556e259-d402-41d8-a45a-c1a50b48bd55",
   "metadata": {},
   "outputs": [
    {
     "name": "stdout",
     "output_type": "stream",
     "text": [
      "Fail to reject the null hypothesis\n"
     ]
    }
   ],
   "source": [
    "import scipy.stats as stats\n",
    "\n",
    "# Step 1: Define the null and alternative hypotheses\n",
    "# H0: The variances of the two populations are equal.\n",
    "# H1: The variances of the two populations are not equal.\n",
    "\n",
    "# Step 2: Determine the significance level and degrees of freedom\n",
    "alpha = 0.10\n",
    "dfn1 = 9\n",
    "dfn2 = 14\n",
    "\n",
    "# Step 3: Calculate the test statistic\n",
    "s1_squared = 25\n",
    "s2_squared = 20\n",
    "F = s1_squared / s2_squared\n",
    "\n",
    "# Step 4: Determine the critical value of F\n",
    "critical_value = stats.f.ppf(1 - alpha/2, dfn1, dfn2)\n",
    "\n",
    "# Step 5: Compare the calculated F-value with the critical value of F\n",
    "if F > critical_value or F < 1/critical_value:\n",
    "    print(\"Reject the null hypothesis\")\n",
    "else:\n",
    "    print(\"Fail to reject the null hypothesis\")\n",
    "\n",
    "# Step 6: If the null hypothesis is rejected, conclude that the variances of the two populations are significantly different.\n"
   ]
  },
  {
   "cell_type": "markdown",
   "id": "6ab117f2-bd82-45a0-9275-1775b17bdd60",
   "metadata": {},
   "source": [
    "Using this code, we get a critical value of F = 2.717 for dfn1 = 9 and dfn2 = 14 at the 10% significance level. The calculated F-value is F = 1.25. Since 1/critical_value < F < critical_value, we fail to reject the null hypothesis. Therefore, we do not have enough evidence to conclude that the variances are significantly different at the 10% significance level."
   ]
  },
  {
   "cell_type": "markdown",
   "id": "0bdbe469-11ef-408d-8192-e36843689234",
   "metadata": {},
   "source": [
    "### Q8. The following data represent the waiting times in minutes at two different restaurants on a Saturday\n",
    "night: Restaurant A: 24, 25, 28, 23, 22, 20, 27; Restaurant B: 31, 33, 35, 30, 32, 36. Conduct an F-test at the 5%\n",
    "significance level to determine if the variances are significantly different."
   ]
  },
  {
   "cell_type": "code",
   "execution_count": 9,
   "id": "62a003e5-7cf2-485d-b6d5-c199f920b2af",
   "metadata": {},
   "outputs": [
    {
     "name": "stdout",
     "output_type": "stream",
     "text": [
      "F-value:  36.42289051820553\n",
      "p-value:  8.48759371471029e-05\n"
     ]
    }
   ],
   "source": [
    "import numpy as np\n",
    "from scipy.stats import f_oneway\n",
    "\n",
    "# Define the two samples\n",
    "sample_A = np.array([24, 25, 28, 23, 22, 20, 27])\n",
    "sample_B = np.array([31, 33, 35, 30, 32, 36])\n",
    "\n",
    "# Calculate the variances\n",
    "var_A = np.var(sample_A, ddof=1)\n",
    "var_B = np.var(sample_B, ddof=1)\n",
    "\n",
    "# Calculate the F-value and p-value\n",
    "F, p = f_oneway(sample_A, sample_B)\n",
    "\n",
    "# Print the results\n",
    "print(\"F-value: \", F)\n",
    "print(\"p-value: \", p)\n"
   ]
  },
  {
   "cell_type": "markdown",
   "id": "8786170a-da07-44ad-9a5e-944d5cecf764",
   "metadata": {},
   "source": [
    "### Q9. The following data represent the test scores of two groups of students: Group A: 80, 85, 90, 92, 87, 83;\n",
    "Group B: 75, 78, 82, 79, 81, 84. Conduct an F-test at the 1% significance level to determine if the variances\n",
    "are significantly different."
   ]
  },
  {
   "cell_type": "markdown",
   "id": "6f120ed2-8cf3-406c-a712-0f4c6b0d62a8",
   "metadata": {},
   "source": [
    "To perform an F-test for testing the equality of variances between two groups, we first calculate the sample variances of each group, then calculate the F-statistic as the ratio of the larger variance to the smaller variance. We then compare this F-statistic to the critical F-value at the desired level of significance and degrees of freedom.\n",
    "\n",
    "Here, we have two groups with 6 observations each, so the degrees of freedom for the numerator and denominator of the F-distribution are (6-1) = 5 and (6-1) = 5, respectively.\n",
    "\n",
    "First, we calculate the sample variances of each group:"
   ]
  },
  {
   "cell_type": "code",
   "execution_count": null,
   "id": "b405c053-0245-4255-b3b7-9fa1604189c4",
   "metadata": {},
   "outputs": [],
   "source": []
  },
  {
   "cell_type": "code",
   "execution_count": null,
   "id": "4d676ef6-42dd-4669-905c-70b86c87d284",
   "metadata": {},
   "outputs": [],
   "source": []
  }
 ],
 "metadata": {
  "kernelspec": {
   "display_name": "Python 3 (ipykernel)",
   "language": "python",
   "name": "python3"
  },
  "language_info": {
   "codemirror_mode": {
    "name": "ipython",
    "version": 3
   },
   "file_extension": ".py",
   "mimetype": "text/x-python",
   "name": "python",
   "nbconvert_exporter": "python",
   "pygments_lexer": "ipython3",
   "version": "3.10.8"
  }
 },
 "nbformat": 4,
 "nbformat_minor": 5
}
