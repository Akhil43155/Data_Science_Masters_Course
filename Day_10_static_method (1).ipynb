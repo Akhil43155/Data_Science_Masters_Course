{
 "cells": [
  {
   "cell_type": "markdown",
   "id": "0a8e9b7d-4aae-4748-a99b-b4379607cb62",
   "metadata": {},
   "source": [
    "### Static method\n",
    "In Python, a staticmethod is a special method that belongs to the class, but does not take the class or instance as its first argument. This means that it behaves like a normal function, but is included in the class for organizational purposes. Static methods are usually used for utility or helper functions that don't depend on the class or instance state.\n",
    "\n",
    "A staticmethod is defined using the @staticmethod decorator and does not take a reference to either the instance or class itself as the first argument. Here's an example of how to define and use a staticmethod in Python:"
   ]
  },
  {
   "cell_type": "code",
   "execution_count": 2,
   "id": "8fa68eab-3ad6-4140-9da2-b83a32cee51e",
   "metadata": {},
   "outputs": [
    {
     "name": "stdout",
     "output_type": "stream",
     "text": [
      "This is a static method.\n"
     ]
    }
   ],
   "source": [
    "class MyClass:\n",
    "    my_class_variable = 42\n",
    "\n",
    "    def __init__(self, x):\n",
    "        self.x = x\n",
    "\n",
    "    def my_method(self):\n",
    "        print(\"This is an instance method.\")\n",
    "\n",
    "    @staticmethod\n",
    "    def my_staticmethod():\n",
    "        print(\"This is a static method.\")\n",
    "\n",
    "MyClass.my_staticmethod()\n"
   ]
  },
  {
   "cell_type": "raw",
   "id": "9a7e165b-fe19-4640-8b14-3a13d87b00bb",
   "metadata": {},
   "source": [
    "In this example, we define a class MyClass with a class variable my_class_variable, an instance variable x, and an instance method my_method. We also define a staticmethod called my_staticmethod that simply prints a message.\n",
    "\n",
    "We then call the my_staticmethod method on the MyClass class itself, rather than on an instance of the class. Since my_staticmethod is a staticmethod, it doesn't require an instance or class reference, and behaves like a normal function.\n",
    "\n",
    "Static methods are commonly used for utility or helper functions that don't depend on the state of the class or instance. They can be called on the class itself or on an instance of the class, but they don't modify the state of the class or instance."
   ]
  },
  {
   "cell_type": "code",
   "execution_count": 3,
   "id": "73250e39-b555-4022-a1d3-5da9ca7d53bb",
   "metadata": {},
   "outputs": [],
   "source": [
    "class pwskills:\n",
    "    def student_details(self , name , mail_id , number) : \n",
    "        print(name , mail_id, number)"
   ]
  },
  {
   "cell_type": "code",
   "execution_count": 4,
   "id": "bf403f35-2dab-4e1b-863c-42488c20d405",
   "metadata": {},
   "outputs": [],
   "source": [
    "pw = pwskills()"
   ]
  },
  {
   "cell_type": "code",
   "execution_count": 5,
   "id": "bd805a04-6bfc-4159-8e66-94774d72f46b",
   "metadata": {},
   "outputs": [
    {
     "name": "stdout",
     "output_type": "stream",
     "text": [
      "akhil akhil@gmail.com 91345353\n"
     ]
    }
   ],
   "source": [
    "pw.student_details(\"akhil\" , \"akhil@gmail.com\" , 91345353)"
   ]
  },
  {
   "cell_type": "code",
   "execution_count": 6,
   "id": "7d866032-5c0e-4db2-9d58-1855164e5834",
   "metadata": {},
   "outputs": [],
   "source": [
    "class pwskills1:\n",
    "    def student_details(self , name , mail_id , number) : \n",
    "        print(name , mail_id, number)\n",
    "        \n",
    "    @staticmethod\n",
    "    def mentor_class(list_mentor) : \n",
    "        print(list_mentor)\n",
    "        \n",
    "    def mentor(self , mentor_list) :\n",
    "        print(mentor_list)"
   ]
  },
  {
   "cell_type": "code",
   "execution_count": 7,
   "id": "afc43311-50a8-4a95-8e66-22828d8dd3eb",
   "metadata": {},
   "outputs": [],
   "source": [
    "pw1 = pwskills1()"
   ]
  },
  {
   "cell_type": "code",
   "execution_count": 8,
   "id": "103dac56-44e3-4ced-867d-46f4f17adac4",
   "metadata": {},
   "outputs": [
    {
     "name": "stdout",
     "output_type": "stream",
     "text": [
      "['krish', 'sudh']\n"
     ]
    }
   ],
   "source": [
    "#with he help of object we can access mentor method\n",
    "pw1.mentor([\"krish\" , \"sudh\"])"
   ]
  },
  {
   "cell_type": "code",
   "execution_count": 9,
   "id": "1f2085b9-0dba-40a0-bf18-9621289ffca0",
   "metadata": {},
   "outputs": [
    {
     "name": "stdout",
     "output_type": "stream",
     "text": [
      "['sudh', 'naik']\n"
     ]
    }
   ],
   "source": [
    "#with he help of object we can access mentor_class method\n",
    "pw1.mentor_class([\"sudh\" , \"naik\"])"
   ]
  },
  {
   "cell_type": "code",
   "execution_count": 10,
   "id": "10d5501a-4460-4f4b-b391-f2fb0dfa032b",
   "metadata": {},
   "outputs": [
    {
     "name": "stdout",
     "output_type": "stream",
     "text": [
      "['sudh', 'kris']\n"
     ]
    }
   ],
   "source": [
    "#with the help of class name[pwskills1] we can access mentor_class\n",
    "pwskills1.mentor_class([\"sudh\" , \"kris\"])"
   ]
  },
  {
   "cell_type": "code",
   "execution_count": 11,
   "id": "444133f4-1160-45e5-81d0-13fea6b91279",
   "metadata": {},
   "outputs": [],
   "source": [
    "class pwskills1:\n",
    "    def student_details(self , name , mail_id , number) : \n",
    "        print(name , mail_id, number)\n",
    "        \n",
    "    @staticmethod\n",
    "    def mentor_mail_id(mail_id):\n",
    "        print(mail_id)\n",
    "        \n",
    "    @staticmethod\n",
    "    def mentor_class(list_mentor) : \n",
    "        print(list_mentor)\n",
    "        pwskills1.mentor_mail_id([\"krish@gmail.com\" , \"sudh@gmail.com\"])\n",
    "        \n",
    "    @classmethod\n",
    "    def class_name(cls,class_name):\n",
    "        cls.mentor_class([\"sudh\" , \"krish\"])\n",
    "        \n",
    "    def mentor(self , mentor_list) :\n",
    "        print(mentor_list)\n",
    "        self.mentor_class([\"krish\" , \"sudh\"])"
   ]
  },
  {
   "cell_type": "code",
   "execution_count": 12,
   "id": "de2ef83d-6a58-42dd-8692-63634e377e37",
   "metadata": {},
   "outputs": [],
   "source": [
    "pw1 = pwskills1()"
   ]
  },
  {
   "cell_type": "code",
   "execution_count": 13,
   "id": "2f84a6fa-726d-4395-9c1d-d743e6cb7274",
   "metadata": {},
   "outputs": [
    {
     "name": "stdout",
     "output_type": "stream",
     "text": [
      "mohan mohan@gmail.com 9675657657\n"
     ]
    }
   ],
   "source": [
    "pw1.student_details(\"mohan\" , \"mohan@gmail.com\" , 9675657657)"
   ]
  },
  {
   "cell_type": "code",
   "execution_count": 25,
   "id": "e21b63cc-fbd1-4147-b184-347bc17a97e9",
   "metadata": {},
   "outputs": [
    {
     "name": "stdout",
     "output_type": "stream",
     "text": [
      "['krish@gmail.com', 'sudh@gmail.com']\n"
     ]
    }
   ],
   "source": [
    "pw1.mentor_mail_id([\"krish@gmail.com\" , \"sudh@gmail.com\"])"
   ]
  },
  {
   "cell_type": "code",
   "execution_count": 26,
   "id": "b964530b-d86e-4dd5-a239-ac2dcd58d750",
   "metadata": {},
   "outputs": [
    {
     "name": "stdout",
     "output_type": "stream",
     "text": [
      "['sudh', 'krish']\n",
      "['krish@gmail.com', 'sudh@gmail.com']\n"
     ]
    }
   ],
   "source": [
    "pw1.class_name(\"data science masters\")"
   ]
  },
  {
   "cell_type": "code",
   "execution_count": 15,
   "id": "d2edacf3-91cb-44de-a8b6-b802e6e1442b",
   "metadata": {},
   "outputs": [
    {
     "name": "stdout",
     "output_type": "stream",
     "text": [
      "['krish@gmail.com', 'sudh@gmail.com']\n"
     ]
    }
   ],
   "source": [
    "pwskills1.mentor_mail_id([\"krish@gmail.com\" , \"sudh@gmail.com\"])"
   ]
  }
 ],
 "metadata": {
  "kernelspec": {
   "display_name": "Python 3 (ipykernel)",
   "language": "python",
   "name": "python3"
  },
  "language_info": {
   "codemirror_mode": {
    "name": "ipython",
    "version": 3
   },
   "file_extension": ".py",
   "mimetype": "text/x-python",
   "name": "python",
   "nbconvert_exporter": "python",
   "pygments_lexer": "ipython3",
   "version": "3.10.8"
  }
 },
 "nbformat": 4,
 "nbformat_minor": 5
}
