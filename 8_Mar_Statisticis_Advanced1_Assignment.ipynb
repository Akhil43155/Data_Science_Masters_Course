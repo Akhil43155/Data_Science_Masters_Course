{
 "cells": [
  {
   "cell_type": "markdown",
   "id": "afb040ea-d5e0-4962-b9f3-f43f30954813",
   "metadata": {},
   "source": [
    "### Q1. What is the Probability density function?"
   ]
  },
  {
   "cell_type": "markdown",
   "id": "2bdb95af-8df9-459c-b40f-18d223b7b4d8",
   "metadata": {},
   "source": [
    "The Probability Density Function (PDF) is a function that describes the relative likelihood of a random variable taking on a particular value or range of values. It is used in probability theory to describe the distribution of a continuous random variable.\n",
    "\n",
    "The PDF is defined as the derivative of the cumulative distribution function (CDF), which gives the probability that the random variable takes a value less than or equal to a given value. Mathematically, the PDF of a continuous random variable X is denoted as f(x) and is given by:\n",
    "\n",
    "f(x) = dF(x)/dx\n",
    "\n",
    "where F(x) is the CDF of X.\n",
    "\n",
    "The PDF is a non-negative function, and the total area under the PDF curve is equal to 1, as the total probability of all possible outcomes must equal 1. The PDF can be used to calculate the probability that the random variable falls within a specific range of values by integrating the PDF over that range.\n",
    "\n",
    "The PDF is a fundamental concept in probability theory and is used extensively in fields such as statistics, physics, engineering, and finance."
   ]
  },
  {
   "cell_type": "markdown",
   "id": "56dce937-9b03-4c59-844f-61f5c4e2ba93",
   "metadata": {},
   "source": [
    "### Q2. What are the types of Probability distribution?"
   ]
  },
  {
   "cell_type": "markdown",
   "id": "7950561e-80b4-48a7-b8d0-659501fc60d4",
   "metadata": {},
   "source": [
    "There are several types of probability distributions, each of which has its own unique characteristics and applications. Some of the most commonly used probability distributions are:\n",
    "\n",
    "Normal Distribution: The normal distribution, also known as the Gaussian distribution, is a continuous probability distribution that is often used to model natural phenomena. It is symmetric, bell-shaped, and defined by two parameters: the mean (μ) and the standard deviation (σ).\n",
    "\n",
    "Binomial Distribution: The binomial distribution is a discrete probability distribution that describes the number of successes in a fixed number of independent trials with two possible outcomes (usually denoted as success or failure). It is characterized by two parameters: the probability of success (p) and the number of trials (n).\n",
    "\n",
    "Poisson Distribution: The Poisson distribution is a discrete probability distribution that describes the number of events occurring in a fixed interval of time or space. It is often used to model rare events such as accidents, breakdowns, or defects. It is characterized by a single parameter, λ, which represents the average number of events per unit of time or space.\n",
    "\n",
    "Exponential Distribution: The exponential distribution is a continuous probability distribution that describes the time between two successive events occurring randomly and independently of each other. It is often used to model the lifetime of products or components. It is characterized by a single parameter, λ, which represents the rate at which events occur.\n",
    "\n",
    "Gamma Distribution: The gamma distribution is a continuous probability distribution that generalizes both the exponential and chi-square distributions. It is often used to model waiting times, failure rates, or queuing systems. It is characterized by two parameters: shape (α) and scale (β).\n",
    "\n",
    "Uniform Distribution: The uniform distribution is a continuous probability distribution that assigns equal probability to all values within a given interval. It is often used to model situations where all outcomes are equally likely. It is characterized by two parameters: the minimum value (a) and the maximum value (b).\n",
    "\n",
    "These are just a few examples of the many probability distributions that exist. Each distribution has its own unique properties and applications, and the choice of distribution depends on the nature of the problem being studied."
   ]
  },
  {
   "cell_type": "markdown",
   "id": "e6293d68-2c1b-442e-b27a-8980e4130a57",
   "metadata": {},
   "source": [
    "### Q3. Write a Python function to calculate the probability density function of a normal distribution with\n",
    "given mean and standard deviation at a given point."
   ]
  },
  {
   "cell_type": "code",
   "execution_count": 3,
   "id": "94c96c3e-f7fc-4747-b3a9-39f9255ceadc",
   "metadata": {},
   "outputs": [],
   "source": [
    "import math\n",
    "\n",
    "def normal_pdf(x, mu, sigma):\n",
    "    \"\"\"\n",
    "    Calculates the PDF of a normal distribution with mean mu and standard deviation sigma at point x.\n",
    "    \"\"\"\n",
    "    exponent = -((x - mu) ** 2) / (2 * sigma ** 2)\n",
    "    denominator = sigma * math.sqrt(2 * math.pi)\n",
    "    pdf = (1 / denominator) * math.exp(exponent)\n",
    "    return pdf\n"
   ]
  },
  {
   "cell_type": "markdown",
   "id": "834d5e7d-fd1b-46c0-9629-ab06c1604fc1",
   "metadata": {},
   "source": [
    "The function takes three arguments:\n",
    "\n",
    "x: the point at which to calculate the PDF\n",
    "mu: the mean of the normal distribution\n",
    "sigma: the standard deviation of the normal distribution\n",
    "It uses the formula for the PDF of a normal distribution:\n",
    "\n",
    "Normal PDF Formula\n",
    "\n",
    "where μ is the mean, σ is the standard deviation, x is the point at which to calculate the PDF, e is the mathematical constant e, and π is the mathematical constant pi.\n",
    "\n",
    "The function returns the PDF of the normal distribution at the given point x."
   ]
  },
  {
   "cell_type": "markdown",
   "id": "d671903d-d0f7-49b2-991b-1f397f0a1a63",
   "metadata": {},
   "source": [
    "### Q4. What are the properties of Binomial distribution? Give two examples of events where binomial\n",
    "distribution can be applied."
   ]
  },
  {
   "cell_type": "markdown",
   "id": "181dab26-7b5a-424a-8306-cca77cf31173",
   "metadata": {},
   "source": [
    "Properties of Binomial distribution:\n",
    "\n",
    "The binomial distribution is a discrete probability distribution that describes the number of successes in a fixed number of independent trials with two possible outcomes (usually denoted as success or failure).\n",
    "Each trial in the binomial distribution is independent and has the same probability of success (denoted as p).\n",
    "The binomial distribution is characterized by two parameters: the probability of success (p) and the number of trials (n).\n",
    "The mean (μ) of the binomial distribution is equal to n * p, and the variance (σ^2) is equal to n * p * (1 - p).\n",
    "The shape of the binomial distribution becomes more symmetric as the number of trials increases, and it approaches a normal distribution as the number of trials becomes large.\n",
    "Two examples of events where binomial distribution can be applied are:\n",
    "\n",
    "Tossing a coin: When a coin is tossed, there are two possible outcomes: heads or tails. If we conduct a fixed number of independent coin tosses and count the number of heads, we can model the distribution of the number of heads using a binomial distribution.\n",
    "\n",
    "Manufacturing defects: In a manufacturing process, each item produced may have a defect or not have a defect. If we conduct a fixed number of independent inspections and count the number of items with defects, we can model the distribution of the number of defects using a binomial distribution. This can help us to estimate the percentage of defective items in a larger batch of items produced."
   ]
  },
  {
   "cell_type": "markdown",
   "id": "ba756971-8214-418d-9a36-de6363e716a9",
   "metadata": {},
   "source": [
    "### Q5. Generate a random sample of size 1000 from a binomial distribution with probability of success 0.4\n",
    "and plot a histogram of the results using matplotlib."
   ]
  },
  {
   "cell_type": "code",
   "execution_count": 4,
   "id": "cc9d45d1-dbca-4e63-9aa2-ed6d71b7343c",
   "metadata": {},
   "outputs": [
    {
     "data": {
      "image/png": "[encoded data removed]",
      "text/plain": [
       "<Figure size 640x480 with 1 Axes>"
      ]
     },
     "metadata": {},
     "output_type": "display_data"
    }
   ],
   "source": [
    "import numpy as np\n",
    "import matplotlib.pyplot as plt\n",
    "\n",
    "# Set the parameters of the binomial distribution\n",
    "n = 100    # number of trials\n",
    "p = 0.4    # probability of success\n",
    "\n",
    "# Generate a random sample of size 1000 from the binomial distribution\n",
    "sample = np.random.binomial(n, p, 1000)\n",
    "\n",
    "# Plot a histogram of the sample\n",
    "plt.hist(sample, bins=range(0, n+1), align='left', alpha=0.5)\n",
    "plt.xlabel('Number of successes')\n",
    "plt.ylabel('Frequency')\n",
    "plt.title('Histogram of Binomial Distribution')\n",
    "plt.show()\n"
   ]
  },
  {
   "cell_type": "markdown",
   "id": "ab165b03-35ac-4ef8-b439-44db54fe89e1",
   "metadata": {},
   "source": [
    "In this code, we first set the parameters of the binomial distribution: n is the number of trials (in this case, 100), and p is the probability of success (in this case, 0.4).\n",
    "\n",
    "We then generate a random sample of size 1000 from the binomial distribution using the np.random.binomial function from the NumPy library.\n",
    "\n",
    "Finally, we plot a histogram of the sample using the plt.hist function from the matplotlib library. The bins argument specifies the bins to use for the histogram (in this case, we use bins corresponding to the possible number of successes in n trials), and the alpha argument sets the transparency of the bars in the histogram to 0.5. The xlabel, ylabel, and title functions are used to label the axes and title of the plot. The plt.show function is used to display the plot."
   ]
  },
  {
   "cell_type": "markdown",
   "id": "d96dd8a7-3f09-4418-ab82-ff62b916059b",
   "metadata": {},
   "source": [
    "### Q6. Write a Python function to calculate the cumulative distribution function of a Poisson distribution\n",
    "with given mean at a given point."
   ]
  },
  {
   "cell_type": "code",
   "execution_count": 5,
   "id": "262d35a4-6bfc-45bd-b06f-7c65b346a0b0",
   "metadata": {},
   "outputs": [],
   "source": [
    "import math\n",
    "\n",
    "def poisson_cdf(x, mu):\n",
    "    \"\"\"\n",
    "    Calculates the CDF of a Poisson distribution with mean mu at point x.\n",
    "    \"\"\"\n",
    "    cdf = 0\n",
    "    for k in range(x+1):\n",
    "        cdf += ((mu ** k) / math.factorial(k)) * math.exp(-mu)\n",
    "    return cdf\n"
   ]
  },
  {
   "cell_type": "markdown",
   "id": "59bc55f3-8e0e-4bcf-a155-7512be407891",
   "metadata": {},
   "source": [
    "The function takes two arguments:\n",
    "\n",
    "x: the point at which to calculate the CDF\n",
    "mu: the mean of the Poisson distribution\n",
    "It uses the formula for the CDF of a Poisson distribution:\n",
    "\n",
    "Poisson CDF Formula\n",
    "\n",
    "where μ is the mean of the Poisson distribution, k is the number of occurrences, e is the mathematical constant e, and Σ is the summation symbol.\n",
    "\n",
    "The function calculates the CDF of the Poisson distribution by summing the probabilities of all possible outcomes up to the given point x. It does this using a loop that iterates over all possible values of k from 0 to x, and calculates the probability of each outcome using the Poisson distribution formula. The function returns the CDF of the Poisson distribution at the given point x."
   ]
  },
  {
   "cell_type": "markdown",
   "id": "79e51e99-4bea-4f2c-b711-b1a619137264",
   "metadata": {},
   "source": [
    "### Q7. How Binomial distribution different from Poisson distribution?"
   ]
  },
  {
   "cell_type": "markdown",
   "id": "3ee34aee-174f-4ab2-b66d-f02fde1f3d2d",
   "metadata": {},
   "source": [
    "Binomial and Poisson distributions are both discrete probability distributions that deal with the number of events occurring within a certain interval or number of trials. However, there are some key differences between these two distributions:\n",
    "\n",
    "Number of Trials: The Binomial distribution deals with a fixed number of independent trials with two possible outcomes (usually denoted as success or failure), whereas the Poisson distribution deals with the number of events occurring in a fixed interval of time or space.\n",
    "\n",
    "Probability of Success: In a Binomial distribution, the probability of success is constant for each trial, whereas in a Poisson distribution, the probability of an event occurring is constant over time or space.\n",
    "\n",
    "Shape: The shape of a Binomial distribution is usually symmetric and bell-shaped, while the shape of a Poisson distribution is skewed to the right.\n",
    "\n",
    "Mean and Variance: For a Binomial distribution, the mean (μ) is equal to n * p, where n is the number of trials and p is the probability of success. The variance (σ^2) is equal to n * p * (1 - p). In a Poisson distribution, the mean (μ) and variance (σ^2) are equal and are both equal to λ, the rate parameter.\n",
    "\n",
    "Limiting Cases: A Poisson distribution can be seen as a limiting case of a Binomial distribution as the number of trials becomes very large and the probability of success becomes very small.\n",
    "\n",
    "In summary, while both the Binomial and Poisson distributions deal with the probability of an event occurring, they differ in the context in which they are used, the probability of success, shape, and mean and variance.\n",
    "\n",
    "\n",
    "\n",
    "\n"
   ]
  },
  {
   "cell_type": "markdown",
   "id": "efe2db18-92cb-4041-934e-4375cb5c2c2f",
   "metadata": {},
   "source": [
    "### Q8. Generate a random sample of size 1000 from a Poisson distribution with mean 5 and calculate the\n",
    "sample mean and variance."
   ]
  },
  {
   "cell_type": "code",
   "execution_count": 6,
   "id": "e2b402aa-88e3-4abb-9490-8fd77513d86f",
   "metadata": {},
   "outputs": [
    {
     "name": "stdout",
     "output_type": "stream",
     "text": [
      "Sample Mean: 5.018\n",
      "Sample Variance: 4.951676\n"
     ]
    }
   ],
   "source": [
    "import numpy as np\n",
    "\n",
    "# Generate a random sample of size 1000 from a Poisson distribution with mean 5\n",
    "sample = np.random.poisson(lam=5, size=1000)\n",
    "\n",
    "# Calculate the sample mean and variance\n",
    "sample_mean = np.mean(sample)\n",
    "sample_var = np.var(sample)\n",
    "\n",
    "print(\"Sample Mean:\", sample_mean)\n",
    "print(\"Sample Variance:\", sample_var)\n"
   ]
  },
  {
   "cell_type": "markdown",
   "id": "b3696aff-b1ae-47ff-b854-051d2e842c36",
   "metadata": {},
   "source": [
    "### Q9. How mean and variance are related in Binomial distribution and Poisson distribution?"
   ]
  },
  {
   "cell_type": "markdown",
   "id": "1621ca66-c407-4014-b1ed-c0b58ec05bc6",
   "metadata": {},
   "source": [
    "In a Binomial distribution, the mean (μ) and variance (σ^2) are related by the following formula:\n",
    "\n",
    "\n",
    "μ = n * p\n",
    "σ^2 = n * p * (1 - p)\n",
    "\n",
    "where n is the number of trials and p is the probability of success.\n",
    "\n",
    "In a Poisson distribution, the mean (μ) and variance (σ^2) are equal and are both equal to λ, the rate parameter:\n",
    "\n",
    "\n",
    "μ = σ^2 = λ\n",
    "\n",
    "This means that in both the Binomial and Poisson distributions, the mean and variance are directly related to the parameters that define the distributions. In the Binomial distribution, the mean and variance depend on the number of trials and the probability of success, while in the Poisson distribution, the mean and variance depend on the rate parameter.\n",
    "\n",
    "In the Binomial distribution, the variance increases as the probability of success moves away from 0.5 towards either 0 or 1. This means that if the probability of success is very small or very large, the Binomial distribution becomes increasingly skewed, with a long tail on one side.\n",
    "\n",
    "In the Poisson distribution, the variance is equal to the mean, regardless of the value of the rate parameter. This means that the Poisson distribution is always unimodal and symmetric, with a single peak at the mean value."
   ]
  },
  {
   "cell_type": "markdown",
   "id": "dd8e5336-f812-4a5c-bdfb-4e57375da181",
   "metadata": {},
   "source": [
    "### Q10. In normal distribution with respect to mean position, where does the least frequent data appear?"
   ]
  },
  {
   "cell_type": "markdown",
   "id": "7047d4a5-9bb6-443d-9c13-1318fc891d36",
   "metadata": {},
   "source": [
    "In a normal distribution, the least frequent data appears at the tails of the distribution, which are the regions farthest away from the mean. The normal distribution is a bell-shaped curve that is symmetric around the mean, and as you move away from the mean in either direction, the frequency of the data decreases rapidly.\n",
    "\n",
    "The specific point at which the least frequent data appears will depend on the standard deviation of the distribution. The standard deviation determines the spread of the data around the mean, and the tails of the distribution become increasingly rare as you move further away from the mean by a distance of a multiple of the standard deviation.\n",
    "\n",
    "For example, in a standard normal distribution (i.e., a normal distribution with a mean of 0 and a standard deviation of 1), the least frequent data appears at the tails, which are located at z-scores of -2.33 and +2.33. The probability of obtaining a value beyond these z-scores is approximately 0.01, which means that only 1% of the data in a standard normal distribution will fall outside this range."
   ]
  },
  {
   "cell_type": "code",
   "execution_count": null,
   "id": "57f48d3f-844b-4029-ab3d-55a607b99600",
   "metadata": {},
   "outputs": [],
   "source": []
  },
  {
   "cell_type": "code",
   "execution_count": null,
   "id": "aa98bc4c-ffb9-4477-8f01-5e4d4b4b49bc",
   "metadata": {},
   "outputs": [],
   "source": []
  },
  {
   "cell_type": "code",
   "execution_count": null,
   "id": "0194542c-0176-42bb-885d-5c06876affbc",
   "metadata": {},
   "outputs": [],
   "source": []
  },
  {
   "cell_type": "code",
   "execution_count": null,
   "id": "75f265a4-eea9-4855-a364-ec9e9f3706c6",
   "metadata": {},
   "outputs": [],
   "source": []
  },
  {
   "cell_type": "code",
   "execution_count": null,
   "id": "3143dc99-3467-4733-83ef-63985a7f7768",
   "metadata": {},
   "outputs": [],
   "source": []
  },
  {
   "cell_type": "code",
   "execution_count": null,
   "id": "a65f5cc4-b046-493f-b2d7-5ca24bf6bf6a",
   "metadata": {},
   "outputs": [],
   "source": []
  },
  {
   "cell_type": "code",
   "execution_count": null,
   "id": "6ef3ca63-8d72-44fd-9082-451feddad824",
   "metadata": {},
   "outputs": [],
   "source": []
  },
  {
   "cell_type": "code",
   "execution_count": null,
   "id": "ef957d11-8c79-434d-a005-6c2f71498715",
   "metadata": {},
   "outputs": [],
   "source": []
  },
  {
   "cell_type": "code",
   "execution_count": null,
   "id": "deac4fba-8a79-4da9-9d45-9b5b155361cd",
   "metadata": {},
   "outputs": [],
   "source": []
  },
  {
   "cell_type": "code",
   "execution_count": null,
   "id": "db82565b-9e19-49ae-adb7-e2c7f7938166",
   "metadata": {},
   "outputs": [],
   "source": []
  },
  {
   "cell_type": "code",
   "execution_count": null,
   "id": "5d4a7efd-3699-445f-be67-70b656086af4",
   "metadata": {},
   "outputs": [],
   "source": []
  },
  {
   "cell_type": "code",
   "execution_count": null,
   "id": "06025d76-3608-4021-a243-406144df4a8f",
   "metadata": {},
   "outputs": [],
   "source": []
  },
  {
   "cell_type": "code",
   "execution_count": null,
   "id": "8980a586-a818-463b-a2ab-872861fe145c",
   "metadata": {},
   "outputs": [],
   "source": []
  },
  {
   "cell_type": "code",
   "execution_count": null,
   "id": "3e7105f2-1e14-446b-b4db-4c6af6055bba",
   "metadata": {},
   "outputs": [],
   "source": []
  },
  {
   "cell_type": "code",
   "execution_count": null,
   "id": "7305ce11-e3c6-4854-af94-77e125deda0e",
   "metadata": {},
   "outputs": [],
   "source": []
  },
  {
   "cell_type": "code",
   "execution_count": null,
   "id": "24bdfd27-eb05-40c7-b8b4-322dfe8f6a57",
   "metadata": {},
   "outputs": [],
   "source": []
  },
  {
   "cell_type": "code",
   "execution_count": null,
   "id": "c2526614-a718-4748-851b-0fc8aa5b082b",
   "metadata": {},
   "outputs": [],
   "source": []
  },
  {
   "cell_type": "code",
   "execution_count": null,
   "id": "3bdabe59-817a-4c05-b073-9ec0d3779857",
   "metadata": {},
   "outputs": [],
   "source": []
  },
  {
   "cell_type": "code",
   "execution_count": null,
   "id": "3cb779cc-9471-4ef2-b5da-467e9cf07a7f",
   "metadata": {},
   "outputs": [],
   "source": []
  },
  {
   "cell_type": "code",
   "execution_count": null,
   "id": "72854cd5-305f-4499-aec2-05238d7be947",
   "metadata": {},
   "outputs": [],
   "source": []
  },
  {
   "cell_type": "code",
   "execution_count": null,
   "id": "18161e04-5ed8-4809-b523-b8129a0f2697",
   "metadata": {},
   "outputs": [],
   "source": []
  },
  {
   "cell_type": "code",
   "execution_count": null,
   "id": "ab87baae-4a8a-4a31-81fc-2bc2e36d6a57",
   "metadata": {},
   "outputs": [],
   "source": []
  },
  {
   "cell_type": "code",
   "execution_count": null,
   "id": "a0f528d5-c010-4884-95ea-26cbd8ad81f9",
   "metadata": {},
   "outputs": [],
   "source": []
  },
  {
   "cell_type": "code",
   "execution_count": null,
   "id": "356927b8-4a2a-4e45-8bc9-1c441c5fd78a",
   "metadata": {},
   "outputs": [],
   "source": []
  },
  {
   "cell_type": "code",
   "execution_count": null,
   "id": "1cbdaa95-e123-4381-af82-e239736070c9",
   "metadata": {},
   "outputs": [],
   "source": []
  },
  {
   "cell_type": "code",
   "execution_count": null,
   "id": "55b6b36d-0748-4146-8de2-e5b8c59e859c",
   "metadata": {},
   "outputs": [],
   "source": []
  }
 ],
 "metadata": {
  "kernelspec": {
   "display_name": "Python 3 (ipykernel)",
   "language": "python",
   "name": "python3"
  },
  "language_info": {
   "codemirror_mode": {
    "name": "ipython",
    "version": 3
   },
   "file_extension": ".py",
   "mimetype": "text/x-python",
   "name": "python",
   "nbconvert_exporter": "python",
   "pygments_lexer": "ipython3",
   "version": "3.10.8"
  }
 },
 "nbformat": 4,
 "nbformat_minor": 5
}
