{
 "cells": [
  {
   "cell_type": "markdown",
   "id": "1fd6f46e-8548-4023-9b1e-d02c2a23c396",
   "metadata": {},
   "source": [
    "Consider the below code to answer further questions:\n",
    "\n",
    "\n",
    "import numpy as np\n",
    "\n",
    "list_ = [ ‘1’ , ’2’ , ‘3’ , ‘4’ , ‘5’ ]\n",
    "\n",
    "array_list = np.array(object = list_)"
   ]
  },
  {
   "cell_type": "markdown",
   "id": "3de5e6c5-16be-45bf-a486-531b1c243bdb",
   "metadata": {},
   "source": [
    "#### Q1. Is there any difference in the data type of variables list_ and array_list? If there is then write a code\n",
    "to print the data types of both the variables."
   ]
  },
  {
   "cell_type": "markdown",
   "id": "c372e3a2-8411-440d-a5c6-83850fe4c1f9",
   "metadata": {},
   "source": [
    "Yes, there is a difference in the data type of the \"list_\" variable and the \"array_list\" variable. The \"list_\" variable is a Python list, whereas the \"array_list\" variable is a NumPy array.\n",
    "\n",
    "To print the data types of both variables, we can use the type() function in Python, as follows:"
   ]
  },
  {
   "cell_type": "code",
   "execution_count": 2,
   "id": "8148665f-60e9-43d6-ad1d-f17a3d9e0f5a",
   "metadata": {},
   "outputs": [
    {
     "name": "stdout",
     "output_type": "stream",
     "text": [
      "<class 'list'>\n",
      "<class 'numpy.ndarray'>\n"
     ]
    }
   ],
   "source": [
    "import numpy as np\n",
    "\n",
    "list_ = ['1', '2', '3', '4', '5']\n",
    "array_list = np.array(object=list_)\n",
    "\n",
    "print(type(list_))\n",
    "print(type(array_list))\n"
   ]
  },
  {
   "cell_type": "markdown",
   "id": "3e255ca4-7a7a-4ce2-938d-8f7773b96ae2",
   "metadata": {},
   "source": [
    "#### Q2. Write a code to print the data type of each and every element of both the variables list_ and\n",
    "arra_list."
   ]
  },
  {
   "cell_type": "markdown",
   "id": "ad83c69a-d022-4492-9294-e3e4418cc943",
   "metadata": {},
   "source": [
    "To print the data type of each and every element of the \"list_\" variable, we can use a for loop to iterate over the elements of the list and print the data type of each element using the type() function, as follows:"
   ]
  },
  {
   "cell_type": "code",
   "execution_count": 3,
   "id": "1c064993-7e31-4886-bb36-c0876ba3be7f",
   "metadata": {},
   "outputs": [
    {
     "name": "stdout",
     "output_type": "stream",
     "text": [
      "<class 'str'>\n",
      "<class 'str'>\n",
      "<class 'str'>\n",
      "<class 'str'>\n",
      "<class 'str'>\n"
     ]
    }
   ],
   "source": [
    "list_ = ['1', '2', '3', '4', '5']\n",
    "\n",
    "for elem in list_:\n",
    "    print(type(elem))\n"
   ]
  },
  {
   "cell_type": "markdown",
   "id": "3c0be416-9f65-4118-ae7d-753c0b93c58f",
   "metadata": {},
   "source": [
    "As we can see, each element of the \"list_\" variable is a string.\n",
    "\n",
    "To print the data type of each and every element of the \"array_list\" variable, we can use the dtype attribute of the NumPy array, as follows:"
   ]
  },
  {
   "cell_type": "code",
   "execution_count": 4,
   "id": "05fb71b7-3c5f-4461-bbff-e8068d99c053",
   "metadata": {},
   "outputs": [
    {
     "name": "stdout",
     "output_type": "stream",
     "text": [
      "<U1\n"
     ]
    }
   ],
   "source": [
    "import numpy as np\n",
    "\n",
    "list_ = ['1', '2', '3', '4', '5']\n",
    "array_list = np.array(object=list_)\n",
    "\n",
    "print(array_list.dtype)\n",
    "\n",
    "#As we can see, the data type of each element of the \"array_list\" variable is a Unicode string of length 1 (i.e., each element is a single character string)."
   ]
  },
  {
   "cell_type": "markdown",
   "id": "d9634b0d-2a76-488f-bac5-1c2ff3ebb67e",
   "metadata": {},
   "source": [
    "Q3. Considering the following changes in the variable, array_list:\n",
    "\n",
    "array_list = np.array(object = list_, dtype = int)\n",
    "\n",
    "Will there be any difference in the data type of the elements present in both the variables, list_ and\n",
    "arra_list? If so then print the data types of each and every element present in both the variables, list_\n",
    "and arra_list.\n",
    "\n",
    "Consider the below code to answer further questions:\n",
    "\n",
    "import numpy as np\n",
    "\n",
    "num_list = [ [ 1 , 2 , 3 ] , [ 4 , 5 , 6 ] ]\n",
    "\n",
    "num_array = np.array(object = num_list)"
   ]
  },
  {
   "cell_type": "markdown",
   "id": "76673c3d-9204-493c-a9b5-1cbe3a61e44d",
   "metadata": {},
   "source": [
    "Yes, there will be a difference in the data type of the elements present in both the variables \"list_\" and \"array_list\" after making the change:"
   ]
  },
  {
   "cell_type": "code",
   "execution_count": 5,
   "id": "f856a750-062f-48f6-bcd9-5bbe0c99de77",
   "metadata": {},
   "outputs": [],
   "source": [
    "array_list = np.array(object=list_, dtype=int)\n"
   ]
  },
  {
   "cell_type": "markdown",
   "id": "db14332d-5376-498f-9fb5-0a382dfa3745",
   "metadata": {},
   "source": [
    "In this line of code, we are explicitly specifying the data type of the NumPy array as \"int\" using the \"dtype\" parameter. Therefore, each element of the NumPy array will be converted to an integer.\n",
    "\n",
    "To print the data types of each and every element present in both the variables \"list_\" and \"array_list\", we can use the same approach as before, i.e., using a for loop to iterate over the elements of the list and print the data type of each element using the type() function:"
   ]
  },
  {
   "cell_type": "code",
   "execution_count": 6,
   "id": "060a301a-af02-46f1-bcbf-56fc0bb54fb6",
   "metadata": {},
   "outputs": [
    {
     "name": "stdout",
     "output_type": "stream",
     "text": [
      "<class 'str'>\n",
      "<class 'str'>\n",
      "<class 'str'>\n",
      "<class 'str'>\n",
      "<class 'str'>\n",
      "<class 'numpy.int64'>\n",
      "<class 'numpy.int64'>\n",
      "<class 'numpy.int64'>\n",
      "<class 'numpy.int64'>\n",
      "<class 'numpy.int64'>\n"
     ]
    }
   ],
   "source": [
    "list_ = ['1', '2', '3', '4', '5']\n",
    "array_list = np.array(object=list_, dtype=int)\n",
    "\n",
    "for elem in list_:\n",
    "    print(type(elem))\n",
    "    \n",
    "for elem in array_list:\n",
    "    print(type(elem))\n"
   ]
  },
  {
   "cell_type": "markdown",
   "id": "1807b5a9-0cb1-4fd9-9d84-dafd171b8fd2",
   "metadata": {},
   "source": [
    "As we can see, each element of the original \"list_\" variable is a string, while each element of the modified \"array_list\" variable is an integer.\n",
    "\n",
    "Regarding the second code snippet, the code creates a NumPy array called \"num_array\" by converting a Python list called \"num_list\" to a NumPy array. The \"num_list\" variable contains a list of lists, which represents a 2-dimensional array. The NumPy array is created using the np.array() function from the NumPy library, and the Python list is passed as the input argument to this function using the \"object\" parameter."
   ]
  },
  {
   "cell_type": "markdown",
   "id": "48703724-8cad-41cd-9c52-60194f902a12",
   "metadata": {},
   "source": [
    "#### Q4. Write a code to find the following characteristics of variable, num_array:\n",
    "(i) shape\n",
    "(ii) size"
   ]
  },
  {
   "cell_type": "code",
   "execution_count": 7,
   "id": "2b1ea7eb-cb2e-427b-896a-133f16734e61",
   "metadata": {},
   "outputs": [
    {
     "name": "stdout",
     "output_type": "stream",
     "text": [
      "Shape of num_array: (2, 3)\n",
      "Size of num_array: 6\n"
     ]
    }
   ],
   "source": [
    "import numpy as np\n",
    "\n",
    "num_list = [[1, 2, 3], [4, 5, 6]]\n",
    "num_array = np.array(object=num_list)\n",
    "\n",
    "print(\"Shape of num_array:\", num_array.shape)\n",
    "print(\"Size of num_array:\", num_array.size)\n",
    "\n"
   ]
  },
  {
   "cell_type": "markdown",
   "id": "2792d4e4-e05d-4c9e-a6d6-7affda7922b1",
   "metadata": {},
   "source": [
    "As we can see, the shape of the \"num_array\" variable is a tuple (2, 3), which indicates that it has 2 rows and 3 columns. The size of the \"num_array\" variable is 6, which is the total number of elements in the array."
   ]
  },
  {
   "cell_type": "markdown",
   "id": "3735f984-8745-4031-a015-38b673db152a",
   "metadata": {},
   "source": [
    "#### Q5. Write a code to create numpy array of 3*3 matrix containing zeros only, using a numpy array\n",
    "creation function.\n",
    "\n",
    "[Hint: The size of the array will be 9 and the shape will be (3,3).]"
   ]
  },
  {
   "cell_type": "code",
   "execution_count": 8,
   "id": "8a1c5c42-346c-4d50-b2c6-737f5f62baed",
   "metadata": {},
   "outputs": [
    {
     "name": "stdout",
     "output_type": "stream",
     "text": [
      "[[0. 0. 0.]\n",
      " [0. 0. 0.]\n",
      " [0. 0. 0.]]\n"
     ]
    }
   ],
   "source": [
    "import numpy as np\n",
    "\n",
    "zeros_array = np.zeros((3,3))\n",
    "print(zeros_array)\n"
   ]
  },
  {
   "cell_type": "markdown",
   "id": "d294f936-97e8-49ca-b984-6df302557759",
   "metadata": {},
   "source": [
    "#### Q6. Create an identity matrix of shape (5,5) using numpy functions?\n",
    "\n",
    "[Hint: An identity matrix is a matrix containing 1 diagonally and other elements will be 0.]"
   ]
  },
  {
   "cell_type": "code",
   "execution_count": null,
   "id": "22b8e879-8839-47a3-ae55-10354168f739",
   "metadata": {},
   "outputs": [],
   "source": []
  }
 ],
 "metadata": {
  "kernelspec": {
   "display_name": "Python 3 (ipykernel)",
   "language": "python",
   "name": "python3"
  },
  "language_info": {
   "codemirror_mode": {
    "name": "ipython",
    "version": 3
   },
   "file_extension": ".py",
   "mimetype": "text/x-python",
   "name": "python",
   "nbconvert_exporter": "python",
   "pygments_lexer": "ipython3",
   "version": "3.10.8"
  }
 },
 "nbformat": 4,
 "nbformat_minor": 5
}
