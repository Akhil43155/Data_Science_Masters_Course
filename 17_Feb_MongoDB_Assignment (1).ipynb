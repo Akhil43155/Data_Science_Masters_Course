{
 "cells": [
  {
   "cell_type": "markdown",
   "id": "6c1cf12e-90e1-4143-a095-ae1d02b6b3cf",
   "metadata": {},
   "source": [
    "### Q1. What is MongoDB? Explain non-relational databases in short. In which scenarios it is preferred to use\n",
    "MongoDB over SQL databases?"
   ]
  },
  {
   "cell_type": "markdown",
   "id": "c2d7ef52-87b1-4c49-a250-1ef1346110f8",
   "metadata": {},
   "source": [
    "MongoDB is a popular NoSQL database that uses a document-oriented data model. It is designed to handle large volumes of structured, semi-structured, and unstructured data, making it a popular choice for modern web applications that require flexible data management.\n",
    "\n",
    "Non-relational databases, or NoSQL databases, are databases that do not use a traditional relational data model. Instead, they use various data models, such as document-oriented, key-value, column-family, or graph-based models, to store and manage data. Non-relational databases are often used when dealing with large-scale, complex, and dynamic data sets that are difficult to manage using traditional relational databases.\n",
    "\n",
    "MongoDB is preferred over SQL databases in several scenarios, including:\n",
    "\n",
    "Flexible data modeling: MongoDB's document-oriented data model is more flexible than SQL databases' rigid table-based data model, making it easier to store and manage complex, semi-structured, and unstructured data.\n",
    "\n",
    "Scalability: MongoDB is designed to be highly scalable, allowing for horizontal scaling across multiple nodes, making it easier to handle large volumes of data and high traffic loads.\n",
    "\n",
    "Performance: MongoDB's architecture is optimized for fast read and write operations, making it ideal for applications that require real-time data processing.\n",
    "\n",
    "Agile development: MongoDB's flexible data model and dynamic schema make it easier to iterate and make changes to an application's data structure, reducing the time and effort required for application development.\n",
    "\n",
    "Cloud-native: MongoDB is designed to run natively in cloud environments, making it easier to deploy, manage, and scale applications in the cloud.\n",
    "\n",
    "Overall, MongoDB is a popular choice for modern web applications that require flexible data management, high scalability, and real-time performance. However, SQL databases are still a good choice for applications that require strict data consistency, strong transaction support, and complex relational queries."
   ]
  },
  {
   "cell_type": "markdown",
   "id": "f7ba1bcb-6533-4957-9ed7-1b9176c944ba",
   "metadata": {},
   "source": [
    "### Q2. State and Explain the features of MongoDB."
   ]
  },
  {
   "cell_type": "markdown",
   "id": "0e50ff52-634f-4e4c-9184-5f626bfb57da",
   "metadata": {},
   "source": [
    "MongoDB is a popular NoSQL document-oriented database that is designed to handle large volumes of structured, semi-structured, and unstructured data. Some of the key features of MongoDB are:\n",
    "\n",
    "Document-oriented data model: MongoDB uses a document-oriented data model, which allows for flexible and dynamic schema design. Each document can have a unique structure and can contain nested documents and arrays.\n",
    "\n",
    "Scalability: MongoDB is designed to scale horizontally across multiple nodes, allowing for high availability and automatic load balancing. It also supports sharding, which allows for horizontal partitioning of data across multiple servers.\n",
    "\n",
    "High performance: MongoDB's architecture is optimized for high performance, with features like automatic indexing, in-memory storage, and support for parallel processing of queries.\n",
    "\n",
    "Rich query language: MongoDB's query language supports a wide range of query types, including queries by range, pattern, and geospatial data. It also supports complex aggregations, joins, and full-text search.\n",
    "\n",
    "Automatic failover: MongoDB's replica set architecture allows for automatic failover in the event of a primary node failure, ensuring high availability and data durability.\n",
    "\n",
    "Dynamic schema: MongoDB's dynamic schema allows for easy iteration and changes to the data structure, making it easier to adapt to changing business requirements.\n",
    "\n",
    "Developer-friendly: MongoDB is developer-friendly, with support for popular programming languages, such as Java, Python, and JavaScript, and a wide range of drivers and libraries.\n",
    "\n",
    "Overall, MongoDB's features make it a popular choice for modern web applications that require flexible data management, high scalability, and real-time performance."
   ]
  },
  {
   "cell_type": "markdown",
   "id": "94113268-f81d-473b-8115-c664bf74dc22",
   "metadata": {},
   "source": [
    "### Q3. Write a code to connect MongoDB to Python. Also, create a database and a collection in MongoDB."
   ]
  },
  {
   "cell_type": "markdown",
   "id": "c186e8b9-7194-43ec-99c5-55739afa6d55",
   "metadata": {},
   "source": [
    "To connect MongoDB to Python, you can use the PyMongo library, which is a Python driver for MongoDB. Here's an example code to connect to MongoDB and create a database and collection:"
   ]
  },
  {
   "cell_type": "code",
   "execution_count": null,
   "id": "f3c27c16-7b17-4a90-8b99-963c70aefac1",
   "metadata": {},
   "outputs": [],
   "source": [
    "import pymongo\n",
    "\n",
    "# establish a connection to the MongoDB server\n",
    "client = pymongo.MongoClient(\"mongodb://localhost:27017/\")\n",
    "\n",
    "# create a database\n",
    "mydb = client[\"mydatabase\"]\n",
    "\n",
    "# create a collection\n",
    "mycol = mydb[\"customers\"]\n",
    "\n",
    "# insert a document into the collection\n",
    "mydict = { \"name\": \"John\", \"address\": \"Highway 37\" }\n",
    "x = mycol.insert_one(mydict)\n",
    "\n",
    "# print the ID of the inserted document\n",
    "print(x.inserted_id)\n"
   ]
  },
  {
   "cell_type": "markdown",
   "id": "4c2013b0-2d0f-40a5-a56c-3ab0009b5e4c",
   "metadata": {},
   "source": [
    "In this example code, we first import the PyMongo library and then establish a connection to the MongoDB server running on the local machine on the default port (27017). We then create a database named \"mydatabase\" and a collection named \"customers\" within that database.\n",
    "\n",
    "Next, we insert a document into the collection using the insert_one() method, which returns an InsertOneResult object. We print the ID of the inserted document using the inserted_id attribute of the InsertOneResult object.\n",
    "\n",
    "Note that you'll need to have MongoDB installed and running on your local machine for this code to work. You'll also need to install the PyMongo library if you haven't already done so. You can do this by running the following command in your terminal or command prompt:"
   ]
  },
  {
   "cell_type": "code",
   "execution_count": null,
   "id": "497ae8a0-14f8-402b-8e53-4d953dd3cdf6",
   "metadata": {},
   "outputs": [],
   "source": [
    "pip install pymongo"
   ]
  },
  {
   "cell_type": "markdown",
   "id": "eeaea001-49f4-41a0-960c-d33685e32f5b",
   "metadata": {},
   "source": [
    "### Q4. Using the database and the collection created in question number 3, write a code to insert one record,\n",
    "and insert many records. Use the find() and find_one() methods to print the inserted record."
   ]
  },
  {
   "cell_type": "markdown",
   "id": "ffd652c4-1653-40e8-b020-9921f0fc2103",
   "metadata": {},
   "source": [
    "Sure! Here's an example code to insert one record and multiple records into the \"customers\" collection we created in question 3, and use the find() and find_one() methods to print the inserted records:"
   ]
  },
  {
   "cell_type": "code",
   "execution_count": null,
   "id": "b5f916be-16c6-4c5e-8b7a-78349e159cda",
   "metadata": {},
   "outputs": [],
   "source": [
    "import pymongo\n",
    "\n",
    "# establish a connection to the MongoDB server\n",
    "client = pymongo.MongoClient(\"mongodb://localhost:27017/\")\n",
    "\n",
    "# select the \"mydatabase\" database and the \"customers\" collection\n",
    "mydb = client[\"mydatabase\"]\n",
    "mycol = mydb[\"customers\"]\n",
    "\n",
    "# insert one record into the collection\n",
    "mydict = { \"name\": \"Alice\", \"address\": \"123 Main St\" }\n",
    "x = mycol.insert_one(mydict)\n",
    "\n",
    "# print the inserted record using find_one()\n",
    "print(mycol.find_one())\n",
    "\n",
    "# insert many records into the collection\n",
    "mylist = [\n",
    "  { \"name\": \"Bob\", \"address\": \"456 Maple Ave\" },\n",
    "  { \"name\": \"Charlie\", \"address\": \"789 Oak St\" },\n",
    "  { \"name\": \"David\", \"address\": \"123 Elm St\" }\n",
    "]\n",
    "x = mycol.insert_many(mylist)\n",
    "\n",
    "# print the inserted records using find()\n",
    "for record in mycol.find():\n",
    "    print(record)\n"
   ]
  },
  {
   "cell_type": "markdown",
   "id": "b93b8204-3803-4b01-80a2-d898f3b1df76",
   "metadata": {},
   "source": [
    "In this example code, we first establish a connection to the MongoDB server and select the \"mydatabase\" database and the \"customers\" collection. We then insert one record into the collection using the insert_one() method and print the inserted record using the find_one() method.\n",
    "\n",
    "Next, we insert multiple records into the collection using the insert_many() method and print all the inserted records using the find() method in a loop.\n",
    "\n",
    "Note that the find() method returns a cursor object, which you can iterate over to access each document in the collection. If you want to retrieve a specific document based on some criteria, you can pass a query object as an argument to the find() or find_one() method. For example, to retrieve all documents where the name is \"Alice\", you can use mycol.find({\"name\": \"Alice\"})."
   ]
  },
  {
   "cell_type": "markdown",
   "id": "98834054-ace5-46a0-9fcd-5bc648bf1580",
   "metadata": {},
   "source": [
    "### Q5. Explain how you can use the find() method to query the MongoDB database. Write a simple code to\n",
    "demonstrate this."
   ]
  },
  {
   "cell_type": "markdown",
   "id": "71eaedc9-bb0f-422b-a025-cb539159fb24",
   "metadata": {},
   "source": [
    "The find() method is used to query a MongoDB database and retrieve documents from a collection. You can use the find() method to retrieve all documents in a collection, retrieve documents that match a specific criteria, or retrieve documents that match a specific criteria and sort them in a specific order.\n",
    "\n",
    "The find() method returns a cursor object, which you can iterate over to access each document in the collection. You can also use various methods of the cursor object to filter, sort, limit, and skip the results.\n",
    "\n",
    "Here's an example code that demonstrates how to use the find() method to query a MongoDB database:"
   ]
  },
  {
   "cell_type": "code",
   "execution_count": null,
   "id": "7301220e-36ec-4880-b090-2ad6cca32a04",
   "metadata": {},
   "outputs": [],
   "source": [
    "import pymongo\n",
    "\n",
    "# establish a connection to the MongoDB server\n",
    "client = pymongo.MongoClient(\"mongodb://localhost:27017/\")\n",
    "\n",
    "# select the \"mydatabase\" database and the \"customers\" collection\n",
    "mydb = client[\"mydatabase\"]\n",
    "mycol = mydb[\"customers\"]\n",
    "\n",
    "# retrieve all documents in the collection\n",
    "for record in mycol.find():\n",
    "    print(record)\n",
    "\n",
    "# retrieve documents that match a specific criteria\n",
    "for record in mycol.find({\"name\": \"Alice\"}):\n",
    "    print(record)\n",
    "\n",
    "# retrieve documents that match a specific criteria and sort them in ascending order\n",
    "for record in mycol.find({\"name\": \"Alice\"}).sort(\"address\"):\n",
    "    print(record)\n"
   ]
  },
  {
   "cell_type": "markdown",
   "id": "a2f4752e-a103-4a34-9c54-957e11e54b12",
   "metadata": {},
   "source": [
    "In this example code, we first establish a connection to the MongoDB server and select the \"mydatabase\" database and the \"customers\" collection. We then use the find() method to retrieve all documents in the collection, retrieve documents that match the criteria {\"name\": \"Alice\"}, and retrieve documents that match the criteria {\"name\": \"Alice\"} and sort them in ascending order based on the \"address\" field.\n",
    "\n",
    "Note that you can also use various other methods of the cursor object to filter, sort, limit, and skip the results. For example, you can use the limit() method to limit the number of documents returned by the query, or use the skip() method to skip a certain number of documents before returning the results."
   ]
  },
  {
   "cell_type": "markdown",
   "id": "e4f12732-fc58-4f43-b9f8-927959d120d1",
   "metadata": {},
   "source": [
    "### Q6. Explain the sort() method. Give an example to demonstrate sorting in MongoDB."
   ]
  },
  {
   "cell_type": "markdown",
   "id": "cd54c8a5-9919-421f-b787-59572f83db40",
   "metadata": {},
   "source": [
    "The sort() method is used in MongoDB to sort the documents in a collection based on one or more fields. The sort() method takes one or more field names as arguments and sorts the documents in ascending order by default. You can specify the sorting order (ascending or descending) for each field by adding the keyword pymongo.ASCENDING or pymongo.DESCENDING after the field name.\n",
    "\n",
    "Here's an example code that demonstrates sorting in MongoDB using the sort() method:"
   ]
  },
  {
   "cell_type": "code",
   "execution_count": null,
   "id": "9cdf8f7a-6ccf-45d6-a98f-b2bbf4f363b5",
   "metadata": {},
   "outputs": [],
   "source": [
    "import pymongo\n",
    "\n",
    "# establish a connection to the MongoDB server\n",
    "client = pymongo.MongoClient(\"mongodb://localhost:27017/\")\n",
    "\n",
    "# select the \"mydatabase\" database and the \"customers\" collection\n",
    "mydb = client[\"mydatabase\"]\n",
    "mycol = mydb[\"customers\"]\n",
    "\n",
    "# insert some documents into the collection\n",
    "mycol.insert_many([\n",
    "    {\"name\": \"Alice\", \"age\": 30, \"city\": \"New York\"},\n",
    "    {\"name\": \"Bob\", \"age\": 25, \"city\": \"Los Angeles\"},\n",
    "    {\"name\": \"Charlie\", \"age\": 35, \"city\": \"Chicago\"},\n",
    "    {\"name\": \"David\", \"age\": 40, \"city\": \"Boston\"}\n",
    "])\n",
    "\n",
    "# sort the documents by name in ascending order\n",
    "for record in mycol.find().sort(\"name\"):\n",
    "    print(record)\n",
    "\n",
    "# sort the documents by age in descending order\n",
    "for record in mycol.find().sort(\"age\", pymongo.DESCENDING):\n",
    "    print(record)\n",
    "\n",
    "# sort the documents by city in ascending order and then by name in descending order\n",
    "for record in mycol.find().sort([(\"city\", pymongo.ASCENDING), (\"name\", pymongo.DESCENDING)]):\n",
    "    print(record)\n"
   ]
  },
  {
   "cell_type": "markdown",
   "id": "6eb1cf78-7df8-4804-bf11-17b4fd3ac5b5",
   "metadata": {},
   "source": [
    "In this example code, we first insert some documents into the \"customers\" collection. We then use the sort() method to sort the documents by name in ascending order, by age in descending order, and by city in ascending order and then by name in descending order. Note that you can pass a single field name or a list of field names to the sort() method to sort the documents by multiple fields. You can also use the pymongo.ASCENDING and pymongo.DESCENDING constants to specify the sorting order for each field."
   ]
  },
  {
   "cell_type": "markdown",
   "id": "2d170fda-cffb-492a-88e0-5c59e0f8785d",
   "metadata": {},
   "source": [
    "### Q7. Explain why delete_one(), delete_many(), and drop() is used."
   ]
  },
  {
   "cell_type": "markdown",
   "id": "b3c12dff-02b7-4504-a8bf-d16ab601b265",
   "metadata": {},
   "source": [
    "In MongoDB, the delete_one(), delete_many(), and drop() methods are used to delete documents and collections from a database.\n",
    "\n",
    "The delete_one() method is used to delete a single document from a collection that matches a specific criteria. It takes a single argument that specifies the criteria for the document to be deleted. If multiple documents match the criteria, only the first document will be deleted.\n",
    "\n",
    "The delete_many() method is used to delete multiple documents from a collection that match a specific criteria. It takes a single argument that specifies the criteria for the documents to be deleted. All documents that match the criteria will be deleted.\n",
    "\n",
    "The drop() method is used to delete an entire collection from a database. It takes no arguments and deletes the entire collection.\n",
    "\n",
    "These methods are useful in scenarios where you need to remove unwanted or obsolete data from a MongoDB database. For example, you may want to delete a single user record from a collection using delete_one() when the user has requested to be removed from the system. Similarly, you may want to delete multiple records that match a specific criteria using delete_many() when you need to remove all data related to a particular user or when you need to clean up old or expired data.\n",
    "\n",
    "The drop() method is useful when you need to delete an entire collection, for example, when you no longer need the data or when you want to restructure your data model. However, note that dropping a collection will permanently delete all data stored in that collection and cannot be undone.\n",
    "\n",
    "In summary, delete_one(), delete_many(), and drop() methods are essential for managing data in MongoDB databases and provide a flexible and powerful way to delete unwanted data.\n",
    "\n",
    "\n",
    "\n",
    "\n"
   ]
  },
  {
   "cell_type": "code",
   "execution_count": null,
   "id": "97b2c748-88cf-439e-9e66-30ec070c9b0a",
   "metadata": {},
   "outputs": [],
   "source": []
  }
 ],
 "metadata": {
  "kernelspec": {
   "display_name": "Python 3 (ipykernel)",
   "language": "python",
   "name": "python3"
  },
  "language_info": {
   "codemirror_mode": {
    "name": "ipython",
    "version": 3
   },
   "file_extension": ".py",
   "mimetype": "text/x-python",
   "name": "python",
   "nbconvert_exporter": "python",
   "pygments_lexer": "ipython3",
   "version": "3.10.8"
  }
 },
 "nbformat": 4,
 "nbformat_minor": 5
}
