{
 "cells": [
  {
   "cell_type": "markdown",
   "id": "2cc6f386-7719-4112-9d3b-5863aee8bf17",
   "metadata": {},
   "source": [
    "# Q1.\n",
    "\tCreate a python program to sort the given list of tuples based on integer value using a \n",
    "\tlambda function.\n",
    "    [('Sachin Tendulkar', 34357), ('Ricky Ponting', 27483), ('Jack Kallis', 25534), ('Virat Kohli', 24936)]"
   ]
  },
  {
   "cell_type": "code",
   "execution_count": 8,
   "id": "c9bf849c-c606-455c-908d-65944726cccc",
   "metadata": {},
   "outputs": [
    {
     "name": "stdout",
     "output_type": "stream",
     "text": [
      "[('Sachin Tendulkar', 34357), ('Ricky Ponting', 27483), ('Jack Kallis', 25534), ('Virat Kohli', 24936)]\n"
     ]
    }
   ],
   "source": [
    "# Given list of tuples\n",
    "players = [('Sachin Tendulkar', 34357), ('Ricky Ponting', 27483), ('Jack Kallis', 25534), ('Virat Kohli', 24936)]\n",
    "\n",
    "# Sorting the list of tuples based on the integer value using lambda function\n",
    "players.sort(key=lambda x: x[1], reverse=True)\n",
    "\n",
    "# Printing the sorted list\n",
    "print(players)\n"
   ]
  },
  {
   "cell_type": "markdown",
   "id": "af897c0b-b40c-4c74-ab66-0a7d6c4e8547",
   "metadata": {},
   "source": [
    "# Q2. \n",
    "\tWrite a Python Program to find the squares of all the numbers in the given list of integers using \n",
    "\tlambda and map functions.\n",
    "\n",
    "\n",
    "\t[1, 2, 3, 4, 5, 6, 7, 8, 9, 10]"
   ]
  },
  {
   "cell_type": "code",
   "execution_count": 9,
   "id": "549c1b7d-749a-40c7-a143-95f58606dfe5",
   "metadata": {},
   "outputs": [
    {
     "name": "stdout",
     "output_type": "stream",
     "text": [
      "[1, 4, 9, 16, 25, 36, 49, 64, 81, 100]\n"
     ]
    }
   ],
   "source": [
    "# Given list of integers\n",
    "numbers = [1, 2, 3, 4, 5, 6, 7, 8, 9, 10]\n",
    "\n",
    "# Using lambda and map functions to find the squares of all the numbers in the list\n",
    "squared_numbers = list(map(lambda x: x**2, numbers))\n",
    "\n",
    "# Printing the squared numbers\n",
    "print(squared_numbers)\n"
   ]
  },
  {
   "cell_type": "markdown",
   "id": "4b88711c-4565-429b-95ca-34c1509827d6",
   "metadata": {},
   "source": [
    "# Q3. \n",
    "\tWrite a python program to convert the given list of integers into a tuple of strings. Use map and \n",
    "\tlambda functions\n",
    "\n",
    "\n",
    "\tGiven String: [1, 2, 3, 4, 5, 6, 7, 8, 9, 10]\n",
    "\n",
    "\tExpected output: ('1', '2', '3', '4', '5', '6', '7', '8', '9', '10')"
   ]
  },
  {
   "cell_type": "code",
   "execution_count": 10,
   "id": "774ff4c8-83e6-423f-be6c-44f50e6ad204",
   "metadata": {},
   "outputs": [
    {
     "name": "stdout",
     "output_type": "stream",
     "text": [
      "('1', '2', '3', '4', '5', '6', '7', '8', '9', '10')\n"
     ]
    }
   ],
   "source": [
    "# Given list of integers\n",
    "numbers = [1, 2, 3, 4, 5, 6, 7, 8, 9, 10]\n",
    "\n",
    "# Using map and lambda functions to convert the list of integers into a tuple of strings\n",
    "tuple_of_strings = tuple(map(lambda x: str(x), numbers))\n",
    "\n",
    "# Printing the tuple of strings\n",
    "print(tuple_of_strings)\n"
   ]
  },
  {
   "cell_type": "markdown",
   "id": "e8fc219a-a128-4e9e-9990-79bdc332792f",
   "metadata": {},
   "source": [
    "# Q4.  \n",
    "\tWrite a python program using reduce function to compute the product of a list containing numbers \n",
    "\tfrom 1 to 25."
   ]
  },
  {
   "cell_type": "code",
   "execution_count": 11,
   "id": "9a32dfc5-70a7-4cc4-8009-34ddd2bc159f",
   "metadata": {},
   "outputs": [
    {
     "name": "stdout",
     "output_type": "stream",
     "text": [
      "15511210043330985984000000\n"
     ]
    }
   ],
   "source": [
    "from functools import reduce\n",
    "\n",
    "# List of numbers from 1 to 25\n",
    "numbers = [i for i in range(1, 26)]\n",
    "\n",
    "# Using reduce function to compute the product of numbers in the list\n",
    "product = reduce(lambda x, y: x*y, numbers)\n",
    "\n",
    "# Printing the product\n",
    "print(product)\n"
   ]
  },
  {
   "cell_type": "markdown",
   "id": "ee01133f-1a90-49c8-a6e0-332349fa34ed",
   "metadata": {},
   "source": [
    "# Q5.\n",
    "\tWrite a python program to filter the numbers in a given list that are divisible by 2 and 3 using the \n",
    "\tfilter function.\n",
    "\n",
    "\n",
    "\t[2, 3, 6, 9, 27, 60, 90, 120, 55, 46]"
   ]
  },
  {
   "cell_type": "code",
   "execution_count": 12,
   "id": "3d5abacf-eedb-486e-92c4-31b986c59eaf",
   "metadata": {},
   "outputs": [
    {
     "name": "stdout",
     "output_type": "stream",
     "text": [
      "[6, 60, 90, 120]\n"
     ]
    }
   ],
   "source": [
    "# Given list of numbers\n",
    "numbers = [2, 3, 6, 9, 27, 60, 90, 120, 55, 46]\n",
    "\n",
    "# Using filter function to filter the numbers divisible by 2 and 3\n",
    "filtered_numbers = list(filter(lambda x: x % 2 == 0 and x % 3 == 0, numbers))\n",
    "\n",
    "# Printing the filtered numbers\n",
    "print(filtered_numbers)\n"
   ]
  },
  {
   "cell_type": "markdown",
   "id": "88b3029e-78e4-42d5-b590-fa7fcfa3fc7c",
   "metadata": {},
   "source": [
    "# Q6. \n",
    "\tWrite a python program to find palindromes in the given list of strings using lambda and filter \n",
    "\tfunction.\n",
    "\n",
    "\n",
    "\t['python', 'php', 'aba', 'radar', 'level']"
   ]
  },
  {
   "cell_type": "code",
   "execution_count": 14,
   "id": "6ad36aec-ad1a-42d8-99dc-94e5f97cd607",
   "metadata": {},
   "outputs": [
    {
     "name": "stdout",
     "output_type": "stream",
     "text": [
      "['php', 'aba', 'radar', 'level']\n"
     ]
    }
   ],
   "source": [
    "# Given list of strings\n",
    "words = ['python', 'php', 'aba', 'radar', 'level']\n",
    "\n",
    "# Using filter function to filter the palindromes in the list\n",
    "palindromes = list(filter(lambda x: x == x[::-1], words))\n",
    "\n",
    "# Printing the palindromes\n",
    "print(palindromes)\n"
   ]
  }
 ],
 "metadata": {
  "kernelspec": {
   "display_name": "Python 3 (ipykernel)",
   "language": "python",
   "name": "python3"
  },
  "language_info": {
   "codemirror_mode": {
    "name": "ipython",
    "version": 3
   },
   "file_extension": ".py",
   "mimetype": "text/x-python",
   "name": "python",
   "nbconvert_exporter": "python",
   "pygments_lexer": "ipython3",
   "version": "3.10.8"
  }
 },
 "nbformat": 4,
 "nbformat_minor": 5
}
