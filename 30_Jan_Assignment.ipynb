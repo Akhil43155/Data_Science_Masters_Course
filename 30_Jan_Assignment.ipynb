{
 "cells": [
  {
   "cell_type": "markdown",
   "id": "a7703a92-c713-42e7-aa0b-882624c971e9",
   "metadata": {},
   "source": [
    "#### 1.\n",
    "\tWrite a program to accept percentage from the user and displaay the grade according to the  following criteria.\n",
    "\n",
    "\tMarks                                   Grade\n",
    "    \n",
    "    >90                                      A\n",
    "    >80 and <=90                             B\n",
    "    >=60 AND <=80                            C\n",
    "    below 60                                 D"
   ]
  },
  {
   "cell_type": "code",
   "execution_count": 1,
   "id": "2add3784-1860-4032-aacb-f5e9d61d88d1",
   "metadata": {},
   "outputs": [
    {
     "name": "stdin",
     "output_type": "stream",
     "text": [
      "Enter the marks: 85\n"
     ]
    },
    {
     "name": "stdout",
     "output_type": "stream",
     "text": [
      "B\n"
     ]
    }
   ],
   "source": [
    "marks = int(input(\"Enter the marks:\"))\n",
    "if marks > 90:\n",
    "    print(\"A\")\n",
    "elif marks>80 and marks<=90:\n",
    "    print(\"B\")\n",
    "elif marks >=60 and marks<=80:\n",
    "    print(\"C\")\n",
    "else:\n",
    "    print(\"D\")\n",
    "            "
   ]
  },
  {
   "cell_type": "markdown",
   "id": "ce2bb1bc-5743-4b4a-b95c-5037bc8f8b0c",
   "metadata": {},
   "source": [
    "#### 2. \n",
    "\tWrite a program to accept the cost price of the bike and display the road tax to be paid according to the following criteria.\n",
    "\n",
    "\tTax                                     Cost price(In Rs)\n",
    "    15%                                     >100000\n",
    "    10%                                     >50000 and <=100000\n",
    "    5%                                      <=50000\n",
    "    "
   ]
  },
  {
   "cell_type": "code",
   "execution_count": 2,
   "id": "75c2dea1-9acd-491c-9729-43c5ee4ae5bb",
   "metadata": {},
   "outputs": [
    {
     "name": "stdin",
     "output_type": "stream",
     "text": [
      "Enter the Cost: 500000\n"
     ]
    },
    {
     "name": "stdout",
     "output_type": "stream",
     "text": [
      "The road tax to be paid in Rs: 75000.0\n"
     ]
    }
   ],
   "source": [
    "Cost_Price = int(input(\"Enter the Cost:\"))\n",
    "if Cost_Price >100000:\n",
    "     Road_Tax = Cost_Price*0.15\n",
    "elif Cost_Price >50000 and Cost_Price <=100000:\n",
    "     Road_Tax = Cost_Price*0.1\n",
    "else:\n",
    "     Road_Tax = Cost_Price*0.05\n",
    "print(\"The road tax to be paid in Rs:\",Road_Tax)"
   ]
  },
  {
   "cell_type": "markdown",
   "id": "68d410d5-37fb-4871-a284-32756298fdfa",
   "metadata": {},
   "source": [
    "#### 3. \n",
    "\tAccept any city from the user and Display Monuments in City\n",
    "\t\n",
    "    \tCity                        Monument\n",
    "        Delhi                        Red Fort\n",
    "        Agra                         Taj Mahal\n",
    "        JaiPur                       Jal Mahal"
   ]
  },
  {
   "cell_type": "code",
   "execution_count": 4,
   "id": "dfd85186-fe7d-4ab8-b2ab-1ed5589c3486",
   "metadata": {},
   "outputs": [
    {
     "name": "stdin",
     "output_type": "stream",
     "text": [
      "Enter the city name: Agra\n"
     ]
    },
    {
     "name": "stdout",
     "output_type": "stream",
     "text": [
      "Taj Mahal\n"
     ]
    }
   ],
   "source": [
    "City_name = input(\"Enter the city name:\")\n",
    "if City_name == \"Delhi\":\n",
    "    print(\"Red Fort\")\n",
    "elif City_name == \"Agra\":\n",
    "    print(\"Taj Mahal\")\n",
    "else:\n",
    "    print(\"Jal Mahal\")"
   ]
  },
  {
   "cell_type": "markdown",
   "id": "a37b3199-947a-4af0-828d-53a768bf86ce",
   "metadata": {},
   "source": [
    "#### 4. \n",
    "\tCheck how many times the given number can be divided by 3 before it is less than or equal to 10."
   ]
  },
  {
   "cell_type": "code",
   "execution_count": 5,
   "id": "94ce8a19-a1e2-4896-ae21-2da124556210",
   "metadata": {},
   "outputs": [
    {
     "name": "stdin",
     "output_type": "stream",
     "text": [
      "Enter a number:  100\n"
     ]
    },
    {
     "name": "stdout",
     "output_type": "stream",
     "text": [
      "The number can be divided by 3 3 times before it is less than or equal to 10.\n"
     ]
    }
   ],
   "source": [
    "number = int(input(\"Enter a number: \"))\n",
    "count = 0\n",
    "\n",
    "while number > 10:\n",
    "    number /= 3\n",
    "    count += 1\n",
    "\n",
    "print(\"The number can be divided by 3\", count, \"times before it is less than or equal to 10.\")\n"
   ]
  },
  {
   "cell_type": "markdown",
   "id": "75120728-8940-4ab7-9210-4543b4c4d5cd",
   "metadata": {},
   "source": [
    "#### 5.\n",
    "\tWhy and when to use While loop in python give a detailed description with example."
   ]
  },
  {
   "cell_type": "raw",
   "id": "7c6a4e82-6914-4de9-970e-c2a785cf039e",
   "metadata": {},
   "source": [
    "The while loop in Python is a control flow statement that allows us to execute a block of code repeatedly as long as a certain condition is true. The condition is checked at the beginning of each iteration of the loop, and the loop continues until the condition becomes false. While loops are useful in situations where we need to repeatedly perform an action until a certain condition is met."
   ]
  },
  {
   "cell_type": "code",
   "execution_count": 6,
   "id": "6c3e19cf-7a04-4423-ad2e-50655762a045",
   "metadata": {},
   "outputs": [
    {
     "name": "stdout",
     "output_type": "stream",
     "text": [
      "0\n",
      "1\n",
      "2\n",
      "3\n",
      "4\n"
     ]
    }
   ],
   "source": [
    "count = 0\n",
    "while count < 5:\n",
    "    print(count)\n",
    "    count += 1\n"
   ]
  },
  {
   "cell_type": "markdown",
   "id": "a1a107d0-c314-4a56-9f76-4e5c68037ae3",
   "metadata": {},
   "source": [
    "#### 6. use nested while loop to print 3 different patterns."
   ]
  },
  {
   "cell_type": "code",
   "execution_count": 8,
   "id": "29e0b7b1-62e7-4cc9-8bac-fdf5f07fe51e",
   "metadata": {},
   "outputs": [
    {
     "name": "stdin",
     "output_type": "stream",
     "text": [
      "Enter the size of the square:  5\n"
     ]
    },
    {
     "name": "stdout",
     "output_type": "stream",
     "text": [
      "* * * * * \n",
      "* * * * * \n",
      "* * * * * \n",
      "* * * * * \n",
      "* * * * * \n"
     ]
    }
   ],
   "source": [
    "#Patteren 1:Square\n",
    "size = int(input(\"Enter the size of the square: \"))\n",
    "\n",
    "row = 1\n",
    "while row <= size:\n",
    "    col = 1\n",
    "    while col <= size:\n",
    "        print(\"*\", end=\" \")\n",
    "        col += 1\n",
    "    print()\n",
    "    row += 1\n"
   ]
  },
  {
   "cell_type": "code",
   "execution_count": 9,
   "id": "ee2e0e1c-b829-41f0-a840-fa35569e4956",
   "metadata": {},
   "outputs": [
    {
     "name": "stdin",
     "output_type": "stream",
     "text": [
      "Enter the size of the triangle:  5\n"
     ]
    },
    {
     "name": "stdout",
     "output_type": "stream",
     "text": [
      "* \n",
      "* * \n",
      "* * * \n",
      "* * * * \n",
      "* * * * * \n"
     ]
    }
   ],
   "source": [
    "#Patteren 2: Right Triangle\n",
    "size = int(input(\"Enter the size of the triangle: \"))\n",
    "\n",
    "row = 1\n",
    "while row <= size:\n",
    "    col = 1\n",
    "    while col <= row:\n",
    "        print(\"*\", end=\" \")\n",
    "        col += 1\n",
    "    print()\n",
    "    row += 1\n"
   ]
  },
  {
   "cell_type": "code",
   "execution_count": 10,
   "id": "bf34b27f-d56a-4a18-afc3-7d1179808000",
   "metadata": {},
   "outputs": [
    {
     "name": "stdin",
     "output_type": "stream",
     "text": [
      "Enter the size of the diamond:  5\n"
     ]
    },
    {
     "name": "stdout",
     "output_type": "stream",
     "text": [
      "        * \n",
      "      * * * \n",
      "    * * * * * \n",
      "      * * * \n",
      "        * \n"
     ]
    }
   ],
   "source": [
    "#Patteren 3: Diamond\n",
    "size = int(input(\"Enter the size of the diamond: \"))\n",
    "\n",
    "# Upper half of diamond\n",
    "row = 1\n",
    "while row <= size // 2 + 1:\n",
    "    col = 1\n",
    "    while col <= size - row:\n",
    "        print(\" \", end=\" \")\n",
    "        col += 1\n",
    "    col = 1\n",
    "    while col <= 2 * row - 1:\n",
    "        print(\"*\", end=\" \")\n",
    "        col += 1\n",
    "    print()\n",
    "    row += 1\n",
    "\n",
    "# Lower half of diamond\n",
    "row = size // 2\n",
    "while row >= 1:\n",
    "    col = 1\n",
    "    while col <= size - row:\n",
    "        print(\" \", end=\" \")\n",
    "        col += 1\n",
    "    col = 1\n",
    "    while col <= 2 * row - 1:\n",
    "        print(\"*\", end=\" \")\n",
    "        col += 1\n",
    "    print()\n",
    "    row -= 1\n"
   ]
  },
  {
   "cell_type": "markdown",
   "id": "682e3b11-5209-4fef-aea1-ee51b3ae44e3",
   "metadata": {},
   "source": [
    "#### 7. Reverse a while loop to display numbers from 10 to 1."
   ]
  },
  {
   "cell_type": "code",
   "execution_count": 11,
   "id": "8ffe565e-b95b-4285-ab38-98beb8325131",
   "metadata": {},
   "outputs": [
    {
     "name": "stdout",
     "output_type": "stream",
     "text": [
      "10\n",
      "9\n",
      "8\n",
      "7\n",
      "6\n",
      "5\n",
      "4\n",
      "3\n",
      "2\n",
      "1\n"
     ]
    }
   ],
   "source": [
    "i = 10\n",
    "while i>0:\n",
    "    print(i)\n",
    "    i-=1"
   ]
  },
  {
   "cell_type": "markdown",
   "id": "004a26fc-da1f-40ee-aadd-caeaca19eca1",
   "metadata": {},
   "source": [
    "#### Same Question Repeateed again"
   ]
  },
  {
   "cell_type": "markdown",
   "id": "d38a7629-1306-4ea2-9daf-fa467b3e897e",
   "metadata": {},
   "source": [
    "#### 8. Reverse a while loop to display numbers from 10 to 1"
   ]
  },
  {
   "cell_type": "code",
   "execution_count": 7,
   "id": "02600371-e349-404b-84bb-dc22096a97c2",
   "metadata": {},
   "outputs": [
    {
     "name": "stdout",
     "output_type": "stream",
     "text": [
      "10\n",
      "9\n",
      "8\n",
      "7\n",
      "6\n",
      "5\n",
      "4\n",
      "3\n",
      "2\n",
      "1\n"
     ]
    }
   ],
   "source": [
    "i = 10\n",
    "while i>0:\n",
    "    print(i)\n",
    "    i-=1"
   ]
  }
 ],
 "metadata": {
  "kernelspec": {
   "display_name": "Python 3 (ipykernel)",
   "language": "python",
   "name": "python3"
  },
  "language_info": {
   "codemirror_mode": {
    "name": "ipython",
    "version": 3
   },
   "file_extension": ".py",
   "mimetype": "text/x-python",
   "name": "python",
   "nbconvert_exporter": "python",
   "pygments_lexer": "ipython3",
   "version": "3.10.8"
  }
 },
 "nbformat": 4,
 "nbformat_minor": 5
}
