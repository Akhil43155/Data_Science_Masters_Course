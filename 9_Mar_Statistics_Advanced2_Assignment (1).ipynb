{
 "cells": [
  {
   "cell_type": "markdown",
   "id": "7a98dcab-e461-40e8-980d-b51d188e3465",
   "metadata": {},
   "source": [
    "### Q1: What are the Probability Mass Function (PMF) and Probability Density Function (PDF)? Explain with\n",
    "an example.\n"
   ]
  },
  {
   "cell_type": "markdown",
   "id": "329d9b25-c375-49df-ac82-57620843b94c",
   "metadata": {},
   "source": [
    "Both Probability Mass Function (PMF) and Probability Density Function (PDF) are mathematical functions that describe the probabilities of various outcomes in a random experiment or event.\n",
    "\n",
    "A Probability Mass Function (PMF) is used for discrete random variables, which means that the possible outcomes of the experiment are countable and finite. The PMF assigns a probability to each possible outcome, and the sum of all probabilities in the PMF is equal to 1.\n",
    "\n",
    "For example, consider a simple experiment of flipping a fair coin once. The possible outcomes are either a \"heads\" or \"tails\", and each outcome has an equal probability of 0.5. The PMF of this experiment would assign a probability of 0.5 to \"heads\" and 0.5 to \"tails\".\n",
    "\n",
    "A Probability Density Function (PDF) is used for continuous random variables, which means that the possible outcomes of the experiment are uncountable and infinite. The PDF describes the probability distribution of the variable, and the probability of obtaining any specific outcome is equal to the area under the curve of the PDF over a certain range of values. The total area under the curve of the PDF is equal to 1.\n",
    "\n",
    "For example, consider a continuous random variable such as the height of adult males in a population. The PDF of this variable may follow a normal distribution, which is a bell-shaped curve with a peak at the mean height value. The PDF describes the probability distribution of different height values, and the probability of obtaining any specific height value is equal to the area under the curve of the PDF over a certain range of height values.\n",
    "\n",
    "In summary, the PMF is used for discrete random variables and assigns probabilities to each possible outcome, while the PDF is used for continuous random variables and describes the probability distribution of the variable."
   ]
  },
  {
   "cell_type": "markdown",
   "id": "840ed068-0ce7-4e0f-89a1-236eacde2848",
   "metadata": {},
   "source": [
    "### Q2: What is Cumulative Density Function (CDF)? Explain with an example. Why CDF is used?"
   ]
  },
  {
   "cell_type": "markdown",
   "id": "499b11ae-1ddc-4621-9e80-738eaeaf1deb",
   "metadata": {},
   "source": [
    "A Cumulative Density Function (CDF) is a mathematical function that describes the probability that a random variable takes on a value less than or equal to a certain value.\n",
    "\n",
    "For example, consider the height of adult males in a population, which is a continuous random variable. The CDF of this variable would give the probability that a randomly selected male from the population has a height less than or equal to a certain value. If the CDF is denoted by F(x), then F(x) gives the probability that a randomly selected male from the population has a height less than or equal to x.\n",
    "\n",
    "The CDF can be calculated by integrating the PDF (Probability Density Function) of the variable over the range from negative infinity to x. The CDF has several properties that make it useful in probability and statistics, including:\n",
    "\n",
    "The CDF is always non-negative and non-decreasing.\n",
    "The CDF approaches 0 as x approaches negative infinity and approaches 1 as x approaches positive infinity.\n",
    "The probability of the variable taking on a value between two values a and b is equal to the difference between the CDF values at b and a, i.e., P(a < X ≤ b) = F(b) - F(a).\n",
    "The CDF is used to calculate various probabilities associated with the random variable, such as the probability of the variable taking on a value within a certain range or the probability of the variable exceeding a certain value.\n",
    "\n",
    "For example, consider the CDF of the normal distribution with a mean of 0 and a standard deviation of 1. If we want to find the probability that a randomly selected value from this distribution is less than or equal to 1, we can use the CDF to calculate it as follows:\n",
    "\n",
    "F(1) = ∫(-∞ to 1) f(x) dx\n",
    "\n",
    "where f(x) is the PDF of the normal distribution. Using standard tables or software, we can find that F(1) is approximately 0.8413. Therefore, the probability that a randomly selected value from the normal distribution with a mean of 0 and a standard deviation of 1 is less than or equal to 1 is 0.8413.\n",
    "\n",
    "In summary, the CDF is a mathematical function that describes the probability that a random variable takes on a value less than or equal to a certain value. It is used to calculate various probabilities associated with the random variable and has several useful properties."
   ]
  },
  {
   "cell_type": "markdown",
   "id": "53bc3b98-153b-47e4-b9d9-db4ff2b752ef",
   "metadata": {},
   "source": [
    "### Q3: What are some examples of situations where the normal distribution might be used as a model?\n",
    "Explain how the parameters of the normal distribution relate to the shape of the distribution."
   ]
  },
  {
   "cell_type": "markdown",
   "id": "fb3f8ac6-547f-4206-861e-9f9d090793a2",
   "metadata": {},
   "source": [
    "The normal distribution is a probability distribution that is commonly used to model many natural phenomena and human behaviors. Here are some examples of situations where the normal distribution might be used as a model:\n",
    "\n",
    "Heights and weights of a population: The distribution of heights and weights of a population tends to follow a normal distribution.\n",
    "\n",
    "Test scores: The distribution of test scores tends to follow a normal distribution, with most scores clustered around the mean.\n",
    "\n",
    "Measurement errors: Errors in measurement, such as errors in laboratory measurements or in survey responses, often follow a normal distribution.\n",
    "\n",
    "Financial markets: Daily returns of financial assets, such as stocks and bonds, are often modeled using the normal distribution.\n",
    "\n",
    "The normal distribution is characterized by two parameters: the mean (μ) and the standard deviation (σ). The mean represents the center of the distribution, and the standard deviation represents the spread of the distribution.\n",
    "\n",
    "The shape of the normal distribution is symmetric, with the peak located at the mean. As the standard deviation increases, the distribution becomes wider and flatter. Conversely, as the standard deviation decreases, the distribution becomes narrower and taller. The standard deviation also determines the proportion of data that falls within a certain number of standard deviations from the mean.\n",
    "\n",
    "For example, in a normal distribution with a mean of 10 and a standard deviation of 2, approximately 68% of the data falls within one standard deviation of the mean (i.e., between 8 and 12), approximately 95% of the data falls within two standard deviations of the mean (i.e., between 6 and 14), and approximately 99.7% of the data falls within three standard deviations of the mean (i.e., between 4 and 16).\n",
    "\n",
    "In summary, the normal distribution is commonly used to model many natural phenomena and human behaviors. The mean and standard deviation parameters of the normal distribution determine the center and spread of the distribution, respectively, and the shape of the distribution is symmetric and determined by the standard deviation."
   ]
  },
  {
   "cell_type": "markdown",
   "id": "eb6e186c-d3a4-48f1-9a1d-013152dbff1b",
   "metadata": {},
   "source": [
    "### Q4: Explain the importance of Normal Distribution. Give a few real-life examples of Normal\n",
    "Distribution."
   ]
  },
  {
   "cell_type": "markdown",
   "id": "e1fd2cd3-c141-463e-b5f2-9d56f8a51028",
   "metadata": {},
   "source": [
    "The normal distribution is one of the most important probability distributions in statistics and plays a crucial role in many fields, including science, engineering, social sciences, finance, and more. Here are a few reasons why the normal distribution is so important:\n",
    "\n",
    "Central limit theorem: The normal distribution is a key component of the central limit theorem, which states that the sum or average of a large number of independent and identically distributed random variables tends to follow a normal distribution, regardless of the underlying distribution. This theorem has important implications for statistical inference and hypothesis testing.\n",
    "\n",
    "Data modeling: Many real-world phenomena can be modeled using the normal distribution, including heights and weights of people, IQ scores, exam scores, and more. This makes it a useful tool for data analysis and modeling.\n",
    "\n",
    "Statistical analysis: The normal distribution is used in a wide variety of statistical tests and methods, such as the t-test, ANOVA, regression analysis, and more. These methods are used in fields such as medicine, economics, psychology, and more.\n",
    "\n",
    "Simulation and modeling: The normal distribution is often used in simulation and modeling of complex systems, such as weather forecasting, traffic flow, and more.\n",
    "\n",
    "Here are a few real-life examples of situations where the normal distribution might be used as a model:\n",
    "\n",
    "Heights of people: The distribution of heights of people tends to follow a normal distribution, with most people clustered around the mean height.\n",
    "\n",
    "IQ scores: IQ scores tend to follow a normal distribution, with most scores clustered around the mean score of 100.\n",
    "\n",
    "Exam scores: The distribution of exam scores often follows a normal distribution, with most students scoring around the mean score.\n",
    "\n",
    "Daily stock returns: Daily returns of financial assets, such as stocks and bonds, are often modeled using the normal distribution.\n",
    "\n",
    "Measurement errors: Errors in measurement, such as errors in laboratory measurements or in survey responses, often follow a normal distribution."
   ]
  },
  {
   "cell_type": "markdown",
   "id": "7799de5e-9298-4987-b00e-65077cae48e7",
   "metadata": {},
   "source": [
    "### Q5: What is Bernaulli Distribution? Give an Example. What is the difference between Bernoulli\n",
    "Distribution and Binomial Distribution?"
   ]
  },
  {
   "cell_type": "markdown",
   "id": "98792c2b-18f6-4d5e-98ae-ced2f92de279",
   "metadata": {},
   "source": [
    "The Bernoulli distribution is a discrete probability distribution that describes a single trial of a binary experiment, where the outcome can be either success or failure. It is named after the Swiss mathematician Jacob Bernoulli, who first introduced it in the 17th century.\n",
    "\n",
    "The probability mass function (PMF) of a Bernoulli distribution is given by:\n",
    "\n",
    "P(X = x) = p^x (1-p)^(1-x), for x=0 or x=1\n",
    "\n",
    "where p is the probability of success and 1-p is the probability of failure.\n",
    "\n",
    "An example of a Bernoulli distribution is flipping a coin. If we define a success as getting heads, then the probability of success is 0.5 and the probability of failure is 0.5. Thus, the PMF of a Bernoulli distribution for this example would be:\n",
    "\n",
    "P(X = 1) = 0.5 and P(X = 0) = 0.5\n",
    "\n",
    "The Bernoulli distribution can be seen as a special case of the binomial distribution, which describes the number of successes in a fixed number of independent Bernoulli trials. The difference between the Bernoulli distribution and the binomial distribution is that the Bernoulli distribution describes the probability of a single success or failure, while the binomial distribution describes the probability of a certain number of successes in a fixed number of independent trials.\n",
    "\n",
    "For example, if we flip a coin 10 times and count the number of heads, the resulting distribution would be a binomial distribution, where the probability of success (getting a head) is 0.5 and the number of trials is 10. The PMF of the binomial distribution would give the probabilities of getting 0, 1, 2, 3, ..., 10 heads in the 10 trials. The binomial distribution can be thought of as a sum of multiple independent Bernoulli trials."
   ]
  },
  {
   "cell_type": "markdown",
   "id": "3046a1f3-d2fa-47d1-8979-41fc5f0325ca",
   "metadata": {},
   "source": [
    "### Q6. Consider a dataset with a mean of 50 and a standard deviation of 10. If we assume that the dataset\n",
    "is normally distributed, what is the probability that a randomly selected observation will be greater\n",
    "than 60? Use the appropriate formula and show your calculations."
   ]
  },
  {
   "cell_type": "markdown",
   "id": "beee4969-3b50-441d-9937-2cd3a613b555",
   "metadata": {},
   "source": [
    "Given that the dataset is normally distributed with a mean of 50 and a standard deviation of 10, we can use the standard normal distribution to calculate the probability that a randomly selected observation will be greater than 60.\n",
    "\n",
    "First, we need to standardize the value of 60 using the formula:\n",
    "\n",
    "z = (x - mu) / sigma\n",
    "\n",
    "where x is the value we want to standardize, mu is the mean of the dataset, and sigma is the standard deviation of the dataset.\n",
    "\n",
    "Substituting the given values, we get:\n",
    "\n",
    "z = (60 - 50) / 10 = 1\n",
    "\n",
    "Now, we can use a standard normal distribution table or calculator to find the probability of a z-score greater than 1. This probability corresponds to the area under the standard normal distribution curve to the right of z = 1.\n",
    "\n",
    "Using a standard normal distribution table or calculator, we find that the probability of a z-score greater than 1 is approximately 0.1587.\n",
    "\n",
    "Therefore, the probability that a randomly selected observation from the dataset will be greater than 60 is 0.1587 or approximately 15.87%."
   ]
  },
  {
   "cell_type": "markdown",
   "id": "383d8990-2f82-40b5-965b-4a3033db8d72",
   "metadata": {},
   "source": [
    "### Q7: Explain uniform Distribution with an example."
   ]
  },
  {
   "cell_type": "markdown",
   "id": "69df8403-f887-435e-a5ee-782e04a1e1c2",
   "metadata": {},
   "source": [
    "Uniform distribution is a probability distribution where all possible outcomes are equally likely. In other words, the probability of each value in a given range is the same. It is also called a rectangular distribution since the probability density function is a rectangle.\n",
    "\n",
    "An example of uniform distribution is rolling a fair six-sided die. Each number on the die has an equal probability of appearing, and therefore the distribution of the outcomes is uniform.\n",
    "\n",
    "The probability density function of a uniform distribution is given by:\n",
    "\n",
    "f(x) = 1 / (b - a)\n",
    "\n",
    "where a and b are the lower and upper bounds of the distribution, respectively.\n",
    "\n",
    "For example, suppose we have a random variable X that represents the outcome of rolling a fair six-sided die. The range of X is from 1 to 6, and the probability of each outcome is the same. Therefore, we can model the distribution of X as a uniform distribution with a = 1 and b = 6.\n",
    "\n",
    "The probability density function of X is:\n",
    "\n",
    "f(x) = 1 / (6 - 1) = 1/5, for x = 1, 2, 3, 4, 5, 6\n",
    "\n",
    "This means that the probability of rolling any number from 1 to 6 is 1/6, which is the same for all outcomes. The probability density function of a uniform distribution is a flat line, indicating that the probability of each value is constant throughout the range of the distribution.\n",
    "\n",
    "In summary, uniform distribution is a probability distribution where all possible outcomes are equally likely. It is commonly used in situations where there is no reason to expect any value to be more likely than another value within a given range."
   ]
  },
  {
   "cell_type": "markdown",
   "id": "9fd5bba8-edd6-44fa-b879-7011e051e88a",
   "metadata": {},
   "source": [
    "### Q8: What is the z score? State the importance of the z score."
   ]
  },
  {
   "cell_type": "markdown",
   "id": "c355697b-9672-40ea-bc04-967408dee538",
   "metadata": {},
   "source": [
    "The z-score, also known as the standard score, is a statistical measure that indicates how many standard deviations a data point is from the mean of a dataset. It is calculated by subtracting the mean from the data point and then dividing by the standard deviation.\n",
    "\n",
    "The formula for calculating the z-score is:\n",
    "\n",
    "z = (x - μ) / σ\n",
    "\n",
    "where z is the z-score, x is the data point, μ is the mean of the dataset, and σ is the standard deviation of the dataset.\n",
    "\n",
    "The importance of the z-score lies in its ability to standardize data and make it comparable across different datasets. By converting data to z-scores, we can determine how many standard deviations a data point is from the mean, which allows us to compare data from different datasets that may have different units or scales. Z-scores also allow us to determine the proportion of data that falls above or below a certain threshold, which can be useful in hypothesis testing and statistical inference.\n",
    "\n",
    "In addition, the z-score is used in the construction of confidence intervals and hypothesis testing. It helps us determine the probability of observing a certain value or range of values, given the mean and standard deviation of the population.\n",
    "\n",
    "Overall, the z-score is an important statistical tool that helps us standardize and compare data, make statistical inferences, and make decisions based on empirical evidence."
   ]
  },
  {
   "cell_type": "markdown",
   "id": "4e1d7270-719c-4e1a-b829-2b8cd0ec7d6d",
   "metadata": {},
   "source": [
    "### Q9: What is Central Limit Theorem? State the significance of the Central Limit Theorem."
   ]
  },
  {
   "cell_type": "code",
   "execution_count": null,
   "id": "eafed125-0431-4b02-94ff-0bfcbe69904d",
   "metadata": {},
   "outputs": [],
   "source": []
  },
  {
   "cell_type": "markdown",
   "id": "4b34dd7a-89e3-41ef-be09-8baa2170e23f",
   "metadata": {},
   "source": [
    "### Q10: State the assumptions of the Central Limit Theorem."
   ]
  },
  {
   "cell_type": "code",
   "execution_count": null,
   "id": "fe7992e3-88a0-47b1-a4ca-27cede2fd45b",
   "metadata": {},
   "outputs": [],
   "source": []
  },
  {
   "cell_type": "code",
   "execution_count": null,
   "id": "2704ca8d-a48b-4969-8367-c34277d905e6",
   "metadata": {},
   "outputs": [],
   "source": []
  },
  {
   "cell_type": "code",
   "execution_count": null,
   "id": "8c0fd3a2-8fea-4273-9f58-408b2f5f0491",
   "metadata": {},
   "outputs": [],
   "source": []
  }
 ],
 "metadata": {
  "kernelspec": {
   "display_name": "Python 3 (ipykernel)",
   "language": "python",
   "name": "python3"
  },
  "language_info": {
   "codemirror_mode": {
    "name": "ipython",
    "version": 3
   },
   "file_extension": ".py",
   "mimetype": "text/x-python",
   "name": "python",
   "nbconvert_exporter": "python",
   "pygments_lexer": "ipython3",
   "version": "3.10.8"
  }
 },
 "nbformat": 4,
 "nbformat_minor": 5
}
