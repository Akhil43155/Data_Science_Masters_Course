{
 "cells": [
  {
   "cell_type": "markdown",
   "id": "3ab10856-615f-49e2-82f2-4e0c5cf70298",
   "metadata": {},
   "source": [
    "### Q1: What is Estimation Statistics? Explain point estimate and interval estimate."
   ]
  },
  {
   "cell_type": "markdown",
   "id": "1e87edb8-b424-406f-9bff-50dbad4263e6",
   "metadata": {},
   "source": [
    "Estimation statistics is a branch of inferential statistics that involves using sample data to estimate the values of unknown population parameters. The two common types of estimation in statistics are point estimation and interval estimation.\n",
    "\n",
    "Point Estimate:\n",
    "A point estimate is a single value that is used to estimate an unknown parameter of the population. This value is typically the sample statistic, such as the mean or proportion, that is calculated from the sample data. The point estimate serves as an estimate of the true population parameter and is used as a starting point for further statistical analysis.\n",
    "\n",
    "Interval Estimate:\n",
    "An interval estimate is a range of values within which the true population parameter is believed to lie, based on the sample data. It provides a measure of uncertainty associated with the point estimate. An interval estimate is calculated by specifying two values, called the lower and upper bounds, that are centered around the point estimate. This range is called a confidence interval, and the level of confidence associated with the interval represents the probability that the true population parameter lies within the specified range.\n",
    "\n",
    "In summary, point estimate provides a single value as an estimate of the unknown population parameter, while interval estimate provides a range of values within which the true population parameter is believed to lie."
   ]
  },
  {
   "cell_type": "markdown",
   "id": "33d502da-c16e-4869-bf09-d47ef1fd7684",
   "metadata": {},
   "source": [
    "### Q2. Write a Python function to estimate the population mean using a sample mean and standard \n",
    "deviation."
   ]
  },
  {
   "cell_type": "code",
   "execution_count": 1,
   "id": "8b3e6769-2491-449d-aa25-cf99c31d446c",
   "metadata": {},
   "outputs": [],
   "source": [
    "def estimate_population_mean(sample_mean, sample_std_dev, sample_size):\n",
    "    \"\"\"Function to estimate population mean using sample mean and standard deviation\"\"\"\n",
    "    \n",
    "    # Calculate the standard error of the mean using the sample standard deviation and sample size\n",
    "    std_error = sample_std_dev / (sample_size ** 0.5)\n",
    "    \n",
    "    # Calculate the lower and upper bounds of the confidence interval using a 95% level of confidence\n",
    "    lower_bound = sample_mean - 1.96 * std_error\n",
    "    upper_bound = sample_mean + 1.96 * std_error\n",
    "    \n",
    "    # Return the estimated population mean and the confidence interval\n",
    "    return sample_mean, (lower_bound, upper_bound)\n"
   ]
  },
  {
   "cell_type": "markdown",
   "id": "0d37bb9b-98ff-4796-81d9-9eb3c35334c0",
   "metadata": {},
   "source": [
    "### Q3: What is Hypothesis testing? Why is it used? State the importance of Hypothesis testing."
   ]
  },
  {
   "cell_type": "markdown",
   "id": "f1a4ca57-5aa6-48ae-bbfe-30acdd942ba2",
   "metadata": {},
   "source": [
    "Hypothesis testing is a statistical method used to determine whether a statement or assumption about a population parameter is supported by the available sample data. In hypothesis testing, we start by assuming a null hypothesis, which is usually the opposite of the statement we are trying to prove. We then collect sample data and calculate a test statistic, which is used to determine whether we can reject the null hypothesis in favor of an alternative hypothesis.\n",
    "\n",
    "Hypothesis testing is used to make decisions about the population based on sample data. It allows us to test theories, make predictions, and draw conclusions about a population from a smaller sample. Hypothesis testing is used across a variety of fields, including science, social science, business, and engineering, to name a few. It is particularly important in research, where it is used to test the validity of a hypothesis and to draw conclusions about the relationship between variables.\n",
    "\n",
    "The importance of hypothesis testing lies in its ability to make statistically valid inferences about a population based on a smaller sample. It provides a framework for evaluating the significance of findings and allows researchers to determine whether their results are likely to be due to chance or to a real effect in the population. This helps to ensure that research findings are accurate and reliable, and can be used to guide future research and decision-making.\n",
    "\n",
    "Additionally, hypothesis testing helps to identify potential errors in research studies, such as sampling bias, measurement error, and confounding variables. By testing hypotheses, researchers can ensure that their findings are not due to these errors and that they accurately represent the population of interest.\n",
    "\n",
    "Overall, hypothesis testing is a critical tool for making decisions and drawing conclusions about populations based on sample data. It provides a systematic and objective way to evaluate the significance of findings and helps to ensure the accuracy and reliability of research results."
   ]
  },
  {
   "cell_type": "markdown",
   "id": "4d357f7d-1b42-4837-a1ef-d6d96eaf3ca2",
   "metadata": {},
   "source": [
    "### Q4. Create a hypothesis that states whether the average weight of male college students is greater than \n",
    "the average weight of female college students."
   ]
  },
  {
   "cell_type": "markdown",
   "id": "fff74a78-a8b3-44dc-a9e6-1a967f48351e",
   "metadata": {},
   "source": [
    "Null hypothesis: The average weight of male college students is equal to or less than the average weight of female college students.\n",
    "Alternative hypothesis: The average weight of male college students is greater than the average weight of female college students.\n",
    "\n",
    "Symbolically, we can represent the hypotheses as follows:\n",
    "\n",
    "H0: μ_male <= μ_female\n",
    "Ha: μ_male > μ_female\n",
    "\n",
    "Here, μ_male represents the population mean weight of male college students, and μ_female represents the population mean weight of female college students.\n",
    "\n",
    "To test this hypothesis, we would need to collect a sample of male and female college students and calculate the sample means and standard deviations for each group. We would then use a hypothesis testing method, such as a t-test, to determine whether the difference in sample means is statistically significant and whether we can reject the null hypothesis in favor of the alternative hypothesis.\n",
    "\n",
    "It is important to note that the null and alternative hypotheses can be formulated differently depending on the research question and the directionality of the hypothesis. Additionally, the hypotheses should be based on prior research or theoretical knowledge, and the sample size and sampling method should be carefully considered to ensure the validity and reliability of the results.\n",
    "\n",
    "\n",
    "\n",
    "\n"
   ]
  },
  {
   "cell_type": "markdown",
   "id": "a1a1d227-3cb2-4a70-a6dd-669b25064a20",
   "metadata": {},
   "source": [
    "### Q5. Write a Python script to conduct a hypothesis test on the difference between two population means, \n",
    "given a sample from each population."
   ]
  },
  {
   "cell_type": "code",
   "execution_count": 2,
   "id": "19088d2d-f16c-4636-8a73-8e7e0efc6c68",
   "metadata": {},
   "outputs": [
    {
     "name": "stdout",
     "output_type": "stream",
     "text": [
      "t-statistic: -4.37\n",
      "p-value: 0.0000\n",
      "The difference between the population means is statistically significant.\n"
     ]
    }
   ],
   "source": [
    "import numpy as np\n",
    "from scipy.stats import ttest_ind\n",
    "\n",
    "# Generate two random samples from two populations\n",
    "sample1 = np.random.normal(loc=10, scale=2, size=50)\n",
    "sample2 = np.random.normal(loc=12, scale=2, size=50)\n",
    "\n",
    "# Conduct a two-sample t-test assuming unequal variances\n",
    "t_stat, p_val = ttest_ind(sample1, sample2, equal_var=False)\n",
    "\n",
    "# Print the t-statistic and p-value\n",
    "print(\"t-statistic: {:.2f}\".format(t_stat))\n",
    "print(\"p-value: {:.4f}\".format(p_val))\n",
    "\n",
    "# Compare the p-value to a chosen significance level (e.g. 0.05) to determine significance\n",
    "if p_val < 0.05:\n",
    "    print(\"The difference between the population means is statistically significant.\")\n",
    "else:\n",
    "    print(\"The difference between the population means is not statistically significant.\")\n"
   ]
  },
  {
   "cell_type": "markdown",
   "id": "dbefc79f-4709-4b18-b391-326929cbc047",
   "metadata": {},
   "source": [
    "In this example, we are generating two random samples from two populations with different means and standard deviations using the numpy.random.normal() function. We then conduct a two-sample t-test assuming unequal variances using the scipy.stats.ttest_ind() function. This function returns the t-statistic and the p-value.\n",
    "\n",
    "We then print the t-statistic and the p-value and compare the p-value to a chosen significance level (e.g. 0.05) to determine whether the difference between the population means is statistically significant. If the p-value is less than the significance level, we can reject the null hypothesis and conclude that the difference between the population means is statistically significant. Otherwise, we fail to reject the null hypothesis and conclude that the difference between the population means is not statistically significant.\n",
    "\n",
    "Note that the sample sizes and sampling method should be carefully considered to ensure the validity and reliability of the results. Additionally, the assumptions of the t-test, such as normality and homogeneity of variance, should be checked before conducting the test."
   ]
  },
  {
   "cell_type": "markdown",
   "id": "a5adb656-7f52-4eec-9aa1-6a6f83f712ed",
   "metadata": {},
   "source": [
    "### Q6: What is a null and alternative hypothesis? Give some examples."
   ]
  },
  {
   "cell_type": "markdown",
   "id": "9f970abb-1c75-4d33-b580-ee8357863904",
   "metadata": {},
   "source": [
    "A null hypothesis is a statement that assumes there is no significant difference between two or more variables, while an alternative hypothesis is a statement that assumes there is a significant difference between them.\n",
    "\n",
    "For example, suppose we are interested in investigating whether a new drug is effective in treating a particular medical condition. The null hypothesis would be that there is no difference in the effectiveness of the new drug compared to the current standard treatment, while the alternative hypothesis would be that the new drug is more effective than the current standard treatment.\n",
    "\n",
    "Here are some other examples of null and alternative hypotheses:\n",
    "\n",
    "Null hypothesis: There is no significant difference in the average test scores of students who study alone compared to those who study in groups.\n",
    "Alternative hypothesis: Students who study in groups have higher average test scores compared to those who study alone.\n",
    "\n",
    "Null hypothesis: There is no significant difference in the number of customer complaints between two competing companies.\n",
    "Alternative hypothesis: One of the companies has a higher number of customer complaints compared to the other.\n",
    "\n",
    "Null hypothesis: There is no significant difference in the effectiveness of two different advertising campaigns.\n",
    "Alternative hypothesis: One advertising campaign is more effective than the other.\n",
    "\n",
    "Null hypothesis: There is no significant difference in the average salary of male and female employees in a company.\n",
    "Alternative hypothesis: The average salary of male employees is higher than that of female employees.\n",
    "\n",
    "Note that the null and alternative hypotheses should be formulated based on prior research or theoretical knowledge, and the sample size and sampling method should be carefully considered to ensure the validity and reliability of the results. Additionally, the hypotheses should be tested using appropriate statistical methods to determine whether the results are statistically significant."
   ]
  },
  {
   "cell_type": "markdown",
   "id": "7c3c799d-d301-43c3-92d5-d6d5018c4457",
   "metadata": {},
   "source": [
    "### Q7: Write down the steps involved in hypothesis testing."
   ]
  },
  {
   "cell_type": "markdown",
   "id": "d146dd19-b6b3-43c9-bccb-c89995d9856f",
   "metadata": {},
   "source": [
    "Here are the general steps involved in hypothesis testing:\n",
    "\n",
    "State the research question: Clearly define the research question that you want to investigate.\n",
    "\n",
    "Formulate null and alternative hypotheses: Based on the research question, formulate a null hypothesis and an alternative hypothesis.\n",
    "\n",
    "Determine the level of significance: Choose a level of significance (alpha) to use for the hypothesis test. The most commonly used level of significance is 0.05.\n",
    "\n",
    "Choose a test statistic: Choose a test statistic that is appropriate for the research question and the type of data being analyzed. Common test statistics include t-test, z-test, chi-squared test, ANOVA, etc.\n",
    "\n",
    "Collect and prepare data: Collect the data and prepare it for analysis by cleaning and formatting it.\n",
    "\n",
    "Calculate the test statistic: Calculate the test statistic using the collected data.\n",
    "\n",
    "Determine the critical value: Determine the critical value for the chosen level of significance and degrees of freedom.\n",
    "\n",
    "Calculate the p-value: Calculate the p-value associated with the test statistic.\n",
    "\n",
    "Make a decision: Compare the p-value to the level of significance. If the p-value is less than the level of significance, reject the null hypothesis and accept the alternative hypothesis. If the p-value is greater than the level of significance, fail to reject the null hypothesis.\n",
    "\n",
    "Draw conclusions: Based on the results of the hypothesis test, draw conclusions about the research question and make recommendations for further research if necessary.\n",
    "\n",
    "It is important to note that the steps involved in hypothesis testing can vary depending on the research question, the type of data being analyzed, and the chosen test statistic. Additionally, the assumptions of the chosen test statistic should be checked before conducting the hypothesis test to ensure the validity and reliability of the results."
   ]
  },
  {
   "cell_type": "markdown",
   "id": "fb8907e9-b820-416a-b91e-6df3fa552658",
   "metadata": {},
   "source": [
    "### Q8. Define p-value and explain its significance in hypothesis testing."
   ]
  },
  {
   "cell_type": "markdown",
   "id": "448d11df-f926-43ef-aa54-d6d661a0e602",
   "metadata": {},
   "source": [
    "In hypothesis testing, the p-value is the probability of observing a test statistic as extreme as, or more extreme than, the one calculated from the sample data, assuming the null hypothesis is true. In other words, the p-value tells us the probability of getting a result as extreme as the one we observed, given that the null hypothesis is true.\n",
    "\n",
    "The significance of the p-value in hypothesis testing is that it is used to make a decision about whether to reject or fail to reject the null hypothesis. The general rule is that if the p-value is less than or equal to the chosen level of significance (alpha), typically 0.05, then we reject the null hypothesis and accept the alternative hypothesis. Conversely, if the p-value is greater than the chosen level of significance, we fail to reject the null hypothesis.\n",
    "\n",
    "For example, suppose we conduct a hypothesis test to investigate whether the mean weight of a sample of apples is different from 100 grams, and we obtain a p-value of 0.02. If we choose a level of significance of 0.05, then the p-value is less than the level of significance, and we can reject the null hypothesis and conclude that the mean weight of the apples is different from 100 grams. On the other hand, if the p-value is greater than 0.05, we fail to reject the null hypothesis and cannot conclude that the mean weight of the apples is different from 100 grams.\n",
    "\n",
    "Therefore, the p-value is a key factor in determining the statistical significance of a hypothesis test, and it provides a way to quantify the strength of evidence against the null hypothesis."
   ]
  },
  {
   "cell_type": "markdown",
   "id": "ab55a1c4-a3a8-4aa0-88e7-92ec50e08298",
   "metadata": {},
   "source": [
    "### Q9. Generate a Student's t-distribution plot using Python's matplotlib library, with the degrees of freedom \n",
    "parameter set to 10."
   ]
  },
  {
   "cell_type": "code",
   "execution_count": 3,
   "id": "2f246b1c-cf6e-43a4-9827-7d7142911d14",
   "metadata": {},
   "outputs": [
    {
     "data": {
      "image/png": "[encoded data removed]",
      "text/plain": [
       "<Figure size 640x480 with 1 Axes>"
      ]
     },
     "metadata": {},
     "output_type": "display_data"
    }
   ],
   "source": [
    "import numpy as np\n",
    "import matplotlib.pyplot as plt\n",
    "\n",
    "# Define the degrees of freedom\n",
    "df = 10\n",
    "\n",
    "# Generate the x-axis values\n",
    "x = np.linspace(-4, 4, 500)\n",
    "\n",
    "# Calculate the y-axis values for the t-distribution\n",
    "y = (1 / (np.sqrt(df) * np.sqrt(np.pi))) * ((1 + (x**2/df))**(-((df+1)/2)))\n",
    "\n",
    "# Plot the t-distribution\n",
    "plt.plot(x, y, label='t-distribution (df=10)')\n",
    "\n",
    "# Add title and legend to the plot\n",
    "plt.title('Student\\'s t-distribution (df=10)')\n",
    "plt.legend()\n",
    "\n",
    "# Display the plot\n",
    "plt.show()\n"
   ]
  },
  {
   "cell_type": "markdown",
   "id": "6f04eff6-0f00-4eef-8b1e-4b4147e0ad83",
   "metadata": {},
   "source": [
    "### Q10. Write a Python program to calculate the two-sample t-test for independent samples, given two \n",
    "random samples of equal size and a null hypothesis that the population means are equal."
   ]
  },
  {
   "cell_type": "code",
   "execution_count": 4,
   "id": "96fe27ad-930d-4d98-ae8c-11a1bbd5a254",
   "metadata": {},
   "outputs": [
    {
     "name": "stdout",
     "output_type": "stream",
     "text": [
      "Sample 1 mean: 10.466281217857045\n",
      "Sample 2 mean: 12.468431092778808\n",
      "t-statistic: -4.804457547808083\n",
      "p-value: 5.588845040932489e-06\n",
      "Reject the null hypothesis\n"
     ]
    }
   ],
   "source": [
    "import numpy as np\n",
    "from scipy import stats\n",
    "\n",
    "# Generate two random samples of equal size\n",
    "sample1 = np.random.normal(10, 2, 50)\n",
    "sample2 = np.random.normal(12, 2, 50)\n",
    "\n",
    "# Calculate the t-statistic and p-value using the ttest_ind function from the scipy.stats module\n",
    "t_statistic, p_value = stats.ttest_ind(sample1, sample2)\n",
    "\n",
    "# Print the results\n",
    "print('Sample 1 mean:', np.mean(sample1))\n",
    "print('Sample 2 mean:', np.mean(sample2))\n",
    "print('t-statistic:', t_statistic)\n",
    "print('p-value:', p_value)\n",
    "\n",
    "# Determine whether to reject or fail to reject the null hypothesis based on the p-value\n",
    "if p_value < 0.05:\n",
    "    print('Reject the null hypothesis')\n",
    "else:\n",
    "    print('Fail to reject the null hypothesis')\n"
   ]
  },
  {
   "cell_type": "markdown",
   "id": "dee26b3e-df5c-40fc-972a-30abef03fbc5",
   "metadata": {},
   "source": [
    "### Q11: What is Student’s t distribution? When to use the t-Distribution."
   ]
  },
  {
   "cell_type": "markdown",
   "id": "e43adc1d-8d9e-43bc-b0cf-7672e43abbb1",
   "metadata": {},
   "source": [
    "The Student's t-distribution is a probability distribution that is used in hypothesis testing to estimate the population mean when the sample size is small or when the population standard deviation is unknown. It is named after William Gosset, who wrote under the pseudonym \"Student\" while working for the Guinness brewery in Dublin.\n",
    "\n",
    "The t-distribution is similar in shape to the standard normal distribution, but with heavier tails. The shape of the distribution is determined by its degrees of freedom, which depend on the sample size. As the sample size increases, the t-distribution approaches the standard normal distribution.\n",
    "\n",
    "The t-distribution is used in situations where the population standard deviation is unknown, which is often the case in practice. It is also used when the sample size is small, typically less than 30, since in this case the sample standard deviation may not be a good estimator of the population standard deviation. The t-distribution provides a way to account for the uncertainty in the sample standard deviation and to calculate confidence intervals and p-values for hypothesis tests involving the population mean.\n",
    "\n",
    "In summary, the t-distribution is used when:\n",
    "\n",
    "The population standard deviation is unknown.\n",
    "The sample size is small, typically less than 30.\n",
    "The variable being measured follows a normal distribution or can be approximated by a normal distribution."
   ]
  },
  {
   "cell_type": "markdown",
   "id": "6c6d9127-9c12-4459-8b91-1ee58582e774",
   "metadata": {},
   "source": [
    "### Q12: What is t-statistic? State the formula for t-statistic."
   ]
  },
  {
   "cell_type": "markdown",
   "id": "5505ec7c-b910-4312-b1ee-34676826ff3c",
   "metadata": {},
   "source": [
    "The t-statistic is a measure of the difference between the sample mean and the population mean, relative to the standard error of the mean. It is used in hypothesis testing to determine whether the difference between two groups is statistically significant.\n",
    "\n",
    "The formula for the t-statistic is:\n",
    "\n",
    "t = (x̄₁ - x̄₂) / (s_p * sqrt(1/n₁ + 1/n₂))\n",
    "\n",
    "where:\n",
    "\n",
    "x̄₁ and x̄₂ are the sample means of the two groups being compared.\n",
    "s_p is the pooled standard deviation, calculated as:\n",
    "s_p = sqrt(((n₁ - 1)*s₁² + (n₂ - 1)*s₂²) / (n₁ + n₂ - 2))\n",
    "\n",
    "where s₁ and s₂ are the sample standard deviations of the two groups, and n₁ and n₂ are the sample sizes.\n",
    "\n",
    "n₁ and n₂ are the sample sizes of the two groups being compared.\n",
    "The t-statistic follows a t-distribution with degrees of freedom equal to the sum of the sample sizes minus two (df = n₁ + n₂ - 2). By comparing the calculated t-value to the critical value from a t-distribution table or using a p-value, we can determine whether to reject or fail to reject the null hypothesis. If the calculated t-value is greater than the critical value or the p-value is less than the significance level, we reject the null hypothesis and conclude that there is a significant difference between the two groups."
   ]
  },
  {
   "cell_type": "markdown",
   "id": "f2f334d9-eed3-408e-851c-a4ce64eda98c",
   "metadata": {},
   "source": [
    "### Q13. A coffee shop owner wants to estimate the average daily revenue for their shop. They take a random \n",
    "sample of 50 days and find the sample mean revenue to be $500 with a standard deviation of $50. \n",
    "Estimate the population mean revenue with a 95% confidence interval."
   ]
  },
  {
   "cell_type": "markdown",
   "id": "86a7918f-13ec-4088-a682-7e533fc79dd2",
   "metadata": {},
   "source": [
    "Given:\n",
    "\n",
    "Sample size n = 50\n",
    "Sample mean x̄ = $500\n",
    "Confidence level = 95%\n",
    "To calculate the confidence interval for the population mean revenue, we need to use the t-distribution since the population standard deviation is unknown and the sample size is less than 30.\n",
    "\n",
    "First, we need to find the t-value for a 95% confidence level with 49 degrees of freedom (n - 1).\n",
    "\n",
    "Using a t-distribution table or calculator, we find that the t-value for a 95% confidence level with 49 degrees of freedom is 2.009.\n",
    "\n",
    "Next, we can calculate the standard error of the mean as:\n",
    "\n",
    "SE = s / sqrt(n)\n",
    "\n",
    "where s is the sample standard deviation.\n",
    "\n",
    "Since we do not have the sample standard deviation, we can estimate it using the formula:\n",
    "\n",
    "s = √((Σ(xᵢ - x̄)²) / (n - 1))\n",
    "\n",
    "where xᵢ is the revenue for the ith day.\n",
    "\n",
    "We do not have the actual revenue data, so let's assume a sample standard deviation of $50.\n",
    "\n",
    "s = $50 / sqrt(50 - 1) = $7.07 (rounded to two decimal places)\n",
    "\n",
    "Now we can calculate the margin of error as:\n",
    "\n",
    "ME = t-value * SE\n",
    "\n",
    "ME = 2.009 * ($7.07 / sqrt(50)) = $2.50 (rounded to two decimal places)\n",
    "\n",
    "Finally, we can calculate the confidence interval as:\n",
    "\n",
    "CI = (x̄ - ME, x̄ + ME)\n",
    "\n",
    "CI = ($500 - $2.50, $500 + $2.50) = ($497.50, $502.50)\n",
    "\n",
    "Therefore, we can be 95% confident that the true population mean revenue for the coffee shop is between $497.50 and $502.50."
   ]
  },
  {
   "cell_type": "markdown",
   "id": "6fb74fde-8a8c-4aeb-9217-78ff1a1b402b",
   "metadata": {},
   "source": [
    "### Q14. A researcher hypothesizes that a new drug will decrease blood pressure by 10 mmHg. They conduct a \n",
    "clinical trial with 100 patients and find that the sample mean decrease in blood pressure is 8 mmHg with a \n",
    "standard deviation of 3 mmHg. Test the hypothesis with a significance level of 0.05."
   ]
  },
  {
   "cell_type": "markdown",
   "id": "57f1900e-4bda-44e0-a717-716c6e25b032",
   "metadata": {},
   "source": [
    "Given:\n",
    "\n",
    "Null hypothesis: The new drug will not decrease blood pressure by 10 mmHg (H0: µ = 10)\n",
    "Alternative hypothesis: The new drug will decrease blood pressure by 10 mmHg (Ha: µ < 10)\n",
    "Sample size n = 100\n",
    "Sample mean x̄ = 8 mmHg\n",
    "Sample standard deviation s = 3 mmHg\n",
    "Significance level α = 0.05\n",
    "To test the hypothesis, we need to calculate the t-statistic:\n",
    "\n",
    "t = (x̄ - µ) / (s / sqrt(n))\n",
    "\n",
    "where x̄ is the sample mean, µ is the hypothesized population mean, s is the sample standard deviation, and n is the sample size.\n",
    "\n",
    "Plugging in the values, we get:\n",
    "\n",
    "t = (8 - 10) / (3 / sqrt(100)) = -6.67\n",
    "\n",
    "The degrees of freedom for this test is (n - 1) = 99.\n",
    "\n",
    "Using a t-distribution table or calculator with 99 degrees of freedom and a one-tailed test at α = 0.05, we find the critical t-value to be -1.660.\n",
    "\n",
    "Since our calculated t-value (-6.67) is less than the critical t-value (-1.660), we can reject the null hypothesis and conclude that the new drug decreases blood pressure by more than 10 mmHg at a significance level of 0.05.\n",
    "\n",
    "Therefore, there is sufficient evidence to support the researcher's hypothesis that the new drug will decrease blood pressure by 10 mmHg."
   ]
  },
  {
   "cell_type": "markdown",
   "id": "c5f84a14-6ff7-47e7-a7f7-8d0c67c6bdd4",
   "metadata": {},
   "source": [
    "### Q15. An electronics company produces a certain type of product with a mean weight of 5 pounds and a \n",
    "standard deviation of 0.5 pounds. A random sample of 25 products is taken, and the sample mean weight \n",
    "is found to be 4.8 pounds. Test the hypothesis that the true mean weight of the products is less than 5 \n",
    "pounds with a significance level of 0.01."
   ]
  },
  {
   "cell_type": "markdown",
   "id": "51d54976-bc62-47e8-9afa-40aedd7cb81a",
   "metadata": {},
   "source": [
    "Given:\n",
    "\n",
    "Null hypothesis: The true mean weight of the products is equal to 5 pounds (H0: µ = 5)\n",
    "Alternative hypothesis: The true mean weight of the products is less than 5 pounds (Ha: µ < 5)\n",
    "Sample size n = 25\n",
    "Sample mean x̄ = 4.8 pounds\n",
    "Population standard deviation σ = 0.5 pounds\n",
    "Significance level α = 0.01\n",
    "To test the hypothesis, we need to calculate the t-statistic:\n",
    "\n",
    "t = (x̄ - µ) / (σ / sqrt(n))\n",
    "\n",
    "where x̄ is the sample mean, µ is the hypothesized population mean, σ is the population standard deviation, and n is the sample size.\n",
    "\n",
    "Plugging in the values, we get:\n",
    "\n",
    "t = (4.8 - 5) / (0.5 / sqrt(25)) = -2.0\n",
    "\n",
    "The degrees of freedom for this test is (n - 1) = 24.\n",
    "\n",
    "Using a t-distribution table or calculator with 24 degrees of freedom and a one-tailed test at α = 0.01, we find the critical t-value to be -2.492.\n",
    "\n",
    "Since our calculated t-value (-2.0) is greater than the critical t-value (-2.492), we fail to reject the null hypothesis and conclude that there is not enough evidence to support the claim that the true mean weight of the products is less than 5 pounds at a significance level of 0.01.\n",
    "\n",
    "Therefore, we can say that the sample data does not provide enough evidence to conclude that the mean weight of the products is less than 5 pounds."
   ]
  },
  {
   "cell_type": "markdown",
   "id": "4a27ce74-8908-4857-abbb-763d1b21a36a",
   "metadata": {},
   "source": [
    "### Q16. Two groups of students are given different study materials to prepare for a test. The first group (n1 = \n",
    "30) has a mean score of 80 with a standard deviation of 10, and the second group (n2 = 40) has a mean \n",
    "score of 75 with a standard deviation of 8. Test the hypothesis that the population means for the two \n",
    "groups are equal with a significance level of 0.01."
   ]
  },
  {
   "cell_type": "markdown",
   "id": "a148377f-0c69-48ac-b48b-dc2c9dc0da6e",
   "metadata": {},
   "source": [
    "Given:\n",
    "\n",
    "First group sample size n1 = 30\n",
    "First group sample mean x̄1 = 80\n",
    "First group sample standard deviation s1 = 10\n",
    "Second group sample size n2 = 40\n",
    "Second group sample mean x̄2 = 75\n",
    "Second group sample standard deviation s2 = 8\n",
    "Null hypothesis: The population means of the two groups are equal (H0: µ1 = µ2)\n",
    "Alternative hypothesis: The population means of the two groups are not equal (Ha: µ1 ≠ µ2)\n",
    "Significance level α = 0.01\n",
    "We can use the two-sample t-test for independent samples to test the hypothesis. The formula for the t-statistic is:\n",
    "\n",
    "t = (x̄1 - x̄2) / sqrt[(s1^2 / n1) + (s2^2 / n2)]\n",
    "\n",
    "Plugging in the values, we get:\n",
    "\n",
    "t = (80 - 75) / sqrt[(10^2 / 30) + (8^2 / 40)] = 2.67\n",
    "\n",
    "The degrees of freedom for this test is (n1 + n2 - 2) = 68.\n",
    "\n",
    "Using a t-distribution table or calculator with 68 degrees of freedom and a two-tailed test at α = 0.01, we find the critical t-value to be ±2.617.\n",
    "\n",
    "Since our calculated t-value (2.67) is greater than the critical t-value (±2.617), we reject the null hypothesis and conclude that there is enough evidence to support the claim that the population means of the two groups are not equal at a significance level of 0.01.\n",
    "\n",
    "Therefore, we can say that there is a statistically significant difference in the mean scores between the two groups of students."
   ]
  },
  {
   "cell_type": "markdown",
   "id": "a752aaf4-0e60-4104-ac2b-68c607fbe13c",
   "metadata": {},
   "source": [
    "### Q17. A marketing company wants to estimate the average number of ads watched by viewers during a TV \n",
    "program. They take a random sample of 50 viewers and find that the sample mean is 4 with a standard \n",
    "deviation of 1.5. Estimate the population mean with a 99% confidence interval"
   ]
  },
  {
   "cell_type": "code",
   "execution_count": null,
   "id": "2c4fdb00-11e5-4c8c-8bb9-5c3cc3507778",
   "metadata": {},
   "outputs": [],
   "source": []
  },
  {
   "cell_type": "code",
   "execution_count": null,
   "id": "578307c7-25be-4a0b-98d1-218a0229e28e",
   "metadata": {},
   "outputs": [],
   "source": []
  },
  {
   "cell_type": "code",
   "execution_count": null,
   "id": "8ec00d99-f049-45c1-a1a8-4f0b93996f03",
   "metadata": {},
   "outputs": [],
   "source": []
  },
  {
   "cell_type": "code",
   "execution_count": null,
   "id": "2e9cb8c4-3889-49f4-8550-ef7791348a29",
   "metadata": {},
   "outputs": [],
   "source": []
  },
  {
   "cell_type": "code",
   "execution_count": null,
   "id": "41480563-7e7e-4187-bbc0-2b6ce6309661",
   "metadata": {},
   "outputs": [],
   "source": []
  }
 ],
 "metadata": {
  "kernelspec": {
   "display_name": "Python 3 (ipykernel)",
   "language": "python",
   "name": "python3"
  },
  "language_info": {
   "codemirror_mode": {
    "name": "ipython",
    "version": 3
   },
   "file_extension": ".py",
   "mimetype": "text/x-python",
   "name": "python",
   "nbconvert_exporter": "python",
   "pygments_lexer": "ipython3",
   "version": "3.10.8"
  }
 },
 "nbformat": 4,
 "nbformat_minor": 5
}
