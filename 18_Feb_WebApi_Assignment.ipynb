{
 "cells": [
  {
   "cell_type": "markdown",
   "id": "386f2e76-df44-4032-b320-ae8764165100",
   "metadata": {},
   "source": [
    "## Q1. What is an API? Give an example, where an API is used in real life."
   ]
  },
  {
   "cell_type": "markdown",
   "id": "e65685bd-49ac-4582-8ad6-0db5a92b24f4",
   "metadata": {},
   "source": [
    "Application Programming Interface (API) is a software interface that allows two applications to interact with each other without any user intervention. API is a collection of software functions and procedures. In simple terms, API means a software code that can be accessed or executed.\n",
    "\n",
    "API examples are littered throughout your everyday life, whether you know it or not. This is because APIs are the primary software infrastructure ensuring that distinct software can work in unison.\n",
    "\n",
    "Before today, you may have not realized how important it is for software to work together or how often it's really happening behind the scenes. But in this piece, you'll be introduced to seven API examples, including:\n",
    "\n",
    "1) Twitter Bots\n",
    "2) Log-In Using XYZ\n",
    "3) Weather Snippers\n",
    "4) Pay with PayPal\n",
    "5) Google Maps\n",
    "6) Travel Booking\n",
    "7) E-Commerce.\n",
    "\n",
    " These API examples will deepen your understanding of the concept and its practical use in the software industry.\n",
    " \n",
    "\n",
    "\n",
    "7)  Examples of APIs\n",
    "To be fair, it's a bit difficult to truly understand application programming interfaces without knowing their real-life applications. Below are nine API examples, demonstrating various types of APIs.\n",
    "\n",
    "1. Twitter Bots\n",
    "If you spend a significant amount of time on Twitter, then you've probably come across a bot at one point or another. Twitter has numerous bots that utilize the Twitter API to perform automated tasks.\n",
    "\n",
    "Over a decade ago, Twitter bots accounted for 24% of tweets. No doubt today, their involvement is even greater. There are so many bots it's hard to find which ones stick out more than the others.\n",
    "\n",
    "But for the purpose of giving API examples, it's worth discussing one or two notable Twitter bots.\n",
    "\n",
    "One fan favorite is @MagicRealismBot, a Twitter bot that generates magical stories every four hours. It uses a random combination of genre-defining elements and plugs them into a 280-character tweet.\n",
    "\n",
    "Tweet from Magic Realism Bot.\n",
    "@MagicRealism is a Twitter bot fan favorite that generates surreal stories intermittently. \n",
    "A more utilitarian Twitter bot is called @ThreadReaderApp. Twitter users can tag the bot under any thread. Then, the bot wraps up all the text from the thread and presents it as normal, readable text on a page.\n",
    "\n",
    "Both these bots take advantage of the Twitter API to work successfully with Twitter's interior software system.\n",
    "\n",
    "2. Log-In Using XYZ\n",
    "Okay, so there's a fair chance you don't have an account on any platform called \"XYZ\". No worries.\n",
    "\n",
    "Really, the idea is that to sign up for or log into virtually any online service you now have the option to avoid managing a secular account with its own data.\n",
    "\n",
    "To be clear, surely there are a variety of circumstances where you've clicked \"log-in using Facebook\" or \"log-in using Google\".\n",
    "\n",
    "The effort of creating a whole new account for a certain platform just didn't seem worth it. Luckily, there was a workaround readily available.\n",
    "\n",
    "But you have to remember that whichever platform you were on doesn't just happen to be best friends with Google, Facebook, Twitter, or any other social account.\n",
    "\n",
    "Even logging in with your information from other platforms requires an API to connect the two platforms together. This is an API example in its natural habitat.\n",
    "\n",
    "3. Weather Snippets\n",
    "Ever do a Google search for the weather? A good search input likely resulted in a pop-up weather snippet right front and center on your Google search page.\n",
    "\n",
    "This is a common Google feature that many smartphone users put to use every day, if not several times a day. It's also a convenience many have taken for granted.\n",
    "\n",
    "This is because weather snippets are a prime API example, showing how Google coordinates with other software on the web.\n",
    "\n",
    "4. Pay with PayPal\n",
    "Another popular API example is PayPal. PayPal is a fintech service that allows users to connect personal financial information to their PayPal account. This paves the way for easier, more secure money transfers.\n",
    "\n",
    "You'll see PayPal intentionally embedded into any number of websites that require financial transactions, from eBay to Airbnb.\n",
    "\n",
    "The websites interacting with PayPal will not have direct access to your bank or card info. Your security in this regard is because of API integrations.\n",
    "\n",
    "5. Google Maps\n",
    "The Google Maps API gives users the privilege of nearly limitless geographic aptitude at their fingertips. Search nearby restaurants, niche shops, and whatever else is in relative distance to your location.\n",
    "\n",
    "You may have been using this API example more often than you realize. Each time you glimpsed business hours, reviews, contact information, or anything of that nature from that handy box on your screen, that is the Google Maps API in action.\n",
    "\n",
    "To that same effect, clicking on the map icon in that box will open the Google Maps app for you or take you straight to the Google Maps website.\n",
    "\n",
    "6. Travel Booking\n",
    "Travel booking is a very useful API example because making connections and building relationships is exactly the point of most travel websites.\n",
    "\n",
    "That is, travel websites like Trivago and Expedia have the power to feature and sell all-inclusive travel packages that account for both lodging and travel.\n",
    "\n",
    "But it's not just a coincidence that travel booking platforms can pull flight information from American Airlines and book you nights at the Marriot.\n",
    "\n",
    "No, this is the honest, hard work of application programming interfaces.\n",
    "\n",
    "7. E-commerce\n",
    "E-commerce involves the act of conducting commercial activities like buying and selling products online. PayPal, for one, is a service almost emblematic of e-commerce. And Amazon and Facebook both have trademark marketplaces representative of e-commerce.\n",
    "\n",
    "In general, APIs are a big part of e-commerce, providing e-commerce platforms with security, speed, and scalability. Functions of e-commerce platforms like site search and currency conversion require APIs to operate properly.\n",
    "\n",
    "Microservice architecture is also integral to e-commerce. Many e-commerce platforms use microservices to encapsulate functionality into separate, independently deployable services.\n",
    "\n",
    "Such a means of application development offers decentralization and business capability that a monolithic architecture simply cannot.\n",
    "\n",
    "But the most important bit to note here is that microservices — being independently deployable and all — come together in a single application via APIs."
   ]
  },
  {
   "cell_type": "markdown",
   "id": "e931cef8-378d-4e61-a32f-494f2fda8078",
   "metadata": {},
   "source": [
    "## Q2. Give advantages and disadvantages of using API."
   ]
  },
  {
   "cell_type": "markdown",
   "id": "c07cb839-6d4e-4703-a9ac-4a13bb761656",
   "metadata": {},
   "source": [
    "### Advantages of API\n",
    "Understanding the benefits of API production allows you to coordinate with system owners and other stakeholders to modernize the agency’s systems and unlock the sizable potential. Here are just some of these opportunities.\n",
    "\n",
    "#### Efficiency\n",
    "Providing API access allows for content to be created once and automatically published or made available to many channels. Your agency’s content is ready for easy sharing and redistribution to deliver your mission directly to more citizens.\n",
    "\n",
    "#### Wider Reach\n",
    "By allowing anyone to create a new presentation layer—like an app, a website, or a widget—APIs can be used to distribute services and information to new audiences and in specific contexts that can be customized to provide tailored user experiences. People who do not come to your website can get agency information or services from apps or other websites that they regularly visit.\n",
    "\n",
    "#### Leverage Government Assets\n",
    "Data and information produced by the federal government is a national asset, paid for by the American people. APIs can expose data that was only available to a few and make it more available to everyone.\n",
    "\n",
    "#### Automation\n",
    "APIs allow machines to handle the workload, which would otherwise require the manual work of a human. This can be as simple as having one content update propagate to multiple sections of a site (or multiple websites) at once. More broadly, though, APIs enable not just your team but also your agency to update workflows so that they can be done with fewer steps and greater productivity.\n",
    "\n",
    "#### Apps\n",
    "Providing API access to information or a service sets up the use of that information or service in mobile apps. Whether the goal is to support agency-created apps or third-party apps, the first step is enabling API access to the components that would go into a mobile app, thus providing flexibility in delivering information and services. This is especially critical if agencies are going to build more than one app—because the API is a shortcut to the second, third, and fourth apps.\n",
    "\n",
    "#### Partnerships\n",
    "The mission of every agency is supplemented by like-minded non-profits and businesses, who are interested in using agency information and services to provide services. They do this by consuming and repurposing agency material into new, useful products and putting agency content in front of their customers and clients. This can fuel innovation because any citizen with a good idea can create the next killer app for your communities.\n",
    "\n",
    "#### Integration\n",
    "APIs allow your content to be more easily embedded or interwoven throughout your sites or other applications. Thus, you can ensure a smooth and integrated user experience, and relevant and up-to-date information, for the user. The information is delivered wherever it can be useful to them, not just in those places where your team has had time to update the content.\n",
    "\n",
    "#### Personalization\n",
    "The users of your website, businesses and non-profits benefit from the ability to personalize sessions with the information and services that are most useful to them.\n",
    "\n",
    "#### Mashups\n",
    "Mashups allow the public to better understand your information in the context of other sources of information. An agency service or data stream can be a small, important part of another service. Think about all of the uses of location data—from checking in on a service to mapping a route to finding the nearest gas station. Location data is not the main function, but enables the function of the application.\n",
    "\n",
    "#### Future-Ready\n",
    "As needs change, APIs help to support unanticipated future uses. Making data available via API can support faster and easier data migration and improved data quality review and cleanup. APIs can provide greater flexibility in delivering services; for example, using a service that accesses a backend system to power a new product.\n",
    "\n",
    "### DisAdvantages of API\n",
    "\n",
    "There is a lot of conveniences and advantages to APIs, but business leaders should also be aware of the disadvantages. As a single point of entry, an API is a gateway and can become a hacker's primary target. Once the API is compromised, all other applications and systems become vulnerable.\n",
    "\n",
    "Nine of the top ten vulnerabilities listed in the OWASP Top 10 now mention APIs — and since APIs can be accessed over the internet, they will have all the same disadvantages as any other Internet-based resource.  APIs are vulnerable to man-in-the-middle attacks, CSRF attacks, XSS attacks, SQL injection, and DDoS attacks."
   ]
  },
  {
   "cell_type": "markdown",
   "id": "0ba7853a-6782-4a89-86ab-9a3b51aeb36f",
   "metadata": {},
   "source": [
    "## Q3. What is a Web API? Differentiate between API and Web API."
   ]
  },
  {
   "cell_type": "markdown",
   "id": "d94bf036-adef-4e73-9633-f14c6de47a21",
   "metadata": {},
   "source": [
    "API stands for Application Programming Interface. It is a set of protocols, routines, and tools for building software applications. APIs enable software components to communicate and interact with each other, allowing developers to create complex applications by combining different building blocks.\n",
    "\n",
    "A Web API is a type of API that is designed to interact with web-based applications. It enables web-based systems to interact with each other through a standardized interface. Web APIs use HTTP (Hypertext Transfer Protocol) to communicate with web-based applications, and they typically return data in the form of JSON or XML.\n",
    "\n",
    "The main difference between API and Web API is that API is a general term that can refer to any type of interface that allows two software components to interact with each other, whereas Web API specifically refers to an API that is designed to interact with web-based applications.\n",
    "\n",
    "APIs can be used for a variety of purposes, such as allowing different software components to communicate with each other within a single application or integrating third-party services into an existing application. Web APIs, on the other hand, are specifically designed to enable communication between web-based applications, such as allowing a web application to retrieve data from a remote server.\n",
    "\n",
    "Overall, the term \"API\" is a broader term that encompasses all types of interfaces used for software development, while \"Web API\" is a specific type of API that is used for web-based applications."
   ]
  },
  {
   "cell_type": "markdown",
   "id": "0269a21b-da7c-41e7-b6c5-3c172a4a6a02",
   "metadata": {},
   "source": [
    "Q4. Explain REST and SOAP Architecture. Mention shortcomings of SOAP."
   ]
  },
  {
   "cell_type": "markdown",
   "id": "1d73ab69-288c-402e-a42a-a88fe50bfd64",
   "metadata": {},
   "source": []
  },
  {
   "cell_type": "markdown",
   "id": "7ea024ea-71f0-4b6c-9f48-05fea7cbc0d5",
   "metadata": {},
   "source": [
    "Q5. Differentiate between REST and SOAP."
   ]
  },
  {
   "cell_type": "markdown",
   "id": "4fabb33e-4da8-42ba-858c-43c34811f3d7",
   "metadata": {},
   "source": []
  }
 ],
 "metadata": {
  "kernelspec": {
   "display_name": "Python 3 (ipykernel)",
   "language": "python",
   "name": "python3"
  },
  "language_info": {
   "codemirror_mode": {
    "name": "ipython",
    "version": 3
   },
   "file_extension": ".py",
   "mimetype": "text/x-python",
   "name": "python",
   "nbconvert_exporter": "python",
   "pygments_lexer": "ipython3",
   "version": "3.10.8"
  }
 },
 "nbformat": 4,
 "nbformat_minor": 5
}
