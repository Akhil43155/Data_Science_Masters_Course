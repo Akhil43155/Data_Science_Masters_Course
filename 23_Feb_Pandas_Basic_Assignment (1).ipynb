{
 "cells": [
  {
   "cell_type": "markdown",
   "id": "6022253a-ffc1-4800-bd70-c1540f2efce9",
   "metadata": {},
   "source": [
    "### Q1. Create a Pandas Series that contains the following data: 4, 8, 15, 16, 23, and 42. Then, print the series."
   ]
  },
  {
   "cell_type": "code",
   "execution_count": 11,
   "id": "815e97fe-62c8-4f7a-bad1-816e2b28b618",
   "metadata": {},
   "outputs": [
    {
     "name": "stdout",
     "output_type": "stream",
     "text": [
      "0     4\n",
      "1     8\n",
      "2    15\n",
      "3    16\n",
      "4    23\n",
      "5    42\n",
      "dtype: int64\n"
     ]
    }
   ],
   "source": [
    "import pandas as pd\n",
    "\n",
    "data = [4, 8, 15, 16, 23, 42]\n",
    "series = pd.Series(data)\n",
    "\n",
    "print(series)\n"
   ]
  },
  {
   "cell_type": "markdown",
   "id": "7bad01d6-67c0-4f60-bfbf-45629a9475d2",
   "metadata": {},
   "source": [
    "### Q2. Create a variable of list type containing 10 elements in it, and apply pandas.Series function on the\n",
    "variable print it."
   ]
  },
  {
   "cell_type": "code",
   "execution_count": 12,
   "id": "83f085f5-a80d-4246-aef3-9913e5e54a9c",
   "metadata": {},
   "outputs": [
    {
     "name": "stdout",
     "output_type": "stream",
     "text": [
      "0     1\n",
      "1     2\n",
      "2     3\n",
      "3     4\n",
      "4     5\n",
      "5     6\n",
      "6     7\n",
      "7     8\n",
      "8     9\n",
      "9    10\n",
      "dtype: int64\n"
     ]
    }
   ],
   "source": [
    "import pandas as pd\n",
    "\n",
    "my_list = [1, 2, 3, 4, 5, 6, 7, 8, 9, 10]\n",
    "my_series = pd.Series(my_list)\n",
    "\n",
    "print(my_series)\n"
   ]
  },
  {
   "cell_type": "markdown",
   "id": "18b24c23-3597-4db2-a90a-728e282403a7",
   "metadata": {},
   "source": [
    "### Q3. Create a Pandas DataFrame that contains the following data:\n",
    "\n",
    "\t\tName              Age              Gender\n",
    "        Alice             25               Female\n",
    "        Bob               30                Male\n",
    "        Claire            27               Female\n",
    "        \n",
    "        Then, print the DataFrame."
   ]
  },
  {
   "cell_type": "code",
   "execution_count": 13,
   "id": "148f1861-cdd0-4be8-9bf3-4634cc4f813b",
   "metadata": {},
   "outputs": [
    {
     "name": "stdout",
     "output_type": "stream",
     "text": [
      "     Name  Age  Gender\n",
      "0   Alice   25  Female\n",
      "1     Bob   30    Male\n",
      "2  Claire   27  Female\n"
     ]
    }
   ],
   "source": [
    "import pandas as pd\n",
    "\n",
    "data = {\n",
    "    'Name': ['Alice', 'Bob', 'Claire'],\n",
    "    'Age': [25, 30, 27],\n",
    "    'Gender': ['Female', 'Male', 'Female']\n",
    "}\n",
    "\n",
    "df = pd.DataFrame(data)\n",
    "\n",
    "print(df)\n"
   ]
  },
  {
   "cell_type": "markdown",
   "id": "9a761b7d-d64b-498d-8770-f92ee0b46e6d",
   "metadata": {},
   "source": [
    "### Q4. What is ‘DataFrame’ in pandas and how is it different from pandas.series? Explain with an example."
   ]
  },
  {
   "cell_type": "markdown",
   "id": "62205603-62c0-448d-aea1-3b2e673cdc96",
   "metadata": {},
   "source": [
    "In Pandas, a DataFrame is a two-dimensional labeled data structure with columns of potentially different types, like a spreadsheet or SQL table. It is the most commonly used Pandas object, and it is a primary tool for data analysis and manipulation.\n",
    "\n",
    "On the other hand, a Series is a one-dimensional labeled array that can hold any data type. It is a basic building block of Pandas, and it is often used to represent a single column of data within a DataFrame.\n",
    "\n",
    "an example to illustrate the difference between a DataFrame and a Series:"
   ]
  },
  {
   "cell_type": "code",
   "execution_count": 14,
   "id": "e7716569-d9db-47ba-bfaf-475c02a089c0",
   "metadata": {},
   "outputs": [
    {
     "name": "stdout",
     "output_type": "stream",
     "text": [
      "DataFrame:\n",
      "      Name  Age\n",
      "0   Alice   25\n",
      "1     Bob   30\n",
      "2  Claire   27\n",
      "Series:\n",
      " 0    25\n",
      "1    30\n",
      "2    27\n",
      "Name: Age, dtype: int64\n"
     ]
    }
   ],
   "source": [
    "import pandas as pd\n",
    "\n",
    "# Create a dictionary with two columns of data\n",
    "data = {\n",
    "    'Name': ['Alice', 'Bob', 'Claire'],\n",
    "    'Age': [25, 30, 27]\n",
    "}\n",
    "\n",
    "# Create a DataFrame from the dictionary\n",
    "df = pd.DataFrame(data)\n",
    "\n",
    "# Create a Series from the 'Age' column of the DataFrame\n",
    "ages = df['Age']\n",
    "\n",
    "# Print the DataFrame and Series\n",
    "print(\"DataFrame:\\n\", df)\n",
    "print(\"Series:\\n\", ages)\n"
   ]
  },
  {
   "cell_type": "markdown",
   "id": "c5b65e1e-f871-4453-818c-85dc89ebc792",
   "metadata": {},
   "source": [
    "\n",
    "\n",
    "\n",
    "\n",
    "As you can see, the DataFrame is a two-dimensional object with two columns ('Name' and 'Age') and three rows of data. Each column is a Series, with the 'Name' column being a Series of strings and the 'Age' column being a Series of integers.\n",
    "\n",
    "The Series, on the other hand, is a one-dimensional object that represents a single column of data from the DataFrame (in this case, the 'Age' column). It has an index that corresponds to the row labels in the DataFrame, and it has a data type that corresponds to the data type of the column in the DataFrame.\n",
    "\n",
    "In summary, a DataFrame is a two-dimensional object that can hold multiple columns of data, while a Series is a one-dimensional object that represents a single column of data within a DataFrame."
   ]
  },
  {
   "cell_type": "markdown",
   "id": "8f29baac-69fd-4ed4-afc2-0320260730e7",
   "metadata": {},
   "source": [
    "### Q5. What are some common functions you can use to manipulate data in a Pandas DataFrame? Can\n",
    "you give an example of when you might use one of these functions?"
   ]
  },
  {
   "cell_type": "markdown",
   "id": "9b9f4da6-79a5-47f8-a339-ed8cc27241fc",
   "metadata": {},
   "source": [
    "There are numerous functions available in Pandas to manipulate data within a DataFrame. Some common functions are:\n",
    "\n",
    "head() and tail(): These functions allow you to view the first or last n rows of the DataFrame, respectively. For example, you might use df.head() to quickly view the first five rows of a large DataFrame.\n",
    "\n",
    "describe(): This function provides a summary of the DataFrame, including count, mean, standard deviation, and quartiles for each column. You might use df.describe() to get an overview of the data before performing more detailed analysis.\n",
    "\n",
    "dropna(): This function allows you to drop rows or columns that contain missing values. You might use df.dropna() to remove any incomplete rows or columns before analyzing the data.\n",
    "\n",
    "groupby(): This function allows you to group the DataFrame by one or more columns, and then perform operations on each group. You might use df.groupby('column_name').mean() to calculate the mean value of each group based on a particular column.\n",
    "\n",
    "sort_values(): This function allows you to sort the DataFrame by one or more columns. You might use df.sort_values('column_name') to sort the data in ascending order based on a particular column.\n",
    "\n",
    "merge(): This function allows you to combine two or more DataFrames based on a common column. You might use pd.merge(df1, df2, on='column_name') to join two DataFrames based on a common column.\n",
    "\n",
    "apply(): This function allows you to apply a function to each element of the DataFrame. You might use df['column_name'].apply(lambda x: x*2) to multiply each element in a particular column by 2.\n",
    "\n",
    "These are just a few examples of the many functions available in Pandas for manipulating data in a DataFrame. The choice of function will depend on the specific task at hand and the structure of the DataFrame."
   ]
  },
  {
   "cell_type": "markdown",
   "id": "9e1981d1-88ae-459e-8003-6fc7875caa6d",
   "metadata": {},
   "source": [
    "### Q6. Which of the following is mutable in nature Series, DataFrame, Panel?"
   ]
  },
  {
   "cell_type": "markdown",
   "id": "3d4ec3b7-d1b3-4731-bbba-85003aef61e1",
   "metadata": {},
   "source": [
    "Both Series and DataFrame are mutable in nature, which means that you can modify the data they contain. A Series is a one-dimensional array-like object and a DataFrame is a two-dimensional object that is made up of multiple Series objects. Both of these objects can be modified by assigning new values to specific rows or columns, adding or removing rows or columns, or applying functions to the data.\n",
    "\n",
    "On the other hand, a Panel is a three-dimensional data structure in Pandas, which is used to handle data with multiple dimensions. However, Panels are not mutable in the same way as Series and DataFrame objects. Instead, they are treated as immutable objects, meaning that you cannot modify their values directly. Instead, you would need to create a new Panel object with the desired changes. However, the Panel object has been deprecated in recent versions of Pandas, and is no longer recommended for use. Instead, you can use higher-dimensional arrays, such as NumPy arrays or xarray objects, to handle multidimensional data in Pandas."
   ]
  },
  {
   "cell_type": "markdown",
   "id": "4689cc00-a24c-4e46-8c8f-c3c54fed501d",
   "metadata": {},
   "source": [
    "### Q7. Create a DataFrame using multiple Series. Explain with an example."
   ]
  },
  {
   "cell_type": "markdown",
   "id": "8f23bf5c-89ff-41a5-9df0-39cb088bf2e7",
   "metadata": {},
   "source": [
    "To create a DataFrame using multiple Series in Pandas, you can pass a dictionary of Series objects to the DataFrame constructor. Each Series will become a column in the resulting DataFrame, and the keys of the dictionary will be used as the column names.\n",
    "\n",
    "Example:-"
   ]
  },
  {
   "cell_type": "code",
   "execution_count": 15,
   "id": "81f2f9b9-fe27-46f7-88e7-2e0984b643b3",
   "metadata": {},
   "outputs": [
    {
     "name": "stdout",
     "output_type": "stream",
     "text": [
      "     Name  Age  Gender\n",
      "0   Alice   25  Female\n",
      "1     Bob   30    Male\n",
      "2  Claire   27  Female\n"
     ]
    }
   ],
   "source": [
    "import pandas as pd\n",
    "\n",
    "# Create a Series of names\n",
    "names = pd.Series(['Alice', 'Bob', 'Claire'])\n",
    "\n",
    "# Create a Series of ages\n",
    "ages = pd.Series([25, 30, 27])\n",
    "\n",
    "# Create a Series of genders\n",
    "genders = pd.Series(['Female', 'Male', 'Female'])\n",
    "\n",
    "# Create a dictionary of Series\n",
    "data = {'Name': names, 'Age': ages, 'Gender': genders}\n",
    "\n",
    "# Create a DataFrame using the dictionary of Series\n",
    "df = pd.DataFrame(data)\n",
    "\n",
    "# Print the resulting DataFrame\n",
    "print(df)\n"
   ]
  },
  {
   "cell_type": "markdown",
   "id": "7e6981c9-54e7-4a6f-83fb-d9ec07a41ea2",
   "metadata": {},
   "source": [
    "we first created three Series objects representing names, ages, and genders of three people. We then combined these Series into a dictionary where the keys are the column names, and the values are the Series objects. Finally, we passed this dictionary to the DataFrame constructor to create a new DataFrame containing the combined data. The resulting DataFrame has three columns representing the name, age, and gender of each person."
   ]
  },
  {
   "cell_type": "code",
   "execution_count": null,
   "id": "27bec8cb-aa47-4ca7-91b3-4109b19af4fd",
   "metadata": {},
   "outputs": [],
   "source": []
  },
  {
   "cell_type": "code",
   "execution_count": null,
   "id": "8784d56d-d4ae-49ab-a023-f7307effa537",
   "metadata": {},
   "outputs": [],
   "source": []
  }
 ],
 "metadata": {
  "kernelspec": {
   "display_name": "Python 3 (ipykernel)",
   "language": "python",
   "name": "python3"
  },
  "language_info": {
   "codemirror_mode": {
    "name": "ipython",
    "version": 3
   },
   "file_extension": ".py",
   "mimetype": "text/x-python",
   "name": "python",
   "nbconvert_exporter": "python",
   "pygments_lexer": "ipython3",
   "version": "3.10.8"
  }
 },
 "nbformat": 4,
 "nbformat_minor": 5
}
