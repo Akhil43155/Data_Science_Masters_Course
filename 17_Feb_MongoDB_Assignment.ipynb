{
 "cells": [
  {
   "cell_type": "markdown",
   "id": "6c1cf12e-90e1-4143-a095-ae1d02b6b3cf",
   "metadata": {},
   "source": [
    "### Q1. What is MongoDB? Explain non-relational databases in short. In which scenarios it is preferred to use\n",
    "MongoDB over SQL databases?"
   ]
  },
  {
   "cell_type": "markdown",
   "id": "c2d7ef52-87b1-4c49-a250-1ef1346110f8",
   "metadata": {},
   "source": [
    "MongoDB is a popular NoSQL database that uses a document-oriented data model. It is designed to handle large volumes of structured, semi-structured, and unstructured data, making it a popular choice for modern web applications that require flexible data management.\n",
    "\n",
    "Non-relational databases, or NoSQL databases, are databases that do not use a traditional relational data model. Instead, they use various data models, such as document-oriented, key-value, column-family, or graph-based models, to store and manage data. Non-relational databases are often used when dealing with large-scale, complex, and dynamic data sets that are difficult to manage using traditional relational databases.\n",
    "\n",
    "MongoDB is preferred over SQL databases in several scenarios, including:\n",
    "\n",
    "Flexible data modeling: MongoDB's document-oriented data model is more flexible than SQL databases' rigid table-based data model, making it easier to store and manage complex, semi-structured, and unstructured data.\n",
    "\n",
    "Scalability: MongoDB is designed to be highly scalable, allowing for horizontal scaling across multiple nodes, making it easier to handle large volumes of data and high traffic loads.\n",
    "\n",
    "Performance: MongoDB's architecture is optimized for fast read and write operations, making it ideal for applications that require real-time data processing.\n",
    "\n",
    "Agile development: MongoDB's flexible data model and dynamic schema make it easier to iterate and make changes to an application's data structure, reducing the time and effort required for application development.\n",
    "\n",
    "Cloud-native: MongoDB is designed to run natively in cloud environments, making it easier to deploy, manage, and scale applications in the cloud.\n",
    "\n",
    "Overall, MongoDB is a popular choice for modern web applications that require flexible data management, high scalability, and real-time performance. However, SQL databases are still a good choice for applications that require strict data consistency, strong transaction support, and complex relational queries."
   ]
  },
  {
   "cell_type": "markdown",
   "id": "f7ba1bcb-6533-4957-9ed7-1b9176c944ba",
   "metadata": {},
   "source": [
    "### Q2. State and Explain the features of MongoDB."
   ]
  },
  {
   "cell_type": "markdown",
   "id": "0e50ff52-634f-4e4c-9184-5f626bfb57da",
   "metadata": {},
   "source": [
    "MongoDB is a popular NoSQL document-oriented database that is designed to handle large volumes of structured, semi-structured, and unstructured data. Some of the key features of MongoDB are:\n",
    "\n",
    "Document-oriented data model: MongoDB uses a document-oriented data model, which allows for flexible and dynamic schema design. Each document can have a unique structure and can contain nested documents and arrays.\n",
    "\n",
    "Scalability: MongoDB is designed to scale horizontally across multiple nodes, allowing for high availability and automatic load balancing. It also supports sharding, which allows for horizontal partitioning of data across multiple servers.\n",
    "\n",
    "High performance: MongoDB's architecture is optimized for high performance, with features like automatic indexing, in-memory storage, and support for parallel processing of queries.\n",
    "\n",
    "Rich query language: MongoDB's query language supports a wide range of query types, including queries by range, pattern, and geospatial data. It also supports complex aggregations, joins, and full-text search.\n",
    "\n",
    "Automatic failover: MongoDB's replica set architecture allows for automatic failover in the event of a primary node failure, ensuring high availability and data durability.\n",
    "\n",
    "Dynamic schema: MongoDB's dynamic schema allows for easy iteration and changes to the data structure, making it easier to adapt to changing business requirements.\n",
    "\n",
    "Developer-friendly: MongoDB is developer-friendly, with support for popular programming languages, such as Java, Python, and JavaScript, and a wide range of drivers and libraries.\n",
    "\n",
    "Overall, MongoDB's features make it a popular choice for modern web applications that require flexible data management, high scalability, and real-time performance."
   ]
  },
  {
   "cell_type": "markdown",
   "id": "94113268-f81d-473b-8115-c664bf74dc22",
   "metadata": {},
   "source": [
    "### Q3. Write a code to connect MongoDB to Python. Also, create a database and a collection in MongoDB."
   ]
  },
  {
   "cell_type": "markdown",
   "id": "c186e8b9-7194-43ec-99c5-55739afa6d55",
   "metadata": {},
   "source": [
    "To connect MongoDB to Python, you can use the PyMongo library, which is a Python driver for MongoDB. Here's an example code to connect to MongoDB and create a database and collection:"
   ]
  },
  {
   "cell_type": "code",
   "execution_count": 7,
   "id": "314b3a27-d8bd-41f2-ace0-e478e1e966ba",
   "metadata": {},
   "outputs": [
    {
     "ename": "ServerSelectionTimeoutError",
     "evalue": "localhost:27017: [Errno 111] Connection refused, Timeout: 30s, Topology Description: <TopologyDescription id: 63f2e200cb755a6a0c0dcbcf, topology_type: Unknown, servers: [<ServerDescription ('localhost', 27017) server_type: Unknown, rtt: None, error=AutoReconnect('localhost:27017: [Errno 111] Connection refused')>]>",
     "output_type": "error",
     "traceback": [
      "\u001b[0;31m---------------------------------------------------------------------------\u001b[0m",
      "\u001b[0;31mServerSelectionTimeoutError\u001b[0m               Traceback (most recent call last)",
      "Cell \u001b[0;32mIn[7], line 14\u001b[0m\n\u001b[1;32m     12\u001b[0m \u001b[38;5;66;03m# insert a document into the collection\u001b[39;00m\n\u001b[1;32m     13\u001b[0m mydict \u001b[38;5;241m=\u001b[39m { \u001b[38;5;124m\"\u001b[39m\u001b[38;5;124mname\u001b[39m\u001b[38;5;124m\"\u001b[39m: \u001b[38;5;124m\"\u001b[39m\u001b[38;5;124mJohn\u001b[39m\u001b[38;5;124m\"\u001b[39m, \u001b[38;5;124m\"\u001b[39m\u001b[38;5;124maddress\u001b[39m\u001b[38;5;124m\"\u001b[39m: \u001b[38;5;124m\"\u001b[39m\u001b[38;5;124mHighway 37\u001b[39m\u001b[38;5;124m\"\u001b[39m }\n\u001b[0;32m---> 14\u001b[0m x \u001b[38;5;241m=\u001b[39m \u001b[43mmycol\u001b[49m\u001b[38;5;241;43m.\u001b[39;49m\u001b[43minsert_one\u001b[49m\u001b[43m(\u001b[49m\u001b[43mmydict\u001b[49m\u001b[43m)\u001b[49m\n\u001b[1;32m     16\u001b[0m \u001b[38;5;66;03m# print the ID of the inserted document\u001b[39;00m\n\u001b[1;32m     17\u001b[0m \u001b[38;5;28mprint\u001b[39m(x\u001b[38;5;241m.\u001b[39minserted_id)\n",
      "File \u001b[0;32m/opt/conda/lib/python3.10/site-packages/pymongo/collection.py:628\u001b[0m, in \u001b[0;36mCollection.insert_one\u001b[0;34m(self, document, bypass_document_validation, session, comment)\u001b[0m\n\u001b[1;32m    624\u001b[0m     document[\u001b[38;5;124m\"\u001b[39m\u001b[38;5;124m_id\u001b[39m\u001b[38;5;124m\"\u001b[39m] \u001b[38;5;241m=\u001b[39m ObjectId()  \u001b[38;5;66;03m# type: ignore[index]\u001b[39;00m\n\u001b[1;32m    626\u001b[0m write_concern \u001b[38;5;241m=\u001b[39m \u001b[38;5;28mself\u001b[39m\u001b[38;5;241m.\u001b[39m_write_concern_for(session)\n\u001b[1;32m    627\u001b[0m \u001b[38;5;28;01mreturn\u001b[39;00m InsertOneResult(\n\u001b[0;32m--> 628\u001b[0m     \u001b[38;5;28;43mself\u001b[39;49m\u001b[38;5;241;43m.\u001b[39;49m\u001b[43m_insert_one\u001b[49m\u001b[43m(\u001b[49m\n\u001b[1;32m    629\u001b[0m \u001b[43m        \u001b[49m\u001b[43mdocument\u001b[49m\u001b[43m,\u001b[49m\n\u001b[1;32m    630\u001b[0m \u001b[43m        \u001b[49m\u001b[43mordered\u001b[49m\u001b[38;5;241;43m=\u001b[39;49m\u001b[38;5;28;43;01mTrue\u001b[39;49;00m\u001b[43m,\u001b[49m\n\u001b[1;32m    631\u001b[0m \u001b[43m        \u001b[49m\u001b[43mwrite_concern\u001b[49m\u001b[38;5;241;43m=\u001b[39;49m\u001b[43mwrite_concern\u001b[49m\u001b[43m,\u001b[49m\n\u001b[1;32m    632\u001b[0m \u001b[43m        \u001b[49m\u001b[43mop_id\u001b[49m\u001b[38;5;241;43m=\u001b[39;49m\u001b[38;5;28;43;01mNone\u001b[39;49;00m\u001b[43m,\u001b[49m\n\u001b[1;32m    633\u001b[0m \u001b[43m        \u001b[49m\u001b[43mbypass_doc_val\u001b[49m\u001b[38;5;241;43m=\u001b[39;49m\u001b[43mbypass_document_validation\u001b[49m\u001b[43m,\u001b[49m\n\u001b[1;32m    634\u001b[0m \u001b[43m        \u001b[49m\u001b[43msession\u001b[49m\u001b[38;5;241;43m=\u001b[39;49m\u001b[43msession\u001b[49m\u001b[43m,\u001b[49m\n\u001b[1;32m    635\u001b[0m \u001b[43m        \u001b[49m\u001b[43mcomment\u001b[49m\u001b[38;5;241;43m=\u001b[39;49m\u001b[43mcomment\u001b[49m\u001b[43m,\u001b[49m\n\u001b[1;32m    636\u001b[0m \u001b[43m    \u001b[49m\u001b[43m)\u001b[49m,\n\u001b[1;32m    637\u001b[0m     write_concern\u001b[38;5;241m.\u001b[39macknowledged,\n\u001b[1;32m    638\u001b[0m )\n",
      "File \u001b[0;32m/opt/conda/lib/python3.10/site-packages/pymongo/collection.py:569\u001b[0m, in \u001b[0;36mCollection._insert_one\u001b[0;34m(self, doc, ordered, write_concern, op_id, bypass_doc_val, session, comment)\u001b[0m\n\u001b[1;32m    557\u001b[0m     result \u001b[38;5;241m=\u001b[39m sock_info\u001b[38;5;241m.\u001b[39mcommand(\n\u001b[1;32m    558\u001b[0m         \u001b[38;5;28mself\u001b[39m\u001b[38;5;241m.\u001b[39m__database\u001b[38;5;241m.\u001b[39mname,\n\u001b[1;32m    559\u001b[0m         command,\n\u001b[0;32m   (...)\u001b[0m\n\u001b[1;32m    564\u001b[0m         retryable_write\u001b[38;5;241m=\u001b[39mretryable_write,\n\u001b[1;32m    565\u001b[0m     )\n\u001b[1;32m    567\u001b[0m     _check_write_command_response(result)\n\u001b[0;32m--> 569\u001b[0m \u001b[38;5;28;43mself\u001b[39;49m\u001b[38;5;241;43m.\u001b[39;49m\u001b[43m__database\u001b[49m\u001b[38;5;241;43m.\u001b[39;49m\u001b[43mclient\u001b[49m\u001b[38;5;241;43m.\u001b[39;49m\u001b[43m_retryable_write\u001b[49m\u001b[43m(\u001b[49m\u001b[43macknowledged\u001b[49m\u001b[43m,\u001b[49m\u001b[43m \u001b[49m\u001b[43m_insert_command\u001b[49m\u001b[43m,\u001b[49m\u001b[43m \u001b[49m\u001b[43msession\u001b[49m\u001b[43m)\u001b[49m\n\u001b[1;32m    571\u001b[0m \u001b[38;5;28;01mif\u001b[39;00m \u001b[38;5;129;01mnot\u001b[39;00m \u001b[38;5;28misinstance\u001b[39m(doc, RawBSONDocument):\n\u001b[1;32m    572\u001b[0m     \u001b[38;5;28;01mreturn\u001b[39;00m doc\u001b[38;5;241m.\u001b[39mget(\u001b[38;5;124m\"\u001b[39m\u001b[38;5;124m_id\u001b[39m\u001b[38;5;124m\"\u001b[39m)\n",
      "File \u001b[0;32m/opt/conda/lib/python3.10/site-packages/pymongo/mongo_client.py:1475\u001b[0m, in \u001b[0;36mMongoClient._retryable_write\u001b[0;34m(self, retryable, func, session)\u001b[0m\n\u001b[1;32m   1473\u001b[0m \u001b[38;5;28;01mdef\u001b[39;00m \u001b[38;5;21m_retryable_write\u001b[39m(\u001b[38;5;28mself\u001b[39m, retryable, func, session):\n\u001b[1;32m   1474\u001b[0m     \u001b[38;5;124;03m\"\"\"Internal retryable write helper.\"\"\"\u001b[39;00m\n\u001b[0;32m-> 1475\u001b[0m     \u001b[38;5;28;01mwith\u001b[39;00m \u001b[38;5;28mself\u001b[39m\u001b[38;5;241m.\u001b[39m_tmp_session(session) \u001b[38;5;28;01mas\u001b[39;00m s:\n\u001b[1;32m   1476\u001b[0m         \u001b[38;5;28;01mreturn\u001b[39;00m \u001b[38;5;28mself\u001b[39m\u001b[38;5;241m.\u001b[39m_retry_with_session(retryable, func, s, \u001b[38;5;28;01mNone\u001b[39;00m)\n",
      "File \u001b[0;32m/opt/conda/lib/python3.10/contextlib.py:135\u001b[0m, in \u001b[0;36m_GeneratorContextManager.__enter__\u001b[0;34m(self)\u001b[0m\n\u001b[1;32m    133\u001b[0m \u001b[38;5;28;01mdel\u001b[39;00m \u001b[38;5;28mself\u001b[39m\u001b[38;5;241m.\u001b[39margs, \u001b[38;5;28mself\u001b[39m\u001b[38;5;241m.\u001b[39mkwds, \u001b[38;5;28mself\u001b[39m\u001b[38;5;241m.\u001b[39mfunc\n\u001b[1;32m    134\u001b[0m \u001b[38;5;28;01mtry\u001b[39;00m:\n\u001b[0;32m--> 135\u001b[0m     \u001b[38;5;28;01mreturn\u001b[39;00m \u001b[38;5;28;43mnext\u001b[39;49m\u001b[43m(\u001b[49m\u001b[38;5;28;43mself\u001b[39;49m\u001b[38;5;241;43m.\u001b[39;49m\u001b[43mgen\u001b[49m\u001b[43m)\u001b[49m\n\u001b[1;32m    136\u001b[0m \u001b[38;5;28;01mexcept\u001b[39;00m \u001b[38;5;167;01mStopIteration\u001b[39;00m:\n\u001b[1;32m    137\u001b[0m     \u001b[38;5;28;01mraise\u001b[39;00m \u001b[38;5;167;01mRuntimeError\u001b[39;00m(\u001b[38;5;124m\"\u001b[39m\u001b[38;5;124mgenerator didn\u001b[39m\u001b[38;5;124m'\u001b[39m\u001b[38;5;124mt yield\u001b[39m\u001b[38;5;124m\"\u001b[39m) \u001b[38;5;28;01mfrom\u001b[39;00m \u001b[38;5;28mNone\u001b[39m\n",
      "File \u001b[0;32m/opt/conda/lib/python3.10/site-packages/pymongo/mongo_client.py:1757\u001b[0m, in \u001b[0;36mMongoClient._tmp_session\u001b[0;34m(self, session, close)\u001b[0m\n\u001b[1;32m   1754\u001b[0m     \u001b[38;5;28;01myield\u001b[39;00m session\n\u001b[1;32m   1755\u001b[0m     \u001b[38;5;28;01mreturn\u001b[39;00m\n\u001b[0;32m-> 1757\u001b[0m s \u001b[38;5;241m=\u001b[39m \u001b[38;5;28;43mself\u001b[39;49m\u001b[38;5;241;43m.\u001b[39;49m\u001b[43m_ensure_session\u001b[49m\u001b[43m(\u001b[49m\u001b[43msession\u001b[49m\u001b[43m)\u001b[49m\n\u001b[1;32m   1758\u001b[0m \u001b[38;5;28;01mif\u001b[39;00m s:\n\u001b[1;32m   1759\u001b[0m     \u001b[38;5;28;01mtry\u001b[39;00m:\n",
      "File \u001b[0;32m/opt/conda/lib/python3.10/site-packages/pymongo/mongo_client.py:1740\u001b[0m, in \u001b[0;36mMongoClient._ensure_session\u001b[0;34m(self, session)\u001b[0m\n\u001b[1;32m   1735\u001b[0m     \u001b[38;5;28;01mreturn\u001b[39;00m session\n\u001b[1;32m   1737\u001b[0m \u001b[38;5;28;01mtry\u001b[39;00m:\n\u001b[1;32m   1738\u001b[0m     \u001b[38;5;66;03m# Don't make implicit sessions causally consistent. Applications\u001b[39;00m\n\u001b[1;32m   1739\u001b[0m     \u001b[38;5;66;03m# should always opt-in.\u001b[39;00m\n\u001b[0;32m-> 1740\u001b[0m     \u001b[38;5;28;01mreturn\u001b[39;00m \u001b[38;5;28;43mself\u001b[39;49m\u001b[38;5;241;43m.\u001b[39;49m\u001b[43m__start_session\u001b[49m\u001b[43m(\u001b[49m\u001b[38;5;28;43;01mTrue\u001b[39;49;00m\u001b[43m,\u001b[49m\u001b[43m \u001b[49m\u001b[43mcausal_consistency\u001b[49m\u001b[38;5;241;43m=\u001b[39;49m\u001b[38;5;28;43;01mFalse\u001b[39;49;00m\u001b[43m)\u001b[49m\n\u001b[1;32m   1741\u001b[0m \u001b[38;5;28;01mexcept\u001b[39;00m (ConfigurationError, InvalidOperation):\n\u001b[1;32m   1742\u001b[0m     \u001b[38;5;66;03m# Sessions not supported.\u001b[39;00m\n\u001b[1;32m   1743\u001b[0m     \u001b[38;5;28;01mreturn\u001b[39;00m \u001b[38;5;28;01mNone\u001b[39;00m\n",
      "File \u001b[0;32m/opt/conda/lib/python3.10/site-packages/pymongo/mongo_client.py:1685\u001b[0m, in \u001b[0;36mMongoClient.__start_session\u001b[0;34m(self, implicit, **kwargs)\u001b[0m\n\u001b[1;32m   1682\u001b[0m \u001b[38;5;28;01mdef\u001b[39;00m \u001b[38;5;21m__start_session\u001b[39m(\u001b[38;5;28mself\u001b[39m, implicit, \u001b[38;5;241m*\u001b[39m\u001b[38;5;241m*\u001b[39mkwargs):\n\u001b[1;32m   1683\u001b[0m     \u001b[38;5;66;03m# Raises ConfigurationError if sessions are not supported.\u001b[39;00m\n\u001b[1;32m   1684\u001b[0m     \u001b[38;5;28;01mif\u001b[39;00m implicit:\n\u001b[0;32m-> 1685\u001b[0m         \u001b[38;5;28;43mself\u001b[39;49m\u001b[38;5;241;43m.\u001b[39;49m\u001b[43m_topology\u001b[49m\u001b[38;5;241;43m.\u001b[39;49m\u001b[43m_check_implicit_session_support\u001b[49m\u001b[43m(\u001b[49m\u001b[43m)\u001b[49m\n\u001b[1;32m   1686\u001b[0m         server_session \u001b[38;5;241m=\u001b[39m _EmptyServerSession()\n\u001b[1;32m   1687\u001b[0m     \u001b[38;5;28;01melse\u001b[39;00m:\n",
      "File \u001b[0;32m/opt/conda/lib/python3.10/site-packages/pymongo/topology.py:538\u001b[0m, in \u001b[0;36mTopology._check_implicit_session_support\u001b[0;34m(self)\u001b[0m\n\u001b[1;32m    536\u001b[0m \u001b[38;5;28;01mdef\u001b[39;00m \u001b[38;5;21m_check_implicit_session_support\u001b[39m(\u001b[38;5;28mself\u001b[39m):\n\u001b[1;32m    537\u001b[0m     \u001b[38;5;28;01mwith\u001b[39;00m \u001b[38;5;28mself\u001b[39m\u001b[38;5;241m.\u001b[39m_lock:\n\u001b[0;32m--> 538\u001b[0m         \u001b[38;5;28;43mself\u001b[39;49m\u001b[38;5;241;43m.\u001b[39;49m\u001b[43m_check_session_support\u001b[49m\u001b[43m(\u001b[49m\u001b[43m)\u001b[49m\n",
      "File \u001b[0;32m/opt/conda/lib/python3.10/site-packages/pymongo/topology.py:554\u001b[0m, in \u001b[0;36mTopology._check_session_support\u001b[0;34m(self)\u001b[0m\n\u001b[1;32m    550\u001b[0m         \u001b[38;5;28mself\u001b[39m\u001b[38;5;241m.\u001b[39m_select_servers_loop(\n\u001b[1;32m    551\u001b[0m             any_server_selector, \u001b[38;5;28mself\u001b[39m\u001b[38;5;241m.\u001b[39mget_server_selection_timeout(), \u001b[38;5;28;01mNone\u001b[39;00m\n\u001b[1;32m    552\u001b[0m         )\n\u001b[1;32m    553\u001b[0m \u001b[38;5;28;01melif\u001b[39;00m \u001b[38;5;129;01mnot\u001b[39;00m \u001b[38;5;28mself\u001b[39m\u001b[38;5;241m.\u001b[39m_description\u001b[38;5;241m.\u001b[39mreadable_servers:\n\u001b[0;32m--> 554\u001b[0m     \u001b[38;5;28;43mself\u001b[39;49m\u001b[38;5;241;43m.\u001b[39;49m\u001b[43m_select_servers_loop\u001b[49m\u001b[43m(\u001b[49m\n\u001b[1;32m    555\u001b[0m \u001b[43m        \u001b[49m\u001b[43mreadable_server_selector\u001b[49m\u001b[43m,\u001b[49m\u001b[43m \u001b[49m\u001b[38;5;28;43mself\u001b[39;49m\u001b[38;5;241;43m.\u001b[39;49m\u001b[43mget_server_selection_timeout\u001b[49m\u001b[43m(\u001b[49m\u001b[43m)\u001b[49m\u001b[43m,\u001b[49m\u001b[43m \u001b[49m\u001b[38;5;28;43;01mNone\u001b[39;49;00m\n\u001b[1;32m    556\u001b[0m \u001b[43m    \u001b[49m\u001b[43m)\u001b[49m\n\u001b[1;32m    558\u001b[0m session_timeout \u001b[38;5;241m=\u001b[39m \u001b[38;5;28mself\u001b[39m\u001b[38;5;241m.\u001b[39m_description\u001b[38;5;241m.\u001b[39mlogical_session_timeout_minutes\n\u001b[1;32m    559\u001b[0m \u001b[38;5;28;01mif\u001b[39;00m session_timeout \u001b[38;5;129;01mis\u001b[39;00m \u001b[38;5;28;01mNone\u001b[39;00m:\n",
      "File \u001b[0;32m/opt/conda/lib/python3.10/site-packages/pymongo/topology.py:238\u001b[0m, in \u001b[0;36mTopology._select_servers_loop\u001b[0;34m(self, selector, timeout, address)\u001b[0m\n\u001b[1;32m    235\u001b[0m \u001b[38;5;28;01mwhile\u001b[39;00m \u001b[38;5;129;01mnot\u001b[39;00m server_descriptions:\n\u001b[1;32m    236\u001b[0m     \u001b[38;5;66;03m# No suitable servers.\u001b[39;00m\n\u001b[1;32m    237\u001b[0m     \u001b[38;5;28;01mif\u001b[39;00m timeout \u001b[38;5;241m==\u001b[39m \u001b[38;5;241m0\u001b[39m \u001b[38;5;129;01mor\u001b[39;00m now \u001b[38;5;241m>\u001b[39m end_time:\n\u001b[0;32m--> 238\u001b[0m         \u001b[38;5;28;01mraise\u001b[39;00m ServerSelectionTimeoutError(\n\u001b[1;32m    239\u001b[0m             \u001b[38;5;124m\"\u001b[39m\u001b[38;5;132;01m%s\u001b[39;00m\u001b[38;5;124m, Timeout: \u001b[39m\u001b[38;5;132;01m%s\u001b[39;00m\u001b[38;5;124ms, Topology Description: \u001b[39m\u001b[38;5;132;01m%r\u001b[39;00m\u001b[38;5;124m\"\u001b[39m\n\u001b[1;32m    240\u001b[0m             \u001b[38;5;241m%\u001b[39m (\u001b[38;5;28mself\u001b[39m\u001b[38;5;241m.\u001b[39m_error_message(selector), timeout, \u001b[38;5;28mself\u001b[39m\u001b[38;5;241m.\u001b[39mdescription)\n\u001b[1;32m    241\u001b[0m         )\n\u001b[1;32m    243\u001b[0m     \u001b[38;5;28mself\u001b[39m\u001b[38;5;241m.\u001b[39m_ensure_opened()\n\u001b[1;32m    244\u001b[0m     \u001b[38;5;28mself\u001b[39m\u001b[38;5;241m.\u001b[39m_request_check_all()\n",
      "\u001b[0;31mServerSelectionTimeoutError\u001b[0m: localhost:27017: [Errno 111] Connection refused, Timeout: 30s, Topology Description: <TopologyDescription id: 63f2e200cb755a6a0c0dcbcf, topology_type: Unknown, servers: [<ServerDescription ('localhost', 27017) server_type: Unknown, rtt: None, error=AutoReconnect('localhost:27017: [Errno 111] Connection refused')>]>"
     ]
    }
   ],
   "source": [
    "import pymongo\n",
    "\n",
    "# establish a connection to the MongoDB server\n",
    "client = pymongo.MongoClient(\"mongodb://localhost:27017/\")\n",
    "\n",
    "# create a database\n",
    "mydb = client[\"mydatabase\"]\n",
    "\n",
    "# create a collection\n",
    "mycol = mydb[\"customers\"]\n",
    "\n",
    "# insert a document into the collection\n",
    "mydict = { \"name\": \"John\", \"address\": \"Highway 37\" }\n",
    "x = mycol.insert_one(mydict)\n",
    "\n",
    "# print the ID of the inserted document\n",
    "print(x.inserted_id)\n"
   ]
  },
  {
   "cell_type": "markdown",
   "id": "4c2013b0-2d0f-40a5-a56c-3ab0009b5e4c",
   "metadata": {},
   "source": [
    "In this example code, we first import the PyMongo library and then establish a connection to the MongoDB server running on the local machine on the default port (27017). We then create a database named \"mydatabase\" and a collection named \"customers\" within that database.\n",
    "\n",
    "Next, we insert a document into the collection using the insert_one() method, which returns an InsertOneResult object. We print the ID of the inserted document using the inserted_id attribute of the InsertOneResult object.\n",
    "\n",
    "Note that you'll need to have MongoDB installed and running on your local machine for this code to work. You'll also need to install the PyMongo library if you haven't already done so. You can do this by running the following command in your terminal or command prompt:"
   ]
  },
  {
   "cell_type": "code",
   "execution_count": null,
   "id": "497ae8a0-14f8-402b-8e53-4d953dd3cdf6",
   "metadata": {},
   "outputs": [],
   "source": [
    "pip install pymongo"
   ]
  },
  {
   "cell_type": "markdown",
   "id": "eeaea001-49f4-41a0-960c-d33685e32f5b",
   "metadata": {},
   "source": [
    "### Q4. Using the database and the collection created in question number 3, write a code to insert one record,\n",
    "and insert many records. Use the find() and find_one() methods to print the inserted record."
   ]
  },
  {
   "cell_type": "markdown",
   "id": "ffd652c4-1653-40e8-b020-9921f0fc2103",
   "metadata": {},
   "source": [
    "Sure! Here's an example code to insert one record and multiple records into the \"customers\" collection we created in question 3, and use the find() and find_one() methods to print the inserted records:"
   ]
  },
  {
   "cell_type": "code",
   "execution_count": null,
   "id": "b5f916be-16c6-4c5e-8b7a-78349e159cda",
   "metadata": {},
   "outputs": [],
   "source": [
    "import pymongo\n",
    "\n",
    "# establish a connection to the MongoDB server\n",
    "client = pymongo.MongoClient(\"mongodb://localhost:27017/\")\n",
    "\n",
    "# select the \"mydatabase\" database and the \"customers\" collection\n",
    "mydb = client[\"mydatabase\"]\n",
    "mycol = mydb[\"customers\"]\n",
    "\n",
    "# insert one record into the collection\n",
    "mydict = { \"name\": \"Alice\", \"address\": \"123 Main St\" }\n",
    "x = mycol.insert_one(mydict)\n",
    "\n",
    "# print the inserted record using find_one()\n",
    "print(mycol.find_one())\n",
    "\n",
    "# insert many records into the collection\n",
    "mylist = [\n",
    "  { \"name\": \"Bob\", \"address\": \"456 Maple Ave\" },\n",
    "  { \"name\": \"Charlie\", \"address\": \"789 Oak St\" },\n",
    "  { \"name\": \"David\", \"address\": \"123 Elm St\" }\n",
    "]\n",
    "x = mycol.insert_many(mylist)\n",
    "\n",
    "# print the inserted records using find()\n",
    "for record in mycol.find():\n",
    "    print(record)\n"
   ]
  },
  {
   "cell_type": "markdown",
   "id": "b93b8204-3803-4b01-80a2-d898f3b1df76",
   "metadata": {},
   "source": [
    "In this example code, we first establish a connection to the MongoDB server and select the \"mydatabase\" database and the \"customers\" collection. We then insert one record into the collection using the insert_one() method and print the inserted record using the find_one() method.\n",
    "\n",
    "Next, we insert multiple records into the collection using the insert_many() method and print all the inserted records using the find() method in a loop.\n",
    "\n",
    "Note that the find() method returns a cursor object, which you can iterate over to access each document in the collection. If you want to retrieve a specific document based on some criteria, you can pass a query object as an argument to the find() or find_one() method. For example, to retrieve all documents where the name is \"Alice\", you can use mycol.find({\"name\": \"Alice\"})."
   ]
  },
  {
   "cell_type": "markdown",
   "id": "98834054-ace5-46a0-9fcd-5bc648bf1580",
   "metadata": {},
   "source": [
    "### Q5. Explain how you can use the find() method to query the MongoDB database. Write a simple code to\n",
    "demonstrate this."
   ]
  },
  {
   "cell_type": "markdown",
   "id": "71eaedc9-bb0f-422b-a025-cb539159fb24",
   "metadata": {},
   "source": [
    "The find() method is used to query a MongoDB database and retrieve documents from a collection. You can use the find() method to retrieve all documents in a collection, retrieve documents that match a specific criteria, or retrieve documents that match a specific criteria and sort them in a specific order.\n",
    "\n",
    "The find() method returns a cursor object, which you can iterate over to access each document in the collection. You can also use various methods of the cursor object to filter, sort, limit, and skip the results.\n",
    "\n",
    "Here's an example code that demonstrates how to use the find() method to query a MongoDB database:"
   ]
  },
  {
   "cell_type": "code",
   "execution_count": 8,
   "id": "7301220e-36ec-4880-b090-2ad6cca32a04",
   "metadata": {},
   "outputs": [
    {
     "ename": "ServerSelectionTimeoutError",
     "evalue": "localhost:27017: [Errno 111] Connection refused, Timeout: 30s, Topology Description: <TopologyDescription id: 63f2e24ecb755a6a0c0dcbd1, topology_type: Unknown, servers: [<ServerDescription ('localhost', 27017) server_type: Unknown, rtt: None, error=AutoReconnect('localhost:27017: [Errno 111] Connection refused')>]>",
     "output_type": "error",
     "traceback": [
      "\u001b[0;31m---------------------------------------------------------------------------\u001b[0m",
      "\u001b[0;31mServerSelectionTimeoutError\u001b[0m               Traceback (most recent call last)",
      "Cell \u001b[0;32mIn[8], line 11\u001b[0m\n\u001b[1;32m      8\u001b[0m mycol \u001b[38;5;241m=\u001b[39m mydb[\u001b[38;5;124m\"\u001b[39m\u001b[38;5;124mcustomers\u001b[39m\u001b[38;5;124m\"\u001b[39m]\n\u001b[1;32m     10\u001b[0m \u001b[38;5;66;03m# retrieve all documents in the collection\u001b[39;00m\n\u001b[0;32m---> 11\u001b[0m \u001b[38;5;28;01mfor\u001b[39;00m record \u001b[38;5;129;01min\u001b[39;00m mycol\u001b[38;5;241m.\u001b[39mfind():\n\u001b[1;32m     12\u001b[0m     \u001b[38;5;28mprint\u001b[39m(record)\n\u001b[1;32m     14\u001b[0m \u001b[38;5;66;03m# retrieve documents that match a specific criteria\u001b[39;00m\n",
      "File \u001b[0;32m/opt/conda/lib/python3.10/site-packages/pymongo/cursor.py:1248\u001b[0m, in \u001b[0;36mCursor.next\u001b[0;34m(self)\u001b[0m\n\u001b[1;32m   1246\u001b[0m \u001b[38;5;28;01mif\u001b[39;00m \u001b[38;5;28mself\u001b[39m\u001b[38;5;241m.\u001b[39m__empty:\n\u001b[1;32m   1247\u001b[0m     \u001b[38;5;28;01mraise\u001b[39;00m \u001b[38;5;167;01mStopIteration\u001b[39;00m\n\u001b[0;32m-> 1248\u001b[0m \u001b[38;5;28;01mif\u001b[39;00m \u001b[38;5;28mlen\u001b[39m(\u001b[38;5;28mself\u001b[39m\u001b[38;5;241m.\u001b[39m__data) \u001b[38;5;129;01mor\u001b[39;00m \u001b[38;5;28;43mself\u001b[39;49m\u001b[38;5;241;43m.\u001b[39;49m\u001b[43m_refresh\u001b[49m\u001b[43m(\u001b[49m\u001b[43m)\u001b[49m:\n\u001b[1;32m   1249\u001b[0m     \u001b[38;5;28;01mreturn\u001b[39;00m \u001b[38;5;28mself\u001b[39m\u001b[38;5;241m.\u001b[39m__data\u001b[38;5;241m.\u001b[39mpopleft()\n\u001b[1;32m   1250\u001b[0m \u001b[38;5;28;01melse\u001b[39;00m:\n",
      "File \u001b[0;32m/opt/conda/lib/python3.10/site-packages/pymongo/cursor.py:1139\u001b[0m, in \u001b[0;36mCursor._refresh\u001b[0;34m(self)\u001b[0m\n\u001b[1;32m   1136\u001b[0m     \u001b[38;5;28;01mreturn\u001b[39;00m \u001b[38;5;28mlen\u001b[39m(\u001b[38;5;28mself\u001b[39m\u001b[38;5;241m.\u001b[39m__data)\n\u001b[1;32m   1138\u001b[0m \u001b[38;5;28;01mif\u001b[39;00m \u001b[38;5;129;01mnot\u001b[39;00m \u001b[38;5;28mself\u001b[39m\u001b[38;5;241m.\u001b[39m__session:\n\u001b[0;32m-> 1139\u001b[0m     \u001b[38;5;28mself\u001b[39m\u001b[38;5;241m.\u001b[39m__session \u001b[38;5;241m=\u001b[39m \u001b[38;5;28;43mself\u001b[39;49m\u001b[38;5;241;43m.\u001b[39;49m\u001b[43m__collection\u001b[49m\u001b[38;5;241;43m.\u001b[39;49m\u001b[43mdatabase\u001b[49m\u001b[38;5;241;43m.\u001b[39;49m\u001b[43mclient\u001b[49m\u001b[38;5;241;43m.\u001b[39;49m\u001b[43m_ensure_session\u001b[49m\u001b[43m(\u001b[49m\u001b[43m)\u001b[49m\n\u001b[1;32m   1141\u001b[0m \u001b[38;5;28;01mif\u001b[39;00m \u001b[38;5;28mself\u001b[39m\u001b[38;5;241m.\u001b[39m__id \u001b[38;5;129;01mis\u001b[39;00m \u001b[38;5;28;01mNone\u001b[39;00m:  \u001b[38;5;66;03m# Query\u001b[39;00m\n\u001b[1;32m   1142\u001b[0m     \u001b[38;5;28;01mif\u001b[39;00m (\u001b[38;5;28mself\u001b[39m\u001b[38;5;241m.\u001b[39m__min \u001b[38;5;129;01mor\u001b[39;00m \u001b[38;5;28mself\u001b[39m\u001b[38;5;241m.\u001b[39m__max) \u001b[38;5;129;01mand\u001b[39;00m \u001b[38;5;129;01mnot\u001b[39;00m \u001b[38;5;28mself\u001b[39m\u001b[38;5;241m.\u001b[39m__hint:\n",
      "File \u001b[0;32m/opt/conda/lib/python3.10/site-packages/pymongo/mongo_client.py:1740\u001b[0m, in \u001b[0;36mMongoClient._ensure_session\u001b[0;34m(self, session)\u001b[0m\n\u001b[1;32m   1735\u001b[0m     \u001b[38;5;28;01mreturn\u001b[39;00m session\n\u001b[1;32m   1737\u001b[0m \u001b[38;5;28;01mtry\u001b[39;00m:\n\u001b[1;32m   1738\u001b[0m     \u001b[38;5;66;03m# Don't make implicit sessions causally consistent. Applications\u001b[39;00m\n\u001b[1;32m   1739\u001b[0m     \u001b[38;5;66;03m# should always opt-in.\u001b[39;00m\n\u001b[0;32m-> 1740\u001b[0m     \u001b[38;5;28;01mreturn\u001b[39;00m \u001b[38;5;28;43mself\u001b[39;49m\u001b[38;5;241;43m.\u001b[39;49m\u001b[43m__start_session\u001b[49m\u001b[43m(\u001b[49m\u001b[38;5;28;43;01mTrue\u001b[39;49;00m\u001b[43m,\u001b[49m\u001b[43m \u001b[49m\u001b[43mcausal_consistency\u001b[49m\u001b[38;5;241;43m=\u001b[39;49m\u001b[38;5;28;43;01mFalse\u001b[39;49;00m\u001b[43m)\u001b[49m\n\u001b[1;32m   1741\u001b[0m \u001b[38;5;28;01mexcept\u001b[39;00m (ConfigurationError, InvalidOperation):\n\u001b[1;32m   1742\u001b[0m     \u001b[38;5;66;03m# Sessions not supported.\u001b[39;00m\n\u001b[1;32m   1743\u001b[0m     \u001b[38;5;28;01mreturn\u001b[39;00m \u001b[38;5;28;01mNone\u001b[39;00m\n",
      "File \u001b[0;32m/opt/conda/lib/python3.10/site-packages/pymongo/mongo_client.py:1685\u001b[0m, in \u001b[0;36mMongoClient.__start_session\u001b[0;34m(self, implicit, **kwargs)\u001b[0m\n\u001b[1;32m   1682\u001b[0m \u001b[38;5;28;01mdef\u001b[39;00m \u001b[38;5;21m__start_session\u001b[39m(\u001b[38;5;28mself\u001b[39m, implicit, \u001b[38;5;241m*\u001b[39m\u001b[38;5;241m*\u001b[39mkwargs):\n\u001b[1;32m   1683\u001b[0m     \u001b[38;5;66;03m# Raises ConfigurationError if sessions are not supported.\u001b[39;00m\n\u001b[1;32m   1684\u001b[0m     \u001b[38;5;28;01mif\u001b[39;00m implicit:\n\u001b[0;32m-> 1685\u001b[0m         \u001b[38;5;28;43mself\u001b[39;49m\u001b[38;5;241;43m.\u001b[39;49m\u001b[43m_topology\u001b[49m\u001b[38;5;241;43m.\u001b[39;49m\u001b[43m_check_implicit_session_support\u001b[49m\u001b[43m(\u001b[49m\u001b[43m)\u001b[49m\n\u001b[1;32m   1686\u001b[0m         server_session \u001b[38;5;241m=\u001b[39m _EmptyServerSession()\n\u001b[1;32m   1687\u001b[0m     \u001b[38;5;28;01melse\u001b[39;00m:\n",
      "File \u001b[0;32m/opt/conda/lib/python3.10/site-packages/pymongo/topology.py:538\u001b[0m, in \u001b[0;36mTopology._check_implicit_session_support\u001b[0;34m(self)\u001b[0m\n\u001b[1;32m    536\u001b[0m \u001b[38;5;28;01mdef\u001b[39;00m \u001b[38;5;21m_check_implicit_session_support\u001b[39m(\u001b[38;5;28mself\u001b[39m):\n\u001b[1;32m    537\u001b[0m     \u001b[38;5;28;01mwith\u001b[39;00m \u001b[38;5;28mself\u001b[39m\u001b[38;5;241m.\u001b[39m_lock:\n\u001b[0;32m--> 538\u001b[0m         \u001b[38;5;28;43mself\u001b[39;49m\u001b[38;5;241;43m.\u001b[39;49m\u001b[43m_check_session_support\u001b[49m\u001b[43m(\u001b[49m\u001b[43m)\u001b[49m\n",
      "File \u001b[0;32m/opt/conda/lib/python3.10/site-packages/pymongo/topology.py:554\u001b[0m, in \u001b[0;36mTopology._check_session_support\u001b[0;34m(self)\u001b[0m\n\u001b[1;32m    550\u001b[0m         \u001b[38;5;28mself\u001b[39m\u001b[38;5;241m.\u001b[39m_select_servers_loop(\n\u001b[1;32m    551\u001b[0m             any_server_selector, \u001b[38;5;28mself\u001b[39m\u001b[38;5;241m.\u001b[39mget_server_selection_timeout(), \u001b[38;5;28;01mNone\u001b[39;00m\n\u001b[1;32m    552\u001b[0m         )\n\u001b[1;32m    553\u001b[0m \u001b[38;5;28;01melif\u001b[39;00m \u001b[38;5;129;01mnot\u001b[39;00m \u001b[38;5;28mself\u001b[39m\u001b[38;5;241m.\u001b[39m_description\u001b[38;5;241m.\u001b[39mreadable_servers:\n\u001b[0;32m--> 554\u001b[0m     \u001b[38;5;28;43mself\u001b[39;49m\u001b[38;5;241;43m.\u001b[39;49m\u001b[43m_select_servers_loop\u001b[49m\u001b[43m(\u001b[49m\n\u001b[1;32m    555\u001b[0m \u001b[43m        \u001b[49m\u001b[43mreadable_server_selector\u001b[49m\u001b[43m,\u001b[49m\u001b[43m \u001b[49m\u001b[38;5;28;43mself\u001b[39;49m\u001b[38;5;241;43m.\u001b[39;49m\u001b[43mget_server_selection_timeout\u001b[49m\u001b[43m(\u001b[49m\u001b[43m)\u001b[49m\u001b[43m,\u001b[49m\u001b[43m \u001b[49m\u001b[38;5;28;43;01mNone\u001b[39;49;00m\n\u001b[1;32m    556\u001b[0m \u001b[43m    \u001b[49m\u001b[43m)\u001b[49m\n\u001b[1;32m    558\u001b[0m session_timeout \u001b[38;5;241m=\u001b[39m \u001b[38;5;28mself\u001b[39m\u001b[38;5;241m.\u001b[39m_description\u001b[38;5;241m.\u001b[39mlogical_session_timeout_minutes\n\u001b[1;32m    559\u001b[0m \u001b[38;5;28;01mif\u001b[39;00m session_timeout \u001b[38;5;129;01mis\u001b[39;00m \u001b[38;5;28;01mNone\u001b[39;00m:\n",
      "File \u001b[0;32m/opt/conda/lib/python3.10/site-packages/pymongo/topology.py:238\u001b[0m, in \u001b[0;36mTopology._select_servers_loop\u001b[0;34m(self, selector, timeout, address)\u001b[0m\n\u001b[1;32m    235\u001b[0m \u001b[38;5;28;01mwhile\u001b[39;00m \u001b[38;5;129;01mnot\u001b[39;00m server_descriptions:\n\u001b[1;32m    236\u001b[0m     \u001b[38;5;66;03m# No suitable servers.\u001b[39;00m\n\u001b[1;32m    237\u001b[0m     \u001b[38;5;28;01mif\u001b[39;00m timeout \u001b[38;5;241m==\u001b[39m \u001b[38;5;241m0\u001b[39m \u001b[38;5;129;01mor\u001b[39;00m now \u001b[38;5;241m>\u001b[39m end_time:\n\u001b[0;32m--> 238\u001b[0m         \u001b[38;5;28;01mraise\u001b[39;00m ServerSelectionTimeoutError(\n\u001b[1;32m    239\u001b[0m             \u001b[38;5;124m\"\u001b[39m\u001b[38;5;132;01m%s\u001b[39;00m\u001b[38;5;124m, Timeout: \u001b[39m\u001b[38;5;132;01m%s\u001b[39;00m\u001b[38;5;124ms, Topology Description: \u001b[39m\u001b[38;5;132;01m%r\u001b[39;00m\u001b[38;5;124m\"\u001b[39m\n\u001b[1;32m    240\u001b[0m             \u001b[38;5;241m%\u001b[39m (\u001b[38;5;28mself\u001b[39m\u001b[38;5;241m.\u001b[39m_error_message(selector), timeout, \u001b[38;5;28mself\u001b[39m\u001b[38;5;241m.\u001b[39mdescription)\n\u001b[1;32m    241\u001b[0m         )\n\u001b[1;32m    243\u001b[0m     \u001b[38;5;28mself\u001b[39m\u001b[38;5;241m.\u001b[39m_ensure_opened()\n\u001b[1;32m    244\u001b[0m     \u001b[38;5;28mself\u001b[39m\u001b[38;5;241m.\u001b[39m_request_check_all()\n",
      "\u001b[0;31mServerSelectionTimeoutError\u001b[0m: localhost:27017: [Errno 111] Connection refused, Timeout: 30s, Topology Description: <TopologyDescription id: 63f2e24ecb755a6a0c0dcbd1, topology_type: Unknown, servers: [<ServerDescription ('localhost', 27017) server_type: Unknown, rtt: None, error=AutoReconnect('localhost:27017: [Errno 111] Connection refused')>]>"
     ]
    }
   ],
   "source": [
    "import pymongo\n",
    "\n",
    "# establish a connection to the MongoDB server\n",
    "client = pymongo.MongoClient(\"mongodb://localhost:27017/\")\n",
    "\n",
    "# select the \"mydatabase\" database and the \"customers\" collection\n",
    "mydb = client[\"mydatabase\"]\n",
    "mycol = mydb[\"customers\"]\n",
    "\n",
    "# retrieve all documents in the collection\n",
    "for record in mycol.find():\n",
    "    print(record)\n",
    "\n",
    "# retrieve documents that match a specific criteria\n",
    "for record in mycol.find({\"name\": \"Alice\"}):\n",
    "    print(record)\n",
    "\n",
    "# retrieve documents that match a specific criteria and sort them in ascending order\n",
    "for record in mycol.find({\"name\": \"Alice\"}).sort(\"address\"):\n",
    "    print(record)\n"
   ]
  },
  {
   "cell_type": "markdown",
   "id": "a2f4752e-a103-4a34-9c54-957e11e54b12",
   "metadata": {},
   "source": [
    "In this example code, we first establish a connection to the MongoDB server and select the \"mydatabase\" database and the \"customers\" collection. We then use the find() method to retrieve all documents in the collection, retrieve documents that match the criteria {\"name\": \"Alice\"}, and retrieve documents that match the criteria {\"name\": \"Alice\"} and sort them in ascending order based on the \"address\" field.\n",
    "\n",
    "Note that you can also use various other methods of the cursor object to filter, sort, limit, and skip the results. For example, you can use the limit() method to limit the number of documents returned by the query, or use the skip() method to skip a certain number of documents before returning the results."
   ]
  },
  {
   "cell_type": "markdown",
   "id": "e4f12732-fc58-4f43-b9f8-927959d120d1",
   "metadata": {},
   "source": [
    "### Q6. Explain the sort() method. Give an example to demonstrate sorting in MongoDB."
   ]
  },
  {
   "cell_type": "markdown",
   "id": "cd54c8a5-9919-421f-b787-59572f83db40",
   "metadata": {},
   "source": [
    "The sort() method is used in MongoDB to sort the documents in a collection based on one or more fields. The sort() method takes one or more field names as arguments and sorts the documents in ascending order by default. You can specify the sorting order (ascending or descending) for each field by adding the keyword pymongo.ASCENDING or pymongo.DESCENDING after the field name.\n",
    "\n",
    "Here's an example code that demonstrates sorting in MongoDB using the sort() method:"
   ]
  },
  {
   "cell_type": "code",
   "execution_count": null,
   "id": "9cdf8f7a-6ccf-45d6-a98f-b2bbf4f363b5",
   "metadata": {},
   "outputs": [],
   "source": [
    "import pymongo\n",
    "\n",
    "# establish a connection to the MongoDB server\n",
    "client = pymongo.MongoClient(\"mongodb://localhost:27017/\")\n",
    "\n",
    "# select the \"mydatabase\" database and the \"customers\" collection\n",
    "mydb = client[\"mydatabase\"]\n",
    "mycol = mydb[\"customers\"]\n",
    "\n",
    "# insert some documents into the collection\n",
    "mycol.insert_many([\n",
    "    {\"name\": \"Alice\", \"age\": 30, \"city\": \"New York\"},\n",
    "    {\"name\": \"Bob\", \"age\": 25, \"city\": \"Los Angeles\"},\n",
    "    {\"name\": \"Charlie\", \"age\": 35, \"city\": \"Chicago\"},\n",
    "    {\"name\": \"David\", \"age\": 40, \"city\": \"Boston\"}\n",
    "])\n",
    "\n",
    "# sort the documents by name in ascending order\n",
    "for record in mycol.find().sort(\"name\"):\n",
    "    print(record)\n",
    "\n",
    "# sort the documents by age in descending order\n",
    "for record in mycol.find().sort(\"age\", pymongo.DESCENDING):\n",
    "    print(record)\n",
    "\n",
    "# sort the documents by city in ascending order and then by name in descending order\n",
    "for record in mycol.find().sort([(\"city\", pymongo.ASCENDING), (\"name\", pymongo.DESCENDING)]):\n",
    "    print(record)\n"
   ]
  },
  {
   "cell_type": "markdown",
   "id": "6eb1cf78-7df8-4804-bf11-17b4fd3ac5b5",
   "metadata": {},
   "source": [
    "In this example code, we first insert some documents into the \"customers\" collection. We then use the sort() method to sort the documents by name in ascending order, by age in descending order, and by city in ascending order and then by name in descending order. Note that you can pass a single field name or a list of field names to the sort() method to sort the documents by multiple fields. You can also use the pymongo.ASCENDING and pymongo.DESCENDING constants to specify the sorting order for each field."
   ]
  },
  {
   "cell_type": "markdown",
   "id": "2d170fda-cffb-492a-88e0-5c59e0f8785d",
   "metadata": {},
   "source": [
    "### Q7. Explain why delete_one(), delete_many(), and drop() is used."
   ]
  },
  {
   "cell_type": "markdown",
   "id": "b3c12dff-02b7-4504-a8bf-d16ab601b265",
   "metadata": {},
   "source": []
  }
 ],
 "metadata": {
  "kernelspec": {
   "display_name": "Python 3 (ipykernel)",
   "language": "python",
   "name": "python3"
  },
  "language_info": {
   "codemirror_mode": {
    "name": "ipython",
    "version": 3
   },
   "file_extension": ".py",
   "mimetype": "text/x-python",
   "name": "python",
   "nbconvert_exporter": "python",
   "pygments_lexer": "ipython3",
   "version": "3.10.8"
  }
 },
 "nbformat": 4,
 "nbformat_minor": 5
}
