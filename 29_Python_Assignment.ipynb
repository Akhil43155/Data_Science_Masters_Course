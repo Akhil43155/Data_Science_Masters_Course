{
 "cells": [
  {
   "cell_type": "raw",
   "id": "1d49f969-2ab3-445a-ba8e-2b7b44ea60d7",
   "metadata": {},
   "source": [
    "1.Who developed python programming language?"
   ]
  },
  {
   "cell_type": "raw",
   "id": "33c9a1bc-3006-4d03-b291-f066cc8beb80",
   "metadata": {},
   "source": [
    "Ans. Python programming language was developed by Guido van Rossum."
   ]
  },
  {
   "cell_type": "raw",
   "id": "fd27f4cd-8d1b-4dab-888a-6b170463e70c",
   "metadata": {},
   "source": [
    "2. Which type of programming does python support?"
   ]
  },
  {
   "cell_type": "raw",
   "id": "2faa0d17-86d4-42e1-a1ee-509648c8bd07",
   "metadata": {},
   "source": [
    "Ans. \n",
    "\tPython is a multi-paradigm programming language, which means it supports several programming paradigms, including:\n",
    "\n",
    "Object-Oriented Programming (OOP) - Python supports OOP concepts such as inheritance, encapsulation, and polymorphism.\n",
    "\n",
    "Imperative Programming - This programming style is based on giving the computer a sequence of tasks to perform, using statements that change a program's state.\n",
    "\n",
    "Functional Programming - Python has functions, first-class objects, and closures, which enable functional programming.\n",
    "\n",
    "Procedural Programming - This programming style is based on a sequence of procedures, or subroutines, which tell the computer what tasks to perform. Python supports procedural programming with its procedure-oriented features.\n",
    "\n",
    "Scripting - Python can be used as a scripting language to automate tasks, write small programs, or prototype larger systems.\n",
    "\n",
    "In summary, Python supports multiple programming paradigms, allowing developers to choose the best approach for the problem they are trying to solve."
   ]
  },
  {
   "cell_type": "raw",
   "id": "f924b458-9156-4b12-adbd-e6db3c9b79d2",
   "metadata": {},
   "source": [
    "3. Is python case-sensitive when dealing with identifiers?"
   ]
  },
  {
   "cell_type": "raw",
   "id": "aa8c225a-c355-4ec8-b473-dd8ced39c509",
   "metadata": {},
   "source": [
    "Ans. \n",
    "\tYes, Python is case-sensitive when dealing with identifiers, such as variable names, function names, and class names.\n",
    "\n",
    "For example, in Python, the names \"var1\" and \"Var1\" would be treated as two different variables. It's a good programming practice to use descriptive and meaningful names for your identifiers, and to be consistent in their use throughout your code.\n",
    "\n",
    "It's worth noting that Python also treats keywords differently from identifiers, as keywords have a special meaning in the language and cannot be used as identifiers."
   ]
  },
  {
   "cell_type": "raw",
   "id": "96e9bd09-7e94-467e-b7ef-e5bb7d372983",
   "metadata": {},
   "source": [
    "4. What is the correct extension of the python file?"
   ]
  },
  {
   "cell_type": "raw",
   "id": "b8e901d4-60f4-462a-b8bb-5947a853a6d8",
   "metadata": {},
   "source": [
    "Ans. The correct extension for a Python file is \".py\".\n",
    "\n",
    "This extension is used to indicate to the operating system and to other software that the file is a Python script, and it should be executed using a Python interpreter."
   ]
  },
  {
   "cell_type": "raw",
   "id": "9dd2d64b-10e8-44b1-bbd6-7a3edcb2819a",
   "metadata": {},
   "source": [
    "5. Is python code compiled or interpreted?"
   ]
  },
  {
   "cell_type": "raw",
   "id": "4e9d43b6-3643-4082-9f4e-cf66ac374e70",
   "metadata": {},
   "source": [
    "Ans. In a compiled language, source code is transformed into machine code by a compiler before being executed by the computer. In an interpreted language like Python, the source code is executed directly by the interpreter, without being compiled into machine code first.\n",
    "\n",
    "The interpreted nature of Python makes it a fast language for development and testing, as it is easy to experiment with different pieces of code and see the results immediately. However, this also means that Python code can be slower to execute than code written in a compiled language, as the interpreter must translate the code into machine instructions each time the program is run.\n",
    "\n",
    "Despite this trade-off, Python's ease of use and versatility have made it a popular choice for a wide range of applications, including scientific computing, data analysis, web development, and more."
   ]
  },
  {
   "cell_type": "raw",
   "id": "7dbf5fee-eee9-4240-86d6-645e1d807646",
   "metadata": {},
   "source": [
    "6. Name a few blocks of code used to define in python language?"
   ]
  },
  {
   "cell_type": "raw",
   "id": "43ecbcc8-9361-4929-a4c0-9d303e0d63ff",
   "metadata": {},
   "source": [
    "Ans. In Python, there are several blocks of code used to define different structures, including:\n",
    "\n",
    "Functions - A function is a block of code that performs a specific task. Functions are defined using the \"def\" keyword and can take parameters as input and return a value as output.\n",
    "\n",
    "Classes - A class is a blueprint for creating objects, which can have attributes (variables) and methods (functions). Classes are defined using the \"class\" keyword.\n",
    "\n",
    "Loops - Loops are used to repeat a block of code multiple times. Python supports two types of loops: \"for\" loops and \"while\" loops.\n",
    "\n",
    "Conditional statements - Conditional statements are used to execute different blocks of code based on whether a condition is met. Python supports \"if\" statements and \"if-else\" statements.\n",
    "\n",
    "try-except blocks - try-except blocks are used to handle exceptions, which are errors that occur during the execution of a program. The \"try\" block contains the code that might raise an exception, and the \"except\" block contains the code to be executed if an exception is raised.\n",
    "\n",
    "These are some of the most common blocks of code used in Python. By combining these structures in different ways, you can create complex programs that can perform a wide range of tasks."
   ]
  },
  {
   "cell_type": "raw",
   "id": "274937fc-265b-4e0e-bb6f-2e5cb7ed26e5",
   "metadata": {},
   "source": [
    "7. State a character used to give single-line comments in python?"
   ]
  },
  {
   "cell_type": "raw",
   "id": "89b347b9-cea8-46d7-9245-82fe884d0a8a",
   "metadata": {},
   "source": [
    "Ans. In Python, the character \"#\" is used to give single-line comments.\n",
    "\n",
    "Single-line comments are used to add explanations or annotations to the code and are ignored by the Python interpreter. For example:\n",
    "\n",
    "# This is a single-line comment in Python"
   ]
  },
  {
   "cell_type": "raw",
   "id": "7d855d4c-6b35-4b41-9f0e-c34f03018899",
   "metadata": {},
   "source": [
    "8. Mention functions which can help us to find the version of python that we are currently working on? "
   ]
  },
  {
   "cell_type": "raw",
   "id": "cdd41423-124e-44d3-b354-8f1aa93df790",
   "metadata": {},
   "source": [
    "Ans. Two commonly used functions to find the version of Python that you are currently working on are:\n",
    "\n",
    "sys.version - This function returns a string that contains the version number and other information about the Python interpreter.\n",
    "\n",
    "platform.python_version() - This function returns a string containing the version number of the Python interpreter, as well as some additional information about the underlying platform (e.g., operating system, architecture)."
   ]
  },
  {
   "cell_type": "raw",
   "id": "1309f243-da3e-4712-8020-3937e6b8f16c",
   "metadata": {},
   "source": [
    "9. python creates the anonymous function at runtime, using a constructor clled ___________"
   ]
  },
  {
   "cell_type": "raw",
   "id": "889cbf17-53df-4922-a032-02df84b02673",
   "metadata": {},
   "source": [
    "Ans. Python creates the anonymous function at runtime using a constructor called lambda. The lambda function is used to create small, anonymous functions that can be created and used on the fly, without having to be explicitly defined in a separate def block. The basic syntax for a lambda function is lambda arguments: expression, where arguments are the input arguments to the function and expression is the single expression that the function will evaluate and return."
   ]
  },
  {
   "cell_type": "raw",
   "id": "62415137-06b0-440c-a45b-1e270427a1b7",
   "metadata": {},
   "source": [
    "10. What does pip stand for python?"
   ]
  },
  {
   "cell_type": "raw",
   "id": "a1e1002a-99bd-4803-bbab-1b107b576410",
   "metadata": {},
   "source": [
    "Ans. In the context of Python, \"pip\" stands for \"Pip Installs Packages\". pip is a package manager for Python, which is used to install and manage software packages (also known as \"libraries\" or \"modules\") that extend the functionality of the Python programming language. pip makes it easy to download and install packages from the Python Package Index (PyPI), which is a repository of software packages that can be used with Python."
   ]
  },
  {
   "cell_type": "raw",
   "id": "b3bf2a32-4f4c-4a26-8f74-15d6ed40a9e7",
   "metadata": {},
   "source": [
    "11. Mention a few-built in functions in python?"
   ]
  },
  {
   "cell_type": "raw",
   "id": "9d2af6a3-81c7-4eba-8688-9a68a7c7660a",
   "metadata": {},
   "source": [
    "Ans. Python has many built-in functions that are available without needing to import any additional libraries. Here are some examples of commonly used built-in functions in Python:\n",
    "\n",
    "print() - Prints a message to the console.\n",
    "len() - Returns the length of an object.\n",
    "type() - Returns the type of an object.\n",
    "input() - Accepts input from the user via the console.\n",
    "range() - Generates a sequence of numbers.\n",
    "str() - Converts an object to a string.\n",
    "int() - Converts a string or other object to an integer.\n",
    "float() - Converts a string or other object to a floating-point number.\n",
    "abs() - Returns the absolute value of a number.\n",
    "max() - Returns the maximum value in a sequence of numbers or objects.\n",
    "min() - Returns the minimum value in a sequence of numbers or objects.\n",
    "sum() - Returns the sum of a sequence of numbers.\n",
    "sorted() - Returns a sorted sequence of objects."
   ]
  },
  {
   "cell_type": "raw",
   "id": "9759906a-f8f9-403b-975c-0601db485d69",
   "metadata": {},
   "source": [
    "12. What is the maximum Possible length of an identifier in python?"
   ]
  },
  {
   "cell_type": "raw",
   "id": "31c79af8-54ac-4a76-91e6-6d6bc3d6e611",
   "metadata": {},
   "source": [
    "Ans. In Python, the maximum possible length of an identifier (variable name, function name, class name, etc.) is implementation-dependent, which means it can vary depending on the specific implementation of Python that you are using.\n",
    "\n",
    "In practice, however, the length limit is usually quite high, and it is rare for it to be reached in typical programming scenarios. According to the official Python documentation, the recommended maximum length of an identifier is 79 characters, as this is the maximum line length recommended by the Python style guide (PEP 8)."
   ]
  },
  {
   "cell_type": "raw",
   "id": "3579dbf7-bbb2-4015-a63c-4e05d65c2437",
   "metadata": {},
   "source": [
    "13. What are the benifits of using python?"
   ]
  },
  {
   "cell_type": "raw",
   "id": "66f338f0-4fe5-47c3-80a9-e52c53027c22",
   "metadata": {},
   "source": [
    "Ans. There are many benefits to using Python as a programming language, including:\n",
    "\n",
    "Readability and ease of use: Python has a clean and simple syntax that makes it easy to read and write code. This can make it more productive for developers, as they can spend less time writing and debugging code.\n",
    "\n",
    "Large and active community: Python has a large and active community of developers and users, which means that there are many resources and tools available to help developers learn and use the language.\n",
    "\n",
    "Portability: Python code can run on a variety of operating systems and platforms, making it highly portable and flexible.\n",
    "\n",
    "Versatility: Python can be used for a wide range of applications, including web development, scientific computing, data analysis, artificial intelligence, and more.\n",
    "\n",
    "Availability of libraries: Python has a vast collection of third-party libraries that can be easily installed and used for a wide range of purposes, such as data manipulation, web scraping, machine learning, and more.\n",
    "\n",
    "Interpreted language: Python is an interpreted language, which means that it can execute code on the fly, without needing to be compiled first. This makes it more flexible and dynamic than compiled languages, as code can be modified and executed in real-time.\n",
    "\n",
    "Overall, Python's readability, ease of use, versatility, and large community make it a popular choice for many different types of applications and projects."
   ]
  },
  {
   "cell_type": "raw",
   "id": "45073d8c-05e1-4962-b362-bdca0d089d54",
   "metadata": {},
   "source": [
    "14. How is memory managed in python?"
   ]
  },
  {
   "cell_type": "raw",
   "id": "bde130dd-7a8a-49df-98d6-7431cfacdd74",
   "metadata": {},
   "source": [
    "Ans. In Python, memory management is handled automatically by the interpreter through a mechanism known as garbage collection. Garbage collection is the process of identifying and freeing up memory that is no longer being used by the program, in order to prevent memory leaks and other issues that can arise from excessive memory usage.\n",
    "\n",
    "Python uses a technique called reference counting to keep track of objects and their associated memory. Each object in memory has a reference count that indicates how many references (variables, function arguments, etc.) are currently pointing to that object. When an object's reference count drops to zero, it is no longer being used and its memory can be freed up by the garbage collector.\n",
    "\n",
    "In addition to reference counting, Python also employs a cycle-detecting garbage collector that can detect and break cycles of objects that reference each other, but are not referenced by any other parts of the program. This helps to prevent memory leaks that can occur when objects remain in memory even though they are no longer being used.\n",
    "\n",
    "Overall, Python's automatic memory management system helps to simplify memory management for developers, while also reducing the risk of memory-related errors and bugs in programs."
   ]
  },
  {
   "cell_type": "raw",
   "id": "dfbeea11-64b9-4212-b2df-68fd5a00e40a",
   "metadata": {},
   "source": [
    "15. How to install python on windows and set path variables?"
   ]
  },
  {
   "cell_type": "raw",
   "id": "191d42ba-e330-4e6d-9f81-17f71251fe89",
   "metadata": {},
   "source": [
    "Ans. To install Python on Windows and set path variables, you can follow these steps:\n",
    "\n",
    "Go to the official Python website at www.python.org/downloads and download the latest version of Python for Windows.\n",
    "\n",
    "Once the download is complete, double-click the installer to launch it.\n",
    "\n",
    "Follow the installation wizard, selecting the appropriate options for your needs. Make sure to check the \"Add Python to PATH\" option during the installation process. This will ensure that the Python interpreter is added to your system's PATH variable.\n",
    "\n",
    "Once the installation is complete, open the command prompt by pressing the Windows key + R, then typing \"cmd\" and pressing Enter.\n",
    "\n",
    "In the command prompt, type \"python\" and press Enter to launch the Python interpreter. If Python is installed correctly, you should see a message with the version of Python that you have installed.\n",
    "\n",
    "To set the path variables manually, right-click on \"This PC\" (or \"My Computer\") and select \"Properties\".\n",
    "\n",
    "Click on \"Advanced System Settings\" in the left pane.\n",
    "\n",
    "Click on the \"Environment Variables\" button.\n",
    "\n",
    "Under \"System Variables\", scroll down and select \"Path\", then click on \"Edit\".\n",
    "\n",
    "Click \"New\" and enter the path to the Python installation directory. For example, if Python is installed in \"C:\\Python38\", enter \"C:\\Python38\" in the text box and click \"OK\".\n",
    "\n",
    "Click \"OK\" to close all windows.\n",
    "\n",
    "Open a new command prompt and type \"python\" again to verify that Python is now in your system's PATH variable.\n",
    "\n",
    "These steps should install Python and set the necessary path variables on your Windows system."
   ]
  },
  {
   "cell_type": "raw",
   "id": "9f36492f-921d-44a2-8b46-0e0d6d2d9f1a",
   "metadata": {},
   "source": [
    "16. Is indentation required in python?"
   ]
  },
  {
   "cell_type": "raw",
   "id": "38a7f6fa-6d51-4c27-9582-33316a906379",
   "metadata": {},
   "source": [
    "Ans. Yes, indentation is required in Python. In fact, indentation is a fundamental part of the Python syntax, and it is used to define blocks of code (such as functions, loops, and conditional statements).\n",
    "\n",
    "In Python, code blocks are defined by their level of indentation, rather than by braces or other characters. This means that you need to indent your code properly in order for it to be parsed correctly by the Python interpreter.\n",
    "\n",
    "The standard convention in Python is to use 4 spaces for each level of indentation. Some text editors and IDEs can automatically convert tabs to spaces, or display tabs as 4 spaces, to help you maintain consistent indentation in your code.\n",
    "\n",
    "Overall, proper indentation is crucial to writing correct and readable Python code, so be sure to pay close attention to your indentation as you write and edit your programs."
   ]
  }
 ],
 "metadata": {
  "kernelspec": {
   "display_name": "Python 3 (ipykernel)",
   "language": "python",
   "name": "python3"
  },
  "language_info": {
   "codemirror_mode": {
    "name": "ipython",
    "version": 3
   },
   "file_extension": ".py",
   "mimetype": "text/x-python",
   "name": "python",
   "nbconvert_exporter": "python",
   "pygments_lexer": "ipython3",
   "version": "3.10.8"
  }
 },
 "nbformat": 4,
 "nbformat_minor": 5
}
