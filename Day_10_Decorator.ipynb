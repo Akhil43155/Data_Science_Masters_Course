{
 "cells": [
  {
   "cell_type": "markdown",
   "id": "1b7e7b97-e459-4284-9c89-449ebcdc700b",
   "metadata": {},
   "source": [
    "#### Decorator\n",
    "In Python, a decorator is a special type of function that can be used to modify or extend the behavior of another function or class without modifying its source code. Decorators allow you to wrap a function or class with another function or class to add additional functionality or to modify its behavior.\n",
    "\n",
    "The syntax for using a decorator is to place the decorator function or class immediately before the function or class that it will modify. Here is an example of a simple decorator in Python:"
   ]
  },
  {
   "cell_type": "code",
   "execution_count": 1,
   "id": "0de30547-df12-4c42-b49b-72aee0a3f90b",
   "metadata": {},
   "outputs": [
    {
     "name": "stdout",
     "output_type": "stream",
     "text": [
      "Before function is called.\n",
      "This is my function.\n",
      "After function is called.\n"
     ]
    }
   ],
   "source": [
    "def my_decorator(func):\n",
    "    def wrapper():\n",
    "        print(\"Before function is called.\")\n",
    "        func()\n",
    "        print(\"After function is called.\")\n",
    "    return wrapper\n",
    "\n",
    "@my_decorator\n",
    "def my_function():\n",
    "    print(\"This is my function.\")\n",
    "\n",
    "my_function()\n"
   ]
  },
  {
   "cell_type": "raw",
   "id": "6106a436-fc97-46e6-8b6a-8985428629d2",
   "metadata": {},
   "source": [
    "In the above example, we define a decorator function called my_decorator that takes a function func as an argument. The decorator defines an inner function wrapper that prints a message before and after calling the original function. The wrapper function then calls the original function func in the middle.\n",
    "\n",
    "We then define a function my_function and decorate it with the @my_decorator syntax. When we call my_function(), the decorator will modify its behavior by printing a message before and after calling the function.\n",
    "\n",
    "Decorators are a powerful feature of Python that can be used to add functionality to functions or classes without modifying their source code. They are used extensively in web frameworks, such as Flask and Django, to add functionality to views, routes, and other components of the framework."
   ]
  },
  {
   "cell_type": "code",
   "execution_count": 2,
   "id": "b6de53ab-3000-45a3-8078-30ea5780e5fb",
   "metadata": {},
   "outputs": [],
   "source": [
    "def test():\n",
    "    print(\"this is the start of my fun\")\n",
    "    print(4+5)\n",
    "    print(\"this is the end of my fun\")"
   ]
  },
  {
   "cell_type": "code",
   "execution_count": 3,
   "id": "eadaf185-d93b-4238-bb1d-7a1152ba34a1",
   "metadata": {},
   "outputs": [
    {
     "name": "stdout",
     "output_type": "stream",
     "text": [
      "this is the start of my fun\n",
      "9\n",
      "this is the end of my fun\n"
     ]
    }
   ],
   "source": [
    "test()"
   ]
  },
  {
   "cell_type": "code",
   "execution_count": 4,
   "id": "c9c5ae9b-6d1f-42e3-b9d1-39fd9fc60b96",
   "metadata": {},
   "outputs": [],
   "source": [
    "def deco(func):\n",
    "    def inner_deco():\n",
    "        print(\"this is the start of my fun\")\n",
    "        func()\n",
    "        print(\"this is the end of my fun\")\n",
    "    return inner_deco\n",
    "        "
   ]
  },
  {
   "cell_type": "code",
   "execution_count": 5,
   "id": "b0935111-b840-41a8-8a60-aece43221a7d",
   "metadata": {},
   "outputs": [],
   "source": [
    "@deco\n",
    "def test1():\n",
    "    print(4+5)"
   ]
  },
  {
   "cell_type": "code",
   "execution_count": 6,
   "id": "d7c74bf5-a7ad-4cf2-a193-d3ffcd7ec4f7",
   "metadata": {},
   "outputs": [
    {
     "name": "stdout",
     "output_type": "stream",
     "text": [
      "this is the start of my fun\n",
      "9\n",
      "this is the end of my fun\n"
     ]
    }
   ],
   "source": [
    "test1()"
   ]
  },
  {
   "cell_type": "code",
   "execution_count": 7,
   "id": "c440a785-32b3-4dc3-8b61-a9d64511938c",
   "metadata": {},
   "outputs": [],
   "source": [
    "import time\n",
    "def timer_test(func) :\n",
    "    def timer_test_inner():\n",
    "        start = time.time()\n",
    "        func()\n",
    "        end = time.time()\n",
    "        print(end-start)\n",
    "    return timer_test_inner\n"
   ]
  },
  {
   "cell_type": "code",
   "execution_count": 8,
   "id": "59dce623-254a-4978-9d4d-5f72a0e0c122",
   "metadata": {},
   "outputs": [],
   "source": [
    "@timer_test\n",
    "def test2():\n",
    "    print(45+67)"
   ]
  },
  {
   "cell_type": "code",
   "execution_count": 9,
   "id": "428b0334-50b2-4ca0-8c3d-e4e0ccac535c",
   "metadata": {},
   "outputs": [
    {
     "name": "stdout",
     "output_type": "stream",
     "text": [
      "112\n",
      "5.0067901611328125e-05\n"
     ]
    }
   ],
   "source": [
    "test2()"
   ]
  },
  {
   "cell_type": "code",
   "execution_count": 10,
   "id": "fc706759-902a-4be1-bdf6-d7b497b05614",
   "metadata": {},
   "outputs": [],
   "source": [
    "@timer_test\n",
    "def test3():\n",
    "    for i in range(100000000):\n",
    "        pass"
   ]
  },
  {
   "cell_type": "code",
   "execution_count": 12,
   "id": "87ab4647-1e92-4084-99d2-68ebc30fbeb6",
   "metadata": {},
   "outputs": [
    {
     "name": "stdout",
     "output_type": "stream",
     "text": [
      "2.291496515274048\n"
     ]
    }
   ],
   "source": [
    "test3()"
   ]
  }
 ],
 "metadata": {
  "kernelspec": {
   "display_name": "Python 3 (ipykernel)",
   "language": "python",
   "name": "python3"
  },
  "language_info": {
   "codemirror_mode": {
    "name": "ipython",
    "version": 3
   },
   "file_extension": ".py",
   "mimetype": "text/x-python",
   "name": "python",
   "nbconvert_exporter": "python",
   "pygments_lexer": "ipython3",
   "version": "3.10.8"
  }
 },
 "nbformat": 4,
 "nbformat_minor": 5
}
