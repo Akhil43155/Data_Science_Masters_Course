{
 "cells": [
  {
   "cell_type": "markdown",
   "id": "3169acc6-9f64-4349-8adb-881c0e0f3caf",
   "metadata": {},
   "source": [
    "# Q1.\n",
    "Explain Class and Object with respect to Object-Oriented Programming. Give a suitable example"
   ]
  },
  {
   "cell_type": "markdown",
   "id": "81d0b746-9fc4-49a0-bcb8-3d3f24c58adc",
   "metadata": {},
   "source": [
    "Ans. Class and Object are two important concepts in Object-Oriented Programming (OOP).\n",
    "\n",
    "\tA class is a blueprint for creating objects, providing a way to encapsulate data and behavior in a \n",
    "    single unit. A class defines the data and behavior that objects created from that class will have. \n",
    "    Objects created from a class are called instances of the class.\n",
    "\n",
    "\tAn object is an instance of a class and represents a specific occurrence of the class. Each object has \n",
    "    its own unique set of data, called attributes or properties, and a set of behaviors, called methods. \n",
    "    An object's data and behavior are defined by the class it was created from.\n",
    "\n",
    "For example, consider a class Person that represents a person with a name and an age:"
   ]
  },
  {
   "cell_type": "code",
   "execution_count": 1,
   "id": "b66f554f-aadf-4b18-861f-d59451393c0b",
   "metadata": {},
   "outputs": [],
   "source": [
    "class Person:\n",
    "    def __init__(self, name, age):\n",
    "        self.name = name\n",
    "        self.age = age\n",
    "\n",
    "person1 = Person(\"John\", 30)\n",
    "person2 = Person(\"Jane\", 35)\n"
   ]
  },
  {
   "cell_type": "code",
   "execution_count": 2,
   "id": "2b609a1a-59c0-4890-a5c4-4c7b93492d50",
   "metadata": {},
   "outputs": [
    {
     "data": {
      "text/plain": [
       "'John'"
      ]
     },
     "execution_count": 2,
     "metadata": {},
     "output_type": "execute_result"
    }
   ],
   "source": [
    "person1.name"
   ]
  },
  {
   "cell_type": "code",
   "execution_count": 3,
   "id": "2878bcd8-fd99-47f6-8849-2985e72519b7",
   "metadata": {},
   "outputs": [
    {
     "data": {
      "text/plain": [
       "'Jane'"
      ]
     },
     "execution_count": 3,
     "metadata": {},
     "output_type": "execute_result"
    }
   ],
   "source": [
    "person2.name"
   ]
  },
  {
   "cell_type": "markdown",
   "id": "cd7f1079-ef0e-469a-af3f-0186c27cb681",
   "metadata": {},
   "source": [
    "In this example, two objects are created from the Person class: person1 and person2. Each object has its \n",
    "own unique set of data, name and age, and the same set of behaviors, defined by the methods of the Person class. The __init__ method is used to initialize the state of the object when it is created."
   ]
  },
  {
   "cell_type": "markdown",
   "id": "d7ac4d30-dcd7-4374-b996-8eb75d70107e",
   "metadata": {},
   "source": [
    "# Q2. \n",
    "\tName the four pillars of OOPs"
   ]
  },
  {
   "cell_type": "markdown",
   "id": "a580c877-f170-4f1d-9bac-4b8bb7daf395",
   "metadata": {},
   "source": [
    "Ans. The four pillars of Object-Oriented Programming (OOP) are:\n",
    "\n",
    "\tAbstraction: Abstraction refers to the ability to focus on the essential features of an object, \n",
    "    ignoring the details that are not relevant. This allows the implementation of objects to change \n",
    "    over time without affecting the way they are used in the program.\n",
    "\n",
    "\tEncapsulation: Encapsulation refers to the bundling of data and behavior within an object, making the \n",
    "    object a self-contained unit. This allows objects to be treated as black boxes, hiding their \n",
    "    implementation details from the rest of the program and promoting code reuse.\n",
    "\n",
    "\tInheritance: Inheritance allows a new class to be created by inheriting properties and behaviors from \n",
    "    an existing class. This makes it possible to define new classes that are related to existing ones, \n",
    "    reducing the amount of code that needs to be written and promoting code reuse.\n",
    "\n",
    "\tPolymorphism: Polymorphism refers to the ability of objects to take on multiple forms. This allows \n",
    "    objects of different classes to be used interchangeably in the same program, making it possible to \n",
    "    write code that is more flexible and adaptable.\n",
    "\n",
    "Together, these four pillars form the foundation of OOP and provide a structure for organizing code into objects that can interact with each other in well-defined ways, making it easier to build complex, flexible, and scalable software applications."
   ]
  },
  {
   "cell_type": "markdown",
   "id": "793d1df8-853a-4b5d-9cea-e775909f06c0",
   "metadata": {},
   "source": [
    "# Q3. \n",
    "\tExplain why the __init__() function is used. Give a suitable example."
   ]
  },
  {
   "cell_type": "markdown",
   "id": "0271641a-5038-4100-8c9c-4c157a4bbf7c",
   "metadata": {},
   "source": [
    "Ans. \n",
    "\tThe __init__ function is used in Python to initialize an object when it is created. It is called automatically when an object is created from a class and is used to perform any setup that is necessary before the object can be used. The __init__ function is a special method in Python and its name is preceded and followed by double underscores (__).\n",
    "\n",
    "The __init__ function takes the first argument as the reference to the instance being created, which is conventionally named self. Additional arguments can be passed to the __init__ function when the object is created, which can be used to initialize the object's state.\n",
    "\n",
    "For example, consider a class Person that represents a person with a name and an age:"
   ]
  },
  {
   "cell_type": "code",
   "execution_count": 4,
   "id": "eeee9abb-a195-4840-8240-3914516bde57",
   "metadata": {},
   "outputs": [],
   "source": [
    "class Person:\n",
    "    def __init__(self, name, age):\n",
    "        self.name = name\n",
    "        self.age = age\n",
    "\n",
    "person1 = Person(\"John\", 30)\n",
    "person2 = Person(\"Jane\", 35)\n"
   ]
  },
  {
   "cell_type": "markdown",
   "id": "b809cfa1-4e03-4040-b86c-62e42b9d6d98",
   "metadata": {},
   "source": [
    "In this example, the __init__ function is used to initialize the state of the Person objects when they are created. The name and age attributes are passed as arguments when the objects are created, and the __init__ function sets the values of those attributes in the objects using the self reference. After the objects are created, their state can be accessed and modified using the attributes."
   ]
  },
  {
   "cell_type": "markdown",
   "id": "3cb68166-0d1b-4de1-b296-77ab332866d4",
   "metadata": {},
   "source": [
    "# Q4. \n",
    "\tWhy self is used in OOPs?"
   ]
  },
  {
   "cell_type": "markdown",
   "id": "97549cd7-deeb-44fb-8185-78f186fd7592",
   "metadata": {},
   "source": [
    "Ans.\n",
    "    In Object-Oriented Programming (OOP), self is a special parameter in the methods of a class that refers to the instance of the class on which the method was called. When a method is called on an object, the object itself is passed as the first argument to the method, and this argument is conventionally named self.\n",
    "\n",
    "The use of self allows the method to access and manipulate the data associated with the instance of the class. This makes it possible for objects to have their own unique state and behavior, which is defined by the class and can be manipulated by its methods."
   ]
  },
  {
   "cell_type": "markdown",
   "id": "07c05f00-57a0-433f-8ee3-ca48f7f5dc29",
   "metadata": {},
   "source": [
    "# Q5.\n",
    "\tWhat is inheritance? Give an example for each type of inheritance."
   ]
  },
  {
   "cell_type": "raw",
   "id": "c91355d7-9007-45ae-8e46-5c3320780017",
   "metadata": {},
   "source": [
    "Ans. \n",
    "\tInheritance is a fundamental concept in Object-Oriented Programming (OOP) that allows new classes to be created by inheriting properties and behaviors from existing classes. Inheritance makes it possible to define new classes that are related to existing ones, reducing the amount of code that needs to be written and promoting code reuse.\n",
    "\n",
    "There are several types of inheritance in OOP, including:"
   ]
  },
  {
   "cell_type": "markdown",
   "id": "03c653ff-aa43-4f98-a31b-c9ded070a901",
   "metadata": {},
   "source": [
    "### 1. Single Inheritance: Single inheritance occurs when a derived class inherits from a single base class. In single inheritance, the derived class inherits all the attributes and behaviors of the base class, and can also add new attributes and behaviors of its own."
   ]
  },
  {
   "cell_type": "code",
   "execution_count": 5,
   "id": "c3fb7d99-2fbb-48d6-8430-97b6866f72f4",
   "metadata": {},
   "outputs": [
    {
     "name": "stdout",
     "output_type": "stream",
     "text": [
      "Woof!\n"
     ]
    }
   ],
   "source": [
    "class Animal:\n",
    "    def __init__(self, name):\n",
    "        self.name = name\n",
    "        \n",
    "    def speak(self):\n",
    "        print(\"I am an animal\")\n",
    "        \n",
    "class Dog(Animal):\n",
    "    def __init__(self, name):\n",
    "        Animal.__init__(self, name)\n",
    "        \n",
    "    def speak(self):\n",
    "        print(\"Woof!\")\n",
    "        \n",
    "dog = Dog(\"Fido\")\n",
    "dog.speak() # \"Woof!\"\n"
   ]
  },
  {
   "cell_type": "raw",
   "id": "03861953-a07b-4880-bbef-0b5d1bff7a0d",
   "metadata": {},
   "source": [
    "In this example, the Dog class inherits from the Animal class, inheriting the name attribute and the speak method. The Dog class also overrides the speak method, providing its own implementation."
   ]
  },
  {
   "cell_type": "raw",
   "id": "747c1f70-6f7f-446d-884d-7403f54dc4cd",
   "metadata": {},
   "source": [
    "2. Multiple Inheritance: Multiple inheritance occurs when a derived class inherits from multiple base classes. In multiple inheritance, the derived class inherits all the attributes and behaviors of the base classes, and can also add new attributes and behaviors of its own.\n"
   ]
  },
  {
   "cell_type": "code",
   "execution_count": 6,
   "id": "657f3ec9-0aed-406a-ad17-30263bad3bb6",
   "metadata": {},
   "outputs": [
    {
     "name": "stdout",
     "output_type": "stream",
     "text": [
      "John Doe\n",
      "123456\n"
     ]
    }
   ],
   "source": [
    "class Person:\n",
    "    def __init__(self, name, age):\n",
    "        self.name = name\n",
    "        self.age = age\n",
    "        \n",
    "    def get_name(self):\n",
    "        return self.name\n",
    "        \n",
    "class Employee:\n",
    "    def __init__(self, employee_id):\n",
    "        self.employee_id = employee_id\n",
    "        \n",
    "    def get_employee_id(self):\n",
    "        return self.employee_id\n",
    "        \n",
    "class Manager(Person, Employee):\n",
    "    def __init__(self, name, age, employee_id):\n",
    "        Person.__init__(self, name, age)\n",
    "        Employee.__init__(self, employee_id)\n",
    "        \n",
    "manager = Manager(\"John Doe\", 30, 123456)\n",
    "print(manager.get_name()) # \"John Doe\"\n",
    "print(manager.get_employee_id()) # 123456\n"
   ]
  },
  {
   "cell_type": "raw",
   "id": "8cd8683d-f843-40a9-a5f6-31c1af9bcbdb",
   "metadata": {},
   "source": [
    "    In this example, the Manager class inherits from both the Person and Employee classes, inheriting the name, age, and employee_id attributes, and the get_name and get_employee_id methods."
   ]
  },
  {
   "cell_type": "raw",
   "id": "3e3db49e-a72c-4e12-95e8-6b67e1353872",
   "metadata": {},
   "source": [
    "3. Multi-level Inheritance: Multi-level inheritance occurs when a derived class inherits from a base class, which itself inherits from another base class. This allows a hierarchy of classes to be defined, with each derived class inheriting from its parent class."
   ]
  },
  {
   "cell_type": "code",
   "execution_count": 8,
   "id": "13e63da5-f729-473a-a6f7-511a3bbc0302",
   "metadata": {},
   "outputs": [
    {
     "name": "stdout",
     "output_type": "stream",
     "text": [
      "Woof!\n"
     ]
    }
   ],
   "source": [
    "class Animal:\n",
    "    def __init__(self, name):\n",
    "        self.name = name\n",
    "        \n",
    "    def speak(self):\n",
    "        print(\"I am an animal\")\n",
    "        \n",
    "class Mammal(Animal):\n",
    "    def __init__(self, name):\n",
    "        Animal.__init__(self, name)\n",
    "        \n",
    "    def speak(self):\n",
    "        print(\"I am a mammal\")\n",
    "        \n",
    "class Dog(Mammal):\n",
    "    def __init__(self, name):\n",
    "        Mammal.__init__(self, name)\n",
    "        \n",
    "    def speak(self):\n",
    "        print(\"Woof!\")\n",
    "        \n",
    "dog = Dog(\"Fido\")\n",
    "dog.speak() # \"Woof!\"\n"
   ]
  },
  {
   "cell_type": "raw",
   "id": "deab4822-c2a9-4179-812b-5ef4950d6440",
   "metadata": {},
   "source": [
    "In this example, the Dog class inherits from the Mammal class, which in turn inherits from the Animal class. The Dog class inherits all the attributes and behaviors of the Mammal class, as well as the attributes and behaviors of the Animal class. Additionally, the Dog class overrides the speak method, providing its own implementation."
   ]
  }
 ],
 "metadata": {
  "kernelspec": {
   "display_name": "Python 3 (ipykernel)",
   "language": "python",
   "name": "python3"
  },
  "language_info": {
   "codemirror_mode": {
    "name": "ipython",
    "version": 3
   },
   "file_extension": ".py",
   "mimetype": "text/x-python",
   "name": "python",
   "nbconvert_exporter": "python",
   "pygments_lexer": "ipython3",
   "version": "3.10.8"
  }
 },
 "nbformat": 4,
 "nbformat_minor": 5
}
